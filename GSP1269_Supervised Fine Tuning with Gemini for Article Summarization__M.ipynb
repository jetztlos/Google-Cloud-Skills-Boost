{
 "cells": [
  {
   "cell_type": "code",
   "execution_count": null,
   "metadata": {
    "id": "i3oNB_qC4X2Y"
   },
   "outputs": [],
   "source": [
    "# Copyright 2024 Google LLC\n",
    "#\n",
    "# Licensed under the Apache License, Version 2.0 (the \"License\");\n",
    "# you may not use this file except in compliance with the License.\n",
    "# You may obtain a copy of the License at\n",
    "#\n",
    "#     https://www.apache.org/licenses/LICENSE-2.0\n",
    "#\n",
    "# Unless required by applicable law or agreed to in writing, software\n",
    "# distributed under the License is distributed on an \"AS IS\" BASIS,\n",
    "# WITHOUT WARRANTIES OR CONDITIONS OF ANY KIND, either express or implied.\n",
    "# See the License for the specific language governing permissions and\n",
    "# limitations under the License."
   ]
  },
  {
   "cell_type": "markdown",
   "metadata": {
    "id": "c4-kxwz23nzr"
   },
   "source": [
    "# Supervised Fine Tuning with Gemini 2.0 Flash for Article Summarization\n",
    "\n",
    "<table align=\"left\">\n",
    "  <td style=\"text-align: center\">\n",
    "    <a href=\"https://colab.research.google.com/github/GoogleCloudPlatform/generative-ai/blob/main/gemini/tuning/sft_gemini_summarization.ipynb\">\n",
    "      <img src=\"https://cloud.google.com/ml-engine/images/colab-logo-32px.png\" alt=\"Google Colaboratory logo\"><br> Open in Colab\n",
    "    </a>\n",
    "  </td>\n",
    "  <td style=\"text-align: center\">\n",
    "    <a href=\"https://console.cloud.google.com/vertex-ai/colab/import/https:%2F%2Fraw.githubusercontent.com%2FGoogleCloudPlatform%2Fgenerative-ai%2Fmain%2Fgemini%2Ftuning%2Fsft_gemini_summarization.ipynb\">\n",
    "      <img width=\"32px\" src=\"https://lh3.googleusercontent.com/JmcxdQi-qOpctIvWKgPtrzZdJJK-J3sWE1RsfjZNwshCFgE_9fULcNpuXYTilIR2hjwN\" alt=\"Google Cloud Colab Enterprise logo\"><br> Open in Colab Enterprise\n",
    "    </a>\n",
    "  </td>    \n",
    "  <td style=\"text-align: center\">\n",
    "    <a href=\"https://console.cloud.google.com/vertex-ai/workbench/deploy-notebook?download_url=https://raw.githubusercontent.com/GoogleCloudPlatform/generative-ai/main/gemini/tuning/sft_gemini_summarization.ipynb\">\n",
    "      <img src=\"https://lh3.googleusercontent.com/UiNooY4LUgW_oTvpsNhPpQzsstV5W8F7rYgxgGBD85cWJoLmrOzhVs_ksK_vgx40SHs7jCqkTkCk=e14-rj-sc0xffffff-h130-w32\" alt=\"Vertex AI logo\"><br> Open in Workbench\n",
    "    </a>\n",
    "  </td>\n",
    "  <td style=\"text-align: center\">\n",
    "    <a href=\"https://github.com/GoogleCloudPlatform/generative-ai/blob/main/gemini/tuning/sft_gemini_summarization.ipynb\">\n",
    "      <img src=\"https://cloud.google.com/ml-engine/images/github-logo-32px.png\" alt=\"GitHub logo\"><br> View on GitHub\n",
    "    </a>\n",
    "  </td>\n",
    "</table>\n",
    "\n",
    "<div style=\"clear: both;\"></div>\n",
    "\n",
    "<b>Share to:</b>\n",
    "\n",
    "<a href=\"https://www.linkedin.com/sharing/share-offsite/?url=https%3A//github.com/GoogleCloudPlatform/generative-ai/blob/main/gemini/tuning/sft_gemini_summarization.ipynb\" target=\"_blank\">\n",
    "  <img width=\"20px\" src=\"https://upload.wikimedia.org/wikipedia/commons/8/81/LinkedIn_icon.svg\" alt=\"LinkedIn logo\">\n",
    "</a>\n",
    "\n",
    "<a href=\"https://bsky.app/intent/compose?text=https%3A//github.com/GoogleCloudPlatform/generative-ai/blob/main/gemini/tuning/sft_gemini_summarization.ipynb\" target=\"_blank\">\n",
    "  <img width=\"20px\" src=\"https://upload.wikimedia.org/wikipedia/commons/7/7a/Bluesky_Logo.svg\" alt=\"Bluesky logo\">\n",
    "</a>\n",
    "\n",
    "<a href=\"https://twitter.com/intent/tweet?url=https%3A//github.com/GoogleCloudPlatform/generative-ai/blob/main/gemini/tuning/sft_gemini_summarization.ipynb\" target=\"_blank\">\n",
    "  <img width=\"20px\" src=\"https://upload.wikimedia.org/wikipedia/commons/5/5a/X_icon_2.svg\" alt=\"X logo\">\n",
    "</a>\n",
    "\n",
    "<a href=\"https://reddit.com/submit?url=https%3A//github.com/GoogleCloudPlatform/generative-ai/blob/main/gemini/tuning/sft_gemini_summarization.ipynb\" target=\"_blank\">\n",
    "  <img width=\"20px\" src=\"https://redditinc.com/hubfs/Reddit%20Inc/Brand/Reddit_Logo.png\" alt=\"Reddit logo\">\n",
    "</a>\n",
    "\n",
    "<a href=\"https://www.facebook.com/sharer/sharer.php?u=https%3A//github.com/GoogleCloudPlatform/generative-ai/blob/main/gemini/tuning/sft_gemini_summarization.ipynb\" target=\"_blank\">\n",
    "  <img width=\"20px\" src=\"https://upload.wikimedia.org/wikipedia/commons/5/51/Facebook_f_logo_%282019%29.svg\" alt=\"Facebook logo\">\n",
    "</a>            "
   ]
  },
  {
   "cell_type": "markdown",
   "metadata": {
    "id": "pO98gUu-4eTJ"
   },
   "source": [
    "| Author(s) |\n",
    "| --- |\n",
    "| [Deepak Moonat](https://github.com/dmoonat) |\n",
    "| [Safiuddin Khaja](https://github.com/Safikh) |"
   ]
  },
  {
   "cell_type": "markdown",
   "metadata": {
    "id": "PN72vQp6DWck"
   },
   "source": [
    "## Overview\n",
    "\n",
    "**Gemini** is a family of generative AI models developed by Google DeepMind that is designed for multimodal use cases. The Gemini API gives you access to the various Gemini models, such as Gemini 2.0 Pro/Flash, Gemini 2.0/Flash, Gemini/Flash and more.\n",
    "\n",
    "This notebook demonstrates how to fine-tune the Gemini 2.0 Flash generative model using the Vertex AI Supervised Tuning feature. Supervised Tuning allows you to use your own training data to further refine the base model's capabilities towards your specific tasks.\n",
    "\n",
    "Supervised Tuning uses labeled examples to tune a model. Each example demonstrates the output you want from your text model during inference.\n",
    "\n",
    "First, ensure your training data is of high quality, well-labeled, and directly relevant to the target task. This is crucial as low-quality data can adversely affect the performance and introduce bias in the fine-tuned model.\n",
    "- Training: Experiment with different configurations to optimize the model's performance on the target task.\n",
    "- Evaluation:\n",
    "  - Metric: Choose appropriate evaluation metrics that accurately reflect the success of the fine-tuned model for your specific task\n",
    "  - Evaluation Set: Use a separate set of data to evaluate the model's performance\n",
    "\n",
    "\n",
    "Refer to public [documentation](https://cloud.google.com/vertex-ai/generative-ai/docs/models/gemini-supervised-tuning) for more details.\n",
    "\n",
    "\n",
    "<hr/>\n",
    "\n",
    "Before running this notebook, ensure you have:\n",
    "\n",
    "- A Google Cloud project: Provide your project ID in the `PROJECT_ID` variable.\n",
    "\n",
    "- Authenticated your Colab environment: Run the authentication code block at the beginning.\n",
    "\n",
    "- Prepared training data (Test with your own data or use the one in the notebook): Data should be formatted in JSONL with prompts and corresponding completions."
   ]
  },
  {
   "cell_type": "markdown",
   "metadata": {
    "id": "77ppk4eke7G4"
   },
   "source": [
    "### Objective\n",
    "\n",
    "In this tutorial, you will learn how to use `Vertex AI` to tune a `Gemini 2.0 Flash` model.\n",
    "\n",
    "\n",
    "This tutorial uses the following Google Cloud ML services:\n",
    "\n",
    "- `Vertex AI`\n",
    "\n",
    "\n",
    "The steps performed include:\n",
    "\n",
    "- Prepare and load the dataset\n",
    "- Load the `gemini-2.0-flash-001` model\n",
    "- Evaluate the model before tuning\n",
    "- Tune the model.\n",
    "  - This will automatically create a Vertex AI endpoint and deploy the model to it\n",
    "- Make a prediction using tuned model\n",
    "- Evaluate the model after tuning"
   ]
  },
  {
   "cell_type": "markdown",
   "metadata": {
    "id": "PVRaH5wqfIy3"
   },
   "source": [
    "### Costs\n",
    "\n",
    "This tutorial uses billable components of Google Cloud:\n",
    "\n",
    "* Vertex AI\n",
    "* Cloud Storage\n",
    "\n",
    "Learn about [Vertex AI\n",
    "pricing](https://cloud.google.com/vertex-ai/pricing), [Cloud Storage\n",
    "pricing](https://cloud.google.com/storage/pricing), and use the [Pricing\n",
    "Calculator](https://cloud.google.com/products/calculator/)\n",
    "to generate a cost estimate based on your projected usage."
   ]
  },
  {
   "cell_type": "markdown",
   "metadata": {
    "id": "sfQYl84Cu_xL"
   },
   "source": [
    "## Wikilingua Dataset"
   ]
  },
  {
   "cell_type": "markdown",
   "metadata": {
    "id": "SxAXgV2FvBPz"
   },
   "source": [
    "The dataset includes article and summary pairs from WikiHow. It consists of  article-summary pairs in multiple languages. Refer to the following [github repository](https://github.com/esdurmus/Wikilingua) for more details.\n",
    "\n",
    "For this notebook, we have picked `english` language dataset."
   ]
  },
  {
   "cell_type": "markdown",
   "metadata": {
    "id": "KTHBNpb-BBdc"
   },
   "source": [
    "### Dataset Citation\n",
    "\n",
    "```\n",
    "@inproceedings{ladhak-wiki-2020,\n",
    "    title={WikiLingua: A New Benchmark Dataset for Multilingual Abstractive Summarization},\n",
    "    author={Faisal Ladhak, Esin Durmus, Claire Cardie and Kathleen McKeown},\n",
    "    booktitle={Findings of EMNLP, 2020},\n",
    "    year={2020}\n",
    "}\n",
    "```"
   ]
  },
  {
   "cell_type": "markdown",
   "metadata": {
    "id": "llEFILYz2aye"
   },
   "source": [
    "## Getting Started"
   ]
  },
  {
   "cell_type": "markdown",
   "metadata": {
    "id": "oo2rh4cC2e1r"
   },
   "source": [
    "### Install Gen AI SDK and other required packages"
   ]
  },
  {
   "cell_type": "markdown",
   "metadata": {
    "id": "0d8bad6906dc"
   },
   "source": [
    "The new Google Gen AI SDK provides a unified interface to Gemini through both the Gemini Developer API and the Gemini API on Vertex AI. With a few exceptions, code that runs on one platform will run on both. This means that you can prototype an application using the Developer API and then migrate the application to Vertex AI without rewriting your code.\n"
   ]
  },
  {
   "cell_type": "code",
   "execution_count": 1,
   "metadata": {
    "id": "l_ok3vdw2cyf",
    "tags": []
   },
   "outputs": [
    {
     "name": "stdout",
     "output_type": "stream",
     "text": [
      "\u001b[33m  DEPRECATION: Building 'rouge_score' using the legacy setup.py bdist_wheel mechanism, which will be removed in a future version. pip 25.3 will enforce this behaviour change. A possible replacement is to use the standardized build interface by setting the `--use-pep517` option, (possibly combined with `--no-build-isolation`), or adding a `pyproject.toml` file to the source tree of 'rouge_score'. Discussion can be found at https://github.com/pypa/pip/issues/6334\u001b[0m\u001b[33m\n",
      "\u001b[0m\u001b[33m  WARNING: The script nltk is installed in '/home/jupyter/.local/bin' which is not on PATH.\n",
      "  Consider adding this directory to PATH or, if you prefer to suppress this warning, use --no-warn-script-location.\u001b[0m\u001b[33m\n",
      "\u001b[0m\u001b[33m  WARNING: The script tb-gcp-uploader is installed in '/home/jupyter/.local/bin' which is not on PATH.\n",
      "  Consider adding this directory to PATH or, if you prefer to suppress this warning, use --no-warn-script-location.\u001b[0m\u001b[33m\n",
      "\u001b[0mNote: you may need to restart the kernel to use updated packages.\n"
     ]
    }
   ],
   "source": [
    "%pip install --upgrade --user --quiet google-genai google-cloud-aiplatform rouge_score plotly jsonlines"
   ]
  },
  {
   "cell_type": "markdown",
   "metadata": {
    "id": "6in46hzz3At9"
   },
   "source": [
    "### Restart runtime\n",
    "\n",
    "To use the newly installed packages, you must restart the runtime.\n"
   ]
  },
  {
   "cell_type": "code",
   "execution_count": 2,
   "metadata": {
    "id": "haJlKcSY3EsE",
    "tags": []
   },
   "outputs": [
    {
     "data": {
      "text/plain": [
       "{'status': 'ok', 'restart': True}"
      ]
     },
     "execution_count": 2,
     "metadata": {},
     "output_type": "execute_result"
    }
   ],
   "source": [
    "# Restart kernel after installs so that your environment can access the new packages\n",
    "import IPython\n",
    "\n",
    "app = IPython.Application.instance()\n",
    "app.kernel.do_shutdown(True)"
   ]
  },
  {
   "cell_type": "markdown",
   "metadata": {
    "id": "iTOjupCM3TDb"
   },
   "source": [
    "<div class=\"alert alert-block alert-warning\">\n",
    "<b>⚠️ The kernel is going to restart. Please wait until it is finished before continuing to the next step. ⚠️</b>\n",
    "</div>"
   ]
  },
  {
   "cell_type": "markdown",
   "metadata": {
    "id": "F0HMlz-MD9Yt"
   },
   "source": [
    "## Step0: Authenticate your notebook environment (Colab only)\n",
    "\n",
    "If you are running this notebook on Google Colab, run the cell below to authenticate your environment."
   ]
  },
  {
   "cell_type": "code",
   "execution_count": 1,
   "metadata": {
    "id": "86VNaqlgD9rK",
    "tags": []
   },
   "outputs": [],
   "source": [
    "import sys\n",
    "\n",
    "if \"google.colab\" in sys.modules:\n",
    "    from google.colab import auth\n",
    "\n",
    "    auth.authenticate_user()"
   ]
  },
  {
   "cell_type": "markdown",
   "metadata": {
    "id": "yKRPFNzWJLVY"
   },
   "source": [
    "- If you are running this notebook in a local development environment:\n",
    "  - Install the [Google Cloud SDK](https://cloud.google.com/sdk).\n",
    "  - Obtain authentication credentials. Create local credentials by running the following command and following the oauth2 flow (read more about the command [here](https://cloud.google.com/sdk/gcloud/reference/beta/auth/application-default/login)):\n",
    "\n",
    "    ```bash\n",
    "    gcloud auth application-default login\n",
    "    ```"
   ]
  },
  {
   "cell_type": "markdown",
   "metadata": {
    "id": "k8CI-TcqD06L"
   },
   "source": [
    "## Step1: Import libraries"
   ]
  },
  {
   "cell_type": "code",
   "execution_count": 2,
   "metadata": {
    "id": "rerpHL_eEG8D",
    "tags": []
   },
   "outputs": [],
   "source": [
    "import time\n",
    "\n",
    "from google import genai\n",
    "\n",
    "# For extracting vertex experiment details.\n",
    "from google.cloud import aiplatform\n",
    "from google.cloud.aiplatform.metadata import context\n",
    "from google.cloud.aiplatform.metadata import utils as metadata_utils\n",
    "from google.genai import types\n",
    "\n",
    "# For data handling.\n",
    "import jsonlines\n",
    "import pandas as pd\n",
    "\n",
    "# For visualization.\n",
    "import plotly.graph_objects as go\n",
    "from plotly.subplots import make_subplots\n",
    "\n",
    "# For evaluation metric computation.\n",
    "from rouge_score import rouge_scorer\n",
    "from tqdm import tqdm\n",
    "\n",
    "# For fine tuning Gemini model.\n",
    "import vertexai"
   ]
  },
  {
   "cell_type": "markdown",
   "metadata": {
    "id": "FBY9nK3qEJLk"
   },
   "source": [
    "## Step2: Set Google Cloud project information and initialize Vertex AI and Gen AI SDK\n",
    "\n",
    "To get started using Vertex AI, you must have an existing Google Cloud project and [enable the Vertex AI API](https://console.cloud.google.com/flows/enableapi?apiid=aiplatform.googleapis.com).\n",
    "\n",
    "Learn more about [setting up a project and a development environment](https://cloud.google.com/vertex-ai/docs/start/cloud-environment).\n"
   ]
  },
  {
   "cell_type": "code",
   "execution_count": 3,
   "metadata": {
    "id": "VpzmI1K61Tn2",
    "tags": []
   },
   "outputs": [],
   "source": [
    "PROJECT_ID = \"qwiklabs-gcp-02-e28ea5dc3987\"  # @param {type:\"string\"}\n",
    "REGION = \"us-central1\"  # @param {type:\"string\"}"
   ]
  },
  {
   "cell_type": "code",
   "execution_count": 4,
   "metadata": {
    "id": "7MZmIZvlQUhy",
    "tags": []
   },
   "outputs": [],
   "source": [
    "vertexai.init(project=PROJECT_ID, location=REGION)\n",
    "\n",
    "client = genai.Client(vertexai=True, project=PROJECT_ID, location=REGION)"
   ]
  },
  {
   "cell_type": "markdown",
   "metadata": {
    "id": "JUEloBlsCPFr"
   },
   "source": [
    "## Step3: Create a dataset in the required format\n",
    "\n",
    "The dataset used to tune a foundation model needs to include examples that align with the task that you want the model to perform. Structure your training dataset in a text-to-text format. Each record, or row, in the dataset contains the input text (also referred to as the prompt) which is paired with its expected output from the model. Supervised tuning uses the dataset to teach the model to mimic a behavior, or task, you need by giving it hundreds of examples that illustrate that behavior.\n",
    "\n",
    "Your dataset size depends on the task, and follows the recommendation mentioned in the `Overview` section. The more examples you provide in your dataset, the better the results.\n",
    "\n",
    "### Dataset format\n",
    "\n",
    "Training data should be structured within a JSONL file located at a Google Cloud Storage (GCS) URI. Each line (or row) of the JSONL file must adhere to a specific schema: It should contain a `contents` array, with objects inside defining a `role` (either \"user\" for user input or \"model\" for model output) and `parts`, containing the input data. For example, a valid data row would look like this:\n",
    "\n",
    "\n",
    "```\n",
    "{\n",
    "   \"contents\":[\n",
    "      {\n",
    "         \"role\":\"user\",  # This indicate input content\n",
    "         \"parts\":[\n",
    "            {\n",
    "               \"text\":\"How are you?\"\n",
    "            }\n",
    "         ]\n",
    "      },\n",
    "      {\n",
    "         \"role\":\"model\", # This indicate target content\n",
    "         \"parts\":[ # text only\n",
    "            {\n",
    "               \"text\":\"I am good, thank you!\"\n",
    "            }\n",
    "         ]\n",
    "      }\n",
    "      #  ... repeat \"user\", \"model\" for multi turns.\n",
    "   ]\n",
    "}\n",
    "```\n",
    "\n",
    "\n",
    "Refer to the public [documentation](https://cloud.google.com/vertex-ai/generative-ai/docs/models/gemini-supervised-tuning-prepare#about-datasets) for more details."
   ]
  },
  {
   "cell_type": "markdown",
   "metadata": {
    "id": "TglfI3tQr2oZ"
   },
   "source": [
    "To run a tuning job, you need to upload one or more datasets to a Cloud Storage bucket. You can either create a new Cloud Storage bucket or use an existing one to store dataset files. The region of the bucket doesn't matter, but we recommend that you use a bucket that's in the same Google Cloud project where you plan to tune your model."
   ]
  },
  {
   "cell_type": "markdown",
   "metadata": {
    "id": "OsNdYgnaITuz"
   },
   "source": [
    "### Step3 [a]: Create a Cloud Storage bucket\n",
    "\n",
    "Create a storage bucket to store intermediate artifacts such as datasets.\n"
   ]
  },
  {
   "cell_type": "code",
   "execution_count": 5,
   "metadata": {
    "id": "WveeKANmITK5",
    "tags": []
   },
   "outputs": [],
   "source": [
    "# Provide a bucket name\n",
    "BUCKET_NAME = \"qwiklabs-gcp-02-e28ea5dc3987\"  # @param {type:\"string\"}\n",
    "BUCKET_URI = f\"gs://{BUCKET_NAME}\""
   ]
  },
  {
   "cell_type": "markdown",
   "metadata": {
    "id": "lBSGTEiyJfSR"
   },
   "source": [
    "Only if your bucket doesn't already exist: Run the following cell to create your Cloud Storage bucket.\n"
   ]
  },
  {
   "cell_type": "code",
   "execution_count": null,
   "metadata": {
    "id": "GQSJ3LJkJhLm"
   },
   "outputs": [],
   "source": [
    "#!gsutil mb -l {LOCATION} -p {PROJECT_ID} {BUCKET_URI}"
   ]
  },
  {
   "cell_type": "markdown",
   "metadata": {
    "id": "7YGurtXHJy_y"
   },
   "source": [
    "### Step3 [b]: Upload tuning data to Cloud Storage"
   ]
  },
  {
   "cell_type": "markdown",
   "metadata": {
    "id": "ip8rErN2r3ah"
   },
   "source": [
    "- Data used in this notebook is present in the public Google Cloud Storage(GCS) bucket.\n",
    "- It's in Gemini finetuning dataset format"
   ]
  },
  {
   "cell_type": "code",
   "execution_count": 6,
   "metadata": {
    "id": "aV_GZg_LaNmV",
    "tags": []
   },
   "outputs": [
    {
     "name": "stdout",
     "output_type": "stream",
     "text": [
      "gs://github-repo/generative-ai/gemini/tuning/summarization/wikilingua/\n",
      "gs://github-repo/generative-ai/gemini/tuning/summarization/wikilingua/sft_test_samples.csv\n",
      "gs://github-repo/generative-ai/gemini/tuning/summarization/wikilingua/sft_train_samples.jsonl\n",
      "gs://github-repo/generative-ai/gemini/tuning/summarization/wikilingua/sft_val_samples.jsonl\n"
     ]
    }
   ],
   "source": [
    "!gsutil ls gs://github-repo/generative-ai/gemini/tuning/summarization/wikilingua"
   ]
  },
  {
   "cell_type": "code",
   "execution_count": 7,
   "metadata": {
    "id": "b-EQ4FcExIfp",
    "tags": []
   },
   "outputs": [
    {
     "name": "stdout",
     "output_type": "stream",
     "text": [
      "Copying gs://github-repo/generative-ai/gemini/tuning/summarization/wikilingua/sft_test_samples.csv...\n",
      "Copying gs://github-repo/generative-ai/gemini/tuning/summarization/wikilingua/sft_train_samples.jsonl...\n",
      "Copying gs://github-repo/generative-ai/gemini/tuning/summarization/wikilingua/sft_val_samples.jsonl...\n",
      "- [3 files][  1.6 MiB/  1.6 MiB]                                                \n",
      "Operation completed over 3 objects/1.6 MiB.                                      \n"
     ]
    }
   ],
   "source": [
    "!gsutil cp gs://github-repo/generative-ai/gemini/tuning/summarization/wikilingua/* ."
   ]
  },
  {
   "cell_type": "markdown",
   "metadata": {
    "id": "6wmBkAUoyzdJ"
   },
   "source": [
    "#### Convert Gemini tuning dataset to Gemini 2.0 tuning dataset format"
   ]
  },
  {
   "cell_type": "code",
   "execution_count": 8,
   "metadata": {
    "id": "7bhtxKbha_wS",
    "tags": []
   },
   "outputs": [],
   "source": [
    "def save_jsonlines(file, instances):\n",
    "    \"\"\"\n",
    "    Saves a list of json instances to a jsonlines file.\n",
    "    \"\"\"\n",
    "    with jsonlines.open(file, mode=\"w\") as writer:\n",
    "        writer.write_all(instances)"
   ]
  },
  {
   "cell_type": "code",
   "execution_count": 9,
   "metadata": {
    "id": "-3xbpRnSyxH9",
    "tags": []
   },
   "outputs": [],
   "source": [
    "def create_tuning_samples(file_path):\n",
    "    \"\"\"\n",
    "    Creates tuning samples from a file.\n",
    "    \"\"\"\n",
    "    with jsonlines.open(file_path) as reader:\n",
    "        instances = []\n",
    "        for obj in reader:\n",
    "            instance = []\n",
    "            for content in obj[\"messages\"]:\n",
    "                instance.append(\n",
    "                    {\"role\": content[\"role\"], \"parts\": [{\"text\": content[\"content\"]}]}\n",
    "                )\n",
    "            instances.append({\"contents\": instance})\n",
    "    return instances"
   ]
  },
  {
   "cell_type": "code",
   "execution_count": 10,
   "metadata": {
    "id": "orHUpTagyw-z",
    "tags": []
   },
   "outputs": [
    {
     "data": {
      "text/plain": [
       "500"
      ]
     },
     "execution_count": 10,
     "metadata": {},
     "output_type": "execute_result"
    }
   ],
   "source": [
    "train_file = \"sft_train_samples.jsonl\"\n",
    "train_instances = create_tuning_samples(train_file)\n",
    "len(train_instances)"
   ]
  },
  {
   "cell_type": "code",
   "execution_count": 11,
   "metadata": {
    "id": "U3m05gAM1mlp",
    "tags": []
   },
   "outputs": [],
   "source": [
    "# save the training instances to jsonl file\n",
    "save_jsonlines(train_file, train_instances)"
   ]
  },
  {
   "cell_type": "code",
   "execution_count": 12,
   "metadata": {
    "id": "xZICW6uU1T3Z",
    "tags": []
   },
   "outputs": [
    {
     "data": {
      "text/plain": [
       "100"
      ]
     },
     "execution_count": 12,
     "metadata": {},
     "output_type": "execute_result"
    }
   ],
   "source": [
    "val_file = \"sft_val_samples.jsonl\"\n",
    "val_instances = create_tuning_samples(val_file)\n",
    "len(val_instances)"
   ]
  },
  {
   "cell_type": "code",
   "execution_count": 13,
   "metadata": {
    "id": "n1s7adZH1CCe",
    "tags": []
   },
   "outputs": [],
   "source": [
    "# save the validation instances to jsonl file\n",
    "save_jsonlines(val_file, val_instances)"
   ]
  },
  {
   "cell_type": "code",
   "execution_count": 14,
   "metadata": {
    "id": "AVL2gfP-J5SL",
    "tags": []
   },
   "outputs": [
    {
     "name": "stdout",
     "output_type": "stream",
     "text": [
      "Copying file://sft_train_samples.jsonl [Content-Type=application/octet-stream]...\n",
      "/ [1 files][  1.2 MiB/  1.2 MiB]                                                \n",
      "Operation completed over 1 objects/1.2 MiB.                                      \n",
      "Copying file://sft_val_samples.jsonl [Content-Type=application/octet-stream]...\n",
      "/ [1 files][231.8 KiB/231.8 KiB]                                                \n",
      "Operation completed over 1 objects/231.8 KiB.                                    \n"
     ]
    }
   ],
   "source": [
    "# Copy the tuning and evaluation data to your bucket.\n",
    "!gsutil cp {train_file} {BUCKET_URI}/train/\n",
    "!gsutil cp {val_file} {BUCKET_URI}/val/"
   ]
  },
  {
   "cell_type": "markdown",
   "metadata": {
    "id": "kV5X6_DsIXPm"
   },
   "source": [
    "### Step3 [c]: Test dataset\n",
    "\n",
    "- It contains document text(`input_text`) and corresponding reference summary(`output_text`), which will be compared with the model generated summary"
   ]
  },
  {
   "cell_type": "code",
   "execution_count": 15,
   "metadata": {
    "id": "wtxPI3GPIckU",
    "tags": []
   },
   "outputs": [
    {
     "data": {
      "text/html": [
       "<div>\n",
       "<style scoped>\n",
       "    .dataframe tbody tr th:only-of-type {\n",
       "        vertical-align: middle;\n",
       "    }\n",
       "\n",
       "    .dataframe tbody tr th {\n",
       "        vertical-align: top;\n",
       "    }\n",
       "\n",
       "    .dataframe thead th {\n",
       "        text-align: right;\n",
       "    }\n",
       "</style>\n",
       "<table border=\"1\" class=\"dataframe\">\n",
       "  <thead>\n",
       "    <tr style=\"text-align: right;\">\n",
       "      <th></th>\n",
       "      <th>input_text</th>\n",
       "      <th>output_text</th>\n",
       "    </tr>\n",
       "  </thead>\n",
       "  <tbody>\n",
       "    <tr>\n",
       "      <th>0</th>\n",
       "      <td>Hold your arm out flat in front of you with yo...</td>\n",
       "      <td>Squeeze a line of lotion onto the tops of both...</td>\n",
       "    </tr>\n",
       "    <tr>\n",
       "      <th>1</th>\n",
       "      <td>As you continue playing, surviving becomes pai...</td>\n",
       "      <td>Make a Crock Pot for better food. Create an Al...</td>\n",
       "    </tr>\n",
       "    <tr>\n",
       "      <th>2</th>\n",
       "      <td>Go to https://www.4kdownload.com/products/prod...</td>\n",
       "      <td>Download the 4K Video Downloader setup file. I...</td>\n",
       "    </tr>\n",
       "    <tr>\n",
       "      <th>3</th>\n",
       "      <td>You should know that vaginoplasty can treat a ...</td>\n",
       "      <td>Consider the health of your bladder. Find a so...</td>\n",
       "    </tr>\n",
       "    <tr>\n",
       "      <th>4</th>\n",
       "      <td>If you want to gather data on the frequency of...</td>\n",
       "      <td>Gather data to be graphed. Choose your range b...</td>\n",
       "    </tr>\n",
       "  </tbody>\n",
       "</table>\n",
       "</div>"
      ],
      "text/plain": [
       "                                          input_text  \\\n",
       "0  Hold your arm out flat in front of you with yo...   \n",
       "1  As you continue playing, surviving becomes pai...   \n",
       "2  Go to https://www.4kdownload.com/products/prod...   \n",
       "3  You should know that vaginoplasty can treat a ...   \n",
       "4  If you want to gather data on the frequency of...   \n",
       "\n",
       "                                         output_text  \n",
       "0  Squeeze a line of lotion onto the tops of both...  \n",
       "1  Make a Crock Pot for better food. Create an Al...  \n",
       "2  Download the 4K Video Downloader setup file. I...  \n",
       "3  Consider the health of your bladder. Find a so...  \n",
       "4  Gather data to be graphed. Choose your range b...  "
      ]
     },
     "execution_count": 15,
     "metadata": {},
     "output_type": "execute_result"
    }
   ],
   "source": [
    "# Load the test dataset using pandas as it's in the csv format.\n",
    "testing_data_path = \"sft_test_samples.csv\"\n",
    "test_data = pd.read_csv(testing_data_path)\n",
    "test_data.head()"
   ]
  },
  {
   "cell_type": "code",
   "execution_count": 16,
   "metadata": {
    "id": "bRBtYfN_PPaP",
    "tags": []
   },
   "outputs": [
    {
     "data": {
      "text/plain": [
       "'Hold your arm out flat in front of you with your elbow bent. The top of your forearm should form a level surface. Apply a line of lotion from the back of your hand up your arm almost to the crease of your elbow. Squeeze lotion onto both forearms.  Do not rub the lotion into your arms, rather let it sit on your arm in the line you squeezed. You can use as much or as little lotion as you feel is necessary to cover your back completely. Bend your elbows and reach both of your arms behind you, placing the lotion covered forearms against your back. Depending on how flexible you are, this may hurt a little. It might be easier to place one arm behind your back at a time. If you have shoulder pain or are not very flexible, this method may not work well for you. Rub your forearms and the backs of your hands up and down your back like windshield wipers covering as much of your back as you can. You can use your left arm first to cover your left side and then place your right arm behind and use it to cover the right side of your back. Repeat this process as necessary if you don’t feel like you got enough lotion on your back.\\n\\nProvide a summary of the article in two or three sentences:\\n\\n'"
      ]
     },
     "execution_count": 16,
     "metadata": {},
     "output_type": "execute_result"
    }
   ],
   "source": [
    "test_data.loc[0, \"input_text\"]"
   ]
  },
  {
   "cell_type": "code",
   "execution_count": 17,
   "metadata": {
    "id": "tTt7qjSeSHRW",
    "tags": []
   },
   "outputs": [
    {
     "data": {
      "text/plain": [
       "count    100.000000\n",
       "mean     186.230000\n",
       "std       92.788655\n",
       "min       28.000000\n",
       "25%      127.250000\n",
       "50%      171.000000\n",
       "75%      227.000000\n",
       "max      577.000000\n",
       "Name: output_text, dtype: float64"
      ]
     },
     "execution_count": 17,
     "metadata": {},
     "output_type": "execute_result"
    }
   ],
   "source": [
    "# Article summary stats\n",
    "stats = test_data[\"output_text\"].apply(len).describe()\n",
    "stats"
   ]
  },
  {
   "cell_type": "code",
   "execution_count": 18,
   "metadata": {
    "id": "WKptd49cdjSi",
    "tags": []
   },
   "outputs": [
    {
     "name": "stdout",
     "output_type": "stream",
     "text": [
      "Total `100.0` test records\n",
      "Average length is `186.23` and max is `577.0` characters\n",
      "\n",
      "Considering 1 token = 4 chars\n",
      "\n",
      "Set max_token_length = stats['max']/4 = 144.25 ~ 145 characters\n",
      "\n",
      "Let's keep output tokens upto `145`\n"
     ]
    }
   ],
   "source": [
    "print(f\"Total `{stats['count']}` test records\")\n",
    "print(f\"Average length is `{stats['mean']}` and max is `{stats['max']}` characters\")\n",
    "print(\"\\nConsidering 1 token = 4 chars\")\n",
    "\n",
    "# Get ceil value of the tokens required.\n",
    "tokens = (stats[\"max\"] / 4).__ceil__()\n",
    "print(\n",
    "    f\"\\nSet max_token_length = stats['max']/4 = {stats['max']/4} ~ {tokens} characters\"\n",
    ")\n",
    "print(f\"\\nLet's keep output tokens upto `{tokens}`\")"
   ]
  },
  {
   "cell_type": "code",
   "execution_count": 19,
   "metadata": {
    "id": "idM1p_UNvA7w",
    "tags": []
   },
   "outputs": [],
   "source": [
    "# Maximum number of tokens that can be generated in the response by the LLM.\n",
    "# Experiment with this number to get optimal output.\n",
    "max_output_tokens = tokens"
   ]
  },
  {
   "cell_type": "markdown",
   "metadata": {
    "id": "DhjmRffOOPAS"
   },
   "source": [
    "## Step4: Initialize the model"
   ]
  },
  {
   "cell_type": "markdown",
   "metadata": {
    "id": "UhhD1VWDsLat"
   },
   "source": [
    "The following Gemini text model supports supervised tuning:\n",
    "\n",
    "* `gemini-2.0-flash-001`"
   ]
  },
  {
   "cell_type": "code",
   "execution_count": 20,
   "metadata": {
    "id": "jL-zRl5_OVZW",
    "tags": []
   },
   "outputs": [],
   "source": [
    "base_model = \"gemini-2.0-flash-001\""
   ]
  },
  {
   "cell_type": "markdown",
   "metadata": {
    "id": "ieJe8yGlOtFD"
   },
   "source": [
    "## Step5: Test the Gemini model"
   ]
  },
  {
   "cell_type": "markdown",
   "metadata": {
    "id": "F8DFUzRnHMi8"
   },
   "source": [
    "### Generation config\n",
    "\n",
    "- Each call that you send to a model includes parameter values that control how the model generates a response. The model can generate different results for different parameter values\n",
    "- <strong>Experiment</strong> with different parameter values to get the best values for the task\n",
    "\n",
    "Refer to the following [link](https://cloud.google.com/vertex-ai/generative-ai/docs/learn/prompts/adjust-parameter-values) for understanding different parameters"
   ]
  },
  {
   "cell_type": "markdown",
   "metadata": {
    "id": "6hbaeT8AcniS"
   },
   "source": [
    "**Prompt** is a natural language request submitted to a language model to receive a response back\n",
    "\n",
    "Some best practices include\n",
    "  - Clearly communicate what content or information is most important\n",
    "  - Structure the prompt:\n",
    "    - Defining the role if using one. For example, You are an experienced UX designer at a top tech company\n",
    "    - Include context and input data\n",
    "    - Provide the instructions to the model\n",
    "    - Add example(s) if you are using them\n",
    "\n",
    "Refer to the following [link](https://cloud.google.com/vertex-ai/generative-ai/docs/learn/prompts/prompt-design-strategies) for prompt design strategies."
   ]
  },
  {
   "cell_type": "markdown",
   "metadata": {
    "id": "hZUcvQr0rAWA"
   },
   "source": [
    "Wikilingua data contains the following task prompt at the end of the article, `Provide a summary of the article in two or three sentences:`"
   ]
  },
  {
   "cell_type": "code",
   "execution_count": 21,
   "metadata": {
    "id": "iu6OuIhFOv4C",
    "tags": []
   },
   "outputs": [
    {
     "name": "stdout",
     "output_type": "stream",
     "text": [
      "This article describes a method for applying lotion to your back using your forearms as applicators. It involves squeezing lotion onto your forearms and then using them to rub the lotion across your back in a windshield wiper motion. The method acknowledges potential limitations for individuals with shoulder pain or limited flexibility.\n",
      "\n"
     ]
    }
   ],
   "source": [
    "test_doc = test_data.loc[0, \"input_text\"]\n",
    "\n",
    "prompt = f\"\"\"\n",
    "{test_doc}\n",
    "\"\"\"\n",
    "\n",
    "config = {\n",
    "    \"temperature\": 0.1,\n",
    "    \"max_output_tokens\": max_output_tokens,\n",
    "}\n",
    "\n",
    "response = client.models.generate_content(\n",
    "    model=base_model,\n",
    "    contents=prompt,\n",
    "    config=config,\n",
    ").text\n",
    "print(response)"
   ]
  },
  {
   "cell_type": "code",
   "execution_count": 22,
   "metadata": {
    "id": "8YvlMfmIQqK8",
    "tags": []
   },
   "outputs": [
    {
     "data": {
      "text/plain": [
       "'Squeeze a line of lotion onto the tops of both forearms and the backs of your hands. Place your arms behind your back. Move your arms in a windshield wiper motion.'"
      ]
     },
     "execution_count": 22,
     "metadata": {},
     "output_type": "execute_result"
    }
   ],
   "source": [
    "# Ground truth\n",
    "test_data.loc[0, \"output_text\"]"
   ]
  },
  {
   "cell_type": "markdown",
   "metadata": {
    "id": "jGPUKZlcP69-"
   },
   "source": [
    "## Step6: Evaluation before model tuning"
   ]
  },
  {
   "cell_type": "markdown",
   "metadata": {
    "id": "1yayTQdd9oE5"
   },
   "source": [
    "- Evaluate the Gemini model on the test dataset before tuning it on the training dataset."
   ]
  },
  {
   "cell_type": "code",
   "execution_count": 23,
   "metadata": {
    "id": "610J64SpQ5TE",
    "tags": []
   },
   "outputs": [
    {
     "data": {
      "text/plain": [
       "100"
      ]
     },
     "execution_count": 23,
     "metadata": {},
     "output_type": "execute_result"
    }
   ],
   "source": [
    "# Convert the pandas dataframe to records (list of dictionaries).\n",
    "corpus = test_data.to_dict(orient=\"records\")\n",
    "# Check number of records.\n",
    "len(corpus)"
   ]
  },
  {
   "cell_type": "markdown",
   "metadata": {
    "id": "KkKldH90MY4v"
   },
   "source": [
    "### Evaluation metric\n",
    "\n",
    "The type of metrics used for evaluation depends on the task that you are evaluating. The following table shows the supported tasks and the metrics used to evaluate each task:"
   ]
  },
  {
   "cell_type": "markdown",
   "metadata": {
    "id": "t6oLtUEWMHVu"
   },
   "source": [
    "| Task             | Metric(s)                     |\n",
    "|-----------------|---------------------------------|\n",
    "| Classification   | Micro-F1, Macro-F1, Per class F1 |\n",
    "| Summarization    | ROUGE-L                         |\n",
    "| Question Answering | Exact Match                     |\n",
    "| Text Generation  | BLEU, ROUGE-L                   |\n",
    "\n",
    "\n",
    "<br/>\n",
    "\n",
    "Refer to this [documentation](https://cloud.google.com/vertex-ai/generative-ai/docs/models/evaluate-models) for metric based evaluation."
   ]
  },
  {
   "cell_type": "markdown",
   "metadata": {
    "id": "iKNk3zG4CNSS"
   },
   "source": [
    "- **Recall-Oriented Understudy for Gisting Evaluation (ROUGE)**: A metric used to evaluate the quality of automatic summaries of text. It works by comparing a generated summary to a set of reference summaries created by humans."
   ]
  },
  {
   "cell_type": "markdown",
   "metadata": {
    "id": "5XP9VOaTd3z8"
   },
   "source": [
    "Now you can take the candidate and reference to evaluate the performance. In this case, ROUGE will give you:\n",
    "\n",
    "- `rouge-1`, which measures unigram overlap\n",
    "- `rouge-2`, which measures bigram overlap\n",
    "- `rouge-l`, which measures the longest common subsequence"
   ]
  },
  {
   "cell_type": "markdown",
   "metadata": {
    "id": "I2CrcvvzFfBL"
   },
   "source": [
    "#### *Recall vs. Precision*\n",
    "\n",
    "**Recall**, meaning it prioritizes how much of the information in the reference summaries is captured in the generated summary.\n",
    "\n",
    "**Precision**, which measures how much of the generated summary is relevant to the original text."
   ]
  },
  {
   "cell_type": "markdown",
   "metadata": {
    "id": "uU6K4YdaGGyp"
   },
   "source": [
    "<strong>Alternate Evaluation method</strong>: Check out the [AutoSxS](https://cloud.google.com/vertex-ai/generative-ai/docs/models/side-by-side-eval) evaluation for automatic evaluation of the task.\n"
   ]
  },
  {
   "cell_type": "code",
   "execution_count": 24,
   "metadata": {
    "id": "p3YZAOZcQWtW",
    "tags": []
   },
   "outputs": [],
   "source": [
    "# Create rouge_scorer object for evaluation\n",
    "scorer = rouge_scorer.RougeScorer([\"rouge1\", \"rouge2\", \"rougeL\"], use_stemmer=True)"
   ]
  },
  {
   "cell_type": "code",
   "execution_count": 25,
   "metadata": {
    "id": "N8Y06N_b_EP5",
    "tags": []
   },
   "outputs": [],
   "source": [
    "def run_evaluation(model, corpus: list[dict]) -> pd.DataFrame:\n",
    "    \"\"\"Runs evaluation for the given model and data.\n",
    "\n",
    "    Args:\n",
    "      model: The generation model.\n",
    "      corpus: The test data.\n",
    "\n",
    "    Returns:\n",
    "      A pandas DataFrame containing the evaluation results.\n",
    "    \"\"\"\n",
    "    records = []\n",
    "    for item in tqdm(corpus):\n",
    "        document = item.get(\"input_text\")\n",
    "        summary = item.get(\"output_text\")\n",
    "\n",
    "        # Catch any exception that occur during model evaluation.\n",
    "        try:\n",
    "            response = client.models.generate_content(\n",
    "                model=model,\n",
    "                contents=document,\n",
    "                config=config,\n",
    "            )\n",
    "\n",
    "            # Check if response is generated by the model, if response is empty then continue to next item.\n",
    "            if not (\n",
    "                response\n",
    "                and response.candidates\n",
    "                and response.candidates[0].content.parts\n",
    "            ):\n",
    "                print(\n",
    "                    f\"\\nModel has blocked the response for the document.\\n Response: {response}\\n Document: {document}\"\n",
    "                )\n",
    "                continue\n",
    "\n",
    "            # Calculates the ROUGE score for a given reference and generated summary.\n",
    "            scores = scorer.score(target=summary, prediction=response.text)\n",
    "\n",
    "            # Append the results to the records list\n",
    "            records.append(\n",
    "                {\n",
    "                    \"document\": document,\n",
    "                    \"summary\": summary,\n",
    "                    \"generated_summary\": response.text,\n",
    "                    \"scores\": scores,\n",
    "                    \"rouge1_precision\": scores.get(\"rouge1\").precision,\n",
    "                    \"rouge1_recall\": scores.get(\"rouge1\").recall,\n",
    "                    \"rouge1_fmeasure\": scores.get(\"rouge1\").fmeasure,\n",
    "                    \"rouge2_precision\": scores.get(\"rouge2\").precision,\n",
    "                    \"rouge2_recall\": scores.get(\"rouge2\").recall,\n",
    "                    \"rouge2_fmeasure\": scores.get(\"rouge2\").fmeasure,\n",
    "                    \"rougeL_precision\": scores.get(\"rougeL\").precision,\n",
    "                    \"rougeL_recall\": scores.get(\"rougeL\").recall,\n",
    "                    \"rougeL_fmeasure\": scores.get(\"rougeL\").fmeasure,\n",
    "                }\n",
    "            )\n",
    "        except AttributeError as attr_err:\n",
    "            print(\"Attribute Error:\", attr_err)\n",
    "            continue\n",
    "        except Exception as err:\n",
    "            print(\"Error:\", err)\n",
    "            continue\n",
    "    return pd.DataFrame(records)"
   ]
  },
  {
   "cell_type": "code",
   "execution_count": 26,
   "metadata": {
    "id": "4afTSo5cpM73",
    "tags": []
   },
   "outputs": [],
   "source": [
    "# Batch of test data.\n",
    "corpus_batch = corpus[:100]"
   ]
  },
  {
   "cell_type": "markdown",
   "metadata": {
    "id": "oM10zigp7kTZ"
   },
   "source": [
    "<div class=\"alert alert-block alert-warning\">\n",
    "<b>⚠️ It will take ~5 mins for the evaluation run on the provided batch. ⚠️</b>\n",
    "</div>"
   ]
  },
  {
   "cell_type": "code",
   "execution_count": 27,
   "metadata": {
    "id": "aO8JhIg1pYkE",
    "tags": []
   },
   "outputs": [
    {
     "name": "stderr",
     "output_type": "stream",
     "text": [
      "100%|██████████| 100/100 [01:15<00:00,  1.32it/s]\n"
     ]
    }
   ],
   "source": [
    "# Run evaluation using loaded model and test data corpus\n",
    "evaluation_df = run_evaluation(base_model, corpus_batch)"
   ]
  },
  {
   "cell_type": "code",
   "execution_count": 28,
   "metadata": {
    "id": "H4VUFeb9tRBP",
    "tags": []
   },
   "outputs": [
    {
     "data": {
      "text/html": [
       "<div>\n",
       "<style scoped>\n",
       "    .dataframe tbody tr th:only-of-type {\n",
       "        vertical-align: middle;\n",
       "    }\n",
       "\n",
       "    .dataframe tbody tr th {\n",
       "        vertical-align: top;\n",
       "    }\n",
       "\n",
       "    .dataframe thead th {\n",
       "        text-align: right;\n",
       "    }\n",
       "</style>\n",
       "<table border=\"1\" class=\"dataframe\">\n",
       "  <thead>\n",
       "    <tr style=\"text-align: right;\">\n",
       "      <th></th>\n",
       "      <th>document</th>\n",
       "      <th>summary</th>\n",
       "      <th>generated_summary</th>\n",
       "      <th>scores</th>\n",
       "      <th>rouge1_precision</th>\n",
       "      <th>rouge1_recall</th>\n",
       "      <th>rouge1_fmeasure</th>\n",
       "      <th>rouge2_precision</th>\n",
       "      <th>rouge2_recall</th>\n",
       "      <th>rouge2_fmeasure</th>\n",
       "      <th>rougeL_precision</th>\n",
       "      <th>rougeL_recall</th>\n",
       "      <th>rougeL_fmeasure</th>\n",
       "    </tr>\n",
       "  </thead>\n",
       "  <tbody>\n",
       "    <tr>\n",
       "      <th>0</th>\n",
       "      <td>Hold your arm out flat in front of you with yo...</td>\n",
       "      <td>Squeeze a line of lotion onto the tops of both...</td>\n",
       "      <td>This article describes a method for applying l...</td>\n",
       "      <td>{'rouge1': (0.3018867924528302, 0.516129032258...</td>\n",
       "      <td>0.301887</td>\n",
       "      <td>0.516129</td>\n",
       "      <td>0.380952</td>\n",
       "      <td>0.076923</td>\n",
       "      <td>0.133333</td>\n",
       "      <td>0.097561</td>\n",
       "      <td>0.188679</td>\n",
       "      <td>0.322581</td>\n",
       "      <td>0.238095</td>\n",
       "    </tr>\n",
       "    <tr>\n",
       "      <th>1</th>\n",
       "      <td>As you continue playing, surviving becomes pai...</td>\n",
       "      <td>Make a Crock Pot for better food. Create an Al...</td>\n",
       "      <td>To survive longer in the game, you need to bui...</td>\n",
       "      <td>{'rouge1': (0.24193548387096775, 0.83333333333...</td>\n",
       "      <td>0.241935</td>\n",
       "      <td>0.833333</td>\n",
       "      <td>0.375000</td>\n",
       "      <td>0.131148</td>\n",
       "      <td>0.470588</td>\n",
       "      <td>0.205128</td>\n",
       "      <td>0.177419</td>\n",
       "      <td>0.611111</td>\n",
       "      <td>0.275000</td>\n",
       "    </tr>\n",
       "    <tr>\n",
       "      <th>2</th>\n",
       "      <td>Go to https://www.4kdownload.com/products/prod...</td>\n",
       "      <td>Download the 4K Video Downloader setup file. I...</td>\n",
       "      <td>This article provides step-by-step instruction...</td>\n",
       "      <td>{'rouge1': (0.4186046511627907, 0.305084745762...</td>\n",
       "      <td>0.418605</td>\n",
       "      <td>0.305085</td>\n",
       "      <td>0.352941</td>\n",
       "      <td>0.095238</td>\n",
       "      <td>0.068966</td>\n",
       "      <td>0.080000</td>\n",
       "      <td>0.325581</td>\n",
       "      <td>0.237288</td>\n",
       "      <td>0.274510</td>\n",
       "    </tr>\n",
       "    <tr>\n",
       "      <th>3</th>\n",
       "      <td>You should know that vaginoplasty can treat a ...</td>\n",
       "      <td>Consider the health of your bladder. Find a so...</td>\n",
       "      <td>Vaginoplasty can be a solution for a prolapsed...</td>\n",
       "      <td>{'rouge1': (0.2222222222222222, 0.5, 0.3076923...</td>\n",
       "      <td>0.222222</td>\n",
       "      <td>0.500000</td>\n",
       "      <td>0.307692</td>\n",
       "      <td>0.080645</td>\n",
       "      <td>0.185185</td>\n",
       "      <td>0.112360</td>\n",
       "      <td>0.142857</td>\n",
       "      <td>0.321429</td>\n",
       "      <td>0.197802</td>\n",
       "    </tr>\n",
       "    <tr>\n",
       "      <th>4</th>\n",
       "      <td>If you want to gather data on the frequency of...</td>\n",
       "      <td>Gather data to be graphed. Choose your range b...</td>\n",
       "      <td>Histograms are useful for visualizing the freq...</td>\n",
       "      <td>{'rouge1': (0.2459016393442623, 0.652173913043...</td>\n",
       "      <td>0.245902</td>\n",
       "      <td>0.652174</td>\n",
       "      <td>0.357143</td>\n",
       "      <td>0.083333</td>\n",
       "      <td>0.227273</td>\n",
       "      <td>0.121951</td>\n",
       "      <td>0.180328</td>\n",
       "      <td>0.478261</td>\n",
       "      <td>0.261905</td>\n",
       "    </tr>\n",
       "  </tbody>\n",
       "</table>\n",
       "</div>"
      ],
      "text/plain": [
       "                                            document  \\\n",
       "0  Hold your arm out flat in front of you with yo...   \n",
       "1  As you continue playing, surviving becomes pai...   \n",
       "2  Go to https://www.4kdownload.com/products/prod...   \n",
       "3  You should know that vaginoplasty can treat a ...   \n",
       "4  If you want to gather data on the frequency of...   \n",
       "\n",
       "                                             summary  \\\n",
       "0  Squeeze a line of lotion onto the tops of both...   \n",
       "1  Make a Crock Pot for better food. Create an Al...   \n",
       "2  Download the 4K Video Downloader setup file. I...   \n",
       "3  Consider the health of your bladder. Find a so...   \n",
       "4  Gather data to be graphed. Choose your range b...   \n",
       "\n",
       "                                   generated_summary  \\\n",
       "0  This article describes a method for applying l...   \n",
       "1  To survive longer in the game, you need to bui...   \n",
       "2  This article provides step-by-step instruction...   \n",
       "3  Vaginoplasty can be a solution for a prolapsed...   \n",
       "4  Histograms are useful for visualizing the freq...   \n",
       "\n",
       "                                              scores  rouge1_precision  \\\n",
       "0  {'rouge1': (0.3018867924528302, 0.516129032258...          0.301887   \n",
       "1  {'rouge1': (0.24193548387096775, 0.83333333333...          0.241935   \n",
       "2  {'rouge1': (0.4186046511627907, 0.305084745762...          0.418605   \n",
       "3  {'rouge1': (0.2222222222222222, 0.5, 0.3076923...          0.222222   \n",
       "4  {'rouge1': (0.2459016393442623, 0.652173913043...          0.245902   \n",
       "\n",
       "   rouge1_recall  rouge1_fmeasure  rouge2_precision  rouge2_recall  \\\n",
       "0       0.516129         0.380952          0.076923       0.133333   \n",
       "1       0.833333         0.375000          0.131148       0.470588   \n",
       "2       0.305085         0.352941          0.095238       0.068966   \n",
       "3       0.500000         0.307692          0.080645       0.185185   \n",
       "4       0.652174         0.357143          0.083333       0.227273   \n",
       "\n",
       "   rouge2_fmeasure  rougeL_precision  rougeL_recall  rougeL_fmeasure  \n",
       "0         0.097561          0.188679       0.322581         0.238095  \n",
       "1         0.205128          0.177419       0.611111         0.275000  \n",
       "2         0.080000          0.325581       0.237288         0.274510  \n",
       "3         0.112360          0.142857       0.321429         0.197802  \n",
       "4         0.121951          0.180328       0.478261         0.261905  "
      ]
     },
     "execution_count": 28,
     "metadata": {},
     "output_type": "execute_result"
    }
   ],
   "source": [
    "evaluation_df.head()"
   ]
  },
  {
   "cell_type": "code",
   "execution_count": 29,
   "metadata": {
    "id": "18m75w6m0R10",
    "tags": []
   },
   "outputs": [],
   "source": [
    "evaluation_df_stats = evaluation_df.dropna().describe()"
   ]
  },
  {
   "cell_type": "code",
   "execution_count": 30,
   "metadata": {
    "id": "dYokPWqdUIMv",
    "tags": []
   },
   "outputs": [
    {
     "data": {
      "text/html": [
       "<div>\n",
       "<style scoped>\n",
       "    .dataframe tbody tr th:only-of-type {\n",
       "        vertical-align: middle;\n",
       "    }\n",
       "\n",
       "    .dataframe tbody tr th {\n",
       "        vertical-align: top;\n",
       "    }\n",
       "\n",
       "    .dataframe thead th {\n",
       "        text-align: right;\n",
       "    }\n",
       "</style>\n",
       "<table border=\"1\" class=\"dataframe\">\n",
       "  <thead>\n",
       "    <tr style=\"text-align: right;\">\n",
       "      <th></th>\n",
       "      <th>rouge1_precision</th>\n",
       "      <th>rouge1_recall</th>\n",
       "      <th>rouge1_fmeasure</th>\n",
       "      <th>rouge2_precision</th>\n",
       "      <th>rouge2_recall</th>\n",
       "      <th>rouge2_fmeasure</th>\n",
       "      <th>rougeL_precision</th>\n",
       "      <th>rougeL_recall</th>\n",
       "      <th>rougeL_fmeasure</th>\n",
       "    </tr>\n",
       "  </thead>\n",
       "  <tbody>\n",
       "    <tr>\n",
       "      <th>count</th>\n",
       "      <td>100.000000</td>\n",
       "      <td>100.000000</td>\n",
       "      <td>100.000000</td>\n",
       "      <td>100.000000</td>\n",
       "      <td>100.000000</td>\n",
       "      <td>100.000000</td>\n",
       "      <td>100.000000</td>\n",
       "      <td>100.000000</td>\n",
       "      <td>100.000000</td>\n",
       "    </tr>\n",
       "    <tr>\n",
       "      <th>mean</th>\n",
       "      <td>0.227716</td>\n",
       "      <td>0.407966</td>\n",
       "      <td>0.274571</td>\n",
       "      <td>0.049530</td>\n",
       "      <td>0.091259</td>\n",
       "      <td>0.060479</td>\n",
       "      <td>0.149306</td>\n",
       "      <td>0.275983</td>\n",
       "      <td>0.181652</td>\n",
       "    </tr>\n",
       "    <tr>\n",
       "      <th>std</th>\n",
       "      <td>0.106063</td>\n",
       "      <td>0.148672</td>\n",
       "      <td>0.099642</td>\n",
       "      <td>0.047369</td>\n",
       "      <td>0.089471</td>\n",
       "      <td>0.055547</td>\n",
       "      <td>0.067903</td>\n",
       "      <td>0.119172</td>\n",
       "      <td>0.068058</td>\n",
       "    </tr>\n",
       "    <tr>\n",
       "      <th>min</th>\n",
       "      <td>0.031250</td>\n",
       "      <td>0.129032</td>\n",
       "      <td>0.057143</td>\n",
       "      <td>0.000000</td>\n",
       "      <td>0.000000</td>\n",
       "      <td>0.000000</td>\n",
       "      <td>0.031250</td>\n",
       "      <td>0.064516</td>\n",
       "      <td>0.051282</td>\n",
       "    </tr>\n",
       "    <tr>\n",
       "      <th>25%</th>\n",
       "      <td>0.142299</td>\n",
       "      <td>0.290941</td>\n",
       "      <td>0.195122</td>\n",
       "      <td>0.016393</td>\n",
       "      <td>0.025328</td>\n",
       "      <td>0.020257</td>\n",
       "      <td>0.096154</td>\n",
       "      <td>0.190492</td>\n",
       "      <td>0.128420</td>\n",
       "    </tr>\n",
       "    <tr>\n",
       "      <th>50%</th>\n",
       "      <td>0.212327</td>\n",
       "      <td>0.411765</td>\n",
       "      <td>0.264646</td>\n",
       "      <td>0.035401</td>\n",
       "      <td>0.067816</td>\n",
       "      <td>0.048193</td>\n",
       "      <td>0.138462</td>\n",
       "      <td>0.263158</td>\n",
       "      <td>0.170221</td>\n",
       "    </tr>\n",
       "    <tr>\n",
       "      <th>75%</th>\n",
       "      <td>0.297218</td>\n",
       "      <td>0.485000</td>\n",
       "      <td>0.352941</td>\n",
       "      <td>0.076923</td>\n",
       "      <td>0.125000</td>\n",
       "      <td>0.088406</td>\n",
       "      <td>0.189382</td>\n",
       "      <td>0.333333</td>\n",
       "      <td>0.227597</td>\n",
       "    </tr>\n",
       "    <tr>\n",
       "      <th>max</th>\n",
       "      <td>0.576271</td>\n",
       "      <td>0.857143</td>\n",
       "      <td>0.488889</td>\n",
       "      <td>0.206897</td>\n",
       "      <td>0.470588</td>\n",
       "      <td>0.250000</td>\n",
       "      <td>0.338983</td>\n",
       "      <td>0.714286</td>\n",
       "      <td>0.366197</td>\n",
       "    </tr>\n",
       "  </tbody>\n",
       "</table>\n",
       "</div>"
      ],
      "text/plain": [
       "       rouge1_precision  rouge1_recall  rouge1_fmeasure  rouge2_precision  \\\n",
       "count        100.000000     100.000000       100.000000        100.000000   \n",
       "mean           0.227716       0.407966         0.274571          0.049530   \n",
       "std            0.106063       0.148672         0.099642          0.047369   \n",
       "min            0.031250       0.129032         0.057143          0.000000   \n",
       "25%            0.142299       0.290941         0.195122          0.016393   \n",
       "50%            0.212327       0.411765         0.264646          0.035401   \n",
       "75%            0.297218       0.485000         0.352941          0.076923   \n",
       "max            0.576271       0.857143         0.488889          0.206897   \n",
       "\n",
       "       rouge2_recall  rouge2_fmeasure  rougeL_precision  rougeL_recall  \\\n",
       "count     100.000000       100.000000        100.000000     100.000000   \n",
       "mean        0.091259         0.060479          0.149306       0.275983   \n",
       "std         0.089471         0.055547          0.067903       0.119172   \n",
       "min         0.000000         0.000000          0.031250       0.064516   \n",
       "25%         0.025328         0.020257          0.096154       0.190492   \n",
       "50%         0.067816         0.048193          0.138462       0.263158   \n",
       "75%         0.125000         0.088406          0.189382       0.333333   \n",
       "max         0.470588         0.250000          0.338983       0.714286   \n",
       "\n",
       "       rougeL_fmeasure  \n",
       "count       100.000000  \n",
       "mean          0.181652  \n",
       "std           0.068058  \n",
       "min           0.051282  \n",
       "25%           0.128420  \n",
       "50%           0.170221  \n",
       "75%           0.227597  \n",
       "max           0.366197  "
      ]
     },
     "execution_count": 30,
     "metadata": {},
     "output_type": "execute_result"
    }
   ],
   "source": [
    "# Statistics of the evaluation dataframe.\n",
    "evaluation_df_stats"
   ]
  },
  {
   "cell_type": "code",
   "execution_count": 31,
   "metadata": {
    "id": "4fdVjY_JWcmq",
    "tags": []
   },
   "outputs": [
    {
     "name": "stdout",
     "output_type": "stream",
     "text": [
      "Mean rougeL_precision is 0.14930610308177278\n"
     ]
    }
   ],
   "source": [
    "print(\"Mean rougeL_precision is\", evaluation_df_stats.rougeL_precision[\"mean\"])"
   ]
  },
  {
   "cell_type": "markdown",
   "metadata": {
    "id": "IgMb3E0YEqL2"
   },
   "source": [
    "## Step7: Fine-tune the model\n",
    "\n",
    " - `source_model`: Specifies the base Gemini model version you want to fine-tune.\n",
    " - `train_dataset`: Path to your training data in JSONL format.\n",
    "\n",
    "  *Optional parameters*\n",
    " - `validation_dataset`: If provided, this data is used to evaluate the model during tuning.\n",
    " - `tuned_model_display_name`: Display name for the tuned model.\n",
    " - `epochs`: The number of training epochs to run.\n",
    " - `learning_rate_multiplier`: A value to scale the learning rate during training.\n",
    " - `adapter_size` : Gemini 2.0 Pro supports Adapter length [1, 2, 4, 8], default value is 4."
   ]
  },
  {
   "cell_type": "markdown",
   "metadata": {
    "id": "4e81137766c6"
   },
   "source": [
    "**Note: The default hyperparameter settings are optimized for optimal performance based on rigorous testing and are recommended for initial use. Users may customize these parameters to address specific performance requirements.**"
   ]
  },
  {
   "cell_type": "code",
   "execution_count": 32,
   "metadata": {
    "id": "vQM2vDBZ27b_",
    "tags": []
   },
   "outputs": [
    {
     "name": "stderr",
     "output_type": "stream",
     "text": [
      "/var/tmp/ipykernel_6326/2623409050.py:12: ExperimentalWarning: The SDK's tuning implementation is experimental, and may change in future versions.\n",
      "  sft_tuning_job = client.tunings.tune(\n"
     ]
    },
    {
     "data": {
      "text/html": [
       "\n",
       "        \n",
       "    <link rel=\"stylesheet\" href=\"https://fonts.googleapis.com/icon?family=Material+Icons\">\n",
       "    <style>\n",
       "      .view-vertex-resource,\n",
       "      .view-vertex-resource:hover,\n",
       "      .view-vertex-resource:visited {\n",
       "        position: relative;\n",
       "        display: inline-flex;\n",
       "        flex-direction: row;\n",
       "        height: 32px;\n",
       "        padding: 0 12px;\n",
       "          margin: 4px 18px;\n",
       "        gap: 4px;\n",
       "        border-radius: 4px;\n",
       "\n",
       "        align-items: center;\n",
       "        justify-content: center;\n",
       "        background-color: rgb(255, 255, 255);\n",
       "        color: rgb(51, 103, 214);\n",
       "\n",
       "        font-family: Roboto,\"Helvetica Neue\",sans-serif;\n",
       "        font-size: 13px;\n",
       "        font-weight: 500;\n",
       "        text-transform: uppercase;\n",
       "        text-decoration: none !important;\n",
       "\n",
       "        transition: box-shadow 280ms cubic-bezier(0.4, 0, 0.2, 1) 0s;\n",
       "        box-shadow: 0px 3px 1px -2px rgba(0,0,0,0.2), 0px 2px 2px 0px rgba(0,0,0,0.14), 0px 1px 5px 0px rgba(0,0,0,0.12);\n",
       "      }\n",
       "      .view-vertex-resource:active {\n",
       "        box-shadow: 0px 5px 5px -3px rgba(0,0,0,0.2),0px 8px 10px 1px rgba(0,0,0,0.14),0px 3px 14px 2px rgba(0,0,0,0.12);\n",
       "      }\n",
       "      .view-vertex-resource:active .view-vertex-ripple::before {\n",
       "        position: absolute;\n",
       "        top: 0;\n",
       "        bottom: 0;\n",
       "        left: 0;\n",
       "        right: 0;\n",
       "        border-radius: 4px;\n",
       "        pointer-events: none;\n",
       "\n",
       "        content: '';\n",
       "        background-color: rgb(51, 103, 214);\n",
       "        opacity: 0.12;\n",
       "      }\n",
       "      .view-vertex-icon {\n",
       "        font-size: 18px;\n",
       "      }\n",
       "    </style>\n",
       "  \n",
       "        <a class=\"view-vertex-resource\" id=\"view-vertex-resource-c347bdc9-4a83-45ec-aa01-c9142685f8e0\" href=\"#view-view-vertex-resource-c347bdc9-4a83-45ec-aa01-c9142685f8e0\">\n",
       "          <span class=\"material-icons view-vertex-icon\">tune</span>\n",
       "          <span>View Tuning Job</span>\n",
       "        </a>\n",
       "        \n",
       "        <script>\n",
       "          (function () {\n",
       "            const link = document.getElementById('view-vertex-resource-c347bdc9-4a83-45ec-aa01-c9142685f8e0');\n",
       "            link.addEventListener('click', (e) => {\n",
       "              if (window.google?.colab?.openUrl) {\n",
       "                window.google.colab.openUrl('https://console.cloud.google.com/vertex-ai/generative/language/locations/us-central1/tuning/tuningJob/2479608400938270720?project=592614759289');\n",
       "              } else {\n",
       "                window.open('https://console.cloud.google.com/vertex-ai/generative/language/locations/us-central1/tuning/tuningJob/2479608400938270720?project=592614759289', '_blank');\n",
       "              }\n",
       "              e.stopPropagation();\n",
       "              e.preventDefault();\n",
       "            });\n",
       "          })();\n",
       "        </script>\n",
       "    "
      ],
      "text/plain": [
       "<IPython.core.display.HTML object>"
      ]
     },
     "metadata": {},
     "output_type": "display_data"
    }
   ],
   "source": [
    "tuned_model_display_name = \"[DISPLAY NAME FOR TUNED MODEL]\"  # @param {type:\"string\"}\n",
    "\n",
    "training_dataset = {\n",
    "    \"gcs_uri\": f\"{BUCKET_URI}/train/sft_train_samples.jsonl\",\n",
    "}\n",
    "\n",
    "validation_dataset = types.TuningValidationDataset(\n",
    "    gcs_uri=f\"{BUCKET_URI}/val/sft_val_samples.jsonl\"\n",
    ")\n",
    "\n",
    "# Tune a model using `tune` method.\n",
    "sft_tuning_job = client.tunings.tune(\n",
    "    base_model=base_model,\n",
    "    training_dataset=training_dataset,\n",
    "    config=types.CreateTuningJobConfig(\n",
    "        tuned_model_display_name=tuned_model_display_name,\n",
    "        validation_dataset=validation_dataset,\n",
    "    ),\n",
    ")"
   ]
  },
  {
   "cell_type": "code",
   "execution_count": 33,
   "metadata": {
    "id": "yLlAgVjCNqXg",
    "tags": []
   },
   "outputs": [
    {
     "data": {
      "text/plain": [
       "TuningJob(\n",
       "  base_model='gemini-2.0-flash-001',\n",
       "  create_time=datetime.datetime(2025, 10, 1, 21, 18, 28, 201207, tzinfo=TzInfo(UTC)),\n",
       "  name='projects/592614759289/locations/us-central1/tuningJobs/2479608400938270720',\n",
       "  sdk_http_response=HttpResponse(\n",
       "    headers=<dict len=9>\n",
       "  ),\n",
       "  state=<JobState.JOB_STATE_PENDING: 'JOB_STATE_PENDING'>,\n",
       "  supervised_tuning_spec=SupervisedTuningSpec(\n",
       "    training_dataset_uri='gs://qwiklabs-gcp-02-e28ea5dc3987/train/sft_train_samples.jsonl',\n",
       "    validation_dataset_uri='gs://qwiklabs-gcp-02-e28ea5dc3987/val/sft_val_samples.jsonl'\n",
       "  ),\n",
       "  tuned_model_display_name='[DISPLAY NAME FOR TUNED MODEL]',\n",
       "  update_time=datetime.datetime(2025, 10, 1, 21, 18, 28, 201207, tzinfo=TzInfo(UTC))\n",
       ")"
      ]
     },
     "execution_count": 33,
     "metadata": {},
     "output_type": "execute_result"
    }
   ],
   "source": [
    "# Get the tuning job info.\n",
    "tuning_job = client.tunings.get(name=sft_tuning_job.name)\n",
    "tuning_job"
   ]
  },
  {
   "cell_type": "markdown",
   "metadata": {
    "id": "22QZ035C8GJ3"
   },
   "source": [
    "**Note: Tuning time depends on several factors, such as training data size, number of epochs, learning rate multiplier, etc.**"
   ]
  },
  {
   "cell_type": "markdown",
   "metadata": {
    "id": "NN1KX-_WyKeu"
   },
   "source": [
    "<div class=\"alert alert-block alert-warning\">\n",
    "<b>⚠️ It will take ~25 mins for the model tuning job to complete on the provided dataset and set configurations/hyperparameters. ⚠️</b>\n",
    "</div>"
   ]
  },
  {
   "cell_type": "code",
   "execution_count": null,
   "metadata": {
    "id": "2ma3P6tZ6suI",
    "tags": []
   },
   "outputs": [
    {
     "name": "stdout",
     "output_type": "stream",
     "text": [
      "...................."
     ]
    },
    {
     "data": {
      "text/html": [
       "\n",
       "        \n",
       "    <link rel=\"stylesheet\" href=\"https://fonts.googleapis.com/icon?family=Material+Icons\">\n",
       "    <style>\n",
       "      .view-vertex-resource,\n",
       "      .view-vertex-resource:hover,\n",
       "      .view-vertex-resource:visited {\n",
       "        position: relative;\n",
       "        display: inline-flex;\n",
       "        flex-direction: row;\n",
       "        height: 32px;\n",
       "        padding: 0 12px;\n",
       "          margin: 4px 18px;\n",
       "        gap: 4px;\n",
       "        border-radius: 4px;\n",
       "\n",
       "        align-items: center;\n",
       "        justify-content: center;\n",
       "        background-color: rgb(255, 255, 255);\n",
       "        color: rgb(51, 103, 214);\n",
       "\n",
       "        font-family: Roboto,\"Helvetica Neue\",sans-serif;\n",
       "        font-size: 13px;\n",
       "        font-weight: 500;\n",
       "        text-transform: uppercase;\n",
       "        text-decoration: none !important;\n",
       "\n",
       "        transition: box-shadow 280ms cubic-bezier(0.4, 0, 0.2, 1) 0s;\n",
       "        box-shadow: 0px 3px 1px -2px rgba(0,0,0,0.2), 0px 2px 2px 0px rgba(0,0,0,0.14), 0px 1px 5px 0px rgba(0,0,0,0.12);\n",
       "      }\n",
       "      .view-vertex-resource:active {\n",
       "        box-shadow: 0px 5px 5px -3px rgba(0,0,0,0.2),0px 8px 10px 1px rgba(0,0,0,0.14),0px 3px 14px 2px rgba(0,0,0,0.12);\n",
       "      }\n",
       "      .view-vertex-resource:active .view-vertex-ripple::before {\n",
       "        position: absolute;\n",
       "        top: 0;\n",
       "        bottom: 0;\n",
       "        left: 0;\n",
       "        right: 0;\n",
       "        border-radius: 4px;\n",
       "        pointer-events: none;\n",
       "\n",
       "        content: '';\n",
       "        background-color: rgb(51, 103, 214);\n",
       "        opacity: 0.12;\n",
       "      }\n",
       "      .view-vertex-icon {\n",
       "        font-size: 18px;\n",
       "      }\n",
       "    </style>\n",
       "  \n",
       "        <a class=\"view-vertex-resource\" id=\"view-vertex-resource-33fd626e-21f4-4f2c-83a7-62112850c3f8\" href=\"#view-view-vertex-resource-33fd626e-21f4-4f2c-83a7-62112850c3f8\">\n",
       "          <span class=\"material-icons view-vertex-icon\">science</span>\n",
       "          <span>View Experiment</span>\n",
       "        </a>\n",
       "        \n",
       "        <script>\n",
       "          (function () {\n",
       "            const link = document.getElementById('view-vertex-resource-33fd626e-21f4-4f2c-83a7-62112850c3f8');\n",
       "            link.addEventListener('click', (e) => {\n",
       "              if (window.google?.colab?.openUrl) {\n",
       "                window.google.colab.openUrl('https://console.cloud.google.com/vertex-ai/experiments/locations/us-central1/experiments/tuning-experiment-20251001142236116684/runs?project=qwiklabs-gcp-02-e28ea5dc3987');\n",
       "              } else {\n",
       "                window.open('https://console.cloud.google.com/vertex-ai/experiments/locations/us-central1/experiments/tuning-experiment-20251001142236116684/runs?project=qwiklabs-gcp-02-e28ea5dc3987', '_blank');\n",
       "              }\n",
       "              e.stopPropagation();\n",
       "              e.preventDefault();\n",
       "            });\n",
       "          })();\n",
       "        </script>\n",
       "    "
      ],
      "text/plain": [
       "<IPython.core.display.HTML object>"
      ]
     },
     "metadata": {},
     "output_type": "display_data"
    },
    {
     "name": "stdout",
     "output_type": "stream",
     "text": [
      "................................................................................................................................................\n",
      "CPU times: user 2.2 s, sys: 272 ms, total: 2.47 s\n",
      "Wall time: 31min 41s\n"
     ]
    }
   ],
   "source": [
    "%%time\n",
    "# Wait for job completion\n",
    "\n",
    "running_states = [\n",
    "    \"JOB_STATE_PENDING\",\n",
    "    \"JOB_STATE_RUNNING\",\n",
    "]\n",
    "\n",
    "while tuning_job.state.name in running_states:\n",
    "    print(\".\", end=\"\")\n",
    "    tuning_job = client.tunings.get(name=tuning_job.name)\n",
    "    time.sleep(10)\n",
    "print()"
   ]
  },
  {
   "cell_type": "code",
   "execution_count": null,
   "metadata": {
    "id": "e1O1xCBS6spi",
    "tags": []
   },
   "outputs": [
    {
     "name": "stdout",
     "output_type": "stream",
     "text": [
      "Tuned model experiment projects/592614759289/locations/us-central1/metadataStores/default/contexts/tuning-experiment-20251001142236116684\n",
      "Tuned model endpoint resource name: projects/592614759289/locations/us-central1/endpoints/1644019472664625152\n"
     ]
    }
   ],
   "source": [
    "tuned_model = tuning_job.tuned_model.endpoint\n",
    "experiment_name = tuning_job.experiment\n",
    "\n",
    "print(\"Tuned model experiment\", experiment_name)\n",
    "print(\"Tuned model endpoint resource name:\", tuned_model)"
   ]
  },
  {
   "cell_type": "markdown",
   "metadata": {
    "id": "8DzlWWKpbGcu"
   },
   "source": [
    "### Step7 [a]: Tuning and evaluation metrics"
   ]
  },
  {
   "cell_type": "markdown",
   "metadata": {
    "id": "psRbCfzwWz_g"
   },
   "source": [
    "#### Model tuning metrics\n",
    "\n",
    "- `/train_total_loss`: Loss for the tuning dataset at a training step.\n",
    "- `/train_fraction_of_correct_next_step_preds`: The token accuracy at a training step. A single prediction consists of a sequence of tokens. This metric measures the accuracy of the predicted tokens when compared to the ground truth in the tuning dataset.\n",
    "- `/train_num_predictions`: Number of predicted tokens at a training step\n",
    "\n",
    "#### Model evaluation metrics:\n",
    "\n",
    "- `/eval_total_loss`: Loss for the evaluation dataset at an evaluation step.\n",
    "- `/eval_fraction_of_correct_next_step_preds`: The token accuracy at an evaluation step. A single prediction consists of a sequence of tokens. This metric measures the accuracy of the predicted tokens when compared to the ground truth in the evaluation dataset.\n",
    "- `/eval_num_predictions`: Number of predicted tokens at an evaluation step.\n",
    "\n",
    "The metrics visualizations are available after the model tuning job completes. If you don't specify a validation dataset when you create the tuning job, only the visualizations for the tuning metrics are available.\n"
   ]
  },
  {
   "cell_type": "code",
   "execution_count": null,
   "metadata": {
    "id": "5J1LP3nCbNlg",
    "tags": []
   },
   "outputs": [],
   "source": [
    "# Locate Vertex AI Experiment and Vertex AI Experiment Run\n",
    "experiment = aiplatform.Experiment(experiment_name=experiment_name)\n",
    "filter_str = metadata_utils._make_filter_string(\n",
    "    schema_title=\"system.ExperimentRun\",\n",
    "    parent_contexts=[experiment.resource_name],\n",
    ")\n",
    "experiment_run = context.Context.list(filter_str)[0]"
   ]
  },
  {
   "cell_type": "code",
   "execution_count": null,
   "metadata": {
    "id": "htBrcQY1bPyh",
    "tags": []
   },
   "outputs": [],
   "source": [
    "# Read data from Tensorboard\n",
    "tensorboard_run_name = f\"{experiment.get_backing_tensorboard_resource().resource_name}/experiments/{experiment.name}/runs/{experiment_run.name.replace(experiment.name, '')[1:]}\"\n",
    "tensorboard_run = aiplatform.TensorboardRun(tensorboard_run_name)\n",
    "metrics = tensorboard_run.read_time_series_data()"
   ]
  },
  {
   "cell_type": "code",
   "execution_count": null,
   "metadata": {
    "id": "uRZ-UZXcbYj5",
    "tags": []
   },
   "outputs": [],
   "source": [
    "def get_metrics(metric: str = \"/train_total_loss\"):\n",
    "    \"\"\"\n",
    "    Get metrics from Tensorboard.\n",
    "\n",
    "    Args:\n",
    "      metric: metric name, eg. /train_total_loss or /eval_total_loss.\n",
    "    Returns:\n",
    "      steps: list of steps.\n",
    "      steps_loss: list of loss values.\n",
    "    \"\"\"\n",
    "    loss_values = metrics[metric].values\n",
    "    steps_loss = []\n",
    "    steps = []\n",
    "    for loss in loss_values:\n",
    "        steps_loss.append(loss.scalar.value)\n",
    "        steps.append(loss.step)\n",
    "    return steps, steps_loss"
   ]
  },
  {
   "cell_type": "code",
   "execution_count": null,
   "metadata": {
    "id": "ImR4doLZblaH",
    "tags": []
   },
   "outputs": [],
   "source": [
    "# Get Train and Eval Loss\n",
    "train_loss = get_metrics(metric=\"/train_total_loss\")\n",
    "eval_loss = get_metrics(metric=\"/eval_total_loss\")"
   ]
  },
  {
   "cell_type": "markdown",
   "metadata": {
    "id": "NuN-m1Ikbn15"
   },
   "source": [
    "### Step7 [b]: Plot the metrics"
   ]
  },
  {
   "cell_type": "code",
   "execution_count": null,
   "metadata": {
    "id": "1KWWkVR5jQkA",
    "tags": []
   },
   "outputs": [
    {
     "data": {
      "application/vnd.plotly.v1+json": {
       "config": {
        "plotlyServerURL": "https://plot.ly"
       },
       "data": [
        {
         "mode": "lines",
         "name": "Train Loss",
         "type": "scatter",
         "x": [
          1,
          2,
          3,
          4,
          5,
          6,
          7,
          8,
          9,
          10,
          11,
          12,
          13,
          14,
          15,
          16,
          17,
          18,
          19,
          20,
          21,
          22,
          23,
          24,
          25,
          26,
          27,
          28,
          29,
          30,
          31,
          32,
          33,
          34,
          35,
          36,
          37,
          38,
          39,
          40,
          41,
          42,
          43,
          44,
          45,
          46,
          47,
          48,
          49,
          50,
          51,
          52,
          53,
          54,
          55,
          56,
          57,
          58,
          59,
          60,
          61,
          62,
          63,
          64,
          65,
          66,
          67,
          68,
          69,
          70,
          71,
          72,
          73,
          74,
          75,
          76,
          77,
          78,
          79,
          80,
          81,
          82,
          83,
          84,
          85,
          86,
          87,
          88,
          89,
          90,
          91,
          92,
          93,
          94,
          95,
          96,
          97,
          98,
          99,
          100,
          101,
          102,
          103,
          104,
          105,
          106,
          107,
          108,
          109,
          110,
          111,
          112,
          113,
          114,
          115,
          116,
          117,
          118,
          119,
          120,
          121,
          122,
          123,
          124,
          125,
          126,
          127,
          128,
          129,
          130,
          131,
          132,
          133,
          134,
          135,
          136,
          137,
          138,
          139,
          140,
          141,
          142,
          143,
          144,
          145,
          146,
          147,
          148,
          149,
          150,
          151,
          152,
          153
         ],
         "xaxis": "x",
         "y": [
          2.811715841293335,
          2.889453172683716,
          3.054015636444092,
          2.838258743286133,
          2.8179190158843994,
          2.8504505157470703,
          2.6366093158721924,
          2.47658371925354,
          2.37617826461792,
          2.28141713142395,
          1.940346121788025,
          1.8387172222137451,
          1.7890535593032837,
          1.7724809646606445,
          1.6276233196258545,
          1.530043601989746,
          1.5374255180358887,
          1.5288887023925781,
          1.5099235773086548,
          1.4956635236740112,
          1.3765013217926025,
          1.4740850925445557,
          1.390392780303955,
          1.3581480979919434,
          1.5124554634094238,
          1.2842965126037598,
          1.275006651878357,
          1.4182507991790771,
          1.348740816116333,
          1.2983447313308716,
          1.3580678701400757,
          1.2887423038482666,
          1.239181399345398,
          1.2551531791687012,
          1.3006857633590698,
          1.3196234703063965,
          1.2802585363388062,
          1.3548222780227661,
          1.2050836086273193,
          1.219971776008606,
          1.2150648832321167,
          1.2553201913833618,
          1.2885205745697021,
          1.2416484355926514,
          1.2947230339050293,
          1.25236976146698,
          1.201149821281433,
          1.1698187589645386,
          1.284964919090271,
          1.2092349529266357,
          1.1567728519439697,
          1.21843683719635,
          1.2134196758270264,
          1.247330665588379,
          1.1901822090148926,
          1.1283214092254639,
          1.2293211221694946,
          1.11875319480896,
          1.1821274757385254,
          1.2750407457351685,
          1.1548326015472412,
          1.1710249185562134,
          1.1540071964263916,
          1.1545603275299072,
          1.1941815614700317,
          1.1414117813110352,
          1.1293303966522217,
          1.10227370262146,
          1.1583672761917114,
          1.1751863956451416,
          1.0918686389923096,
          1.1390259265899658,
          1.114111304283142,
          1.121137022972107,
          1.1002310514450073,
          1.1296039819717407,
          1.075949788093567,
          1.1192513704299927,
          1.1251604557037354,
          1.0184537172317505,
          1.0479563474655151,
          1.058660626411438,
          1.0962283611297607,
          1.0991299152374268,
          0.9669119715690613,
          1.0409104824066162,
          1.1174975633621216,
          1.050883173942566,
          0.9810056090354919,
          0.9898054003715515,
          1.0278164148330688,
          1.0764039754867554,
          1.018399715423584,
          1.0389494895935059,
          0.9591484665870667,
          0.972133994102478,
          0.9785120487213135,
          0.9923112988471985,
          0.9731603264808655,
          0.9505295753479004,
          0.9675954580307007,
          0.9675356149673462,
          0.9082823991775513,
          0.9382554292678833,
          0.8870493173599243,
          0.9181241393089294,
          0.9191622734069824,
          0.9667584300041199,
          0.8942461013793945,
          0.8783602118492126,
          0.8874644041061401,
          0.9491833448410034,
          0.8545980453491211,
          0.8922879695892334,
          0.8786091804504395,
          0.8861847519874573,
          0.8681579232215881,
          0.8966077566146851,
          0.7770333290100098,
          0.8242064714431763,
          0.877597451210022,
          0.7992194890975952,
          0.8253329992294312,
          0.8076589703559875,
          0.807915210723877,
          0.8297703266143799,
          0.7681014537811279,
          0.775519609451294,
          0.7726267576217651,
          0.7236906886100769,
          0.7813690304756165,
          0.7874167561531067,
          0.7319298386573792,
          0.7500584721565247,
          0.7610371708869934,
          0.7487867474555969,
          0.7366932034492493,
          0.7007986307144165,
          0.7041203379631042,
          0.7377952337265015,
          0.7054874300956726,
          0.683293879032135,
          0.6769505143165588,
          0.6808124780654907,
          0.676753580570221,
          0.660163402557373,
          0.6719268560409546,
          0.6619160771369934,
          0.6494358777999878,
          0.6532926559448242,
          0.6374056935310364,
          0.6271628737449646,
          0.6383527517318726
         ],
         "yaxis": "y"
        },
        {
         "mode": "lines",
         "name": "Eval Loss",
         "type": "scatter",
         "x": [
          1,
          10,
          16,
          20,
          30,
          32,
          40,
          48,
          50,
          60,
          64,
          70,
          80,
          90,
          96,
          100,
          110,
          112,
          120,
          128,
          130,
          140,
          144,
          150,
          153
         ],
         "xaxis": "x2",
         "y": [
          3.123309850692749,
          1.977891445159912,
          1.5456721782684326,
          1.4192949533462524,
          1.350272297859192,
          1.3324024677276611,
          1.2933752536773682,
          1.2850124835968018,
          1.2817872762680054,
          1.291670322418213,
          1.2919025421142578,
          1.3021659851074219,
          1.3337441682815552,
          1.3541579246520996,
          1.4062821865081787,
          1.4240018129348755,
          1.505902886390686,
          1.5193966627120972,
          1.539259672164917,
          1.6273168325424194,
          1.6575262546539307,
          1.7433743476867676,
          1.746994972229004,
          1.8670508861541748,
          1.8829879760742188
         ],
         "yaxis": "y2"
        }
       ],
       "layout": {
        "annotations": [
         {
          "font": {
           "size": 16
          },
          "showarrow": false,
          "text": "Train Loss",
          "x": 0.225,
          "xanchor": "center",
          "xref": "paper",
          "y": 1,
          "yanchor": "bottom",
          "yref": "paper"
         },
         {
          "font": {
           "size": 16
          },
          "showarrow": false,
          "text": "Eval Loss",
          "x": 0.775,
          "xanchor": "center",
          "xref": "paper",
          "y": 1,
          "yanchor": "bottom",
          "yref": "paper"
         }
        ],
        "autosize": true,
        "template": {
         "data": {
          "bar": [
           {
            "error_x": {
             "color": "#2a3f5f"
            },
            "error_y": {
             "color": "#2a3f5f"
            },
            "marker": {
             "line": {
              "color": "#E5ECF6",
              "width": 0.5
             },
             "pattern": {
              "fillmode": "overlay",
              "size": 10,
              "solidity": 0.2
             }
            },
            "type": "bar"
           }
          ],
          "barpolar": [
           {
            "marker": {
             "line": {
              "color": "#E5ECF6",
              "width": 0.5
             },
             "pattern": {
              "fillmode": "overlay",
              "size": 10,
              "solidity": 0.2
             }
            },
            "type": "barpolar"
           }
          ],
          "carpet": [
           {
            "aaxis": {
             "endlinecolor": "#2a3f5f",
             "gridcolor": "white",
             "linecolor": "white",
             "minorgridcolor": "white",
             "startlinecolor": "#2a3f5f"
            },
            "baxis": {
             "endlinecolor": "#2a3f5f",
             "gridcolor": "white",
             "linecolor": "white",
             "minorgridcolor": "white",
             "startlinecolor": "#2a3f5f"
            },
            "type": "carpet"
           }
          ],
          "choropleth": [
           {
            "colorbar": {
             "outlinewidth": 0,
             "ticks": ""
            },
            "type": "choropleth"
           }
          ],
          "contour": [
           {
            "colorbar": {
             "outlinewidth": 0,
             "ticks": ""
            },
            "colorscale": [
             [
              0,
              "#0d0887"
             ],
             [
              0.1111111111111111,
              "#46039f"
             ],
             [
              0.2222222222222222,
              "#7201a8"
             ],
             [
              0.3333333333333333,
              "#9c179e"
             ],
             [
              0.4444444444444444,
              "#bd3786"
             ],
             [
              0.5555555555555556,
              "#d8576b"
             ],
             [
              0.6666666666666666,
              "#ed7953"
             ],
             [
              0.7777777777777778,
              "#fb9f3a"
             ],
             [
              0.8888888888888888,
              "#fdca26"
             ],
             [
              1,
              "#f0f921"
             ]
            ],
            "type": "contour"
           }
          ],
          "contourcarpet": [
           {
            "colorbar": {
             "outlinewidth": 0,
             "ticks": ""
            },
            "type": "contourcarpet"
           }
          ],
          "heatmap": [
           {
            "colorbar": {
             "outlinewidth": 0,
             "ticks": ""
            },
            "colorscale": [
             [
              0,
              "#0d0887"
             ],
             [
              0.1111111111111111,
              "#46039f"
             ],
             [
              0.2222222222222222,
              "#7201a8"
             ],
             [
              0.3333333333333333,
              "#9c179e"
             ],
             [
              0.4444444444444444,
              "#bd3786"
             ],
             [
              0.5555555555555556,
              "#d8576b"
             ],
             [
              0.6666666666666666,
              "#ed7953"
             ],
             [
              0.7777777777777778,
              "#fb9f3a"
             ],
             [
              0.8888888888888888,
              "#fdca26"
             ],
             [
              1,
              "#f0f921"
             ]
            ],
            "type": "heatmap"
           }
          ],
          "histogram": [
           {
            "marker": {
             "pattern": {
              "fillmode": "overlay",
              "size": 10,
              "solidity": 0.2
             }
            },
            "type": "histogram"
           }
          ],
          "histogram2d": [
           {
            "colorbar": {
             "outlinewidth": 0,
             "ticks": ""
            },
            "colorscale": [
             [
              0,
              "#0d0887"
             ],
             [
              0.1111111111111111,
              "#46039f"
             ],
             [
              0.2222222222222222,
              "#7201a8"
             ],
             [
              0.3333333333333333,
              "#9c179e"
             ],
             [
              0.4444444444444444,
              "#bd3786"
             ],
             [
              0.5555555555555556,
              "#d8576b"
             ],
             [
              0.6666666666666666,
              "#ed7953"
             ],
             [
              0.7777777777777778,
              "#fb9f3a"
             ],
             [
              0.8888888888888888,
              "#fdca26"
             ],
             [
              1,
              "#f0f921"
             ]
            ],
            "type": "histogram2d"
           }
          ],
          "histogram2dcontour": [
           {
            "colorbar": {
             "outlinewidth": 0,
             "ticks": ""
            },
            "colorscale": [
             [
              0,
              "#0d0887"
             ],
             [
              0.1111111111111111,
              "#46039f"
             ],
             [
              0.2222222222222222,
              "#7201a8"
             ],
             [
              0.3333333333333333,
              "#9c179e"
             ],
             [
              0.4444444444444444,
              "#bd3786"
             ],
             [
              0.5555555555555556,
              "#d8576b"
             ],
             [
              0.6666666666666666,
              "#ed7953"
             ],
             [
              0.7777777777777778,
              "#fb9f3a"
             ],
             [
              0.8888888888888888,
              "#fdca26"
             ],
             [
              1,
              "#f0f921"
             ]
            ],
            "type": "histogram2dcontour"
           }
          ],
          "mesh3d": [
           {
            "colorbar": {
             "outlinewidth": 0,
             "ticks": ""
            },
            "type": "mesh3d"
           }
          ],
          "parcoords": [
           {
            "line": {
             "colorbar": {
              "outlinewidth": 0,
              "ticks": ""
             }
            },
            "type": "parcoords"
           }
          ],
          "pie": [
           {
            "automargin": true,
            "type": "pie"
           }
          ],
          "scatter": [
           {
            "fillpattern": {
             "fillmode": "overlay",
             "size": 10,
             "solidity": 0.2
            },
            "type": "scatter"
           }
          ],
          "scatter3d": [
           {
            "line": {
             "colorbar": {
              "outlinewidth": 0,
              "ticks": ""
             }
            },
            "marker": {
             "colorbar": {
              "outlinewidth": 0,
              "ticks": ""
             }
            },
            "type": "scatter3d"
           }
          ],
          "scattercarpet": [
           {
            "marker": {
             "colorbar": {
              "outlinewidth": 0,
              "ticks": ""
             }
            },
            "type": "scattercarpet"
           }
          ],
          "scattergeo": [
           {
            "marker": {
             "colorbar": {
              "outlinewidth": 0,
              "ticks": ""
             }
            },
            "type": "scattergeo"
           }
          ],
          "scattergl": [
           {
            "marker": {
             "colorbar": {
              "outlinewidth": 0,
              "ticks": ""
             }
            },
            "type": "scattergl"
           }
          ],
          "scattermap": [
           {
            "marker": {
             "colorbar": {
              "outlinewidth": 0,
              "ticks": ""
             }
            },
            "type": "scattermap"
           }
          ],
          "scattermapbox": [
           {
            "marker": {
             "colorbar": {
              "outlinewidth": 0,
              "ticks": ""
             }
            },
            "type": "scattermapbox"
           }
          ],
          "scatterpolar": [
           {
            "marker": {
             "colorbar": {
              "outlinewidth": 0,
              "ticks": ""
             }
            },
            "type": "scatterpolar"
           }
          ],
          "scatterpolargl": [
           {
            "marker": {
             "colorbar": {
              "outlinewidth": 0,
              "ticks": ""
             }
            },
            "type": "scatterpolargl"
           }
          ],
          "scatterternary": [
           {
            "marker": {
             "colorbar": {
              "outlinewidth": 0,
              "ticks": ""
             }
            },
            "type": "scatterternary"
           }
          ],
          "surface": [
           {
            "colorbar": {
             "outlinewidth": 0,
             "ticks": ""
            },
            "colorscale": [
             [
              0,
              "#0d0887"
             ],
             [
              0.1111111111111111,
              "#46039f"
             ],
             [
              0.2222222222222222,
              "#7201a8"
             ],
             [
              0.3333333333333333,
              "#9c179e"
             ],
             [
              0.4444444444444444,
              "#bd3786"
             ],
             [
              0.5555555555555556,
              "#d8576b"
             ],
             [
              0.6666666666666666,
              "#ed7953"
             ],
             [
              0.7777777777777778,
              "#fb9f3a"
             ],
             [
              0.8888888888888888,
              "#fdca26"
             ],
             [
              1,
              "#f0f921"
             ]
            ],
            "type": "surface"
           }
          ],
          "table": [
           {
            "cells": {
             "fill": {
              "color": "#EBF0F8"
             },
             "line": {
              "color": "white"
             }
            },
            "header": {
             "fill": {
              "color": "#C8D4E3"
             },
             "line": {
              "color": "white"
             }
            },
            "type": "table"
           }
          ]
         },
         "layout": {
          "annotationdefaults": {
           "arrowcolor": "#2a3f5f",
           "arrowhead": 0,
           "arrowwidth": 1
          },
          "autotypenumbers": "strict",
          "coloraxis": {
           "colorbar": {
            "outlinewidth": 0,
            "ticks": ""
           }
          },
          "colorscale": {
           "diverging": [
            [
             0,
             "#8e0152"
            ],
            [
             0.1,
             "#c51b7d"
            ],
            [
             0.2,
             "#de77ae"
            ],
            [
             0.3,
             "#f1b6da"
            ],
            [
             0.4,
             "#fde0ef"
            ],
            [
             0.5,
             "#f7f7f7"
            ],
            [
             0.6,
             "#e6f5d0"
            ],
            [
             0.7,
             "#b8e186"
            ],
            [
             0.8,
             "#7fbc41"
            ],
            [
             0.9,
             "#4d9221"
            ],
            [
             1,
             "#276419"
            ]
           ],
           "sequential": [
            [
             0,
             "#0d0887"
            ],
            [
             0.1111111111111111,
             "#46039f"
            ],
            [
             0.2222222222222222,
             "#7201a8"
            ],
            [
             0.3333333333333333,
             "#9c179e"
            ],
            [
             0.4444444444444444,
             "#bd3786"
            ],
            [
             0.5555555555555556,
             "#d8576b"
            ],
            [
             0.6666666666666666,
             "#ed7953"
            ],
            [
             0.7777777777777778,
             "#fb9f3a"
            ],
            [
             0.8888888888888888,
             "#fdca26"
            ],
            [
             1,
             "#f0f921"
            ]
           ],
           "sequentialminus": [
            [
             0,
             "#0d0887"
            ],
            [
             0.1111111111111111,
             "#46039f"
            ],
            [
             0.2222222222222222,
             "#7201a8"
            ],
            [
             0.3333333333333333,
             "#9c179e"
            ],
            [
             0.4444444444444444,
             "#bd3786"
            ],
            [
             0.5555555555555556,
             "#d8576b"
            ],
            [
             0.6666666666666666,
             "#ed7953"
            ],
            [
             0.7777777777777778,
             "#fb9f3a"
            ],
            [
             0.8888888888888888,
             "#fdca26"
            ],
            [
             1,
             "#f0f921"
            ]
           ]
          },
          "colorway": [
           "#636efa",
           "#EF553B",
           "#00cc96",
           "#ab63fa",
           "#FFA15A",
           "#19d3f3",
           "#FF6692",
           "#B6E880",
           "#FF97FF",
           "#FECB52"
          ],
          "font": {
           "color": "#2a3f5f"
          },
          "geo": {
           "bgcolor": "white",
           "lakecolor": "white",
           "landcolor": "#E5ECF6",
           "showlakes": true,
           "showland": true,
           "subunitcolor": "white"
          },
          "hoverlabel": {
           "align": "left"
          },
          "hovermode": "closest",
          "mapbox": {
           "style": "light"
          },
          "paper_bgcolor": "white",
          "plot_bgcolor": "#E5ECF6",
          "polar": {
           "angularaxis": {
            "gridcolor": "white",
            "linecolor": "white",
            "ticks": ""
           },
           "bgcolor": "#E5ECF6",
           "radialaxis": {
            "gridcolor": "white",
            "linecolor": "white",
            "ticks": ""
           }
          },
          "scene": {
           "xaxis": {
            "backgroundcolor": "#E5ECF6",
            "gridcolor": "white",
            "gridwidth": 2,
            "linecolor": "white",
            "showbackground": true,
            "ticks": "",
            "zerolinecolor": "white"
           },
           "yaxis": {
            "backgroundcolor": "#E5ECF6",
            "gridcolor": "white",
            "gridwidth": 2,
            "linecolor": "white",
            "showbackground": true,
            "ticks": "",
            "zerolinecolor": "white"
           },
           "zaxis": {
            "backgroundcolor": "#E5ECF6",
            "gridcolor": "white",
            "gridwidth": 2,
            "linecolor": "white",
            "showbackground": true,
            "ticks": "",
            "zerolinecolor": "white"
           }
          },
          "shapedefaults": {
           "line": {
            "color": "#2a3f5f"
           }
          },
          "ternary": {
           "aaxis": {
            "gridcolor": "white",
            "linecolor": "white",
            "ticks": ""
           },
           "baxis": {
            "gridcolor": "white",
            "linecolor": "white",
            "ticks": ""
           },
           "bgcolor": "#E5ECF6",
           "caxis": {
            "gridcolor": "white",
            "linecolor": "white",
            "ticks": ""
           }
          },
          "title": {
           "x": 0.05
          },
          "xaxis": {
           "automargin": true,
           "gridcolor": "white",
           "linecolor": "white",
           "ticks": "",
           "title": {
            "standoff": 15
           },
           "zerolinecolor": "white",
           "zerolinewidth": 2
          },
          "yaxis": {
           "automargin": true,
           "gridcolor": "white",
           "linecolor": "white",
           "ticks": "",
           "title": {
            "standoff": 15
           },
           "zerolinecolor": "white",
           "zerolinewidth": 2
          }
         }
        },
        "title": {
         "text": "Train and Eval Loss"
        },
        "xaxis": {
         "anchor": "y",
         "autorange": true,
         "domain": [
          0,
          0.45
         ],
         "range": [
          1,
          153
         ],
         "title": {
          "text": "Steps"
         },
         "type": "linear"
        },
        "xaxis2": {
         "anchor": "y2",
         "autorange": true,
         "domain": [
          0.55,
          1
         ],
         "range": [
          1,
          153
         ],
         "title": {
          "text": "Steps"
         },
         "type": "linear"
        },
        "yaxis": {
         "anchor": "x",
         "autorange": true,
         "domain": [
          0,
          1
         ],
         "range": [
          0.49233772026167977,
          3.1888407899273767
         ],
         "title": {
          "text": "Loss"
         },
         "type": "linear"
        },
        "yaxis2": {
         "anchor": "x2",
         "autorange": true,
         "domain": [
          0,
          1
         ],
         "range": [
          1.1794804665777419,
          3.2256166603830128
         ],
         "title": {
          "text": "Loss"
         },
         "type": "linear"
        }
       }
      },
      "image/png": "[encoded data removed]"
     },
     "metadata": {},
     "output_type": "display_data"
    }
   ],
   "source": [
    "# Plot the train and eval loss metrics using Plotly python library\n",
    "\n",
    "fig = make_subplots(\n",
    "    rows=1, cols=2, shared_xaxes=True, subplot_titles=(\"Train Loss\", \"Eval Loss\")\n",
    ")\n",
    "\n",
    "# Add traces\n",
    "fig.add_trace(\n",
    "    go.Scatter(x=train_loss[0], y=train_loss[1], name=\"Train Loss\", mode=\"lines\"),\n",
    "    row=1,\n",
    "    col=1,\n",
    ")\n",
    "fig.add_trace(\n",
    "    go.Scatter(x=eval_loss[0], y=eval_loss[1], name=\"Eval Loss\", mode=\"lines\"),\n",
    "    row=1,\n",
    "    col=2,\n",
    ")\n",
    "\n",
    "# Add figure title\n",
    "fig.update_layout(title=\"Train and Eval Loss\", xaxis_title=\"Steps\", yaxis_title=\"Loss\")\n",
    "\n",
    "# Set x-axis title\n",
    "fig.update_xaxes(title_text=\"Steps\")\n",
    "\n",
    "# Set y-axes titles\n",
    "fig.update_yaxes(title_text=\"Loss\")\n",
    "\n",
    "# Show plot\n",
    "fig.show()"
   ]
  },
  {
   "cell_type": "markdown",
   "metadata": {
    "id": "KY-eiVk0FI-M"
   },
   "source": [
    "## Step8: Load the Tuned Model\n",
    "\n",
    " - Load the fine-tuned model using `GenerativeModel` class with the tuning job model endpoint name.\n",
    "\n",
    " - Test the tuned model with the following prompt"
   ]
  },
  {
   "cell_type": "code",
   "execution_count": null,
   "metadata": {
    "id": "GiJ831VMDQNy",
    "tags": []
   },
   "outputs": [
    {
     "data": {
      "text/plain": [
       "'\\nHold your arm out flat in front of you with your elbow bent. The top of your forearm should form a level surface. Apply a line of lotion from the back of your hand up your arm almost to the crease of your elbow. Squeeze lotion onto both forearms.  Do not rub the lotion into your arms, rather let it sit on your arm in the line you squeezed. You can use as much or as little lotion as you feel is necessary to cover your back completely. Bend your elbows and reach both of your arms behind you, placing the lotion covered forearms against your back. Depending on how flexible you are, this may hurt a little. It might be easier to place one arm behind your back at a time. If you have shoulder pain or are not very flexible, this method may not work well for you. Rub your forearms and the backs of your hands up and down your back like windshield wipers covering as much of your back as you can. You can use your left arm first to cover your left side and then place your right arm behind and use it to cover the right side of your back. Repeat this process as necessary if you don’t feel like you got enough lotion on your back.\\n\\nProvide a summary of the article in two or three sentences:\\n\\n\\n'"
      ]
     },
     "execution_count": 41,
     "metadata": {},
     "output_type": "execute_result"
    }
   ],
   "source": [
    "prompt"
   ]
  },
  {
   "cell_type": "code",
   "execution_count": null,
   "metadata": {
    "id": "65SYYpaNT4QR",
    "tags": []
   },
   "outputs": [
    {
     "name": "stdout",
     "output_type": "stream",
     "text": [
      "***Testing***\n",
      "Squeeze a line of lotion onto your forearm. Reach behind you and rub the lotion on your back.\n"
     ]
    }
   ],
   "source": [
    "if True:\n",
    "    # Test with the loaded model.\n",
    "    print(\"***Testing***\")\n",
    "    print(\n",
    "        client.models.generate_content(\n",
    "            model=tuned_model, contents=prompt, config=config\n",
    "        ).text\n",
    "    )\n",
    "else:\n",
    "    print(\"State:\", tuning_job.state.name.state)\n",
    "    print(\"Error:\", tuning_job.state.name.error)"
   ]
  },
  {
   "cell_type": "markdown",
   "metadata": {
    "id": "d54ce2b88af3"
   },
   "source": [
    "- We can clearly see the difference between summary generated pre and post tuning, as tuned summary is more inline with the ground truth format (**Note**: Pre and Post outputs, might vary based on the set parameters.)\n",
    "\n",
    "  - *Pre*: `This article describes a method for applying lotion to your back using your forearms as applicators. By squeezing lotion onto your forearms and then reaching behind your back, you can use a windshield wiper motion to spread the lotion across your back. The method acknowledges potential limitations for those with shoulder pain or limited flexibility.`\n",
    "  - *Post*: `Squeeze a line of lotion on your forearm. Reach behind you and rub your back.`\n",
    "  - *Ground Truth*:` Squeeze a line of lotion onto the tops of both forearms and the backs of your hands. Place your arms behind your back. Move your arms in a windshield wiper motion.`"
   ]
  },
  {
   "cell_type": "markdown",
   "metadata": {
    "id": "oYsIpFakU4CC"
   },
   "source": [
    "## Step9: Evaluation post model tuning"
   ]
  },
  {
   "cell_type": "markdown",
   "metadata": {
    "id": "mwlCcKPZ62Of"
   },
   "source": [
    "<div class=\"alert alert-block alert-warning\">\n",
    "<b>⚠️ It will take ~5 mins for the evaluation on the provided batch. ⚠️</b>\n",
    "</div>"
   ]
  },
  {
   "cell_type": "code",
   "execution_count": null,
   "metadata": {
    "id": "KrBk1amTU3r2"
   },
   "outputs": [
    {
     "name": "stderr",
     "output_type": "stream",
     "text": [
      "100%|██████████| 100/100 [01:42<00:00,  1.02s/it]\n"
     ]
    }
   ],
   "source": [
    "# run evaluation\n",
    "evaluation_df_post_tuning = run_evaluation(tuned_model, corpus_batch)"
   ]
  },
  {
   "cell_type": "code",
   "execution_count": null,
   "metadata": {
    "id": "ONnlEkSex-iO"
   },
   "outputs": [
    {
     "data": {
      "text/html": [
       "<div>\n",
       "<style scoped>\n",
       "    .dataframe tbody tr th:only-of-type {\n",
       "        vertical-align: middle;\n",
       "    }\n",
       "\n",
       "    .dataframe tbody tr th {\n",
       "        vertical-align: top;\n",
       "    }\n",
       "\n",
       "    .dataframe thead th {\n",
       "        text-align: right;\n",
       "    }\n",
       "</style>\n",
       "<table border=\"1\" class=\"dataframe\">\n",
       "  <thead>\n",
       "    <tr style=\"text-align: right;\">\n",
       "      <th></th>\n",
       "      <th>document</th>\n",
       "      <th>summary</th>\n",
       "      <th>generated_summary</th>\n",
       "      <th>scores</th>\n",
       "      <th>rouge1_precision</th>\n",
       "      <th>rouge1_recall</th>\n",
       "      <th>rouge1_fmeasure</th>\n",
       "      <th>rouge2_precision</th>\n",
       "      <th>rouge2_recall</th>\n",
       "      <th>rouge2_fmeasure</th>\n",
       "      <th>rougeL_precision</th>\n",
       "      <th>rougeL_recall</th>\n",
       "      <th>rougeL_fmeasure</th>\n",
       "    </tr>\n",
       "  </thead>\n",
       "  <tbody>\n",
       "    <tr>\n",
       "      <th>0</th>\n",
       "      <td>Hold your arm out flat in front of you with yo...</td>\n",
       "      <td>Squeeze a line of lotion onto the tops of both...</td>\n",
       "      <td>Squeeze a line of lotion onto your forearm. Re...</td>\n",
       "      <td>{'rouge1': (0.7222222222222222, 0.419354838709...</td>\n",
       "      <td>0.722222</td>\n",
       "      <td>0.419355</td>\n",
       "      <td>0.530612</td>\n",
       "      <td>0.352941</td>\n",
       "      <td>0.200000</td>\n",
       "      <td>0.255319</td>\n",
       "      <td>0.611111</td>\n",
       "      <td>0.354839</td>\n",
       "      <td>0.448980</td>\n",
       "    </tr>\n",
       "    <tr>\n",
       "      <th>1</th>\n",
       "      <td>As you continue playing, surviving becomes pai...</td>\n",
       "      <td>Make a Crock Pot for better food. Create an Al...</td>\n",
       "      <td>Craft a Crock Pot. Create an Alchemy Engine. B...</td>\n",
       "      <td>{'rouge1': (0.6666666666666666, 0.555555555555...</td>\n",
       "      <td>0.666667</td>\n",
       "      <td>0.555556</td>\n",
       "      <td>0.606061</td>\n",
       "      <td>0.571429</td>\n",
       "      <td>0.470588</td>\n",
       "      <td>0.516129</td>\n",
       "      <td>0.666667</td>\n",
       "      <td>0.555556</td>\n",
       "      <td>0.606061</td>\n",
       "    </tr>\n",
       "    <tr>\n",
       "      <th>2</th>\n",
       "      <td>Go to https://www.4kdownload.com/products/prod...</td>\n",
       "      <td>Download the 4K Video Downloader setup file. I...</td>\n",
       "      <td>Go to the 4K Video Downloader website. Downloa...</td>\n",
       "      <td>{'rouge1': (0.7608695652173914, 0.593220338983...</td>\n",
       "      <td>0.760870</td>\n",
       "      <td>0.593220</td>\n",
       "      <td>0.666667</td>\n",
       "      <td>0.577778</td>\n",
       "      <td>0.448276</td>\n",
       "      <td>0.504854</td>\n",
       "      <td>0.652174</td>\n",
       "      <td>0.508475</td>\n",
       "      <td>0.571429</td>\n",
       "    </tr>\n",
       "    <tr>\n",
       "      <th>3</th>\n",
       "      <td>You should know that vaginoplasty can treat a ...</td>\n",
       "      <td>Consider the health of your bladder. Find a so...</td>\n",
       "      <td>Treat a cystocele. Remedy severely weakened va...</td>\n",
       "      <td>{'rouge1': (0.3, 0.21428571428571427, 0.25), '...</td>\n",
       "      <td>0.300000</td>\n",
       "      <td>0.214286</td>\n",
       "      <td>0.250000</td>\n",
       "      <td>0.052632</td>\n",
       "      <td>0.037037</td>\n",
       "      <td>0.043478</td>\n",
       "      <td>0.250000</td>\n",
       "      <td>0.178571</td>\n",
       "      <td>0.208333</td>\n",
       "    </tr>\n",
       "    <tr>\n",
       "      <th>4</th>\n",
       "      <td>If you want to gather data on the frequency of...</td>\n",
       "      <td>Gather data to be graphed. Choose your range b...</td>\n",
       "      <td>Decide on your bins. Sort the data into your b...</td>\n",
       "      <td>{'rouge1': (0.5652173913043478, 0.565217391304...</td>\n",
       "      <td>0.565217</td>\n",
       "      <td>0.565217</td>\n",
       "      <td>0.565217</td>\n",
       "      <td>0.181818</td>\n",
       "      <td>0.181818</td>\n",
       "      <td>0.181818</td>\n",
       "      <td>0.478261</td>\n",
       "      <td>0.478261</td>\n",
       "      <td>0.478261</td>\n",
       "    </tr>\n",
       "  </tbody>\n",
       "</table>\n",
       "</div>"
      ],
      "text/plain": [
       "                                            document  \\\n",
       "0  Hold your arm out flat in front of you with yo...   \n",
       "1  As you continue playing, surviving becomes pai...   \n",
       "2  Go to https://www.4kdownload.com/products/prod...   \n",
       "3  You should know that vaginoplasty can treat a ...   \n",
       "4  If you want to gather data on the frequency of...   \n",
       "\n",
       "                                             summary  \\\n",
       "0  Squeeze a line of lotion onto the tops of both...   \n",
       "1  Make a Crock Pot for better food. Create an Al...   \n",
       "2  Download the 4K Video Downloader setup file. I...   \n",
       "3  Consider the health of your bladder. Find a so...   \n",
       "4  Gather data to be graphed. Choose your range b...   \n",
       "\n",
       "                                   generated_summary  \\\n",
       "0  Squeeze a line of lotion onto your forearm. Re...   \n",
       "1  Craft a Crock Pot. Create an Alchemy Engine. B...   \n",
       "2  Go to the 4K Video Downloader website. Downloa...   \n",
       "3  Treat a cystocele. Remedy severely weakened va...   \n",
       "4  Decide on your bins. Sort the data into your b...   \n",
       "\n",
       "                                              scores  rouge1_precision  \\\n",
       "0  {'rouge1': (0.7222222222222222, 0.419354838709...          0.722222   \n",
       "1  {'rouge1': (0.6666666666666666, 0.555555555555...          0.666667   \n",
       "2  {'rouge1': (0.7608695652173914, 0.593220338983...          0.760870   \n",
       "3  {'rouge1': (0.3, 0.21428571428571427, 0.25), '...          0.300000   \n",
       "4  {'rouge1': (0.5652173913043478, 0.565217391304...          0.565217   \n",
       "\n",
       "   rouge1_recall  rouge1_fmeasure  rouge2_precision  rouge2_recall  \\\n",
       "0       0.419355         0.530612          0.352941       0.200000   \n",
       "1       0.555556         0.606061          0.571429       0.470588   \n",
       "2       0.593220         0.666667          0.577778       0.448276   \n",
       "3       0.214286         0.250000          0.052632       0.037037   \n",
       "4       0.565217         0.565217          0.181818       0.181818   \n",
       "\n",
       "   rouge2_fmeasure  rougeL_precision  rougeL_recall  rougeL_fmeasure  \n",
       "0         0.255319          0.611111       0.354839         0.448980  \n",
       "1         0.516129          0.666667       0.555556         0.606061  \n",
       "2         0.504854          0.652174       0.508475         0.571429  \n",
       "3         0.043478          0.250000       0.178571         0.208333  \n",
       "4         0.181818          0.478261       0.478261         0.478261  "
      ]
     },
     "execution_count": 44,
     "metadata": {},
     "output_type": "execute_result"
    }
   ],
   "source": [
    "evaluation_df_post_tuning.head()"
   ]
  },
  {
   "cell_type": "code",
   "execution_count": null,
   "metadata": {
    "id": "xDJrlD8O0B4d"
   },
   "outputs": [],
   "source": [
    "evaluation_df_post_tuning_stats = evaluation_df_post_tuning.dropna().describe()"
   ]
  },
  {
   "cell_type": "code",
   "execution_count": null,
   "metadata": {
    "id": "c24-mE12y4Nm"
   },
   "outputs": [
    {
     "data": {
      "text/html": [
       "<div>\n",
       "<style scoped>\n",
       "    .dataframe tbody tr th:only-of-type {\n",
       "        vertical-align: middle;\n",
       "    }\n",
       "\n",
       "    .dataframe tbody tr th {\n",
       "        vertical-align: top;\n",
       "    }\n",
       "\n",
       "    .dataframe thead th {\n",
       "        text-align: right;\n",
       "    }\n",
       "</style>\n",
       "<table border=\"1\" class=\"dataframe\">\n",
       "  <thead>\n",
       "    <tr style=\"text-align: right;\">\n",
       "      <th></th>\n",
       "      <th>rouge1_precision</th>\n",
       "      <th>rouge1_recall</th>\n",
       "      <th>rouge1_fmeasure</th>\n",
       "      <th>rouge2_precision</th>\n",
       "      <th>rouge2_recall</th>\n",
       "      <th>rouge2_fmeasure</th>\n",
       "      <th>rougeL_precision</th>\n",
       "      <th>rougeL_recall</th>\n",
       "      <th>rougeL_fmeasure</th>\n",
       "    </tr>\n",
       "  </thead>\n",
       "  <tbody>\n",
       "    <tr>\n",
       "      <th>count</th>\n",
       "      <td>100.000000</td>\n",
       "      <td>100.000000</td>\n",
       "      <td>100.000000</td>\n",
       "      <td>100.000000</td>\n",
       "      <td>100.000000</td>\n",
       "      <td>100.000000</td>\n",
       "      <td>100.000000</td>\n",
       "      <td>100.000000</td>\n",
       "      <td>100.000000</td>\n",
       "    </tr>\n",
       "    <tr>\n",
       "      <th>mean</th>\n",
       "      <td>0.510110</td>\n",
       "      <td>0.447431</td>\n",
       "      <td>0.458027</td>\n",
       "      <td>0.223624</td>\n",
       "      <td>0.196549</td>\n",
       "      <td>0.201406</td>\n",
       "      <td>0.422352</td>\n",
       "      <td>0.372113</td>\n",
       "      <td>0.380060</td>\n",
       "    </tr>\n",
       "    <tr>\n",
       "      <th>std</th>\n",
       "      <td>0.177320</td>\n",
       "      <td>0.173985</td>\n",
       "      <td>0.152685</td>\n",
       "      <td>0.155768</td>\n",
       "      <td>0.143534</td>\n",
       "      <td>0.140735</td>\n",
       "      <td>0.156266</td>\n",
       "      <td>0.160556</td>\n",
       "      <td>0.141772</td>\n",
       "    </tr>\n",
       "    <tr>\n",
       "      <th>min</th>\n",
       "      <td>0.000000</td>\n",
       "      <td>0.000000</td>\n",
       "      <td>0.000000</td>\n",
       "      <td>0.000000</td>\n",
       "      <td>0.000000</td>\n",
       "      <td>0.000000</td>\n",
       "      <td>0.000000</td>\n",
       "      <td>0.000000</td>\n",
       "      <td>0.000000</td>\n",
       "    </tr>\n",
       "    <tr>\n",
       "      <th>25%</th>\n",
       "      <td>0.398485</td>\n",
       "      <td>0.351662</td>\n",
       "      <td>0.372648</td>\n",
       "      <td>0.102757</td>\n",
       "      <td>0.086494</td>\n",
       "      <td>0.086051</td>\n",
       "      <td>0.317584</td>\n",
       "      <td>0.265789</td>\n",
       "      <td>0.284534</td>\n",
       "    </tr>\n",
       "    <tr>\n",
       "      <th>50%</th>\n",
       "      <td>0.483315</td>\n",
       "      <td>0.462477</td>\n",
       "      <td>0.474937</td>\n",
       "      <td>0.194783</td>\n",
       "      <td>0.169048</td>\n",
       "      <td>0.181818</td>\n",
       "      <td>0.396429</td>\n",
       "      <td>0.357143</td>\n",
       "      <td>0.378844</td>\n",
       "    </tr>\n",
       "    <tr>\n",
       "      <th>75%</th>\n",
       "      <td>0.666667</td>\n",
       "      <td>0.563179</td>\n",
       "      <td>0.552220</td>\n",
       "      <td>0.333333</td>\n",
       "      <td>0.287202</td>\n",
       "      <td>0.290921</td>\n",
       "      <td>0.533053</td>\n",
       "      <td>0.500000</td>\n",
       "      <td>0.473684</td>\n",
       "    </tr>\n",
       "    <tr>\n",
       "      <th>max</th>\n",
       "      <td>0.850000</td>\n",
       "      <td>0.857143</td>\n",
       "      <td>0.784810</td>\n",
       "      <td>0.684211</td>\n",
       "      <td>0.647059</td>\n",
       "      <td>0.594595</td>\n",
       "      <td>0.750000</td>\n",
       "      <td>0.777778</td>\n",
       "      <td>0.717949</td>\n",
       "    </tr>\n",
       "  </tbody>\n",
       "</table>\n",
       "</div>"
      ],
      "text/plain": [
       "       rouge1_precision  rouge1_recall  rouge1_fmeasure  rouge2_precision  \\\n",
       "count        100.000000     100.000000       100.000000        100.000000   \n",
       "mean           0.510110       0.447431         0.458027          0.223624   \n",
       "std            0.177320       0.173985         0.152685          0.155768   \n",
       "min            0.000000       0.000000         0.000000          0.000000   \n",
       "25%            0.398485       0.351662         0.372648          0.102757   \n",
       "50%            0.483315       0.462477         0.474937          0.194783   \n",
       "75%            0.666667       0.563179         0.552220          0.333333   \n",
       "max            0.850000       0.857143         0.784810          0.684211   \n",
       "\n",
       "       rouge2_recall  rouge2_fmeasure  rougeL_precision  rougeL_recall  \\\n",
       "count     100.000000       100.000000        100.000000     100.000000   \n",
       "mean        0.196549         0.201406          0.422352       0.372113   \n",
       "std         0.143534         0.140735          0.156266       0.160556   \n",
       "min         0.000000         0.000000          0.000000       0.000000   \n",
       "25%         0.086494         0.086051          0.317584       0.265789   \n",
       "50%         0.169048         0.181818          0.396429       0.357143   \n",
       "75%         0.287202         0.290921          0.533053       0.500000   \n",
       "max         0.647059         0.594595          0.750000       0.777778   \n",
       "\n",
       "       rougeL_fmeasure  \n",
       "count       100.000000  \n",
       "mean          0.380060  \n",
       "std           0.141772  \n",
       "min           0.000000  \n",
       "25%           0.284534  \n",
       "50%           0.378844  \n",
       "75%           0.473684  \n",
       "max           0.717949  "
      ]
     },
     "execution_count": 46,
     "metadata": {},
     "output_type": "execute_result"
    }
   ],
   "source": [
    "# Statistics of the evaluation dataframe post model tuning.\n",
    "evaluation_df_post_tuning_stats"
   ]
  },
  {
   "cell_type": "code",
   "execution_count": null,
   "metadata": {
    "id": "9VU-8Ql2bqlo"
   },
   "outputs": [
    {
     "name": "stdout",
     "output_type": "stream",
     "text": [
      "Mean rougeL_precision is 0.42235156771764215\n"
     ]
    }
   ],
   "source": [
    "print(\n",
    "    \"Mean rougeL_precision is\", evaluation_df_post_tuning_stats.rougeL_precision[\"mean\"]\n",
    ")"
   ]
  },
  {
   "cell_type": "markdown",
   "metadata": {
    "id": "4Q8hN7SE08-X"
   },
   "source": [
    "#### Improvement"
   ]
  },
  {
   "cell_type": "code",
   "execution_count": null,
   "metadata": {
    "id": "j0ctGzdnznYO"
   },
   "outputs": [
    {
     "name": "stdout",
     "output_type": "stream",
     "text": [
      "Model tuning has improved the rougeL_precision by 182.88% (result might differ based on each tuning iteration)\n"
     ]
    }
   ],
   "source": [
    "improvement = round(\n",
    "    (\n",
    "        (\n",
    "            evaluation_df_post_tuning_stats.rougeL_precision[\"mean\"]\n",
    "            - evaluation_df_stats.rougeL_precision[\"mean\"]\n",
    "        )\n",
    "        / evaluation_df_stats.rougeL_precision[\"mean\"]\n",
    "    )\n",
    "    * 100,\n",
    "    2,\n",
    ")\n",
    "print(\n",
    "    f\"Model tuning has improved the rougeL_precision by {improvement}% (result might differ based on each tuning iteration)\"\n",
    ")"
   ]
  },
  {
   "cell_type": "markdown",
   "metadata": {
    "id": "LQkpAMnpw-jH"
   },
   "source": [
    "## Conclusion"
   ]
  },
  {
   "cell_type": "markdown",
   "metadata": {
    "id": "Esra6YPgxBiV"
   },
   "source": [
    "Performance could be further improved:\n",
    "- By adding more training samples. In general, improve your training data quality and/or quantity towards getting a more diverse and comprehensive dataset for your task\n",
    "- By tuning the hyperparameters, such as epochs and learning rate multiplier\n",
    "  - To find the optimal number of epochs for your dataset, we recommend experimenting with different values. While increasing epochs can lead to better performance, it's important to be mindful of overfitting, especially with smaller datasets. If you see signs of overfitting, reducing the number of epochs can help mitigate the issue\n",
    "- You may try different prompt structures/formats and opt for the one with better performance"
   ]
  },
  {
   "cell_type": "markdown",
   "metadata": {
    "id": "3e6fd3649040"
   },
   "source": [
    "## Cleaning up"
   ]
  },
  {
   "cell_type": "markdown",
   "metadata": {
    "id": "5528064b2cdf"
   },
   "source": [
    "To clean up all Google Cloud resources used in this project, you can [delete the Google Cloud\n",
    "project](https://cloud.google.com/resource-manager/docs/creating-managing-projects#shutting_down_projects) you used for the tutorial.\n",
    "\n",
    "\n",
    "Otherwise, you can delete the individual resources you created in this tutorial.\n",
    "\n",
    "Refer to this [instructions](https://cloud.google.com/vertex-ai/docs/tutorials/image-classification-custom/cleanup#delete_resources) to delete the resources from console."
   ]
  },
  {
   "cell_type": "code",
   "execution_count": null,
   "metadata": {
    "id": "c4dd0f5d2a21",
    "tags": []
   },
   "outputs": [
    {
     "name": "stdout",
     "output_type": "stream",
     "text": [
      "projects/592614759289/locations/us-central1/metadataStores/default/contexts/tuning-experiment-20251001142236116684\n"
     ]
    },
    {
     "name": "stderr",
     "output_type": "stream",
     "text": [
      "Experiment run tuning-experiment-run-20251001142236116684 skipped backing tensorboard run deletion.\n",
      "To delete backing tensorboard run, execute the following:\n",
      "tensorboard_run_artifact = aiplatform.metadata.artifact.Artifact(artifact_name=f\"tuning-experiment-20251001142236116684-tuning-experiment-run-20251001142236116684-tb-run\")\n",
      "tensorboard_run_resource = aiplatform.TensorboardRun(tensorboard_run_artifact.metadata[\"resourceName\"])\n",
      "tensorboard_run_resource.delete()\n",
      "tensorboard_run_artifact.delete()\n"
     ]
    },
    {
     "name": "stdout",
     "output_type": "stream",
     "text": [
      "******************************\n",
      "projects/592614759289/locations/us-central1/endpoints/1644019472664625152\n",
      "******************************\n",
      "Removing gs://qwiklabs-gcp-02-e28ea5dc3987/train/sft_train_samples.jsonl#1759353323424537...\n",
      "Removing gs://qwiklabs-gcp-02-e28ea5dc3987/val/sft_val_samples.jsonl#1759353325856422...\n",
      "/ [2/2 objects] 100% Done                                                       \n",
      "Operation completed over 2 objects.                                              \n",
      "Removing gs://qwiklabs-gcp-02-e28ea5dc3987/...\n"
     ]
    }
   ],
   "source": [
    "# Delete Experiment.\n",
    "delete_experiments = True\n",
    "if delete_experiments:\n",
    "    experiments_list = aiplatform.Experiment.list()\n",
    "    for experiment in experiments_list:\n",
    "        if experiment.resource_name == experiment_name:\n",
    "            print(experiment.resource_name)\n",
    "            experiment.delete()\n",
    "            break\n",
    "\n",
    "print(\"***\" * 10)\n",
    "\n",
    "# Delete Endpoint.\n",
    "delete_endpoint = True\n",
    "# If force is set to True, all deployed models on this\n",
    "# Endpoint will be first undeployed.\n",
    "if delete_endpoint:\n",
    "    for endpoint in aiplatform.Endpoint.list():\n",
    "        if endpoint.resource_name == tuned_model:\n",
    "            print(endpoint.resource_name)\n",
    "            endpoint.delete(force=True)\n",
    "            break\n",
    "\n",
    "print(\"***\" * 10)\n",
    "\n",
    "# Delete Cloud Storage Bucket.\n",
    "delete_bucket = True\n",
    "if delete_bucket:\n",
    "    ! gsutil -m rm -r $BUCKET_URI"
   ]
  }
 ],
 "metadata": {
  "colab": {
   "name": "sft_gemini_summarization.ipynb",
   "toc_visible": true
  },
  "environment": {
   "kernel": "conda-base-py",
   "name": "workbench-notebooks.m133",
   "type": "gcloud",
   "uri": "us-docker.pkg.dev/deeplearning-platform-release/gcr.io/workbench-notebooks:m133"
  },
  "kernelspec": {
   "display_name": "Python 3 (ipykernel) (Local) (Local)",
   "language": "python",
   "name": "conda-base-py"
  },
  "language_info": {
   "codemirror_mode": {
    "name": "ipython",
    "version": 3
   },
   "file_extension": ".py",
   "mimetype": "text/x-python",
   "name": "python",
   "nbconvert_exporter": "python",
   "pygments_lexer": "ipython3",
   "version": "3.10.18"
  }
 },
 "nbformat": 4,
 "nbformat_minor": 4
}
