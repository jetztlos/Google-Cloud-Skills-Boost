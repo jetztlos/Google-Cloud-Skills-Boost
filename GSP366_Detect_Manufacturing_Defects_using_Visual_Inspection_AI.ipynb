{
  "nbformat": 4,
  "nbformat_minor": 0,
  "metadata": {
    "colab": {
      "provenance": [],
      "toc_visible": true
    },
    "kernelspec": {
      "name": "python3",
      "display_name": "Python 3"
    },
    "language_info": {
      "name": "python"
    }
  },
  "cells": [
    {
      "cell_type": "markdown",
      "source": [
        "##Task 1. Deploy the exported Cosmetic Inspection anomaly detection solution artifact"
      ],
      "metadata": {
        "id": "ZpF44m5anqwA"
      }
    },
    {
      "cell_type": "code",
      "source": [
        "# Compute Engine -> VM Instances"
      ],
      "metadata": {
        "id": "uAQHXi0-YGAr"
      },
      "execution_count": null,
      "outputs": []
    },
    {
      "cell_type": "code",
      "source": [
        "# Connect to the VM\n",
        "gcloud compute ssh lab-vm --zone us-east4-a"
      ],
      "metadata": {
        "id": "2ISj7B-mVy18"
      },
      "execution_count": null,
      "outputs": []
    },
    {
      "cell_type": "code",
      "source": [
        "# Create variables\n",
        "export DOCKER_TAG=gcr.io/ql-shared-resources-test/defect_solution@sha256:776fd8c65304ac017f5b9a986a1b8189695b7abbff6aa0e4ef693c46c7122f4c"
      ],
      "metadata": {
        "id": "kuAy3LdFWE8o"
      },
      "execution_count": null,
      "outputs": []
    },
    {
      "cell_type": "code",
      "source": [
        "export VISERVING_CPU_DOCKER_WITH_MODEL=${DOCKER_TAG}\n",
        "export HTTP_PORT=8602\n",
        "export LOCAL_METRIC_PORT=8603"
      ],
      "metadata": {
        "id": "WHswWhA7WJFB"
      },
      "execution_count": null,
      "outputs": []
    },
    {
      "cell_type": "code",
      "source": [
        "# Pull the Image\n",
        "docker pull ${VISERVING_CPU_DOCKER_WITH_MODEL}"
      ],
      "metadata": {
        "id": "rig8RS4hWLc_"
      },
      "execution_count": null,
      "outputs": []
    },
    {
      "cell_type": "code",
      "source": [
        "# Docker RUN\n",
        "docker run -v /secrets:/secrets --rm -d --name \"product_inspection\" \\\n",
        "--network=\"host\" \\\n",
        "-p ${HTTP_PORT}:8602 \\\n",
        "-p ${LOCAL_METRIC_PORT}:8603 \\\n",
        "-t ${VISERVING_CPU_DOCKER_WITH_MODEL} \\\n",
        "--metric_project_id=\"${PROJECT_ID}\" \\\n",
        "--use_default_credentials=false \\\n",
        "--service_account_credentials_json=/secrets/assembly-usage-reporter.json"
      ],
      "metadata": {
        "id": "Z-gXyyhRWQLW"
      },
      "execution_count": null,
      "outputs": []
    },
    {
      "cell_type": "code",
      "source": [
        "docker container ls"
      ],
      "metadata": {
        "id": "qqQpOBveZfl2"
      },
      "execution_count": null,
      "outputs": []
    },
    {
      "cell_type": "markdown",
      "source": [
        "##Task 2. Prepare resources to serve the exported assembly inspection solution artifact"
      ],
      "metadata": {
        "id": "Y9GOSi9Inuv6"
      }
    },
    {
      "cell_type": "code",
      "source": [
        "# Copy the prediction script\n",
        "gsutil cp gs://cloud-training/gsp895/prediction_script.py ."
      ],
      "metadata": {
        "id": "UfS6L1GrVzPv"
      },
      "execution_count": null,
      "outputs": []
    },
    {
      "cell_type": "code",
      "source": [
        "# Create a Cloud Storage bucket\n",
        "export PROJECT_ID=$(gcloud config get-value core/project)\n",
        "gsutil mb gs://${PROJECT_ID}"
      ],
      "metadata": {
        "id": "nGYjbxfxWbTw"
      },
      "execution_count": null,
      "outputs": []
    },
    {
      "cell_type": "code",
      "source": [
        "# Copy images to the bucket\n",
        "gsutil -m cp gs://cloud-training/gsp897/cosmetic-test-data/*.png \\\n",
        "gs://${PROJECT_ID}/cosmetic-test-data/"
      ],
      "metadata": {
        "id": "s8iQgwzkWfPJ"
      },
      "execution_count": null,
      "outputs": []
    },
    {
      "cell_type": "code",
      "source": [
        "# The 2 files\n",
        "gsutil cp gs://${PROJECT_ID}/cosmetic-test-data/IMG_07703.png .\n",
        "gsutil cp gs://${PROJECT_ID}/cosmetic-test-data/IMG_0769.png ."
      ],
      "metadata": {
        "id": "scFjJwE3WrDj"
      },
      "execution_count": null,
      "outputs": []
    },
    {
      "cell_type": "code",
      "source": [
        "ls"
      ],
      "metadata": {
        "id": "SHqTmogWdbBR"
      },
      "execution_count": null,
      "outputs": []
    },
    {
      "cell_type": "markdown",
      "source": [
        "##Task 3. Identify a defective product image"
      ],
      "metadata": {
        "id": "uJb-PQ2DnxtR"
      }
    },
    {
      "cell_type": "code",
      "source": [
        "# Identify a defective product image\n",
        "python3 ./prediction_script.py --input_image_file=./IMG_07703.png  --port=8602 \\\n",
        "--output_result_file=defective_product.json"
      ],
      "metadata": {
        "id": "cZAZAVjWVzku"
      },
      "execution_count": null,
      "outputs": []
    },
    {
      "cell_type": "markdown",
      "source": [
        "##Task 4. Identify a non-defective product"
      ],
      "metadata": {
        "id": "Iugdh4Weegvi"
      }
    },
    {
      "cell_type": "code",
      "source": [
        "# Identify a non-defective product\n",
        "python3 ./prediction_script.py --input_image_file=./IMG_0769.png  --port=8602 \\\n",
        "--output_result_file=non_defective_product.json"
      ],
      "metadata": {
        "id": "xTXthdonekrI"
      },
      "execution_count": null,
      "outputs": []
    },
    {
      "cell_type": "code",
      "source": [],
      "metadata": {
        "id": "_HzQQ385Z5vY"
      },
      "execution_count": null,
      "outputs": []
    }
  ]
}