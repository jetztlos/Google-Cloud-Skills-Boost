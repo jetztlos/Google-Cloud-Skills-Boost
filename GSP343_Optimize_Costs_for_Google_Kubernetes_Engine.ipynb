{
  "nbformat": 4,
  "nbformat_minor": 0,
  "metadata": {
    "colab": {
      "provenance": [],
      "toc_visible": true
    },
    "kernelspec": {
      "name": "python3",
      "display_name": "Python 3"
    },
    "language_info": {
      "name": "python"
    }
  },
  "cells": [
    {
      "cell_type": "markdown",
      "source": [
        "##Task 1. Create a cluster and deploy your app"
      ],
      "metadata": {
        "id": "ZpF44m5anqwA"
      }
    },
    {
      "cell_type": "code",
      "source": [
        "export ZONE=us-west1-a\n",
        "export CLUSTER=onlineboutique-cluster-424\n",
        "export POOL=optimized-pool-6690"
      ],
      "metadata": {
        "id": "UJOIbb93rzJz"
      },
      "execution_count": null,
      "outputs": []
    },
    {
      "cell_type": "code",
      "source": [
        "gcloud container clusters create $CLUSTER \\\n",
        "  --project=${DEVSHELL_PROJECT_ID} --zone $ZONE \\\n",
        "   --machine-type=e2-standard-2 --num-nodes=2"
      ],
      "metadata": {
        "id": "l52tZRBQrvyK"
      },
      "execution_count": null,
      "outputs": []
    },
    {
      "cell_type": "code",
      "source": [
        "kubectl create namespace dev\n",
        "kubectl create namespace prod"
      ],
      "metadata": {
        "id": "-KmHFWSRsBLf"
      },
      "execution_count": null,
      "outputs": []
    },
    {
      "cell_type": "code",
      "source": [
        "kubectl config set-context --current --namespace dev"
      ],
      "metadata": {
        "id": "T2X2IFZtsBD7"
      },
      "execution_count": null,
      "outputs": []
    },
    {
      "cell_type": "code",
      "source": [
        "git clone https://github.com/GoogleCloudPlatform/microservices-demo.git\n",
        "cd microservices-demo\n",
        "kubectl apply -f ./release/kubernetes-manifests.yaml --namespace dev"
      ],
      "metadata": {
        "id": "a2_8ZQ2fsA6G"
      },
      "execution_count": null,
      "outputs": []
    },
    {
      "cell_type": "code",
      "source": [
        "kubectl get svc -w --namespace dev"
      ],
      "metadata": {
        "id": "j938FuuysIAp"
      },
      "execution_count": null,
      "outputs": []
    },
    {
      "cell_type": "markdown",
      "source": [
        "##Task 2. Migrate to an optimized node pool"
      ],
      "metadata": {
        "id": "Y9GOSi9Inuv6"
      }
    },
    {
      "cell_type": "code",
      "source": [
        "gcloud container node-pools create $POOL \\\n",
        "  --cluster $CLUSTER \\\n",
        "  --machine-type=custom-2-3584 \\\n",
        "  --num-nodes=2 \\\n",
        "  --zone $ZONE"
      ],
      "metadata": {
        "id": "QzcOXnsKrwIe"
      },
      "execution_count": null,
      "outputs": []
    },
    {
      "cell_type": "code",
      "source": [
        "for node in $(kubectl get nodes -l cloud.google.com/gke-nodepool=default-pool -o=name); do\n",
        "   kubectl cordon \"$node\";\n",
        "done\n",
        "\n",
        "for node in $(kubectl get nodes -l cloud.google.com/gke-nodepool=default-pool -o=name); do\n",
        "   kubectl drain --force --ignore-daemonsets --delete-local-data --grace-period=10 \"$node\";\n",
        "done"
      ],
      "metadata": {
        "id": "IRPAswHzsMOl"
      },
      "execution_count": null,
      "outputs": []
    },
    {
      "cell_type": "code",
      "source": [
        "gcloud container node-pools delete default-pool \\\n",
        "   --cluster $CLUSTER --zone $ZONE"
      ],
      "metadata": {
        "id": "QW4k536DsMLH"
      },
      "execution_count": null,
      "outputs": []
    },
    {
      "cell_type": "markdown",
      "source": [
        "##Task 3. Apply a frontend update"
      ],
      "metadata": {
        "id": "uJb-PQ2DnxtR"
      }
    },
    {
      "cell_type": "code",
      "source": [
        "kubectl create poddisruptionbudget onlineboutique-frontend-pdb \\\n",
        "--selector app=frontend --min-available 1  --namespace dev"
      ],
      "metadata": {
        "id": "RPj9Sm62sSv4"
      },
      "execution_count": null,
      "outputs": []
    },
    {
      "cell_type": "code",
      "source": [
        "KUBE_EDITOR=\"nano\" kubectl edit deployment/frontend --namespace dev\n",
        "# image: gcr.io/qwiklabs-resources/onlineboutique-frontend:v2.1\n",
        "# imagePullPolicy: Always"
      ],
      "metadata": {
        "id": "ci_rSlG2rwix"
      },
      "execution_count": null,
      "outputs": []
    },
    {
      "cell_type": "markdown",
      "source": [
        "##Task 4. Autoscale from estimated traffic"
      ],
      "metadata": {
        "id": "VuHJF4TiroXp"
      }
    },
    {
      "cell_type": "code",
      "source": [
        "kubectl autoscale deployment frontend --cpu-percent=50 \\\n",
        "   --min=1 --max=11 --namespace dev"
      ],
      "metadata": {
        "id": "7KAZkyOMrw58"
      },
      "execution_count": null,
      "outputs": []
    },
    {
      "cell_type": "code",
      "source": [
        "kubectl get hpa --namespace dev\n",
        "\n",
        "gcloud beta container clusters update $CLUSTER \\\n",
        "   --enable-autoscaling --min-nodes 1 --max-nodes 6 --zone $ZONE"
      ],
      "metadata": {
        "id": "pTRq_vCesfPV"
      },
      "execution_count": null,
      "outputs": []
    },
    {
      "cell_type": "markdown",
      "source": [
        "##Task 5. (Optional) Optimize other services"
      ],
      "metadata": {
        "id": "5Af8prl9rr7-"
      }
    },
    {
      "cell_type": "code",
      "source": [],
      "metadata": {
        "id": "_HzQQ385Z5vY"
      },
      "execution_count": null,
      "outputs": []
    }
  ]
}