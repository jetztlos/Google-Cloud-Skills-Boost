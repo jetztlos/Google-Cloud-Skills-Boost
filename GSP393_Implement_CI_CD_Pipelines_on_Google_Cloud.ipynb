{
  "nbformat": 4,
  "nbformat_minor": 0,
  "metadata": {
    "colab": {
      "provenance": [],
      "toc_visible": true
    },
    "kernelspec": {
      "name": "python3",
      "display_name": "Python 3"
    },
    "language_info": {
      "name": "python"
    }
  },
  "cells": [
    {
      "cell_type": "markdown",
      "source": [
        "##Task 1. Prework - Set up environment, enable APIs and create clusters"
      ],
      "metadata": {
        "id": "K4ucNsGI-Hdo"
      }
    },
    {
      "cell_type": "code",
      "source": [
        "# Set up environment variables for your Project ID (this is important as it is used in several of the configuration files below)\n",
        "export PROJECT_ID=$(gcloud config get-value project)\n",
        "export PROJECT_NUMBER=$(gcloud projects describe $PROJECT_ID --format='value(projectNumber)')\n",
        "export REGION=us-east4\n",
        "gcloud config set compute/region $REGION"
      ],
      "metadata": {
        "id": "Kb4Bsb3F-nWG"
      },
      "execution_count": null,
      "outputs": []
    },
    {
      "cell_type": "code",
      "source": [
        "# Enable needed services in the Google Cloud project\n",
        "gcloud services enable \\\n",
        "container.googleapis.com \\\n",
        "clouddeploy.googleapis.com \\\n",
        "artifactregistry.googleapis.com \\\n",
        "cloudbuild.googleapis.com"
      ],
      "metadata": {
        "id": "NzcdNC8B-xgc"
      },
      "execution_count": null,
      "outputs": []
    },
    {
      "cell_type": "code",
      "source": [
        "# Enable permissions for both Kubernetes and Cloud Deploy\n",
        "gcloud projects add-iam-policy-binding $PROJECT_ID \\\n",
        "--member=serviceAccount:$(gcloud projects describe $PROJECT_ID \\\n",
        "--format=\"value(projectNumber)\")-compute@developer.gserviceaccount.com \\\n",
        "--role=\"roles/clouddeploy.jobRunner\"\n",
        "\n",
        "gcloud projects add-iam-policy-binding $PROJECT_ID \\\n",
        "--member=serviceAccount:$(gcloud projects describe $PROJECT_ID \\\n",
        "--format=\"value(projectNumber)\")-compute@developer.gserviceaccount.com \\\n",
        "--role=\"roles/container.developer\""
      ],
      "metadata": {
        "id": "_dRrTYLF-2F0"
      },
      "execution_count": null,
      "outputs": []
    },
    {
      "cell_type": "code",
      "source": [
        "# Create an Artifact Repository\n",
        "gcloud artifacts repositories create cicd-challenge \\\n",
        "--description=\"Image registry for tutorial web app\" \\\n",
        "--repository-format=docker \\\n",
        "--location=$REGION"
      ],
      "metadata": {
        "id": "PWHjSLqC_Oyc"
      },
      "execution_count": null,
      "outputs": []
    },
    {
      "cell_type": "code",
      "source": [
        "# Create the Google Kubernetes Engine clusters\n",
        "gcloud container clusters create cd-staging --node-locations=us-east4-a --num-nodes=1 --async\n",
        "gcloud container clusters create cd-production --node-locations=us-east4-a --num-nodes=1 --async"
      ],
      "metadata": {
        "id": "idiz1Nvt_Vvk"
      },
      "execution_count": null,
      "outputs": []
    },
    {
      "cell_type": "markdown",
      "source": [
        "##Task 2. Build the images and upload to the repository"
      ],
      "metadata": {
        "id": "Bthwc1Tr-HYo"
      }
    },
    {
      "cell_type": "code",
      "source": [
        "# Clone the repository for the lab into home directory\n",
        "cd ~/\n",
        "git clone https://github.com/GoogleCloudPlatform/cloud-deploy-tutorials.git\n",
        "cd cloud-deploy-tutorials\n",
        "git checkout c3cae80 --quiet\n",
        "cd tutorials/base"
      ],
      "metadata": {
        "id": "X2SsaigG-n73"
      },
      "execution_count": null,
      "outputs": []
    },
    {
      "cell_type": "code",
      "source": [
        "# Create the skaffold.yaml configuration\n",
        "envsubst < clouddeploy-config/skaffold.yaml.template > web/skaffold.yaml\n",
        "cat web/skaffold.yaml"
      ],
      "metadata": {
        "id": "bwhFsDbw_iX1"
      },
      "execution_count": null,
      "outputs": []
    },
    {
      "cell_type": "code",
      "source": [
        "# Run the skaffold command to build the application and deploy the container image to the Artifact Registry repository previously created\n",
        "cd web\n",
        "skaffold build --interactive=false \\\n",
        "--default-repo $REGION-docker.pkg.dev/$DEVSHELL_PROJECT_ID/cicd-challenge \\\n",
        "--file-output artifacts.json\n",
        "cd .."
      ],
      "metadata": {
        "id": "w91619OO_qC8"
      },
      "execution_count": null,
      "outputs": []
    },
    {
      "cell_type": "markdown",
      "source": [
        "##Task 3. Create the Delivery Pipeline"
      ],
      "metadata": {
        "id": "EB727lkP-HWh"
      }
    },
    {
      "cell_type": "code",
      "source": [
        "# Create the delivery-pipeline resource using the delivery-pipeline.yaml file\n",
        "cp clouddeploy-config/delivery-pipeline.yaml.template clouddeploy-config/delivery-pipeline.yaml\n",
        "sed -i \"s/targetId: staging/targetId: cd-staging/\" clouddeploy-config/delivery-pipeline.yaml\n",
        "sed -i \"s/targetId: prod/targetId: cd-production/\" clouddeploy-config/delivery-pipeline.yaml\n",
        "sed -i \"/targetId: test/d\" clouddeploy-config/delivery-pipeline.yaml"
      ],
      "metadata": {
        "id": "PUL_TNYy-ogz"
      },
      "execution_count": null,
      "outputs": []
    },
    {
      "cell_type": "code",
      "source": [
        "# Set the deployment region using the deploy/region configuration parameter\n",
        "gcloud config set deploy/region $REGION"
      ],
      "metadata": {
        "id": "xS8z6DuoAPT-"
      },
      "execution_count": null,
      "outputs": []
    },
    {
      "cell_type": "code",
      "source": [
        "# Apply the pipeline configuration you created above using thef gcloud beta deploy command\n",
        "gcloud beta deploy apply --file=clouddeploy-config/delivery-pipeline.yaml"
      ],
      "metadata": {
        "id": "cJhXpVfTAYVe"
      },
      "execution_count": null,
      "outputs": []
    },
    {
      "cell_type": "code",
      "source": [
        "# Verify the delivery pipeline was created\n",
        "gcloud beta deploy delivery-pipelines describe web-app"
      ],
      "metadata": {
        "id": "zLylc0BeAkKS"
      },
      "execution_count": null,
      "outputs": []
    },
    {
      "cell_type": "markdown",
      "source": [
        "Configure the deployment targets"
      ],
      "metadata": {
        "id": "zeUujz46AynK"
      }
    },
    {
      "cell_type": "code",
      "source": [
        "# Ensure that the clusters are ready\n",
        "gcloud container clusters list --format=\"csv(name,status)\""
      ],
      "metadata": {
        "id": "1EFB2rxvAzj-"
      },
      "execution_count": null,
      "outputs": []
    },
    {
      "cell_type": "code",
      "source": [
        "# Create a context for each cluster\n",
        "CONTEXTS=(\"cd-staging\" \"cd-production\" )\n",
        "for CONTEXT in ${CONTEXTS[@]}\n",
        "do\n",
        "    gcloud container clusters get-credentials ${CONTEXT} --region ${REGION}\n",
        "    kubectl config rename-context gke_${PROJECT_ID}_${REGION}_${CONTEXT} ${CONTEXT}\n",
        "done"
      ],
      "metadata": {
        "id": "RMjnmxFbBDjl"
      },
      "execution_count": null,
      "outputs": []
    },
    {
      "cell_type": "code",
      "source": [
        "#  Create a namespace in each cluster\n",
        "for CONTEXT in ${CONTEXTS[@]}\n",
        "do\n",
        "    kubectl --context ${CONTEXT} apply -f kubernetes-config/web-app-namespace.yaml\n",
        "done"
      ],
      "metadata": {
        "id": "ToEV1VjgBgtG"
      },
      "execution_count": null,
      "outputs": []
    },
    {
      "cell_type": "code",
      "source": [
        "# Create the delivery pipeline targets\n",
        "envsubst < clouddeploy-config/target-staging.yaml.template > clouddeploy-config/target-cd-staging.yaml\n",
        "envsubst < clouddeploy-config/target-prod.yaml.template > clouddeploy-config/target-cd-production.yaml\n",
        "\n",
        "sed -i \"s/staging/cd-staging/\" clouddeploy-config/target-cd-staging.yaml\n",
        "sed -i \"s/prod/cd-production/\" clouddeploy-config/target-cd-production.yaml"
      ],
      "metadata": {
        "id": "nHvyIHjmBrqE"
      },
      "execution_count": null,
      "outputs": []
    },
    {
      "cell_type": "code",
      "source": [
        "# Apply the target files to Cloud Deploy\n",
        "for CONTEXT in ${CONTEXTS[@]}\n",
        "do\n",
        "    envsubst < clouddeploy-config/target-$CONTEXT.yaml.template > clouddeploy-config/target-$CONTEXT.yaml\n",
        "    gcloud beta deploy apply --file clouddeploy-config/target-$CONTEXT.yaml\n",
        "done"
      ],
      "metadata": {
        "id": "jsMoAQ6kCABS"
      },
      "execution_count": null,
      "outputs": []
    },
    {
      "cell_type": "code",
      "source": [
        "# Display the details for the staging target\n",
        "cat clouddeploy-config/target-cd-staging.yaml"
      ],
      "metadata": {
        "id": "yG0f1EBtCN_B"
      },
      "execution_count": null,
      "outputs": []
    },
    {
      "cell_type": "markdown",
      "source": [
        "##Task 4. Create a Release"
      ],
      "metadata": {
        "id": "YVIpoW-P-HUh"
      }
    },
    {
      "cell_type": "code",
      "source": [
        "# Create a release using the gcloud beta deploy releases command and the skaffold and artifacts.json files\n",
        "gcloud beta deploy releases create web-app-001 \\\n",
        "--delivery-pipeline web-app \\\n",
        "--build-artifacts web/artifacts.json \\\n",
        "--source web/"
      ],
      "metadata": {
        "id": "UaTxWH42-o-s"
      },
      "execution_count": null,
      "outputs": []
    },
    {
      "cell_type": "code",
      "source": [
        "# Verify that your application has been deployed to the staging environment (cd-staging)\n",
        "gcloud beta deploy rollouts list \\\n",
        "--delivery-pipeline web-app \\\n",
        "--release web-app-001"
      ],
      "metadata": {
        "id": "x6NotxKFCq3b"
      },
      "execution_count": null,
      "outputs": []
    },
    {
      "cell_type": "markdown",
      "source": [
        "##Task 5. Promote your application to production"
      ],
      "metadata": {
        "id": "4kxyCM9K-HSc"
      }
    },
    {
      "cell_type": "code",
      "source": [
        "# Promote your application from the Staging (cd-staging) environment to the Production (cd-production) environment\n",
        "gcloud beta deploy releases promote \\\n",
        "--delivery-pipeline web-app \\\n",
        "--release web-app-001 \\\n",
        "--quiet"
      ],
      "metadata": {
        "id": "1Se3Q3i3-piJ"
      },
      "execution_count": null,
      "outputs": []
    },
    {
      "cell_type": "code",
      "source": [
        "# Approve the deployment\n",
        "gcloud beta deploy rollouts approve web-app-001-to-cd-production-0001 \\\n",
        "--delivery-pipeline web-app \\\n",
        "--release web-app-001 \\\n",
        "--quiet"
      ],
      "metadata": {
        "id": "KyAGBaetDB7_"
      },
      "execution_count": null,
      "outputs": []
    },
    {
      "cell_type": "markdown",
      "source": [
        "##Task 6. Make a change to the application and redeploy it"
      ],
      "metadata": {
        "id": "_9S_hzf_-HQa"
      }
    },
    {
      "cell_type": "code",
      "source": [
        "# Using the editor, open the cloud-deploy-tutorials/tutorials/base/web/leeroy-app/ directory and modify the app.go file.\n",
        "# Change line 24 to say: fmt.Fprintf(w, \"leeroooooy app v2!!\\n\")\n",
        "gcloud services enable cloudbuild.googleapis.com\n",
        "# Open Editor"
      ],
      "metadata": {
        "id": "kCJaijb0DRO_"
      },
      "execution_count": null,
      "outputs": []
    },
    {
      "cell_type": "code",
      "source": [
        "# Build the application and push to the Artifact Registry\n",
        "cd web\n",
        "skaffold build --interactive=false \\\n",
        "--default-repo $REGION-docker.pkg.dev/$DEVSHELL_PROJECT_ID/cicd-challenge \\\n",
        "--file-output artifacts.json\n",
        "cd .."
      ],
      "metadata": {
        "id": "WyHEk8aLDSsY"
      },
      "execution_count": null,
      "outputs": []
    },
    {
      "cell_type": "code",
      "source": [
        "# Create a new release on your pipeline you created earlier. Name the release web-app-002\n",
        "gcloud beta deploy releases create web-app-002 \\\n",
        "--delivery-pipeline web-app \\\n",
        "--build-artifacts web/artifacts.json \\\n",
        "--source web/"
      ],
      "metadata": {
        "id": "HrGd-IKuDRE1"
      },
      "execution_count": null,
      "outputs": []
    },
    {
      "cell_type": "code",
      "source": [
        "# Verify the new version has been deployed to the staging environment\n",
        "gcloud beta deploy rollouts list \\\n",
        "--delivery-pipeline web-app \\\n",
        "--release web-app-002"
      ],
      "metadata": {
        "id": "8rtGcTiG-qo6"
      },
      "execution_count": null,
      "outputs": []
    },
    {
      "cell_type": "markdown",
      "source": [
        "##Task 7. Rollback The Change"
      ],
      "metadata": {
        "id": "uwty-yCu-HOa"
      }
    },
    {
      "cell_type": "code",
      "execution_count": null,
      "metadata": {
        "id": "h-CEEnxr97H-"
      },
      "outputs": [],
      "source": [
        "# Use Cloud Deploy to rollback to the original version of the application - web-app-001\n",
        "gcloud deploy targets rollback cd-staging \\\n",
        "   --delivery-pipeline=web-app \\\n",
        "   --quiet"
      ]
    },
    {
      "cell_type": "code",
      "source": [],
      "metadata": {
        "id": "pX1XheYaDsc_"
      },
      "execution_count": null,
      "outputs": []
    },
    {
      "cell_type": "code",
      "source": [],
      "metadata": {
        "id": "7njTv786DsZy"
      },
      "execution_count": null,
      "outputs": []
    }
  ]
}