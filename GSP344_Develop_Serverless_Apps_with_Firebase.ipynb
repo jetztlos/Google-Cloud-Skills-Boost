{
  "nbformat": 4,
  "nbformat_minor": 0,
  "metadata": {
    "colab": {
      "provenance": [],
      "toc_visible": true
    },
    "kernelspec": {
      "name": "python3",
      "display_name": "Python 3"
    },
    "language_info": {
      "name": "python"
    }
  },
  "cells": [
    {
      "cell_type": "markdown",
      "source": [
        "##Task 1. Create a Firestore database"
      ],
      "metadata": {
        "id": "kp9lXHtRBAs3"
      }
    },
    {
      "cell_type": "code",
      "source": [
        "export SERVICE_NAME=netflix-dataset-service\n",
        "export FRONTEND_STAGING_SERVICE_NAME=frontend-staging-service\n",
        "export FRONTEND_PRODUCTION_SERVICE_NAME=frontend-production-service"
      ],
      "metadata": {
        "id": "cABo9GDZBU4A"
      },
      "execution_count": null,
      "outputs": []
    },
    {
      "cell_type": "code",
      "source": [
        "gcloud config set project $(gcloud projects list --format='value(PROJECT_ID)' --filter='qwiklabs-gcp')\n",
        "gcloud services enable run.googleapis.com\n",
        "gcloud firestore databases create --location=$REGION"
      ],
      "metadata": {
        "id": "d0U8atJYCRbI"
      },
      "execution_count": null,
      "outputs": []
    },
    {
      "cell_type": "markdown",
      "source": [
        "##Task 2. Populate the database"
      ],
      "metadata": {
        "id": "LBiBtCuXBAYH"
      }
    },
    {
      "cell_type": "code",
      "source": [
        "git clone https://github.com/rosera/pet-theory.git"
      ],
      "metadata": {
        "id": "Tw3LNz6zCW8a"
      },
      "execution_count": null,
      "outputs": []
    },
    {
      "cell_type": "code",
      "source": [
        "cd pet-theory/lab06/firebase-import-csv/solution\n",
        "npm install\n",
        "node index.js netflix_titles_original.csv"
      ],
      "metadata": {
        "id": "z24Qhh49ChkG"
      },
      "execution_count": null,
      "outputs": []
    },
    {
      "cell_type": "code",
      "source": [
        "cd ~/pet-theory/lab06/firebase-rest-api/solution-01\n",
        "npm install\n",
        "gcloud builds submit --tag gcr.io/$GOOGLE_CLOUD_PROJECT/rest-api:0.1\n",
        "gcloud beta run deploy $SERVICE_NAME --image gcr.io/$GOOGLE_CLOUD_PROJECT/rest-api:0.1 --allow-unauthenticated --region=$REGION"
      ],
      "metadata": {
        "id": "bRLMXp7lCkXT"
      },
      "execution_count": null,
      "outputs": []
    },
    {
      "cell_type": "code",
      "source": [
        "cd ~/pet-theory/lab06/firebase-rest-api/solution-02\n",
        "npm install\n",
        "gcloud builds submit --tag gcr.io/$GOOGLE_CLOUD_PROJECT/rest-api:0.2\n",
        "gcloud beta run deploy $SERVICE_NAME --image gcr.io/$GOOGLE_CLOUD_PROJECT/rest-api:0.2 --allow-unauthenticated --region=$REGION"
      ],
      "metadata": {
        "id": "Fr6-rXxqCm3b"
      },
      "execution_count": null,
      "outputs": []
    },
    {
      "cell_type": "markdown",
      "source": [
        "##Task 3. Create a REST API"
      ],
      "metadata": {
        "id": "KHj2C_RNBALx"
      }
    },
    {
      "cell_type": "code",
      "source": [
        "SERVICE_URL=$(gcloud run services describe $SERVICE_NAME --platform=managed --region=$REGION --format=\"value(status.url)\")"
      ],
      "metadata": {
        "id": "q-9EYA1uCqkq"
      },
      "execution_count": null,
      "outputs": []
    },
    {
      "cell_type": "code",
      "source": [
        "curl -X GET $SERVICE_URL/2019"
      ],
      "metadata": {
        "id": "sRijthRQCs_A"
      },
      "execution_count": null,
      "outputs": []
    },
    {
      "cell_type": "code",
      "source": [
        "cd ~/pet-theory/lab06/firebase-frontend/public"
      ],
      "metadata": {
        "id": "qX7v_l3gCvKg"
      },
      "execution_count": null,
      "outputs": []
    },
    {
      "cell_type": "markdown",
      "source": [
        "##Task 4. Firestore API access"
      ],
      "metadata": {
        "id": "WikpT7WkBNMZ"
      }
    },
    {
      "cell_type": "code",
      "source": [
        "sed -i 's/^const REST_API_SERVICE = \"data\\/netflix\\.json\"/\\/\\/ const REST_API_SERVICE = \"data\\/netflix.json\"/' app.js"
      ],
      "metadata": {
        "id": "g3b2ToisCxhZ"
      },
      "execution_count": null,
      "outputs": []
    },
    {
      "cell_type": "code",
      "source": [
        "sed -i \"1i const REST_API_SERVICE = \\\"$SERVICE_URL/2020\\\"\" app.js"
      ],
      "metadata": {
        "id": "MTnEqxdBCz5A"
      },
      "execution_count": null,
      "outputs": []
    },
    {
      "cell_type": "code",
      "source": [
        "npm install"
      ],
      "metadata": {
        "id": "sZAseViDDQVx"
      },
      "execution_count": null,
      "outputs": []
    },
    {
      "cell_type": "markdown",
      "source": [
        "##Task 5. Deploy the Staging Frontend"
      ],
      "metadata": {
        "id": "XyBvy7agBQsh"
      }
    },
    {
      "cell_type": "code",
      "source": [
        "cd ~/pet-theory/lab06/firebase-frontend"
      ],
      "metadata": {
        "id": "zr6nZvjsDvqz"
      },
      "execution_count": null,
      "outputs": []
    },
    {
      "cell_type": "code",
      "source": [
        "gcloud builds submit --tag gcr.io/$GOOGLE_CLOUD_PROJECT/frontend-staging:0.1\n",
        "gcloud beta run deploy $FRONTEND_STAGING_SERVICE_NAME --image gcr.io/$GOOGLE_CLOUD_PROJECT/frontend-staging:0.1 --region=$REGION --quiet"
      ],
      "metadata": {
        "id": "pjxw4dzLDTuv"
      },
      "execution_count": null,
      "outputs": []
    },
    {
      "cell_type": "markdown",
      "source": [
        "##Task 6. Deploy the Production Frontend"
      ],
      "metadata": {
        "id": "tgtDRJEQBT7F"
      }
    },
    {
      "cell_type": "code",
      "source": [
        "gcloud builds submit --tag gcr.io/$GOOGLE_CLOUD_PROJECT/frontend-production:0.1\n",
        "gcloud beta run deploy $FRONTEND_PRODUCTION_SERVICE_NAME --image gcr.io/$GOOGLE_CLOUD_PROJECT/frontend-production:0.1 --region=$REGION --quiet"
      ],
      "metadata": {
        "id": "vhxOYCZsBVVx"
      },
      "execution_count": null,
      "outputs": []
    },
    {
      "cell_type": "code",
      "source": [],
      "metadata": {
        "id": "9_REem7FBYLd"
      },
      "execution_count": null,
      "outputs": []
    },
    {
      "cell_type": "code",
      "execution_count": null,
      "metadata": {
        "id": "QIjB5pYDAnxm"
      },
      "outputs": [],
      "source": []
    }
  ]
}