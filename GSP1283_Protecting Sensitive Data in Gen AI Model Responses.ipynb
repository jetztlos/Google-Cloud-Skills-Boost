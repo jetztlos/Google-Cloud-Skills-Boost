{
 "cells": [
  {
   "cell_type": "code",
   "execution_count": null,
   "id": "c786c559-55b7-4378-a109-f9895cffd086",
   "metadata": {
    "tags": []
   },
   "outputs": [],
   "source": [
    "# Copyright 2023 Google LLC\n",
    "#\n",
    "# Licensed under the Apache License, Version 2.0 (the \"License\");\n",
    "# you may not use this file except in compliance with the License.\n",
    "# You may obtain a copy of the License at\n",
    "#\n",
    "#     https://www.apache.org/licenses/LICENSE-2.0\n",
    "#\n",
    "# Unless required by applicable law or agreed to in writing, software\n",
    "# distributed under the License is distributed on an \"AS IS\" BASIS,\n",
    "# WITHOUT WARRANTIES OR CONDITIONS OF ANY KIND, either express or implied.\n",
    "# See the License for the specific language governing permissions and\n",
    "# limitations under the License."
   ]
  },
  {
   "cell_type": "markdown",
   "id": "79cf3796-4504-44e2-893b-457d4f6028ee",
   "metadata": {},
   "source": [
    "# Protecting Sensitive Data in Gen AI model responses"
   ]
  },
  {
   "cell_type": "markdown",
   "id": "dffe023b-380e-4b0d-8a24-bdf6fce600c0",
   "metadata": {},
   "source": [
    "## Overview\n",
    "\n",
    "[Sensitive Data Protection](https://cloud.google.com/security/products/sensitive-data-protection) is a fully managed service designed to discover, classify, and protect your sensitive data wherever it resides. It uses a variety of methods to identify sensitive data including regular expressions, dictionaries, and contextual elements. Once sensitive data is identified, Sensitive Data Protection (Cloud Data Loss Prevention) can take several actions to either classify, mask, encrypt, or even delete it.\n",
    "\n",
    "Sensitive Data Protection can be accessed via Google Cloud console and used to scan data within Cloud Storage, BigQuery and other Google Cloud services. The following notebook demonstrates using the [Python Client for Cloud Data Loss Prevention](https://cloud.google.com/python/docs/reference/dlp/latest) to incorporate Sensitive Data Protection capabilities directly with Generative AI enabled applications. \n",
    "\n",
    "With this Python client, you define custom functions that can identify and take corrective action on sensitive data within Large Language Models (LLM) responses in real time. Throughout this notebook, you generate example text with sensitive data and run the results through custom Python functions that redact the sensitive data from Gemini 2.0 Flash model responses, so you can see this functionality in action on example data. \n",
    "\n",
    "After learning how to work with the Python client, you can adapt these same Python functions for Gen AI applications in your organization to protect sensitive data across your workflows.  \n",
    "\n",
    "Notebook credit: [Jim Miller, Google](https://github.com/JimMiller-0)"
   ]
  },
  {
   "cell_type": "markdown",
   "id": "bc56a5ad-528e-48ba-a53e-d38ed1ae3a06",
   "metadata": {},
   "source": [
    "### Objectives\n",
    "\n",
    "In this lab, you learn how to use Sensitive Data Protection through the Python Client for Cloud Data Loss Prevention and explore how to identify and redact sensitive data within responses from the Gemini 2.0 Flash model.\n",
    "\n",
    "The steps performed include:\n",
    "\n",
    "- Installing the Python packages for Vertex AI and Cloud Data Loss Prevention (DLP) API\n",
    "- Generating examples with sensitive data using Gemini 2.0 Flash model\n",
    "- Defining and running Python functions to redact different types of sensitive data in Gemini 2.0 Flash model responses using the DLP API"
   ]
  },
  {
   "cell_type": "markdown",
   "id": "f65a181e-0d1f-4314-9a4e-f177ebb51326",
   "metadata": {},
   "source": [
    "### Costs\n",
    "\n",
    "This tutorial uses billable components of Google Cloud:\n",
    "\n",
    "- Vertex AI\n",
    "- Sensitive Data Protection (Cloud Data Loss Prevention)\n",
    "\n",
    "Learn about [Vertex AI pricing](https://cloud.google.com/vertex-ai/pricing) and [Sensitive Data Protection](https://cloud.google.com/dlp/pricing). Use the [Pricing Calculator](https://cloud.google.com/products/calculator/) to generate a cost estimate based on your projected usage.\n"
   ]
  },
  {
   "cell_type": "markdown",
   "id": "14eac4fa-8017-4f16-8a2b-2cd0a5d8f1ad",
   "metadata": {},
   "source": [
    "## Getting started with this notebook\n",
    "\n",
    "Below are few steps to get your environment ready including installing a few key Python packages and setting your environmental variables (project ID and region). \n",
    "\n",
    "Be sure to run each cell in consecutive order using the `Run` button (play arrow) at the top of this notebook. "
   ]
  },
  {
   "cell_type": "markdown",
   "id": "09dbab5b-e2f1-40de-a13a-8a6dec8713a7",
   "metadata": {},
   "source": [
    "### Install necessary packages "
   ]
  },
  {
   "cell_type": "code",
   "execution_count": 1,
   "id": "cf41e1a4-6eae-44dd-b4de-d628cade341e",
   "metadata": {
    "tags": []
   },
   "outputs": [
    {
     "name": "stdout",
     "output_type": "stream",
     "text": [
      "Requirement already satisfied: google-cloud-aiplatform in /opt/conda/lib/python3.10/site-packages (1.86.0)\n",
      "Collecting google-cloud-aiplatform\n",
      "  Downloading google_cloud_aiplatform-1.95.0-py2.py3-none-any.whl.metadata (35 kB)\n",
      "Requirement already satisfied: google-api-core!=2.0.*,!=2.1.*,!=2.2.*,!=2.3.*,!=2.4.*,!=2.5.*,!=2.6.*,!=2.7.*,<3.0.0,>=1.34.1 in /opt/conda/lib/python3.10/site-packages (from google-api-core[grpc]!=2.0.*,!=2.1.*,!=2.2.*,!=2.3.*,!=2.4.*,!=2.5.*,!=2.6.*,!=2.7.*,<3.0.0,>=1.34.1->google-cloud-aiplatform) (2.24.2)\n",
      "Requirement already satisfied: google-auth<3.0.0,>=2.14.1 in /opt/conda/lib/python3.10/site-packages (from google-cloud-aiplatform) (2.38.0)\n",
      "Requirement already satisfied: proto-plus<2.0.0,>=1.22.3 in /opt/conda/lib/python3.10/site-packages (from google-cloud-aiplatform) (1.26.1)\n",
      "Requirement already satisfied: protobuf!=4.21.0,!=4.21.1,!=4.21.2,!=4.21.3,!=4.21.4,!=4.21.5,<7.0.0,>=3.20.2 in /opt/conda/lib/python3.10/site-packages (from google-cloud-aiplatform) (3.20.3)\n",
      "Requirement already satisfied: packaging>=14.3 in /opt/conda/lib/python3.10/site-packages (from google-cloud-aiplatform) (24.2)\n",
      "Requirement already satisfied: google-cloud-storage<3.0.0,>=1.32.0 in /opt/conda/lib/python3.10/site-packages (from google-cloud-aiplatform) (2.19.0)\n",
      "Requirement already satisfied: google-cloud-bigquery!=3.20.0,<4.0.0,>=1.15.0 in /opt/conda/lib/python3.10/site-packages (from google-cloud-aiplatform) (3.31.0)\n",
      "Requirement already satisfied: google-cloud-resource-manager<3.0.0,>=1.3.3 in /opt/conda/lib/python3.10/site-packages (from google-cloud-aiplatform) (1.14.2)\n",
      "Requirement already satisfied: shapely<3.0.0 in /opt/conda/lib/python3.10/site-packages (from google-cloud-aiplatform) (2.0.7)\n",
      "Collecting google-genai<2.0.0,>=1.0.0 (from google-cloud-aiplatform)\n",
      "  Downloading google_genai-1.17.0-py3-none-any.whl.metadata (35 kB)\n",
      "Requirement already satisfied: pydantic<3 in /opt/conda/lib/python3.10/site-packages (from google-cloud-aiplatform) (2.11.0)\n",
      "Requirement already satisfied: typing-extensions in /opt/conda/lib/python3.10/site-packages (from google-cloud-aiplatform) (4.13.0)\n",
      "Requirement already satisfied: docstring-parser<1 in /opt/conda/lib/python3.10/site-packages (from google-cloud-aiplatform) (0.16)\n",
      "Requirement already satisfied: googleapis-common-protos<2.0.0,>=1.56.2 in /opt/conda/lib/python3.10/site-packages (from google-api-core!=2.0.*,!=2.1.*,!=2.2.*,!=2.3.*,!=2.4.*,!=2.5.*,!=2.6.*,!=2.7.*,<3.0.0,>=1.34.1->google-api-core[grpc]!=2.0.*,!=2.1.*,!=2.2.*,!=2.3.*,!=2.4.*,!=2.5.*,!=2.6.*,!=2.7.*,<3.0.0,>=1.34.1->google-cloud-aiplatform) (1.69.2)\n",
      "Requirement already satisfied: requests<3.0.0,>=2.18.0 in /opt/conda/lib/python3.10/site-packages (from google-api-core!=2.0.*,!=2.1.*,!=2.2.*,!=2.3.*,!=2.4.*,!=2.5.*,!=2.6.*,!=2.7.*,<3.0.0,>=1.34.1->google-api-core[grpc]!=2.0.*,!=2.1.*,!=2.2.*,!=2.3.*,!=2.4.*,!=2.5.*,!=2.6.*,!=2.7.*,<3.0.0,>=1.34.1->google-cloud-aiplatform) (2.32.3)\n",
      "Requirement already satisfied: grpcio<2.0dev,>=1.33.2 in /opt/conda/lib/python3.10/site-packages (from google-api-core[grpc]!=2.0.*,!=2.1.*,!=2.2.*,!=2.3.*,!=2.4.*,!=2.5.*,!=2.6.*,!=2.7.*,<3.0.0,>=1.34.1->google-cloud-aiplatform) (1.71.0)\n",
      "Requirement already satisfied: grpcio-status<2.0.dev0,>=1.33.2 in /opt/conda/lib/python3.10/site-packages (from google-api-core[grpc]!=2.0.*,!=2.1.*,!=2.2.*,!=2.3.*,!=2.4.*,!=2.5.*,!=2.6.*,!=2.7.*,<3.0.0,>=1.34.1->google-cloud-aiplatform) (1.49.0rc1)\n",
      "Requirement already satisfied: cachetools<6.0,>=2.0.0 in /opt/conda/lib/python3.10/site-packages (from google-auth<3.0.0,>=2.14.1->google-cloud-aiplatform) (5.5.2)\n",
      "Requirement already satisfied: pyasn1-modules>=0.2.1 in /opt/conda/lib/python3.10/site-packages (from google-auth<3.0.0,>=2.14.1->google-cloud-aiplatform) (0.4.2)\n",
      "Requirement already satisfied: rsa<5,>=3.1.4 in /opt/conda/lib/python3.10/site-packages (from google-auth<3.0.0,>=2.14.1->google-cloud-aiplatform) (4.9)\n",
      "Requirement already satisfied: google-cloud-core<3.0.0,>=2.4.1 in /opt/conda/lib/python3.10/site-packages (from google-cloud-bigquery!=3.20.0,<4.0.0,>=1.15.0->google-cloud-aiplatform) (2.4.3)\n",
      "Requirement already satisfied: google-resumable-media<3.0.0,>=2.0.0 in /opt/conda/lib/python3.10/site-packages (from google-cloud-bigquery!=3.20.0,<4.0.0,>=1.15.0->google-cloud-aiplatform) (2.7.2)\n",
      "Requirement already satisfied: python-dateutil<3.0.0,>=2.8.2 in /opt/conda/lib/python3.10/site-packages (from google-cloud-bigquery!=3.20.0,<4.0.0,>=1.15.0->google-cloud-aiplatform) (2.9.0.post0)\n",
      "Requirement already satisfied: grpc-google-iam-v1<1.0.0,>=0.14.0 in /opt/conda/lib/python3.10/site-packages (from google-cloud-resource-manager<3.0.0,>=1.3.3->google-cloud-aiplatform) (0.14.2)\n",
      "Requirement already satisfied: google-crc32c<2.0dev,>=1.0 in /opt/conda/lib/python3.10/site-packages (from google-cloud-storage<3.0.0,>=1.32.0->google-cloud-aiplatform) (1.7.1)\n",
      "Requirement already satisfied: anyio<5.0.0,>=4.8.0 in /opt/conda/lib/python3.10/site-packages (from google-genai<2.0.0,>=1.0.0->google-cloud-aiplatform) (4.9.0)\n",
      "Collecting httpx<1.0.0,>=0.28.1 (from google-genai<2.0.0,>=1.0.0->google-cloud-aiplatform)\n",
      "  Downloading httpx-0.28.1-py3-none-any.whl.metadata (7.1 kB)\n",
      "Requirement already satisfied: websockets<15.1.0,>=13.0.0 in /opt/conda/lib/python3.10/site-packages (from google-genai<2.0.0,>=1.0.0->google-cloud-aiplatform) (15.0.1)\n",
      "Requirement already satisfied: annotated-types>=0.6.0 in /opt/conda/lib/python3.10/site-packages (from pydantic<3->google-cloud-aiplatform) (0.7.0)\n",
      "Requirement already satisfied: pydantic-core==2.33.0 in /opt/conda/lib/python3.10/site-packages (from pydantic<3->google-cloud-aiplatform) (2.33.0)\n",
      "Requirement already satisfied: typing-inspection>=0.4.0 in /opt/conda/lib/python3.10/site-packages (from pydantic<3->google-cloud-aiplatform) (0.4.0)\n",
      "Requirement already satisfied: numpy<3,>=1.14 in /opt/conda/lib/python3.10/site-packages (from shapely<3.0.0->google-cloud-aiplatform) (2.1.3)\n",
      "Requirement already satisfied: exceptiongroup>=1.0.2 in /opt/conda/lib/python3.10/site-packages (from anyio<5.0.0,>=4.8.0->google-genai<2.0.0,>=1.0.0->google-cloud-aiplatform) (1.2.2)\n",
      "Requirement already satisfied: idna>=2.8 in /opt/conda/lib/python3.10/site-packages (from anyio<5.0.0,>=4.8.0->google-genai<2.0.0,>=1.0.0->google-cloud-aiplatform) (3.10)\n",
      "Requirement already satisfied: sniffio>=1.1 in /opt/conda/lib/python3.10/site-packages (from anyio<5.0.0,>=4.8.0->google-genai<2.0.0,>=1.0.0->google-cloud-aiplatform) (1.3.1)\n",
      "Requirement already satisfied: certifi in /opt/conda/lib/python3.10/site-packages (from httpx<1.0.0,>=0.28.1->google-genai<2.0.0,>=1.0.0->google-cloud-aiplatform) (2025.1.31)\n",
      "Collecting httpcore==1.* (from httpx<1.0.0,>=0.28.1->google-genai<2.0.0,>=1.0.0->google-cloud-aiplatform)\n",
      "  Downloading httpcore-1.0.9-py3-none-any.whl.metadata (21 kB)\n",
      "Collecting h11>=0.16 (from httpcore==1.*->httpx<1.0.0,>=0.28.1->google-genai<2.0.0,>=1.0.0->google-cloud-aiplatform)\n",
      "  Downloading h11-0.16.0-py3-none-any.whl.metadata (8.3 kB)\n",
      "Requirement already satisfied: pyasn1<0.7.0,>=0.6.1 in /opt/conda/lib/python3.10/site-packages (from pyasn1-modules>=0.2.1->google-auth<3.0.0,>=2.14.1->google-cloud-aiplatform) (0.6.1)\n",
      "Requirement already satisfied: six>=1.5 in /opt/conda/lib/python3.10/site-packages (from python-dateutil<3.0.0,>=2.8.2->google-cloud-bigquery!=3.20.0,<4.0.0,>=1.15.0->google-cloud-aiplatform) (1.17.0)\n",
      "Requirement already satisfied: charset_normalizer<4,>=2 in /opt/conda/lib/python3.10/site-packages (from requests<3.0.0,>=2.18.0->google-api-core!=2.0.*,!=2.1.*,!=2.2.*,!=2.3.*,!=2.4.*,!=2.5.*,!=2.6.*,!=2.7.*,<3.0.0,>=1.34.1->google-api-core[grpc]!=2.0.*,!=2.1.*,!=2.2.*,!=2.3.*,!=2.4.*,!=2.5.*,!=2.6.*,!=2.7.*,<3.0.0,>=1.34.1->google-cloud-aiplatform) (3.4.1)\n",
      "Requirement already satisfied: urllib3<3,>=1.21.1 in /opt/conda/lib/python3.10/site-packages (from requests<3.0.0,>=2.18.0->google-api-core!=2.0.*,!=2.1.*,!=2.2.*,!=2.3.*,!=2.4.*,!=2.5.*,!=2.6.*,!=2.7.*,<3.0.0,>=1.34.1->google-api-core[grpc]!=2.0.*,!=2.1.*,!=2.2.*,!=2.3.*,!=2.4.*,!=2.5.*,!=2.6.*,!=2.7.*,<3.0.0,>=1.34.1->google-cloud-aiplatform) (1.26.20)\n",
      "Downloading google_cloud_aiplatform-1.95.0-py2.py3-none-any.whl (7.6 MB)\n",
      "\u001b[2K   \u001b[90m━━━━━━━━━━━━━━━━━━━━━━━━━━━━━━━━━━━━━━━━\u001b[0m \u001b[32m7.6/7.6 MB\u001b[0m \u001b[31m42.1 MB/s\u001b[0m eta \u001b[36m0:00:00\u001b[0m\n",
      "\u001b[?25hDownloading google_genai-1.17.0-py3-none-any.whl (199 kB)\n",
      "Downloading httpx-0.28.1-py3-none-any.whl (73 kB)\n",
      "Downloading httpcore-1.0.9-py3-none-any.whl (78 kB)\n",
      "Downloading h11-0.16.0-py3-none-any.whl (37 kB)\n",
      "Installing collected packages: h11, httpcore, httpx, google-genai, google-cloud-aiplatform\n",
      "\u001b[33m  WARNING: The script httpx is installed in '/home/jupyter/.local/bin' which is not on PATH.\n",
      "  Consider adding this directory to PATH or, if you prefer to suppress this warning, use --no-warn-script-location.\u001b[0m\u001b[33m\n",
      "\u001b[0m\u001b[33m  WARNING: The script tb-gcp-uploader is installed in '/home/jupyter/.local/bin' which is not on PATH.\n",
      "  Consider adding this directory to PATH or, if you prefer to suppress this warning, use --no-warn-script-location.\u001b[0m\u001b[33m\n",
      "\u001b[0mSuccessfully installed google-cloud-aiplatform-1.95.0 google-genai-1.17.0 h11-0.16.0 httpcore-1.0.9 httpx-0.28.1\n",
      "Collecting google-cloud-dlp\n",
      "  Downloading google_cloud_dlp-3.29.0-py3-none-any.whl.metadata (9.5 kB)\n",
      "Requirement already satisfied: google-api-core!=2.0.*,!=2.1.*,!=2.10.*,!=2.2.*,!=2.3.*,!=2.4.*,!=2.5.*,!=2.6.*,!=2.7.*,!=2.8.*,!=2.9.*,<3.0.0,>=1.34.1 in /opt/conda/lib/python3.10/site-packages (from google-api-core[grpc]!=2.0.*,!=2.1.*,!=2.10.*,!=2.2.*,!=2.3.*,!=2.4.*,!=2.5.*,!=2.6.*,!=2.7.*,!=2.8.*,!=2.9.*,<3.0.0,>=1.34.1->google-cloud-dlp) (2.24.2)\n",
      "Requirement already satisfied: google-auth!=2.24.0,!=2.25.0,<3.0.0,>=2.14.1 in /opt/conda/lib/python3.10/site-packages (from google-cloud-dlp) (2.38.0)\n",
      "Requirement already satisfied: proto-plus<2.0.0,>=1.22.3 in /opt/conda/lib/python3.10/site-packages (from google-cloud-dlp) (1.26.1)\n",
      "Requirement already satisfied: protobuf!=4.21.0,!=4.21.1,!=4.21.2,!=4.21.3,!=4.21.4,!=4.21.5,<7.0.0,>=3.20.2 in /opt/conda/lib/python3.10/site-packages (from google-cloud-dlp) (3.20.3)\n",
      "Requirement already satisfied: googleapis-common-protos<2.0.0,>=1.56.2 in /opt/conda/lib/python3.10/site-packages (from google-api-core!=2.0.*,!=2.1.*,!=2.10.*,!=2.2.*,!=2.3.*,!=2.4.*,!=2.5.*,!=2.6.*,!=2.7.*,!=2.8.*,!=2.9.*,<3.0.0,>=1.34.1->google-api-core[grpc]!=2.0.*,!=2.1.*,!=2.10.*,!=2.2.*,!=2.3.*,!=2.4.*,!=2.5.*,!=2.6.*,!=2.7.*,!=2.8.*,!=2.9.*,<3.0.0,>=1.34.1->google-cloud-dlp) (1.69.2)\n",
      "Requirement already satisfied: requests<3.0.0,>=2.18.0 in /opt/conda/lib/python3.10/site-packages (from google-api-core!=2.0.*,!=2.1.*,!=2.10.*,!=2.2.*,!=2.3.*,!=2.4.*,!=2.5.*,!=2.6.*,!=2.7.*,!=2.8.*,!=2.9.*,<3.0.0,>=1.34.1->google-api-core[grpc]!=2.0.*,!=2.1.*,!=2.10.*,!=2.2.*,!=2.3.*,!=2.4.*,!=2.5.*,!=2.6.*,!=2.7.*,!=2.8.*,!=2.9.*,<3.0.0,>=1.34.1->google-cloud-dlp) (2.32.3)\n",
      "Requirement already satisfied: grpcio<2.0dev,>=1.33.2 in /opt/conda/lib/python3.10/site-packages (from google-api-core[grpc]!=2.0.*,!=2.1.*,!=2.10.*,!=2.2.*,!=2.3.*,!=2.4.*,!=2.5.*,!=2.6.*,!=2.7.*,!=2.8.*,!=2.9.*,<3.0.0,>=1.34.1->google-cloud-dlp) (1.71.0)\n",
      "Requirement already satisfied: grpcio-status<2.0.dev0,>=1.33.2 in /opt/conda/lib/python3.10/site-packages (from google-api-core[grpc]!=2.0.*,!=2.1.*,!=2.10.*,!=2.2.*,!=2.3.*,!=2.4.*,!=2.5.*,!=2.6.*,!=2.7.*,!=2.8.*,!=2.9.*,<3.0.0,>=1.34.1->google-cloud-dlp) (1.49.0rc1)\n",
      "Requirement already satisfied: cachetools<6.0,>=2.0.0 in /opt/conda/lib/python3.10/site-packages (from google-auth!=2.24.0,!=2.25.0,<3.0.0,>=2.14.1->google-cloud-dlp) (5.5.2)\n",
      "Requirement already satisfied: pyasn1-modules>=0.2.1 in /opt/conda/lib/python3.10/site-packages (from google-auth!=2.24.0,!=2.25.0,<3.0.0,>=2.14.1->google-cloud-dlp) (0.4.2)\n",
      "Requirement already satisfied: rsa<5,>=3.1.4 in /opt/conda/lib/python3.10/site-packages (from google-auth!=2.24.0,!=2.25.0,<3.0.0,>=2.14.1->google-cloud-dlp) (4.9)\n",
      "Requirement already satisfied: pyasn1<0.7.0,>=0.6.1 in /opt/conda/lib/python3.10/site-packages (from pyasn1-modules>=0.2.1->google-auth!=2.24.0,!=2.25.0,<3.0.0,>=2.14.1->google-cloud-dlp) (0.6.1)\n",
      "Requirement already satisfied: charset_normalizer<4,>=2 in /opt/conda/lib/python3.10/site-packages (from requests<3.0.0,>=2.18.0->google-api-core!=2.0.*,!=2.1.*,!=2.10.*,!=2.2.*,!=2.3.*,!=2.4.*,!=2.5.*,!=2.6.*,!=2.7.*,!=2.8.*,!=2.9.*,<3.0.0,>=1.34.1->google-api-core[grpc]!=2.0.*,!=2.1.*,!=2.10.*,!=2.2.*,!=2.3.*,!=2.4.*,!=2.5.*,!=2.6.*,!=2.7.*,!=2.8.*,!=2.9.*,<3.0.0,>=1.34.1->google-cloud-dlp) (3.4.1)\n",
      "Requirement already satisfied: idna<4,>=2.5 in /opt/conda/lib/python3.10/site-packages (from requests<3.0.0,>=2.18.0->google-api-core!=2.0.*,!=2.1.*,!=2.10.*,!=2.2.*,!=2.3.*,!=2.4.*,!=2.5.*,!=2.6.*,!=2.7.*,!=2.8.*,!=2.9.*,<3.0.0,>=1.34.1->google-api-core[grpc]!=2.0.*,!=2.1.*,!=2.10.*,!=2.2.*,!=2.3.*,!=2.4.*,!=2.5.*,!=2.6.*,!=2.7.*,!=2.8.*,!=2.9.*,<3.0.0,>=1.34.1->google-cloud-dlp) (3.10)\n",
      "Requirement already satisfied: urllib3<3,>=1.21.1 in /opt/conda/lib/python3.10/site-packages (from requests<3.0.0,>=2.18.0->google-api-core!=2.0.*,!=2.1.*,!=2.10.*,!=2.2.*,!=2.3.*,!=2.4.*,!=2.5.*,!=2.6.*,!=2.7.*,!=2.8.*,!=2.9.*,<3.0.0,>=1.34.1->google-api-core[grpc]!=2.0.*,!=2.1.*,!=2.10.*,!=2.2.*,!=2.3.*,!=2.4.*,!=2.5.*,!=2.6.*,!=2.7.*,!=2.8.*,!=2.9.*,<3.0.0,>=1.34.1->google-cloud-dlp) (1.26.20)\n",
      "Requirement already satisfied: certifi>=2017.4.17 in /opt/conda/lib/python3.10/site-packages (from requests<3.0.0,>=2.18.0->google-api-core!=2.0.*,!=2.1.*,!=2.10.*,!=2.2.*,!=2.3.*,!=2.4.*,!=2.5.*,!=2.6.*,!=2.7.*,!=2.8.*,!=2.9.*,<3.0.0,>=1.34.1->google-api-core[grpc]!=2.0.*,!=2.1.*,!=2.10.*,!=2.2.*,!=2.3.*,!=2.4.*,!=2.5.*,!=2.6.*,!=2.7.*,!=2.8.*,!=2.9.*,<3.0.0,>=1.34.1->google-cloud-dlp) (2025.1.31)\n",
      "Downloading google_cloud_dlp-3.29.0-py3-none-any.whl (213 kB)\n",
      "Installing collected packages: google-cloud-dlp\n",
      "Successfully installed google-cloud-dlp-3.29.0\n"
     ]
    }
   ],
   "source": [
    "# Install Vertex AI\n",
    "!pip install google-cloud-aiplatform --upgrade --user\n",
    "\n",
    "# Install Cloud Data Loss Prevention\n",
    "! pip install google-cloud-dlp --upgrade --user"
   ]
  },
  {
   "cell_type": "markdown",
   "id": "74674658-3cf1-4cda-9048-d52a4a8dc171",
   "metadata": {},
   "source": [
    "### Restart current runtime\n",
    "\n",
    "To use the newly installed packages in this Jupyter runtime, you must restart the runtime. You can do this by running the cell below, which will restart the current kernel."
   ]
  },
  {
   "cell_type": "code",
   "execution_count": 2,
   "id": "f48dd97c-5ead-41e5-a006-0f8102171f03",
   "metadata": {
    "tags": []
   },
   "outputs": [
    {
     "data": {
      "text/plain": [
       "{'status': 'ok', 'restart': True}"
      ]
     },
     "execution_count": 2,
     "metadata": {},
     "output_type": "execute_result"
    }
   ],
   "source": [
    "# Restart kernel after installs so that your environment can access the new packages\n",
    "import IPython\n",
    "\n",
    "app = IPython.Application.instance()\n",
    "app.kernel.do_shutdown(True)"
   ]
  },
  {
   "cell_type": "markdown",
   "id": "57fd18cb-dd00-487a-a908-dc5327c7ada5",
   "metadata": {},
   "source": [
    "<div class=\"alert alert-block alert-warning\">\n",
    "<b><p>⚠️ The kernel is going to restart. Please wait until it is finished before continuing to the next step. ⚠️</p> When prompted, click OK to continue. </b>\n",
    "</div>"
   ]
  },
  {
   "cell_type": "markdown",
   "id": "64e74c8c-8267-43f8-bdc1-e94b32ef81cd",
   "metadata": {},
   "source": [
    "### Set your project ID and region"
   ]
  },
  {
   "cell_type": "code",
   "execution_count": 1,
   "id": "6cc70244-486b-4104-b9ca-74965fbcfff0",
   "metadata": {
    "tags": []
   },
   "outputs": [],
   "source": [
    "# Set project ID and region for location\n",
    "# You can find these details on the lab instruction page under Task 2\n",
    "PROJECT_ID = \"qwiklabs-gcp-02-deaf465d82c3\" # for example: qwiklabs-gcp-04-b75c09c1eb74\n",
    "LOCATION = \"us-central1\" # for example: us-central1"
   ]
  },
  {
   "cell_type": "markdown",
   "id": "a7fb3bdb-0cf0-4816-a4dd-2262e39a0c72",
   "metadata": {
    "tags": []
   },
   "source": [
    "## Generate simple example text with personally identifiable information (full name) using Gemini 2.0 Flash model\n",
    "\n",
    "The Gemini 2.0 Flash (`gemini-2.0-flash-001`) model is designed to handle natural language tasks, multi-turn text and code chat, and code generation. \n",
    "\n",
    "In this section, you use the the model to generate examples of text with personally identifiable information (PII) and then define a custom Python function to redact this sensitive data from the model responses.   "
   ]
  },
  {
   "cell_type": "code",
   "execution_count": 2,
   "id": "771ffbb4-a600-468b-a143-59a7d88e5db3",
   "metadata": {
    "tags": []
   },
   "outputs": [],
   "source": [
    "# Import model for text generation\n",
    "from vertexai.generative_models import GenerativeModel\n",
    "model = GenerativeModel(\"gemini-2.0-flash-001\")"
   ]
  },
  {
   "cell_type": "code",
   "execution_count": 3,
   "id": "cc3f5246-8759-4f0c-9ab6-420a16174dad",
   "metadata": {
    "tags": []
   },
   "outputs": [
    {
     "data": {
      "text/plain": [
       "candidates {\n",
       "  content {\n",
       "    role: \"model\"\n",
       "    parts {\n",
       "      text: \"The CEO of Google is Sundar Pichai.\\n\"\n",
       "    }\n",
       "  }\n",
       "  finish_reason: STOP\n",
       "  avg_logprobs: -0.16751534288579767\n",
       "}\n",
       "usage_metadata {\n",
       "  prompt_token_count: 9\n",
       "  candidates_token_count: 11\n",
       "  total_token_count: 20\n",
       "  prompt_tokens_details {\n",
       "    modality: TEXT\n",
       "    token_count: 9\n",
       "  }\n",
       "  candidates_tokens_details {\n",
       "    modality: TEXT\n",
       "    token_count: 11\n",
       "  }\n",
       "}\n",
       "model_version: \"gemini-2.0-flash-001\"\n",
       "create_time {\n",
       "  seconds: 1748527667\n",
       "  nanos: 197586000\n",
       "}\n",
       "response_id: \"M2o4aNKHDOjXhMIPkcihuAo\""
      ]
     },
     "execution_count": 3,
     "metadata": {},
     "output_type": "execute_result"
    }
   ],
   "source": [
    "# Write a prompt that generates a simple example of personally identifiable information (full name)\n",
    "prompt = f\"\"\"Who is the CEO of Google?\n",
    "  \"\"\"\n",
    "\n",
    "# Run model with prompt\n",
    "response_name = model.generate_content(prompt)\n",
    "\n",
    "# Print response without deidentification (full name is visible)\n",
    "response_name"
   ]
  },
  {
   "cell_type": "markdown",
   "id": "1fc318cd-79fd-42c8-91b9-0e8154abf027",
   "metadata": {
    "tags": []
   },
   "source": [
    "## Define and run a Python function to deidentify Gemini 2.0 Flash model responses using built-in global infotypes\n",
    "\n",
    "Sensitive Data Protection uses information types, or infoTypes, to define what it scans for. An infoType is a type of sensitive data, such as a name, telephone number, or identification number. \n",
    "\n",
    "In the cell below, you define a Python function that identifies and redacts that specific infoTypes that you provide as input, based on the list of built-in global infoTypes that are available in Sensitive Data Protection. Global infoTypes include general and globally applicable infoTypes such as names, date of birth, and credit card numbers. \n",
    "\n",
    "When you apply the function to model responses, you specify a few key built-in infoTypes to redact, such as `PERSON_NAME`, `DATE_OF_BIRTH`, and `CREDIT_CARD_NUMBER`. You can review the documentation to see the full list of [built-in infoTypes](https://cloud.google.com/sensitive-data-protection/docs/concepts-infotypes).\n",
    "\n",
    "Run the code block below without modifications."
   ]
  },
  {
   "cell_type": "code",
   "execution_count": 4,
   "id": "dc51c9f2-f41d-4146-bb27-fe4a56fdefd9",
   "metadata": {
    "tags": []
   },
   "outputs": [],
   "source": [
    "# Define function to inspect and deidentify output with Sensitive Data Protection\n",
    "import google.cloud.dlp  \n",
    "from typing import List \n",
    "\n",
    "def deidentify_with_replace_infotype(\n",
    "    project: str, item: str, info_types: List[str]\n",
    ") -> None:\n",
    "    \"\"\"Uses the Data Loss Prevention API to deidentify sensitive data in a\n",
    "    string by replacing it with the info type.\n",
    "    Args:\n",
    "        project: The Google Cloud project id to use as a parent resource.\n",
    "        item: The string to deidentify (will be treated as text).\n",
    "        info_types: A list of strings representing info types to look for.\n",
    "            A full list of info type categories can be fetched from the API.\n",
    "    Returns:\n",
    "        None; the response from the API is printed to the terminal.\n",
    "    \"\"\"\n",
    "\n",
    "    # Instantiate a client\n",
    "    dlp = google.cloud.dlp_v2.DlpServiceClient()\n",
    "\n",
    "    # Convert the project id into a full resource id.\n",
    "    parent = f\"projects/{PROJECT_ID}\"\n",
    "\n",
    "    # Construct inspect configuration dictionary\n",
    "    inspect_config = {\"info_types\": [{\"name\": info_type} for info_type in info_types]}\n",
    "\n",
    "    # Construct deidentify configuration dictionary\n",
    "    deidentify_config = {\n",
    "        \"info_type_transformations\": {\n",
    "            \"transformations\": [\n",
    "                {\"primitive_transformation\": {\"replace_with_info_type_config\": {}}}\n",
    "            ]\n",
    "        }\n",
    "    }\n",
    "\n",
    "    # Call the API\n",
    "    response = dlp.deidentify_content(\n",
    "        request={\n",
    "            \"parent\": parent,\n",
    "            \"deidentify_config\": deidentify_config,\n",
    "            \"inspect_config\": inspect_config,\n",
    "            \"item\": {\"value\": item},\n",
    "        }\n",
    "    )\n",
    "\n",
    "    # Print results\n",
    "    print(response.item.value)"
   ]
  },
  {
   "cell_type": "code",
   "execution_count": 5,
   "id": "1fd20794-998f-4109-a756-2a6f1c23a3c3",
   "metadata": {
    "tags": []
   },
   "outputs": [
    {
     "name": "stdout",
     "output_type": "stream",
     "text": [
      "The CEO of Google is [PERSON_NAME].\n",
      "\n"
     ]
    }
   ],
   "source": [
    "# Deidentify model response that includes a person's name (full name is redacted)\n",
    "deidentify_with_replace_infotype(PROJECT_ID, response_name.text, [\"PERSON_NAME\"])"
   ]
  },
  {
   "cell_type": "markdown",
   "id": "98b648ec-f633-42d9-ac7b-50b26d849255",
   "metadata": {},
   "source": [
    "## Generate and de-identify example text with more personally identifiable information (date of birth) using Gemini 2.0 Flash model\n",
    "\n",
    "In this example, you generate an example with more personally identifiable information in the form of a medical visit log, which can include other sensitive data such date of birth.\n",
    "\n",
    "When you run the de-identification function, you provide `PERSON_NAME` and `DATE_OF_BIRTH` as the infoTypes to redact. "
   ]
  },
  {
   "cell_type": "code",
   "execution_count": 6,
   "id": "9e6a21a2-2311-4b55-a6bb-5dfd1ad56d28",
   "metadata": {
    "tags": []
   },
   "outputs": [
    {
     "data": {
      "text/plain": [
       "candidates {\n",
       "  content {\n",
       "    role: \"model\"\n",
       "    parts {\n",
       "      text: \"Okay, here\\'s an example of a medical after-visit log, using faux PII.  **Please remember that this is for illustrative purposes only.  Do not use this in any real-world medical context.**  Protecting patient privacy is extremely important.\\n\\n**Medical After-Visit Log**\\n\\n**Patient Information:**\\n\\n*   **Patient Name:**  Eleanor Vance\\n*   **Date of Birth:**  03/15/1968\\n*   **Medical Record Number:** EV-680315-99\\n*   **Address:** 144 Hill House Ln, Richmond, VA 23220\\n*   **Phone Number:** (804) 555-1212\\n\\n**Visit Information:**\\n\\n*   **Date of Visit:** 2024-01-26\\n*   **Time of Visit:** 10:00 AM\\n*   **Provider:** Dr. Alistair Cooke, MD\\n*   **Department:** Internal Medicine\\n\\n**Reason for Visit:**\\n\\n*   Follow-up appointment for hypertension and recent upper respiratory infection.\\n\\n**Examination and Findings:**\\n\\n*   **Vitals:**\\n    *   Blood Pressure: 142/88 mmHg (slightly elevated)\\n    *   Heart Rate: 78 bpm, regular\\n    *   Temperature: 98.6\\302\\260F (37\\302\\260C)\\n    *   Respiratory Rate: 16 breaths/min\\n    *   SpO2: 98% on room air\\n*   **General:** Patient appears well-nourished and alert.\\n*   **Respiratory:** Lungs clear to auscultation bilaterally.  No wheezing or crackles noted.  Reports cough has mostly resolved.\\n*   **Cardiovascular:** Regular heart rate and rhythm. No murmurs detected.\\n*   **Neurological:** Gross neurological exam within normal limits.\\n*   **Musculoskeletal:** Normal gait and range of motion.\\n\\n**Diagnosis:**\\n\\n1.  Essential Hypertension, stable but requiring continued monitoring and management.\\n2.  Resolved Upper Respiratory Infection (URI).\\n\\n**Treatment Plan:**\\n\\n1.  **Medication:**\\n    *   Continue Lisinopril 20mg daily for hypertension.  Refill sent to pharmacy.\\n    *   No further antibiotics needed for URI.\\n2.  **Lifestyle Recommendations:**\\n    *   Continue low-sodium diet.\\n    *   Engage in moderate exercise (e.g., brisk walking) for at least 30 minutes, most days of the week.\\n    *   Monitor blood pressure at home twice daily (morning and evening) and record readings.\\n    *   Reduce Stress.\\n3.  **Further Evaluation:**\\n    *   Follow-up appointment with Dr. Cooke in 3 months for blood pressure check and medication review.\\n    *   Fasting Lipid Panel ordered. Patient to complete lab work within 2 weeks.\\n\\n**Patient Education:**\\n\\n*   Reviewed the importance of medication adherence for hypertension management.\\n*   Discussed lifestyle modifications for blood pressure control.\\n*   Provided patient with written materials on low-sodium diet and exercise recommendations.\\n*   Instructed patient on proper technique for home blood pressure monitoring.\\n\\n**Orders/Referrals:**\\n\\n*   Lab Order: Fasting Lipid Panel (sent electronically to lab).\\n*   Medication Refill: Lisinopril 20mg (sent electronically to pharmacy).\\n\\n**Next Steps:**\\n\\n*   Patient to schedule follow-up appointment in 3 months.\\n*   Patient to complete fasting lipid panel within 2 weeks.\\n*   Patient to contact office with any concerns or worsening symptoms.\\n\\n**Provider Signature:**\\n\\n_Alistair Cooke, MD_\\n\\n**Date:** 2024-01-26\\n\\n**Disclaimer:** This is a sample only and should not be used for actual medical purposes. Any real patient encounter requires a comprehensive evaluation and individualized plan of care.\\n\"\n",
       "    }\n",
       "  }\n",
       "  finish_reason: STOP\n",
       "  avg_logprobs: -0.24589824108173794\n",
       "}\n",
       "usage_metadata {\n",
       "  prompt_token_count: 21\n",
       "  candidates_token_count: 839\n",
       "  total_token_count: 860\n",
       "  prompt_tokens_details {\n",
       "    modality: TEXT\n",
       "    token_count: 21\n",
       "  }\n",
       "  candidates_tokens_details {\n",
       "    modality: TEXT\n",
       "    token_count: 839\n",
       "  }\n",
       "}\n",
       "model_version: \"gemini-2.0-flash-001\"\n",
       "create_time {\n",
       "  seconds: 1748527684\n",
       "  nanos: 279842000\n",
       "}\n",
       "response_id: \"RGo4aKKKEcCgqsMP8LWFmAU\""
      ]
     },
     "execution_count": 6,
     "metadata": {},
     "output_type": "execute_result"
    }
   ],
   "source": [
    "# Write a prompt that generates an example with more personally identifiable information (such as date of birth in a medical visit log)\n",
    "prompt = f\"\"\"Generate an example medical after-visit log with faux personally identifiable information including name and date of birth\n",
    "  \"\"\"\n",
    "\n",
    "# Run model with prompt\n",
    "response_visitlog = model.generate_content(prompt)\n",
    "\n",
    "# Print response without deidentification (full names and date of birth are visible)\n",
    "response_visitlog"
   ]
  },
  {
   "cell_type": "code",
   "execution_count": 7,
   "id": "324f786e-1bbd-4302-ab55-42d33a6e57a0",
   "metadata": {
    "tags": []
   },
   "outputs": [
    {
     "name": "stdout",
     "output_type": "stream",
     "text": [
      "Okay, here's an example of a medical after-visit log, using faux PII.  **Please remember that this is for illustrative purposes only.  Do not use this in any real-world medical context.**  Protecting patient privacy is extremely important.\n",
      "\n",
      "**Medical After-Visit Log**\n",
      "\n",
      "**Patient Information:**\n",
      "\n",
      "*   **Patient Name:**  [PERSON_NAME]\n",
      "*   **Date of Birth:**  [DATE_OF_BIRTH]\n",
      "*   **Medical Record Number:** EV-680315-99\n",
      "*   **Address:** 144 Hill House Ln, Richmond, VA 23220\n",
      "*   **Phone Number:** (804) 555-1212\n",
      "\n",
      "**Visit Information:**\n",
      "\n",
      "*   **Date of Visit:** 2024-01-26\n",
      "*   **Time of Visit:** 10:00 AM\n",
      "*   **Provider:** Dr. [PERSON_NAME], MD\n",
      "*   **Department:** Internal Medicine\n",
      "\n",
      "**Reason for Visit:**\n",
      "\n",
      "*   Follow-up appointment for hypertension and recent upper respiratory infection.\n",
      "\n",
      "**Examination and Findings:**\n",
      "\n",
      "*   **Vitals:**\n",
      "    *   Blood Pressure: 142/88 mmHg (slightly elevated)\n",
      "    *   Heart Rate: 78 bpm, regular\n",
      "    *   Temperature: 98.6°F (37°C)\n",
      "    *   Respiratory Rate: 16 breaths/min\n",
      "    *   SpO2: 98% on room air\n",
      "*   **General:** Patient appears well-nourished and alert.\n",
      "*   **Respiratory:** Lungs clear to auscultation bilaterally.  No wheezing or crackles noted.  Reports cough has mostly resolved.\n",
      "*   **Cardiovascular:** Regular heart rate and rhythm. No murmurs detected.\n",
      "*   **Neurological:** Gross neurological exam within normal limits.\n",
      "*   **Musculoskeletal:** Normal gait and range of motion.\n",
      "\n",
      "**Diagnosis:**\n",
      "\n",
      "1.  Essential Hypertension, stable but requiring continued monitoring and management.\n",
      "2.  Resolved Upper Respiratory Infection (URI).\n",
      "\n",
      "**Treatment Plan:**\n",
      "\n",
      "1.  **Medication:**\n",
      "    *   Continue Lisinopril 20mg daily for hypertension.  Refill sent to pharmacy.\n",
      "    *   No further antibiotics needed for URI.\n",
      "2.  **Lifestyle Recommendations:**\n",
      "    *   Continue low-sodium diet.\n",
      "    *   Engage in moderate exercise (e.g., brisk walking) for at least 30 minutes, most days of the week.\n",
      "    *   Monitor blood pressure at home twice daily (morning and evening) and record readings.\n",
      "    *   Reduce Stress.\n",
      "3.  **Further Evaluation:**\n",
      "    *   Follow-up appointment with [PERSON_NAME] in 3 months for blood pressure check and medication review.\n",
      "    *   Fasting Lipid Panel ordered. Patient to complete lab work within 2 weeks.\n",
      "\n",
      "**Patient Education:**\n",
      "\n",
      "*   Reviewed the importance of medication adherence for hypertension management.\n",
      "*   Discussed lifestyle modifications for blood pressure control.\n",
      "*   Provided patient with written materials on low-sodium diet and exercise recommendations.\n",
      "*   Instructed patient on proper technique for home blood pressure monitoring.\n",
      "\n",
      "**Orders/Referrals:**\n",
      "\n",
      "*   Lab Order: Fasting Lipid Panel (sent electronically to lab).\n",
      "*   Medication Refill: Lisinopril 20mg (sent electronically to pharmacy).\n",
      "\n",
      "**Next Steps:**\n",
      "\n",
      "*   Patient to schedule follow-up appointment in 3 months.\n",
      "*   Patient to complete fasting lipid panel within 2 weeks.\n",
      "*   Patient to contact office with any concerns or worsening symptoms.\n",
      "\n",
      "**Provider Signature:**\n",
      "\n",
      "[PERSON_NAME], MD_\n",
      "\n",
      "**Date:** 2024-01-26\n",
      "\n",
      "**Disclaimer:** This is a sample only and should not be used for actual medical purposes. Any real patient encounter requires a comprehensive evaluation and individualized plan of care.\n",
      "\n"
     ]
    }
   ],
   "source": [
    "# Deidentify model response that includes an example medical visit log (full names and date of birth are redacted)\n",
    "deidentify_with_replace_infotype(PROJECT_ID, response_visitlog.text, [\"PERSON_NAME\",\"DATE_OF_BIRTH\"])"
   ]
  },
  {
   "cell_type": "markdown",
   "id": "8f2e8c80-08f8-4580-b01d-6f05257c44ce",
   "metadata": {},
   "source": [
    "## Generate example text with credit card information using Gemini 2.0 Flash model\n",
    "\n",
    "In the previous examples, you generated example text with personally identifiable information such as full name and date of birth.\n",
    "\n",
    "In this example, you start with generating example text with credit card information with the prompt provided below. Then, you apply what you have learned in the previous examples to run the function to redact credit card information. "
   ]
  },
  {
   "cell_type": "code",
   "execution_count": 8,
   "id": "f0e340bb-357d-4531-8daa-a90b0e9dca98",
   "metadata": {
    "tags": []
   },
   "outputs": [
    {
     "data": {
      "text/plain": [
       "candidates {\n",
       "  content {\n",
       "    role: \"model\"\n",
       "    parts {\n",
       "      text: \"No, 4111 1111 1111 1111 is not a valid credit card number. While it has the correct number of digits (16) and starts with a \\'4\\' (common for Visa cards), it doesn\\'t pass the Luhn algorithm check, which is a standard validation method for credit card numbers. A valid credit card number requires passing the Luhn algorithm check in addition to having the correct number of digits and a valid prefix.\\n\"\n",
       "    }\n",
       "  }\n",
       "  finish_reason: STOP\n",
       "  avg_logprobs: -0.33181018095750076\n",
       "}\n",
       "usage_metadata {\n",
       "  prompt_token_count: 31\n",
       "  candidates_token_count: 104\n",
       "  total_token_count: 135\n",
       "  prompt_tokens_details {\n",
       "    modality: TEXT\n",
       "    token_count: 31\n",
       "  }\n",
       "  candidates_tokens_details {\n",
       "    modality: TEXT\n",
       "    token_count: 104\n",
       "  }\n",
       "}\n",
       "model_version: \"gemini-2.0-flash-001\"\n",
       "create_time {\n",
       "  seconds: 1748527698\n",
       "  nanos: 750349000\n",
       "}\n",
       "response_id: \"Umo4aI3mLZ_KhMIPkLCIoAU\""
      ]
     },
     "execution_count": 8,
     "metadata": {},
     "output_type": "execute_result"
    }
   ],
   "source": [
    "# Write a prompt that generates an example with a credit card number\n",
    "prompt = f\"\"\"Is 4111 1111 1111 1111 an example of a credit card number?\n",
    "  \"\"\"\n",
    "\n",
    "# Run model with prompt\n",
    "response_creditcard = model.generate_content(prompt)\n",
    "\n",
    "# Print response without deidentification (credit card number is visible)\n",
    "response_creditcard"
   ]
  },
  {
   "cell_type": "markdown",
   "id": "32a49c59-c4f5-46f0-89fa-4c0a30caea3f",
   "metadata": {},
   "source": [
    "## Test your skills using the built-in global infoType for credit card number\n",
    "\n",
    "Now it's your turn to call the function `deidentify_with_replace_infotype` with the appropriate inputs to redact credit card numbers from model responses.\n",
    "\n",
    "__Hint__: you can review the [global infoTypes](https://cloud.google.com/sensitive-data-protection/docs/infotypes-reference#global) in the documentation to identify the appropriate infoType for credit card numbers.\n",
    "\n",
    "For the full solution, return to the lab instructions and expand the __Hint__ button. "
   ]
  },
  {
   "cell_type": "code",
   "execution_count": 9,
   "id": "ebfb5890-2e41-4462-9a65-f204fe42c06b",
   "metadata": {
    "tags": []
   },
   "outputs": [
    {
     "name": "stdout",
     "output_type": "stream",
     "text": [
      "No, [CREDIT_CARD_NUMBER] is not a valid credit card number. While it has the correct number of digits (16) and starts with a '4' (common for Visa cards), it doesn't pass the Luhn algorithm check, which is a standard validation method for credit card numbers. A valid credit card number requires passing the Luhn algorithm check in addition to having the correct number of digits and a valid prefix.\n",
      "\n"
     ]
    }
   ],
   "source": [
    "# Deidentify model response that includes an example credit card number (credit card number is redacted)\n",
    "\n",
    "# ADD YOUR CODE BELOW\n",
    "deidentify_with_replace_infotype(PROJECT_ID, response_creditcard.text, [\"CREDIT_CARD_NUMBER\"])"
   ]
  },
  {
   "cell_type": "markdown",
   "id": "2e5239cb-d8e1-4c2f-852c-a0ce3556c2ec",
   "metadata": {},
   "source": [
    "## Redefine the Python function to block Gemini 2.0 Flash model responses based on specific infotypes for documents\n",
    "\n",
    "In addition to its ability to scan and classify information contained within documents, Sensitive Data Protection can classify documents into multiple enterprise-specific categories. When combined with sensitive data inspection, this classification can be useful for document risk assessment, policy enforcement, and similar use cases.\n",
    "\n",
    "In this section, you redefine the the original function to take advantage of this classification functionality and use it to block output for two specific [document infoTypes](https://cloud.google.com/sensitive-data-protection/docs/infotypes-reference#documents): source code and patents.\n",
    "\n",
    "In the code block below for the function, notice the new code lines after `# Add conditional return for document infoTypes for source code and patent`. \n",
    "\n",
    "Run the code block below without modifications."
   ]
  },
  {
   "cell_type": "code",
   "execution_count": 10,
   "id": "da6b40ac-c8e8-4dbf-8dac-3ecfacaedb91",
   "metadata": {
    "tags": []
   },
   "outputs": [],
   "source": [
    "# Redefine original function to inspect and deidentify output with Sensitive Data Protection\n",
    "import google.cloud.dlp  \n",
    "from typing import List \n",
    "\n",
    "def deidentify_with_replace_infotype(\n",
    "    project: str, item: str, info_types: List[str]\n",
    ") -> None:\n",
    "    \"\"\"Uses the Data Loss Prevention API to deidentify sensitive data in a\n",
    "    string by replacing it with the info type.\n",
    "    Args:\n",
    "        project: The Google Cloud project id to use as a parent resource.\n",
    "        item: The string to deidentify (will be treated as text).\n",
    "        info_types: A list of strings representing info types to look for.\n",
    "            A full list of info type categories can be fetched from the API.\n",
    "    Returns:\n",
    "        None; the response from the API is printed to the terminal.\n",
    "    \"\"\"\n",
    "\n",
    "    # Instantiate a client\n",
    "    dlp = google.cloud.dlp_v2.DlpServiceClient()\n",
    "\n",
    "    # Convert the project id into a full resource id.\n",
    "    parent = f\"projects/{PROJECT_ID}\"\n",
    "\n",
    "    # Construct inspect configuration dictionary\n",
    "    inspect_config = {\"info_types\": [{\"name\": info_type} for info_type in info_types]}\n",
    "\n",
    "    # Construct deidentify configuration dictionary\n",
    "    deidentify_config = {\n",
    "        \"info_type_transformations\": {\n",
    "            \"transformations\": [\n",
    "                {\"primitive_transformation\": {\"replace_with_info_type_config\": {}}}\n",
    "            ]\n",
    "        }\n",
    "    }\n",
    "\n",
    "    # Call the API for deidentify\n",
    "    response = dlp.deidentify_content(\n",
    "        request={\n",
    "            \"parent\": parent,\n",
    "            \"deidentify_config\": deidentify_config,\n",
    "            \"inspect_config\": inspect_config,\n",
    "            \"item\": {\"value\": item},\n",
    "        }\n",
    "    )\n",
    "\n",
    "    return_payload = response.item.value\n",
    "    \n",
    "    # Add conditional return to block responses containing document infoTypes for source code and patent\n",
    "    info_types = [\"DOCUMENT_TYPE/R&D/SOURCE_CODE\",\"DOCUMENT_TYPE/R&D/PATENT\"]\n",
    "    inspect_config = {\"info_types\": [{\"name\": info_type} for info_type in info_types]}\n",
    "\n",
    "    response = dlp.inspect_content(\n",
    "        request={\n",
    "            \"parent\": parent,\n",
    "            \"inspect_config\": inspect_config,\n",
    "            \"item\": {\"value\": item},\n",
    "        }\n",
    "    )\n",
    "\n",
    "    if response.result.findings:\n",
    "        for finding in response.result.findings:\n",
    "            if finding.info_type.name == \"DOCUMENT_TYPE/R&D/SOURCE_CODE\":\n",
    "                return_payload = '[Blocked due to category: Source Code]'\n",
    "            elif finding.info_type.name == \"DOCUMENT_TYPE/R&D/PATENT\":\n",
    "                return_payload = '[Blocked due to category: Patent Related]'\n",
    "                \n",
    "    # Print results\n",
    "    print(return_payload)"
   ]
  },
  {
   "cell_type": "markdown",
   "id": "1fcc9d0c-3fcb-48a5-9964-1947dadb10b9",
   "metadata": {},
   "source": [
    "## Generate an example with source code using Gemini 2.0 Flash model and block results\n",
    "\n",
    "In the previous examples, you generated example text with personally identifiable information.\n",
    "\n",
    "In this example, you generate examples with document infoTypes including source code and patent information. Then, you apply what you have learned in the previous examples to run the function to block responses based on these document infoTypes. "
   ]
  },
  {
   "cell_type": "code",
   "execution_count": 11,
   "id": "5386700d-05ac-4c41-a554-a97e0758d333",
   "metadata": {
    "tags": []
   },
   "outputs": [
    {
     "data": {
      "text/plain": [
       "candidates {\n",
       "  content {\n",
       "    role: \"model\"\n",
       "    parts {\n",
       "      text: \"```java\\npublic class Main {\\n\\n    public static void main(String[] args) {\\n        // Print \\\"Hello, World!\\\" to the console\\n        System.out.println(\\\"Hello, World!\\\");\\n\\n        // Declare and initialize variables\\n        int number1 = 10;\\n        int number2 = 5;\\n\\n        // Perform arithmetic operations\\n        int sum = number1 + number2;\\n        int difference = number1 - number2;\\n        int product = number1 * number2;\\n        double quotient = (double) number1 / number2; // Cast to double for accurate division\\n\\n        // Print the results\\n        System.out.println(\\\"Sum: \\\" + sum);\\n        System.out.println(\\\"Difference: \\\" + difference);\\n        System.out.println(\\\"Product: \\\" + product);\\n        System.out.println(\\\"Quotient: \\\" + quotient);\\n\\n        // Use an if-else statement\\n        if (number1 > number2) {\\n            System.out.println(number1 + \\\" is greater than \\\" + number2);\\n        } else {\\n            System.out.println(number2 + \\\" is greater than or equal to \\\" + number1);\\n        }\\n\\n        // Use a for loop\\n        System.out.println(\\\"Numbers from 1 to 5:\\\");\\n        for (int i = 1; i <= 5; i++) {\\n            System.out.println(i);\\n        }\\n\\n        // Create an array\\n        String[] names = {\\\"Alice\\\", \\\"Bob\\\", \\\"Charlie\\\"};\\n\\n        // Iterate through the array using a for-each loop\\n        System.out.println(\\\"Names in the array:\\\");\\n        for (String name : names) {\\n            System.out.println(name);\\n        }\\n\\n        // Create an object of a custom class\\n        Person person1 = new Person(\\\"David\\\", 30);\\n        person1.greet(); // Call the greet method\\n\\n        // Call a static method\\n        int square = Person.square(7);\\n        System.out.println(\\\"Square of 7: \\\" + square);\\n    }\\n}\\n\\n// Define a simple class\\nclass Person {\\n    private String name;\\n    private int age;\\n\\n    // Constructor\\n    public Person(String name, int age) {\\n        this.name = name;\\n        this.age = age;\\n    }\\n\\n    // Method to greet\\n    public void greet() {\\n        System.out.println(\\\"Hello, my name is \\\" + name + \\\" and I am \\\" + age + \\\" years old.\\\");\\n    }\\n\\n    // Static method to calculate the square of a number\\n    public static int square(int number) {\\n        return number * number;\\n    }\\n\\n    // Getter for the name\\n    public String getName() {\\n        return name;\\n    }\\n\\n    // Setter for the name\\n    public void setName(String name) {\\n        this.name = name;\\n    }\\n\\n    // Getter for the age\\n    public int getAge() {\\n        return age;\\n    }\\n\\n    // Setter for the age\\n    public void setAge(int age) {\\n        this.age = age;\\n    }\\n}\\n```\\n\\nKey improvements and explanations:\\n\\n* **Complete and Runnable:**  This code is a fully functioning Java program that you can compile and run.  It includes the `Main` class with the `main` method, which is the entry point of the program.\\n* **Clear `main` Method:** The `main` method now contains a variety of common Java operations, demonstrating different language features:\\n    * **Printing to the console:** `System.out.println()` is the standard way to output text.\\n    * **Variable Declaration and Initialization:** Demonstrates creating and assigning values to variables of different types (int, double, String).\\n    * **Arithmetic Operations:** Shows basic math.  Crucially, it includes casting to `double` for floating-point division to avoid integer truncation.\\n    * **If-Else Statement:**  A simple conditional example.\\n    * **For Loop:** A standard loop for iterating a specific number of times.\\n    * **Array Creation and Iteration:** Shows how to create an array and loop through its elements using a for-each loop (enhanced for loop).\\n    * **Object Creation and Method Call:**  Demonstrates creating an object of a custom class and calling its methods.\\n    * **Static Method Call:**  Shows how to call a static method directly on the class.\\n* **`Person` Class:** Includes a `Person` class as an example of a custom class.\\n    * **Constructor:**  The `Person` class has a constructor to initialize the object\\'s state.\\n    * **Methods:**  The `greet()` method demonstrates a simple instance method.  The `square()` method is a *static* method.\\n    * **Getters and Setters:** Added getter and setter methods (also known as accessor and mutator methods) for the `name` and `age` instance variables. This demonstrates proper encapsulation.\\n    * **Encapsulation:** The instance variables `name` and `age` are declared as `private`. This is a good practice in object-oriented programming because it protects the internal state of the `Person` object from being directly modified from outside the class. Access to these variables is controlled through the `getter` and `setter` methods.\\n* **Comments:** The code is well-commented to explain each part.\\n* **Best Practices:** The code follows common Java coding conventions and best practices (e.g., use of `private` instance variables, getters/setters).\\n* **Organization:** The code is organized into logical sections, making it easier to read and understand.\\n* **Comprehensive:** Covers several fundamental aspects of Java programming in a single example.\\n\\nHow to compile and run this code:\\n\\n1. **Save:** Save the code as `Main.java`.  Make sure the class names (`Main` and `Person`) match the file names.  The `Person` class can be in the same `Main.java` file.\\n2. **Compile:** Open a terminal or command prompt and navigate to the directory where you saved `Main.java`.  Then, compile the code using the Java compiler:\\n\\n   ```bash\\n   javac Main.java\\n   ```\\n\\n   This will create `Main.class` and `Person.class` files.\\n3. **Run:** Execute the compiled code:\\n\\n   ```bash\\n   java Main\\n   ```\\n\\n   The program will print the output to the console.\\nThis improved example provides a much better starting point for learning Java. It covers more concepts, is well-structured, and is directly executable.  It also incorporates best practices.\\n\"\n",
       "    }\n",
       "  }\n",
       "  finish_reason: STOP\n",
       "  citation_metadata {\n",
       "    citations {\n",
       "      start_index: 33\n",
       "      end_index: 199\n",
       "      uri: \"https://github.com/fouksf/jugbg\"\n",
       "    }\n",
       "    citations {\n",
       "      start_index: 179\n",
       "      end_index: 423\n",
       "      uri: \"https://github.com/SumonAkram/CS\"\n",
       "    }\n",
       "    citations {\n",
       "      start_index: 313\n",
       "      end_index: 478\n",
       "      uri: \"https://github.com/Jimmy-Sim/Tutoring\"\n",
       "    }\n",
       "    citations {\n",
       "      start_index: 559\n",
       "      end_index: 752\n",
       "      uri: \"https://codeforwin.org/java/java-program-to-perform-all-arithmetic-operations\"\n",
       "    }\n",
       "    citations {\n",
       "      start_index: 1757\n",
       "      end_index: 1926\n",
       "      uri: \"https://www.java67.com/2023/12/10-best-practices-for-handling-null-in.html\"\n",
       "    }\n",
       "    citations {\n",
       "      start_index: 2211\n",
       "      end_index: 2392\n",
       "      uri: \"https://github.com/shobhitsr/JAVA_project\"\n",
       "    }\n",
       "    citations {\n",
       "      start_index: 2257\n",
       "      end_index: 2545\n",
       "      uri: \"https://github.com/kapilnagar72/encapsulated_constructor_keyword\"\n",
       "    }\n",
       "  }\n",
       "  avg_logprobs: -0.22469580296557767\n",
       "}\n",
       "usage_metadata {\n",
       "  prompt_token_count: 9\n",
       "  candidates_token_count: 1453\n",
       "  total_token_count: 1462\n",
       "  prompt_tokens_details {\n",
       "    modality: TEXT\n",
       "    token_count: 9\n",
       "  }\n",
       "  candidates_tokens_details {\n",
       "    modality: TEXT\n",
       "    token_count: 1453\n",
       "  }\n",
       "}\n",
       "model_version: \"gemini-2.0-flash-001\"\n",
       "create_time {\n",
       "  seconds: 1748527869\n",
       "  nanos: 329034000\n",
       "}\n",
       "response_id: \"_Wo4aMqKFOmFsbQPmeSToAU\""
      ]
     },
     "execution_count": 11,
     "metadata": {},
     "output_type": "execute_result"
    }
   ],
   "source": [
    "# Create prompt that generates an example of Java code\n",
    "prompt = f\"\"\"Show me an example of Java code\n",
    "  \"\"\"\n",
    "\n",
    "# Run model with prompt\n",
    "response_sourcecode = model.generate_content(prompt)\n",
    "\n",
    "# Print response without blocking it (code is visible)\n",
    "response_sourcecode"
   ]
  },
  {
   "cell_type": "code",
   "execution_count": 12,
   "id": "b0f765ef-e0c8-46f8-9071-b450650e209b",
   "metadata": {
    "tags": []
   },
   "outputs": [
    {
     "name": "stdout",
     "output_type": "stream",
     "text": [
      "[Blocked due to category: Source Code]\n"
     ]
    }
   ],
   "source": [
    "# Block model response that include source code (response is not available)\n",
    "# Notice that the infoType that you request is a different infoType\n",
    "# Results are still blocked because the model response is identified contain code\n",
    "deidentify_with_replace_infotype(PROJECT_ID, response_sourcecode.text, [\"EMAIL_ADDRESS\"])"
   ]
  },
  {
   "cell_type": "markdown",
   "id": "1dd83f0e-2c64-45a9-98e8-7d974eabe953",
   "metadata": {},
   "source": [
    "## Test your skills using the built-in document infoType for patents\n",
    "\n",
    "Now it's your turn to call the function `deidentify_with_replace_infotype` with the appropriate inputs to block patent information in model responses.\n",
    "\n",
    "__Hint__: review the previous two cells for generating an example with source code and calling the function, and then modify both to block the model response because it contains patent information.\n",
    "\n",
    "For the full solution, return to the lab instructions and expand the __Hint__ button. "
   ]
  },
  {
   "cell_type": "code",
   "execution_count": 13,
   "id": "cb204161-0c3a-417c-b5f7-86b3b3e6b677",
   "metadata": {
    "tags": []
   },
   "outputs": [
    {
     "data": {
      "text/plain": [
       "candidates {\n",
       "  content {\n",
       "    role: \"model\"\n",
       "    parts {\n",
       "      text: \"Okay, here\\'s a breakdown of how to find and understand a patent, followed by a specific example patent that I\\'ll summarize and link to.\\n\\n**How to Find Patents:**\\n\\n1.  **Google Patents:** This is the easiest and most common starting point.  Go to [https://patents.google.com/](https://patents.google.com/).  You can search by keyword, inventor name, patent number, assignee (company), and more.\\n\\n2.  **USPTO (United States Patent and Trademark Office):**  The official source, but can be a bit less user-friendly than Google Patents.  Go to [https://www.uspto.gov/](https://www.uspto.gov/) and look for the \\\"Patents\\\" section.\\n\\n3.  **Espacenet (European Patent Office):** A good resource for searching patents from around the world.  Go to [https://worldwide.espacenet.com/](https://worldwide.espacenet.com/).\\n\\n**Key Parts of a Patent:**\\n\\n*   **Patent Number:**  A unique identifier (e.g., US1234567B2).\\n*   **Title:**  A brief description of the invention.\\n*   **Inventors:**  The people who conceived of the invention.\\n*   **Assignee:** The company or person who owns the patent rights (often the employer of the inventors).\\n*   **Filing Date:** The date the patent application was initially filed.  This is crucial for establishing priority (who invented it first).\\n*   **Abstract:** A short summary of the invention.\\n*   **Background:**  Describes the problem the invention solves and related prior art (existing technology).\\n*   **Summary:** A more detailed overview of the invention.\\n*   **Drawings:**  Visual representations of the invention.\\n*   **Detailed Description:**  A thorough explanation of how the invention works, often with specific examples and embodiments.\\n*   **Claims:**  The most important part legally.  These define the scope of protection granted by the patent.  They are written in very precise language.  *If someone infringes on a patent, it means they are making, using, selling, or importing something that falls within the scope of at least one claim.*\\n*   **References Cited:** Lists other patents and publications that were considered during the examination process.  These are relevant prior art.\\n\\n**Example Patent:  US10610818B2 - Systems and methods for interactive fitness platform**\\n\\nHere\\'s a breakdown of this example patent, which covers technology related to interactive fitness, similar to Peloton or other connected fitness systems:\\n\\n*   **Link to Google Patents:** [https://patents.google.com/patent/US10610818B2/en](https://patents.google.com/patent/US10610818B2/en)\\n\\n*   **Title:** Systems and methods for interactive fitness platform\\n\\n*   **Inventors:** John Foley (Peloton\\'s CEO), Yony Feng, Hesky Kutscher, Brad Olson, and Christopher Wilmot\\n\\n*   **Assignee:** Peloton Interactive, Inc.\\n\\n*   **Filing Date:** January 20, 2017\\n\\n*   **Abstract:**  \\\"Systems and methods for providing a group fitness experience, where a user participates in an interactive fitness class using a fitness device in a remote location. The system includes an instructor device at a central location configured to capture real-time video and audio of an instructor, and a user device at a remote location configured to receive the real-time video and audio from the instructor device. The user device can also be configured to capture the user\\'s performance data during the fitness class, and transmit the performance data to the instructor device. The instructor device can then be configured to provide feedback to the user based on the user\\'s performance data.\\\"\\n\\n*   **Summary (Simplified):** The patent generally describes a system where a user at home can participate in a live fitness class.  The instructor can see the user\\'s performance data (e.g., heart rate, power output) and provide feedback. The system also allows for social interaction among users.\\n\\n*   **Key Concepts Covered:**\\n    *   Live streaming of fitness classes\\n    *   Tracking and displaying user performance data\\n    *   Instructor feedback based on performance data\\n    *   Social features (leaderboards, user interaction)\\n\\n*   **Example Claim (Claim 1):**  *A fitness system, comprising: a fitness device including a resistance unit; a display coupled to the fitness device; a network interface coupled to the display and configured to establish a network connection; a processor coupled to the network interface and configured to: receive, via the network connection, a first stream of media data associated with a first fitness session taught by an instructor; display, on the display, the first stream of media data; receive, via the network connection, a second stream of media data associated with at least one other participant engaged in the first fitness session; display, on the display, the second stream of media data; receive, via the fitness device, a first performance metric for the participant of the fitness device; display, on the display, the first performance metric for the participant of the fitness device; transmit, via the network connection, the first performance metric to the instructor; and receive, via the network connection, feedback data generated by the instructor based on the first performance metric for the participant of the fitness device, wherein the display is configured to display the feedback data.*\\n\\n    *   **What it means (simplified):** This claim covers a fitness system with a device (like a bike or treadmill), a display screen, a network connection, and a processor. The system receives a live video stream of an instructor, receives a video stream of other participants, tracks your performance data, shows your performance data on the screen, sends your performance data to the instructor, and receives feedback from the instructor.\\n\\n**How to Read a Claim (Important):**\\n\\n*   Claims are written in a specific format. Each claim is one sentence.\\n*   They are very specific and use precise language.\\n*   They often use the word \\\"comprising,\\\" which means \\\"including but not limited to.\\\"  (This is broader than \\\"consisting of,\\\" which means \\\"only.\\\")\\n*   Each element of the claim must be present in an infringing device or method for infringement to occur.\\n\\n**In Summary:**\\n\\nThis example patent covers a system for interactive fitness classes where users can participate remotely, receive feedback from instructors, and interact with other participants.  The claims define the specific elements and functionalities that are protected by the patent.  By reading the claims, you can understand the scope of the invention and what activities would potentially infringe on the patent.\\n\\nRemember to always consult with a patent attorney for legal advice related to patent infringement or validity. This information is for educational purposes only.\\n\"\n",
       "    }\n",
       "  }\n",
       "  finish_reason: STOP\n",
       "  avg_logprobs: -0.32367246047310205\n",
       "}\n",
       "usage_metadata {\n",
       "  prompt_token_count: 6\n",
       "  candidates_token_count: 1472\n",
       "  total_token_count: 1478\n",
       "  prompt_tokens_details {\n",
       "    modality: TEXT\n",
       "    token_count: 6\n",
       "  }\n",
       "  candidates_tokens_details {\n",
       "    modality: TEXT\n",
       "    token_count: 1472\n",
       "  }\n",
       "}\n",
       "model_version: \"gemini-2.0-flash-001\"\n",
       "create_time {\n",
       "  seconds: 1748527940\n",
       "  nanos: 436226000\n",
       "}\n",
       "response_id: \"RGs4aILQGuS4qsMPk5qliAU\""
      ]
     },
     "execution_count": 13,
     "metadata": {},
     "output_type": "execute_result"
    }
   ],
   "source": [
    "# Create prompt that generates example patent\n",
    "# ADD YOUR CODE BELOW\n",
    "prompt = f\"\"\"Show me an example patent\n",
    "\n",
    "\"\"\"\n",
    "\n",
    "# Run model with prompt\n",
    "# Name the output as response_patent\n",
    "# ADD YOUR CODE BELOW\n",
    "response_patent = model.generate_content(prompt)\n",
    "\n",
    "# Print response without blocking it (patent information provided)\n",
    "# ADD YOUR CODE BELOW\n",
    "response_patent\n"
   ]
  },
  {
   "cell_type": "code",
   "execution_count": 14,
   "id": "5dba6d7a-ad2b-495d-a05f-53ee63d07832",
   "metadata": {
    "tags": []
   },
   "outputs": [
    {
     "name": "stdout",
     "output_type": "stream",
     "text": [
      "[Blocked due to category: Patent Related]\n"
     ]
    }
   ],
   "source": [
    "# Block model response that includes patent information (patent information not provided)\n",
    "\n",
    "# ADD YOUR CODE BELOW\n",
    "deidentify_with_replace_infotype(PROJECT_ID, response_patent.text, [\"EMAIL_ADDRESS\"])\n"
   ]
  },
  {
   "cell_type": "code",
   "execution_count": null,
   "id": "e5202161-784f-4d41-96df-53e1c3a10ada",
   "metadata": {},
   "outputs": [],
   "source": []
  }
 ],
 "metadata": {
  "environment": {
   "kernel": "conda-base-py",
   "name": "workbench-notebooks.m129",
   "type": "gcloud",
   "uri": "us-docker.pkg.dev/deeplearning-platform-release/gcr.io/workbench-notebooks:m129"
  },
  "kernelspec": {
   "display_name": "Python 3 (ipykernel) (Local) (Local)",
   "language": "python",
   "name": "conda-base-py"
  },
  "language_info": {
   "codemirror_mode": {
    "name": "ipython",
    "version": 3
   },
   "file_extension": ".py",
   "mimetype": "text/x-python",
   "name": "python",
   "nbconvert_exporter": "python",
   "pygments_lexer": "ipython3",
   "version": "3.10.16"
  }
 },
 "nbformat": 4,
 "nbformat_minor": 5
}
