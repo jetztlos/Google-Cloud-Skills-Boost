{
  "nbformat": 4,
  "nbformat_minor": 0,
  "metadata": {
    "colab": {
      "provenance": [],
      "toc_visible": true
    },
    "kernelspec": {
      "name": "python3",
      "display_name": "Python 3"
    },
    "language_info": {
      "name": "python"
    }
  },
  "cells": [
    {
      "cell_type": "code",
      "source": [
        "gcloud auth list"
      ],
      "metadata": {
        "id": "N574nm5MzxwC"
      },
      "execution_count": null,
      "outputs": []
    },
    {
      "cell_type": "code",
      "source": [
        "gcloud config list project"
      ],
      "metadata": {
        "id": "YRu2IkAIzxsf"
      },
      "execution_count": null,
      "outputs": []
    },
    {
      "cell_type": "code",
      "source": [
        "PROJECT_ID=$(gcloud config get-value project)\n",
        "export BUCKET_NAME=\"${PROJECT_ID}-bucket\""
      ],
      "metadata": {
        "id": "EewDawsxsZT3"
      },
      "execution_count": null,
      "outputs": []
    },
    {
      "cell_type": "code",
      "source": [
        "export REGION=us-central1"
      ],
      "metadata": {
        "id": "t9UNUuPNa6b5"
      },
      "execution_count": null,
      "outputs": []
    },
    {
      "cell_type": "markdown",
      "source": [
        "##Task 1. Create a Cloud Storage bucket"
      ],
      "metadata": {
        "id": "l2wTUrxzqsxj"
      }
    },
    {
      "cell_type": "code",
      "execution_count": null,
      "metadata": {
        "id": "HSBdmV8Nqqzx"
      },
      "outputs": [],
      "source": [
        "gcloud services disable dataflow.googleapis.com\n",
        "gcloud services enable dataflow.googleapis.com"
      ]
    },
    {
      "cell_type": "code",
      "source": [
        "gsutil mb gs://$PROJECT_ID"
      ],
      "metadata": {
        "id": "wRteJquFa6Yr"
      },
      "execution_count": null,
      "outputs": []
    },
    {
      "cell_type": "markdown",
      "source": [
        "##Task 2. Create a BigQuery dataset and table"
      ],
      "metadata": {
        "id": "M6lzXmUNqxGt"
      }
    },
    {
      "cell_type": "code",
      "source": [
        "export DATASET=sensors_287\n",
        "export TABLE=temperature_256"
      ],
      "metadata": {
        "id": "NUkMhoWjaXsG"
      },
      "execution_count": null,
      "outputs": []
    },
    {
      "cell_type": "code",
      "source": [
        "bq mk $DATASET"
      ],
      "metadata": {
        "id": "zNVg4IG0bGKg"
      },
      "execution_count": null,
      "outputs": []
    },
    {
      "cell_type": "code",
      "source": [
        "bq mk --table \\\n",
        "$PROJECT_ID:$DATASET.$TABLE \\\n",
        "data:string"
      ],
      "metadata": {
        "id": "2oa2qziMbnpa"
      },
      "execution_count": null,
      "outputs": []
    },
    {
      "cell_type": "markdown",
      "source": [
        "##Task 3. Set up a Pub/Sub topic"
      ],
      "metadata": {
        "id": "c4ih3A6Oq0lp"
      }
    },
    {
      "cell_type": "code",
      "source": [
        "export TOPIC=sensors-temp-51576"
      ],
      "metadata": {
        "id": "PSpyf1dHbLD1"
      },
      "execution_count": null,
      "outputs": []
    },
    {
      "cell_type": "code",
      "source": [
        "gcloud pubsub topics create $TOPIC"
      ],
      "metadata": {
        "id": "Sy0nPau9aPai"
      },
      "execution_count": null,
      "outputs": []
    },
    {
      "cell_type": "code",
      "source": [
        "gcloud pubsub subscriptions create $TOPIC-sub --topic=$TOPIC"
      ],
      "metadata": {
        "id": "KbI6haPJbv-K"
      },
      "execution_count": null,
      "outputs": []
    },
    {
      "cell_type": "markdown",
      "source": [
        "##Task 4. Run a Dataflow pipeline to stream data from Pub/Sub to BigQuery"
      ],
      "metadata": {
        "id": "2W71B49uMmuu"
      }
    },
    {
      "cell_type": "code",
      "source": [
        "# Dataflow -> + Create job from template ->"
      ],
      "metadata": {
        "id": "AnRsjg3KhAFz"
      },
      "execution_count": null,
      "outputs": []
    },
    {
      "cell_type": "code",
      "source": [
        "# OR\n",
        "export JOB=dfjob-80190"
      ],
      "metadata": {
        "id": "cHgKeaAIat1B"
      },
      "execution_count": null,
      "outputs": []
    },
    {
      "cell_type": "code",
      "source": [
        "gcloud dataflow flex-template run $JOB --region $REGION \\\n",
        "--template-file-gcs-location gs://dataflow-templates-$REGION/latest/flex/PubSub_to_BigQuery_Flex \\\n",
        "--temp-location gs://$PROJECT_ID/temp/ \\\n",
        "--parameters outputTableSpec=$PROJECT_ID:$DATASET.$TABLE,\\\n",
        "inputTopic=projects/$PROJECT_ID/topics/$TOPIC,\\\n",
        "outputDeadletterTable=$PROJECT_ID:$DATASET.$TABLE,\\\n",
        "javascriptTextTransformReloadIntervalMinutes=0,\\\n",
        "useStorageWriteApi=false,\\\n",
        "useStorageWriteApiAtLeastOnce=false,\\\n",
        "numStorageWriteApiStreams=0"
      ],
      "metadata": {
        "id": "6MW7G4QsaP7Q"
      },
      "execution_count": null,
      "outputs": []
    },
    {
      "cell_type": "code",
      "source": [
        "gcloud dataflow jobs run $JOB --gcs-location gs://dataflow-templates-$REGION/latest/PubSub_to_BigQuery --region=$REGION --project=$PROJECT_ID --staging-location gs://$PROJECT_ID/temp --parameters inputTopic=projects/$PROJECT_ID/topics/$TOPIC,outputTableSpec=$PROJECT_ID:$DATASET.$TABLE\n"
      ],
      "metadata": {
        "id": "oqbRUpt-b1j1"
      },
      "execution_count": null,
      "outputs": []
    },
    {
      "cell_type": "code",
      "source": [],
      "metadata": {
        "id": "LQ2a_5rig-me"
      },
      "execution_count": null,
      "outputs": []
    },
    {
      "cell_type": "markdown",
      "source": [
        "##Task 5. Publish a test message to the topic and validate data in BigQuery"
      ],
      "metadata": {
        "id": "zw5hDvSXakiT"
      }
    },
    {
      "cell_type": "code",
      "source": [
        "gcloud pubsub topics publish $TOPIC --message '{\"data\": \"73.4 F\"}'"
      ],
      "metadata": {
        "id": "OoPaA0lKb1gW"
      },
      "execution_count": null,
      "outputs": []
    },
    {
      "cell_type": "code",
      "source": [
        "# BigQuery -> + SQL\n",
        "SELECT * FROM qwiklabs-gcp-01-b48d842fe3af.sensors_287.temperature_256"
      ],
      "metadata": {
        "id": "EhdbdmgEkXr9"
      },
      "execution_count": null,
      "outputs": []
    },
    {
      "cell_type": "code",
      "source": [],
      "metadata": {
        "id": "ffUeIcs6QDwt"
      },
      "execution_count": null,
      "outputs": []
    },
    {
      "cell_type": "code",
      "source": [],
      "metadata": {
        "id": "nuE8Hj80qruo"
      },
      "execution_count": null,
      "outputs": []
    }
  ]
}