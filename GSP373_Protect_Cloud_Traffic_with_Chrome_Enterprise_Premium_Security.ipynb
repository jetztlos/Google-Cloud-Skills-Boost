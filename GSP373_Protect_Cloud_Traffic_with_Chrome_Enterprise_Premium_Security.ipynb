{
  "nbformat": 4,
  "nbformat_minor": 0,
  "metadata": {
    "colab": {
      "provenance": [],
      "toc_visible": true
    },
    "kernelspec": {
      "name": "python3",
      "display_name": "Python 3"
    },
    "language_info": {
      "name": "python"
    }
  },
  "cells": [
    {
      "cell_type": "code",
      "execution_count": null,
      "metadata": {
        "id": "U0-wiHo70hzY"
      },
      "outputs": [],
      "source": [
        "export REGION=$(gcloud compute project-info describe --format=\"value(commonInstanceMetadata.items[google-compute-default-region])\")"
      ]
    },
    {
      "cell_type": "code",
      "source": [
        "gcloud services enable iap.googleapis.com"
      ],
      "metadata": {
        "id": "2LEfkVrZ7J5l"
      },
      "execution_count": null,
      "outputs": []
    },
    {
      "cell_type": "code",
      "source": [
        "gcloud config set project $DEVSHELL_PROJECT_ID"
      ],
      "metadata": {
        "id": "2u-T8j6Z7PDA"
      },
      "execution_count": null,
      "outputs": []
    },
    {
      "cell_type": "markdown",
      "source": [
        "##Task 1. Deploy a provided web application to Google Cloud"
      ],
      "metadata": {
        "id": "fh7VkN0N0znp"
      }
    },
    {
      "cell_type": "code",
      "source": [
        "git clone https://github.com/GoogleCloudPlatform/python-docs-samples.git"
      ],
      "metadata": {
        "id": "rSQsoYX96ou1"
      },
      "execution_count": null,
      "outputs": []
    },
    {
      "cell_type": "code",
      "source": [
        "cd python-docs-samples/appengine/standard_python3/hello_world/"
      ],
      "metadata": {
        "id": "NZB1mgVv7Uvz"
      },
      "execution_count": null,
      "outputs": []
    },
    {
      "cell_type": "code",
      "source": [
        "gcloud app create --project=$(gcloud config get-value project) --region=$REGION"
      ],
      "metadata": {
        "id": "PByI4FKW7XVZ"
      },
      "execution_count": null,
      "outputs": []
    },
    {
      "cell_type": "code",
      "source": [
        "gcloud app deploy --quiet"
      ],
      "metadata": {
        "id": "ZSDKfkTS7boE"
      },
      "execution_count": null,
      "outputs": []
    },
    {
      "cell_type": "markdown",
      "source": [
        "##Task 2. Configure OAuth Consent for the web application deployed"
      ],
      "metadata": {
        "id": "sFAiWjd_01v0"
      }
    },
    {
      "cell_type": "code",
      "source": [
        "export AUTH_DOMAIN=$(gcloud config get-value project).uc.r.appspot.com"
      ],
      "metadata": {
        "id": "pZvZLrsG6pHz"
      },
      "execution_count": null,
      "outputs": []
    },
    {
      "cell_type": "code",
      "source": [
        "EMAIL=\"$(gcloud config get-value core/account)\""
      ],
      "metadata": {
        "id": "pc3xkEtY7mAG"
      },
      "execution_count": null,
      "outputs": []
    },
    {
      "cell_type": "code",
      "source": [
        "cat > details.json << EOF\n",
        "  App name: quickgcplab\n",
        "  Authorized domains: $AUTH_DOMAIN\n",
        "  Developer contact email: $EMAIL\n",
        "EOF"
      ],
      "metadata": {
        "id": "bDs4TVrX7mmp"
      },
      "execution_count": null,
      "outputs": []
    },
    {
      "cell_type": "code",
      "source": [
        "cat details.json"
      ],
      "metadata": {
        "id": "At5wP3z77qTr"
      },
      "execution_count": null,
      "outputs": []
    },
    {
      "cell_type": "markdown",
      "source": [
        "##Task 3. Configure the deployed web application to utilize IAP to protect traffic"
      ],
      "metadata": {
        "id": "3At6RSk505BE"
      }
    },
    {
      "cell_type": "code",
      "source": [
        "# https://console.cloud.google.com/apis/credentials/consent?project=$DEVSHELL_PROJECT_ID${RESET}"
      ],
      "metadata": {
        "id": "rZxI7ZLk6phI"
      },
      "execution_count": null,
      "outputs": []
    },
    {
      "cell_type": "markdown",
      "source": [
        "##Task 4. Authorize the test account access to the App Engine application"
      ],
      "metadata": {
        "id": "C9RCHsVo0_Db"
      }
    },
    {
      "cell_type": "code",
      "source": [
        "# https://console.cloud.google.com/security/iap?tab=applications&project=$DEVSHELL_PROJECT_ID${RESET}\n",
        "# + ADD PRINCIPAL: Tester, IAP-secured Web App User"
      ],
      "metadata": {
        "id": "8N8QHmIX72zD"
      },
      "execution_count": null,
      "outputs": []
    },
    {
      "cell_type": "code",
      "source": [],
      "metadata": {
        "id": "d_fityLm1wuo"
      },
      "execution_count": null,
      "outputs": []
    },
    {
      "cell_type": "code",
      "source": [],
      "metadata": {
        "id": "JLETTRsV3mjF"
      },
      "execution_count": null,
      "outputs": []
    }
  ]
}