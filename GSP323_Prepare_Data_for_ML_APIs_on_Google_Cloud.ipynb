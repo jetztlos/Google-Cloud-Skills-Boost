{
  "nbformat": 4,
  "nbformat_minor": 0,
  "metadata": {
    "colab": {
      "provenance": [],
      "toc_visible": true
    },
    "kernelspec": {
      "name": "python3",
      "display_name": "Python 3"
    },
    "language_info": {
      "name": "python"
    }
  },
  "cells": [
    {
      "cell_type": "code",
      "execution_count": null,
      "metadata": {
        "id": "okcaEfUXRv_Z"
      },
      "outputs": [],
      "source": [
        "gcloud auth list"
      ]
    },
    {
      "cell_type": "code",
      "source": [
        "gcloud config list project"
      ],
      "metadata": {
        "id": "QcRjegE8SAWq"
      },
      "execution_count": null,
      "outputs": []
    },
    {
      "cell_type": "markdown",
      "source": [
        "##Task 1. Run a simple Dataflow job"
      ],
      "metadata": {
        "id": "Aay2jtseR2U_"
      }
    },
    {
      "cell_type": "code",
      "source": [
        "DATASET_NAME=lab_594\n",
        "BUCKET_NAME=qwiklabs-gcp-00-35f44ccb1d23-marking\n",
        "REGION=us-east1\n",
        "TABLE_NAME=customers_871"
      ],
      "metadata": {
        "id": "bPkQKw1KHGjs"
      },
      "execution_count": null,
      "outputs": []
    },
    {
      "cell_type": "code",
      "source": [
        "PROJECT_ID=$(gcloud config get-value project)\n",
        "PROJECT_NUMBER=$(gcloud projects describe \"$PROJECT_ID\" --format=\"json\" | jq -r '.projectNumber')\n",
        "echo $PROJECT_NUMBER"
      ],
      "metadata": {
        "id": "QzA5veecG8pe"
      },
      "execution_count": null,
      "outputs": []
    },
    {
      "cell_type": "code",
      "source": [
        "gcloud services enable apikeys.googleapis.com"
      ],
      "metadata": {
        "id": "bfzZay94G8l7"
      },
      "execution_count": null,
      "outputs": []
    },
    {
      "cell_type": "code",
      "source": [
        "gcloud alpha services api-keys create --display-name=\"awesome\""
      ],
      "metadata": {
        "id": "ie3-lXtIG8j2"
      },
      "execution_count": null,
      "outputs": []
    },
    {
      "cell_type": "code",
      "source": [
        "KEY_NAME=$(gcloud alpha services api-keys list --format=\"value(name)\" --filter \"displayName=awesome\")"
      ],
      "metadata": {
        "id": "7ZVz8-hEIoTG"
      },
      "execution_count": null,
      "outputs": []
    },
    {
      "cell_type": "code",
      "source": [
        "API_KEY=$(gcloud alpha services api-keys get-key-string $KEY_NAME --format=\"value(keyString)\")"
      ],
      "metadata": {
        "id": "_lAo8jsqIoPz"
      },
      "execution_count": null,
      "outputs": []
    },
    {
      "cell_type": "code",
      "source": [
        "bq mk $DATASET_NAME"
      ],
      "metadata": {
        "id": "p6XrM8SkI3xh"
      },
      "execution_count": null,
      "outputs": []
    },
    {
      "cell_type": "code",
      "source": [
        "gsutil mb gs://$BUCKET_NAME"
      ],
      "metadata": {
        "id": "jsCujSiOI3uK"
      },
      "execution_count": null,
      "outputs": []
    },
    {
      "cell_type": "code",
      "source": [
        "gsutil cp gs://cloud-training/gsp323/lab.csv  ."
      ],
      "metadata": {
        "id": "HyVUkP7WIoNh"
      },
      "execution_count": null,
      "outputs": []
    },
    {
      "cell_type": "code",
      "source": [
        "gsutil cp gs://cloud-training/gsp323/lab.schema ."
      ],
      "metadata": {
        "id": "s0g5SIQ3GUM7"
      },
      "execution_count": null,
      "outputs": []
    },
    {
      "cell_type": "code",
      "source": [
        "cat lab.schema"
      ],
      "metadata": {
        "id": "vicvFUZRJXfk"
      },
      "execution_count": null,
      "outputs": []
    },
    {
      "cell_type": "markdown",
      "source": [
        "##Task 2. Run a simple Dataproc job"
      ],
      "metadata": {
        "id": "UWp_BMD1R5vA"
      }
    },
    {
      "cell_type": "code",
      "source": [
        "bq mk --table $DATASET_NAME.$TABLE_NAME lab.schema"
      ],
      "metadata": {
        "id": "dXt2xOiCJXcd"
      },
      "execution_count": null,
      "outputs": []
    },
    {
      "cell_type": "code",
      "source": [
        "gcloud dataflow jobs run quicklab-jobs --gcs-location gs://dataflow-templates-$REGION/latest/GCS_Text_to_BigQuery --region $REGION --worker-machine-type e2-standard-2 --staging-location gs://$DEVSHELL_PROJECT_ID-marking/temp --parameters inputFilePattern=gs://cloud-training/gsp323/lab.csv,JSONPath=gs://cloud-training/gsp323/lab.schema,outputTable=$DEVSHELL_PROJECT_ID:$DATASET_NAME.$TABLE_NAME,bigQueryLoadingTemporaryDirectory=gs://$DEVSHELL_PROJECT_ID-marking/bigquery_temp,javascriptTextTransformGcsPath=gs://cloud-training/gsp323/lab.js,javascriptTextTransformFunctionName=transform\n"
      ],
      "metadata": {
        "id": "C6KeQA3DJXap"
      },
      "execution_count": null,
      "outputs": []
    },
    {
      "cell_type": "markdown",
      "source": [
        "##Task 3. Use the Google Cloud Speech-to-Text API"
      ],
      "metadata": {
        "id": "apjy3TGER9Dt"
      }
    },
    {
      "cell_type": "code",
      "source": [
        "TASK_3_BUCKET_NAME=gs://qwiklabs-gcp-00-35f44ccb1d23-marking/task3-gcs-810.result"
      ],
      "metadata": {
        "id": "YUXBTYw6HSi8"
      },
      "execution_count": null,
      "outputs": []
    },
    {
      "cell_type": "code",
      "source": [
        "gcloud projects add-iam-policy-binding $DEVSHELL_PROJECT_ID \\\n",
        "    --member \"serviceAccount:$PROJECT_NUMBER-compute@developer.gserviceaccount.com\" \\\n",
        "    --role \"roles/storage.admin\""
      ],
      "metadata": {
        "id": "9xS9Boq7J4Q3"
      },
      "execution_count": null,
      "outputs": []
    },
    {
      "cell_type": "code",
      "source": [
        "gcloud projects add-iam-policy-binding $DEVSHELL_PROJECT_ID \\\n",
        "  --member=user:$USER_EMAIL \\\n",
        "  --role=roles/dataproc.editor"
      ],
      "metadata": {
        "id": "jxCMHrw2J4Nf"
      },
      "execution_count": null,
      "outputs": []
    },
    {
      "cell_type": "code",
      "source": [
        "gcloud projects add-iam-policy-binding $DEVSHELL_PROJECT_ID \\\n",
        "  --member=user:$USER_EMAIL \\\n",
        "  --role=roles/storage.objectViewer"
      ],
      "metadata": {
        "id": "9Rq_1TZkJ9eL"
      },
      "execution_count": null,
      "outputs": []
    },
    {
      "cell_type": "code",
      "source": [
        "gcloud compute networks subnets update default \\\n",
        "    --region $REGION \\\n",
        "    --enable-private-ip-google-access"
      ],
      "metadata": {
        "id": "p1b9QikFKAVY"
      },
      "execution_count": null,
      "outputs": []
    },
    {
      "cell_type": "code",
      "source": [
        "gcloud iam service-accounts create quicklab \\\n",
        "  --display-name \"my natural language service account\""
      ],
      "metadata": {
        "id": "LidYTvPXGW8W"
      },
      "execution_count": null,
      "outputs": []
    },
    {
      "cell_type": "code",
      "source": [
        "gcloud iam service-accounts keys create ~/key.json \\\n",
        "  --iam-account quicklab@${GOOGLE_CLOUD_PROJECT}.iam.gserviceaccount.com"
      ],
      "metadata": {
        "id": "pIKNduDFKddk"
      },
      "execution_count": null,
      "outputs": []
    },
    {
      "cell_type": "code",
      "source": [
        "export GOOGLE_APPLICATION_CREDENTIALS=\"/home/$USER/key.json\""
      ],
      "metadata": {
        "id": "vgvgPjAMKdaD"
      },
      "execution_count": null,
      "outputs": []
    },
    {
      "cell_type": "code",
      "source": [
        "gcloud auth activate-service-account quicklab@${GOOGLE_CLOUD_PROJECT}.iam.gserviceaccount.com --key-file=$GOOGLE_APPLICATION_CREDENTIALS"
      ],
      "metadata": {
        "id": "kIOEFrrEKhD2"
      },
      "execution_count": null,
      "outputs": []
    },
    {
      "cell_type": "code",
      "source": [
        "gcloud ml language analyze-entities --content=\"Old Norse texts portray Odin as one-eyed and long-bearded, frequently wielding a spear named Gungnir and wearing a cloak and a broad hat.\" > result.json\n"
      ],
      "metadata": {
        "id": "Urgr-dKDKhAY"
      },
      "execution_count": null,
      "outputs": []
    },
    {
      "cell_type": "code",
      "source": [],
      "metadata": {
        "id": "XMRlD1TjGal-"
      },
      "execution_count": null,
      "outputs": []
    },
    {
      "cell_type": "markdown",
      "source": [
        "##Task 4. Use the Cloud Natural Language API"
      ],
      "metadata": {
        "id": "OuXEaTmtYNxQ"
      }
    },
    {
      "cell_type": "code",
      "source": [
        "TASK_4_BUCKET_NAME=gs://qwiklabs-gcp-00-35f44ccb1d23-marking/task4-cnl-361.result"
      ],
      "metadata": {
        "id": "KPO5eJtTGb2a"
      },
      "execution_count": null,
      "outputs": []
    },
    {
      "cell_type": "code",
      "source": [
        "gsutil cp result.json $TASK_4_BUCKET_NAME"
      ],
      "metadata": {
        "id": "16EqitY-Geec"
      },
      "execution_count": null,
      "outputs": []
    },
    {
      "cell_type": "code",
      "source": [
        "cat > request.json <<EOF\n",
        "{\n",
        "  \"config\": {\n",
        "      \"encoding\":\"FLAC\",\n",
        "      \"languageCode\": \"en-US\"\n",
        "  },\n",
        "  \"audio\": {\n",
        "      \"uri\":\"gs://cloud-training/gsp323/task3.flac\"\n",
        "  }\n",
        "}\n",
        "EOF"
      ],
      "metadata": {
        "id": "AcRScre2K8aN"
      },
      "execution_count": null,
      "outputs": []
    },
    {
      "cell_type": "code",
      "source": [
        "curl -s -X POST -H \"Content-Type: application/json\" --data-binary @request.json \\\n",
        "\"https://speech.googleapis.com/v1/speech:recognize?key=${API_KEY}\" > result.json"
      ],
      "metadata": {
        "id": "ln2oV9b-LCMU"
      },
      "execution_count": null,
      "outputs": []
    },
    {
      "cell_type": "code",
      "source": [
        "gsutil cp result.json $TASK_3_BUCKET_NAME"
      ],
      "metadata": {
        "id": "E0qPqPjGLCI4"
      },
      "execution_count": null,
      "outputs": []
    },
    {
      "cell_type": "code",
      "source": [
        "gcloud iam service-accounts create quickstart"
      ],
      "metadata": {
        "id": "V5m8VMnmLHGe"
      },
      "execution_count": null,
      "outputs": []
    },
    {
      "cell_type": "code",
      "source": [
        "gcloud iam service-accounts keys create key.json --iam-account quickstart@${GOOGLE_CLOUD_PROJECT}.iam.gserviceaccount.com\n"
      ],
      "metadata": {
        "id": "6BxwYvtbLHDJ"
      },
      "execution_count": null,
      "outputs": []
    },
    {
      "cell_type": "code",
      "source": [
        "gcloud auth activate-service-account --key-file key.json"
      ],
      "metadata": {
        "id": "yxvM6uirLOAC"
      },
      "execution_count": null,
      "outputs": []
    },
    {
      "cell_type": "code",
      "source": [
        "export ACCESS_TOKEN=$(gcloud auth print-access-token)"
      ],
      "metadata": {
        "id": "8BEzzAMrLN80"
      },
      "execution_count": null,
      "outputs": []
    },
    {
      "cell_type": "code",
      "source": [
        "cat > request.json <<EOF\n",
        "{\n",
        "   \"inputUri\":\"gs://spls/gsp154/video/train.mp4\",\n",
        "   \"features\": [\n",
        "       \"TEXT_DETECTION\"\n",
        "   ]\n",
        "}\n",
        "EOF"
      ],
      "metadata": {
        "id": "8KQPw7zlLT_Z"
      },
      "execution_count": null,
      "outputs": []
    },
    {
      "cell_type": "code",
      "source": [
        "curl -s -H 'Content-Type: application/json' \\\n",
        "    -H \"Authorization: Bearer $ACCESS_TOKEN\" \\\n",
        "    'https://videointelligence.googleapis.com/v1/videos:annotate' \\\n",
        "    -d @request.json"
      ],
      "metadata": {
        "id": "HnFIGviwLT8E"
      },
      "execution_count": null,
      "outputs": []
    },
    {
      "cell_type": "code",
      "source": [
        "curl -s -H 'Content-Type: application/json' -H \"Authorization: Bearer $ACCESS_TOKEN\" 'https://videointelligence.googleapis.com/v1/operations/OPERATION_FROM_PREVIOUS_REQUEST' > result1.json\n"
      ],
      "metadata": {
        "id": "t-BZU46QLbNx"
      },
      "execution_count": null,
      "outputs": []
    },
    {
      "cell_type": "code",
      "source": [
        "curl -s -X POST -H \"Content-Type: application/json\" --data-binary @request.json \\\n",
        "\"https://speech.googleapis.com/v1/speech:recognize?key=${API_KEY}\" > result.json"
      ],
      "metadata": {
        "id": "rqA9psoyLbKL"
      },
      "execution_count": null,
      "outputs": []
    },
    {
      "cell_type": "code",
      "source": [
        "curl -s -H 'Content-Type: application/json' \\\n",
        "    -H \"Authorization: Bearer $ACCESS_TOKEN\" \\\n",
        "    'https://videointelligence.googleapis.com/v1/videos:annotate' \\\n",
        "    -d @request.json"
      ],
      "metadata": {
        "id": "GSvMKM1aK8Wo"
      },
      "execution_count": null,
      "outputs": []
    },
    {
      "cell_type": "code",
      "source": [
        "curl -s -H 'Content-Type: application/json' -H \"Authorization: Bearer $ACCESS_TOKEN\" 'https://videointelligence.googleapis.com/v1/operations/OPERATION_FROM_PREVIOUS_REQUEST' > result1.json"
      ],
      "metadata": {
        "id": "EvpP5w3YLgkc"
      },
      "execution_count": null,
      "outputs": []
    },
    {
      "cell_type": "code",
      "source": [],
      "metadata": {
        "id": "0_0xTTVZLghA"
      },
      "execution_count": null,
      "outputs": []
    },
    {
      "cell_type": "code",
      "source": [],
      "metadata": {
        "id": "tUzgRh5MGebE"
      },
      "execution_count": null,
      "outputs": []
    },
    {
      "cell_type": "code",
      "source": [],
      "metadata": {
        "id": "cKpblweEYZQT"
      },
      "execution_count": null,
      "outputs": []
    }
  ]
}