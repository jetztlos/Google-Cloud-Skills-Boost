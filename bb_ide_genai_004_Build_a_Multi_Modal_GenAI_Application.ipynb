{
  "nbformat": 4,
  "nbformat_minor": 0,
  "metadata": {
    "colab": {
      "provenance": []
    },
    "kernelspec": {
      "name": "python3",
      "display_name": "Python 3"
    },
    "language_info": {
      "name": "python"
    }
  },
  "cells": [
    {
      "cell_type": "code",
      "execution_count": null,
      "metadata": {
        "id": "snSkBn3uvf04"
      },
      "outputs": [],
      "source": [
        "# Create image.py\n",
        "import argparse\n",
        "\n",
        "import vertexai\n",
        "from vertexai.preview.vision_models import ImageGenerationModel\n",
        "\n",
        "def generate_image(\n",
        "    project_id: str, location: str, output_file: str, prompt: str\n",
        ") -> vertexai.preview.vision_models.ImageGenerationResponse:\n",
        "    \"\"\"Generate an image using a text prompt.\n",
        "    Args:\n",
        "      project_id: Google Cloud project ID, used to initialize Vertex AI.\n",
        "      location: Google Cloud region, used to initialize Vertex AI.\n",
        "      output_file: Local path to the output image file.\n",
        "      prompt: The text prompt describing what you want to see.\"\"\"\n",
        "\n",
        "    vertexai.init(project=project_id, location=location)\n",
        "\n",
        "    model = ImageGenerationModel.from_pretrained(\"imagegeneration@002\")\n",
        "\n",
        "    images = model.generate_images(\n",
        "        prompt=prompt,\n",
        "        # Optional parameters\n",
        "        number_of_images=1,\n",
        "        seed=1,\n",
        "        add_watermark=False,\n",
        "    )\n",
        "\n",
        "    images[0].save(location=output_file)\n",
        "\n",
        "    return images\n",
        "\n",
        "generate_image(\n",
        "    project_id='qwiklabs-gcp-03-c7e26d46edd7',\n",
        "    location='us-west1',\n",
        "    output_file='image.jpeg',\n",
        "    prompt='Create an image containing a bouquet of 2 sunflowers and 3 roses',\n",
        "    )\n",
        "\n",
        "generate_image(\n",
        "    project_id='qwiklabs-gcp-03-39c1d0245fe5',\n",
        "    location='us-east4',\n",
        "    output_file='image.jpeg',\n",
        "    prompt='Create an image containing a bouquet of 2 sunflowers and 3 roses',\n",
        "    )"
      ]
    },
    {
      "cell_type": "code",
      "source": [
        "/usr/bin/python3/ home/student/image.py"
      ],
      "metadata": {
        "id": "5rgSj9F65evE"
      },
      "execution_count": null,
      "outputs": []
    },
    {
      "cell_type": "code",
      "source": [
        "# Create genai.py\n",
        "import vertexai\n",
        "from vertexai.generative_models import GenerativeModel, Part\n",
        "\n",
        "project_id='qwiklabs-gcp-03-39c1d0245fe5'\n",
        "location='us-east4'\n",
        "\n",
        "def generate_text(project_id: str, location: str) -> str:\n",
        "    # Initialize Vertex AI\n",
        "    vertexai.init(project=project_id, location=location)\n",
        "    # Load the model\n",
        "    multimodal_model = GenerativeModel(\"gemini-1.0-pro-vision\")\n",
        "    # Query the model\n",
        "    response = multimodal_model.generate_content(\n",
        "        [\n",
        "            # Add an example image\n",
        "            Part.from_uri(\n",
        "                \"gs://generativeai-downloads/images/scones.jpg\", mime_type=\"image/jpeg\"\n",
        "            ),\n",
        "            # Add an example query\n",
        "            \"what is shown in this image?\",\n",
        "        ]\n",
        "    )\n",
        "\n",
        "    return response.text\n",
        "\n",
        "response = generate_text(project_id, location)\n",
        "print(response)"
      ],
      "metadata": {
        "id": "6LZTSgUIvuIE"
      },
      "execution_count": null,
      "outputs": []
    },
    {
      "cell_type": "code",
      "source": [
        "/usr/bin/python3 /home/student/genai.py"
      ],
      "metadata": {
        "id": "P54Nk4M_vuF_"
      },
      "execution_count": null,
      "outputs": []
    },
    {
      "cell_type": "code",
      "source": [],
      "metadata": {
        "id": "nijIr4N25myV"
      },
      "execution_count": null,
      "outputs": []
    }
  ]
}