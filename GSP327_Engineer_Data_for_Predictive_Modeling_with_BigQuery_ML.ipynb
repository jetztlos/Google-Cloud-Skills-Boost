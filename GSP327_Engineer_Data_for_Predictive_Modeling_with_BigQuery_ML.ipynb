{
  "nbformat": 4,
  "nbformat_minor": 0,
  "metadata": {
    "colab": {
      "provenance": []
    },
    "kernelspec": {
      "name": "python3",
      "display_name": "Python 3"
    },
    "language_info": {
      "name": "python"
    }
  },
  "cells": [
    {
      "cell_type": "markdown",
      "source": [
        "##Task 1. Clean your training data"
      ],
      "metadata": {
        "id": "V9xt-BHBOuy8"
      }
    },
    {
      "cell_type": "code",
      "source": [
        "# BQ -> +SQL\n",
        "\n",
        "CREATE OR REPLACE TABLE\n",
        "  taxirides.taxi_training_data_629 AS\n",
        "SELECT\n",
        "  (tolls_amount + fare_amount) AS fare_amount_891,\n",
        "  pickup_datetime,\n",
        "  pickup_longitude AS pickuplon,\n",
        "  pickup_latitude AS pickuplat,\n",
        "  dropoff_longitude AS dropofflon,\n",
        "  dropoff_latitude AS dropofflat,\n",
        "  passenger_count AS passengers,\n",
        "FROM\n",
        "  taxirides.historical_taxi_rides_raw\n",
        "WHERE\n",
        "  RAND() < 0.001\n",
        "  AND trip_distance > 0\n",
        "  AND fare_amount >= 2.5\n",
        "  AND pickup_longitude > -78\n",
        "  AND pickup_longitude < -70\n",
        "  AND dropoff_longitude > -78\n",
        "  AND dropoff_longitude < -70\n",
        "  AND pickup_latitude > 37\n",
        "  AND pickup_latitude < 45\n",
        "  AND dropoff_latitude > 37\n",
        "  AND dropoff_latitude < 45\n",
        "  AND passenger_count > 0"
      ],
      "metadata": {
        "id": "RpvP-FCoOz7B"
      },
      "execution_count": null,
      "outputs": []
    },
    {
      "cell_type": "markdown",
      "source": [
        "##Task 2. Create a BigQuery ML model"
      ],
      "metadata": {
        "id": "RFoOaqCPOuvw"
      }
    },
    {
      "cell_type": "code",
      "source": [
        "CREATE OR REPLACE MODEL taxirides.fare_model_449\n",
        "TRANSFORM(\n",
        "  * EXCEPT(pickup_datetime)\n",
        "\n",
        "  , ST_Distance(ST_GeogPoint(pickuplon, pickuplat), ST_GeogPoint(dropofflon, dropofflat)) AS euclidean\n",
        "  , CAST(EXTRACT(DAYOFWEEK FROM pickup_datetime) AS STRING) AS dayofweek\n",
        "  , CAST(EXTRACT(HOUR FROM pickup_datetime) AS STRING) AS hourofday\n",
        ")\n",
        "OPTIONS(input_label_cols=['fare_amount_891'], model_type='linear_reg')\n",
        "AS\n",
        "\n",
        "SELECT * FROM taxirides.taxi_training_data_629"
      ],
      "metadata": {
        "id": "1co95aonO3u-"
      },
      "execution_count": null,
      "outputs": []
    },
    {
      "cell_type": "markdown",
      "source": [
        "##Task 3. Perform a batch prediction on new data"
      ],
      "metadata": {
        "id": "E6QyUjf8O4GF"
      }
    },
    {
      "cell_type": "code",
      "source": [
        "CREATE OR REPLACE TABLE taxirides.2015_fare_amount_predictions\n",
        "  AS\n",
        "SELECT * FROM ML.PREDICT(MODEL taxirides.fare_model_449,(\n",
        "  SELECT * FROM taxirides.report_prediction_data)\n",
        ")"
      ],
      "metadata": {
        "id": "R3bGDFArO7ZA"
      },
      "execution_count": null,
      "outputs": []
    },
    {
      "cell_type": "code",
      "execution_count": null,
      "metadata": {
        "id": "JSHEkNMrOpxU"
      },
      "outputs": [],
      "source": []
    }
  ]
}