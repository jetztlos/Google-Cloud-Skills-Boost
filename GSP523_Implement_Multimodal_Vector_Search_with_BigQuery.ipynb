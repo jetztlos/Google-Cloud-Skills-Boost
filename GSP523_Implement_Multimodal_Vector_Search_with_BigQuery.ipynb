{
  "nbformat": 4,
  "nbformat_minor": 0,
  "metadata": {
    "colab": {
      "provenance": []
    },
    "kernelspec": {
      "name": "python3",
      "display_name": "Python 3"
    },
    "language_info": {
      "name": "python"
    }
  },
  "cells": [
    {
      "cell_type": "code",
      "execution_count": null,
      "metadata": {
        "id": "RZby3yCibkR8"
      },
      "outputs": [],
      "source": [
        "# Cloud Shell\n",
        "gcloud auth list"
      ]
    },
    {
      "cell_type": "code",
      "source": [
        "export REGION=us-central1\n",
        "export PROJECT_ID=qwiklabs-gcp-04-eded8a2552c7"
      ],
      "metadata": {
        "id": "6JSna1gkcFTe"
      },
      "execution_count": null,
      "outputs": []
    },
    {
      "cell_type": "markdown",
      "source": [
        "##Task 1. Create a source connection and grant IAM permissions"
      ],
      "metadata": {
        "id": "s0oFkt8fbsYV"
      }
    },
    {
      "cell_type": "code",
      "source": [
        "# API & Services -> Library -> Vertex AI API -> Enable etc. OR\n",
        "gcloud services enable aiplatform.googleapis.com"
      ],
      "metadata": {
        "id": "_3Lj3e_fcvjf"
      },
      "execution_count": null,
      "outputs": []
    },
    {
      "cell_type": "code",
      "source": [
        "# BiqQuery -> + Add Connection -> Vertex AI etc. OR\n",
        "bq mk --connection --location=$REGION --project_id=$PROJECT_ID --connection_type=CLOUD_RESOURCE vector_conn"
      ],
      "metadata": {
        "id": "4bJfMM8Ubwqd"
      },
      "execution_count": null,
      "outputs": []
    },
    {
      "cell_type": "code",
      "source": [
        "# IAM & Admin -> IAM -> + Grant access etc. OR\n",
        "SERVICE_ACCOUNT=$(bq show --format=json --connection $PROJECT_ID.$REGION.vector_conn | jq -r '.cloudResource.serviceAccountId')\n",
        "echo \"Service Account: $SERVICE_ACCOUNT\""
      ],
      "metadata": {
        "id": "2j97PA5dc9CW"
      },
      "execution_count": null,
      "outputs": []
    },
    {
      "cell_type": "code",
      "source": [
        "gcloud projects add-iam-policy-binding $PROJECT_ID \\\n",
        "  --member=\"serviceAccount:$SERVICE_ACCOUNT\" \\\n",
        "  --role=\"roles/bigquery.dataOwner\""
      ],
      "metadata": {
        "id": "9HenuXbhdCMH"
      },
      "execution_count": null,
      "outputs": []
    },
    {
      "cell_type": "code",
      "source": [
        "gcloud projects add-iam-policy-binding $PROJECT_ID \\\n",
        "  --member=\"serviceAccount:$SERVICE_ACCOUNT\" \\\n",
        "  --role=\"roles/storage.objectViewer\""
      ],
      "metadata": {
        "id": "9ueniBO-dCIp"
      },
      "execution_count": null,
      "outputs": []
    },
    {
      "cell_type": "code",
      "source": [
        "gcloud projects add-iam-policy-binding $PROJECT_ID \\\n",
        "  --member=\"serviceAccount:$SERVICE_ACCOUNT\" \\\n",
        "  --role=\"roles/aiplatform.user\""
      ],
      "metadata": {
        "id": "8AMuq9cdbxGb"
      },
      "execution_count": null,
      "outputs": []
    },
    {
      "cell_type": "markdown",
      "source": [
        "##Task 2. Create an object table"
      ],
      "metadata": {
        "id": "M8V4UknDbx7i"
      }
    },
    {
      "cell_type": "code",
      "source": [
        "# BigQuery -> + SQL -> Run\n",
        "Create or replace external table `[PROJECT_ID].[DATASET_NAME].[OBJECT_TABLE_NAME]`\n",
        "with connection `[PROJECT_ID].[CONNECTION_REGION].[CONNECTION_NAME]`\n",
        "options\n",
        "(\n",
        "object_metadata='SIMPLE',\n",
        "uris=['gs://[PROJECT_ID]/*']\n",
        ")"
      ],
      "metadata": {
        "id": "EpMJDXDpb2WM"
      },
      "execution_count": null,
      "outputs": []
    },
    {
      "cell_type": "code",
      "source": [
        "# OR\n",
        "bq query --use_legacy_sql=false \"\n",
        "CREATE OR REPLACE EXTERNAL TABLE \\`${PROJECT_ID}.gcc_bqml_dataset.gcc_image_object_table\\`\n",
        "WITH CONNECTION \\`${REGION}.vector_conn\\`\n",
        "OPTIONS (\n",
        "  object_metadata = 'SIMPLE',\n",
        "  uris = ['gs://${PROJECT_ID}/*']\n",
        ")\""
      ],
      "metadata": {
        "id": "XZ0nq5Rfb12U"
      },
      "execution_count": null,
      "outputs": []
    },
    {
      "cell_type": "markdown",
      "source": [
        "##Task 3. Generate embeddings"
      ],
      "metadata": {
        "id": "OS-nVRxtb2vE"
      }
    },
    {
      "cell_type": "code",
      "source": [
        "# + SQL\n",
        "Create or replace model\n",
        "`[PROJECT_ID].[DATASET_NAME].[MODEL_NAME]`\n",
        "remote with connection `[PROJECT_ID].[CONNECTION_REGION].[CONNECTION_NAME]`\n",
        "options(\n",
        "[DEFINE_ENDPOINT]\n",
        ");"
      ],
      "metadata": {
        "id": "0yCxlLJwb6Ot"
      },
      "execution_count": null,
      "outputs": []
    },
    {
      "cell_type": "code",
      "source": [
        "# OR\n",
        "bq query --use_legacy_sql=false \"\n",
        "CREATE OR REPLACE MODEL \\`${PROJECT_ID}.gcc_bqml_dataset.gcc_embedding\\`\n",
        "REMOTE WITH CONNECTION \\`${REGION}.vector_conn\\`\n",
        "OPTIONS (\n",
        "  endpoint = 'multimodalembedding@001'\n",
        ");\""
      ],
      "metadata": {
        "id": "d9zxFY5sb7tm"
      },
      "execution_count": null,
      "outputs": []
    },
    {
      "cell_type": "code",
      "source": [
        "# + SQL\n",
        "Create or replace table `[PROJECT_ID].[DATASET_NAME].[EMBEDDINGS_TABLE_NAME]`\n",
        "as select *, REGEXP_EXTRACT(uri, r'[^/]+$') as product_name\n",
        "from [EMBEDDINGS_FUNCTION]\n",
        "(\n",
        "MODEL `[PROJECT_ID].[DATASET_NAME].[MODEL_NAME]`,\n",
        "TABLE `[PROJECT_ID].[DATASET_NAME].[OBJECT_TABLE_NAME]`\n",
        ")"
      ],
      "metadata": {
        "id": "1lx90u88fmkt"
      },
      "execution_count": null,
      "outputs": []
    },
    {
      "cell_type": "code",
      "source": [
        "# OR\n",
        "bq query --use_legacy_sql=false \"\n",
        "CREATE OR REPLACE TABLE \\`${PROJECT_ID}.gcc_bqml_dataset.gcc_retail_store_embeddings\\` AS\n",
        "SELECT *, REGEXP_EXTRACT(uri, r'[^/]+$') AS product_name\n",
        "FROM ML.GENERATE_EMBEDDING(\n",
        "  MODEL \\`${PROJECT_ID}.gcc_bqml_dataset.gcc_embedding\\`,\n",
        "  TABLE \\`${PROJECT_ID}.gcc_bqml_dataset.gcc_image_object_table\\`\n",
        ");\""
      ],
      "metadata": {
        "id": "1BaQILAhfXln"
      },
      "execution_count": null,
      "outputs": []
    },
    {
      "cell_type": "code",
      "source": [
        "# + SQL\n",
        "SELECT * FROM `[PROJECT_ID].[DATASET_NAME].[EMBEDDINGS_TABLE_NAME]`"
      ],
      "metadata": {
        "id": "FPqxYuOlfx3Z"
      },
      "execution_count": null,
      "outputs": []
    },
    {
      "cell_type": "code",
      "source": [
        "# OR\n",
        "bq show --format=prettyjson ${PROJECT_ID}:gcc_bqml_dataset.gcc_retail_store_embeddings"
      ],
      "metadata": {
        "id": "vTKEoPRkfXd7"
      },
      "execution_count": null,
      "outputs": []
    },
    {
      "cell_type": "markdown",
      "source": [
        "##Task 4. Run a vector search"
      ],
      "metadata": {
        "id": "fOiRooZzb8Kh"
      }
    },
    {
      "cell_type": "code",
      "source": [
        "# + SQL\n",
        "Create or replace table `[PROJECT_ID].[DATASET_NAME].[SEARCH_RESULTS_TABLE]` AS\n",
        "select base.uri,\n",
        "base.product_name,\n",
        "base.content_type,\n",
        "distance\n",
        " from\n",
        "[VECTOR_SEARCH_FUNCTION](table [DATASET_NAME].[EMBEDDINGS_TABLE_NAME],'ml_generate_embedding_result',\n",
        "(\n",
        "SELECT ml_generate_embedding_result as embedding_col\n",
        "FROM\n",
        " [EMBEDDINGS_FUNCTION]\n",
        " (\n",
        "   MODEL `[DATASET_NAME].[MODEL_NAME]`,\n",
        "   (select 'Men Sweaters' as content),\n",
        "   STRUCT(TRUE AS flatten_json_output)\n",
        " )\n",
        "),\n",
        "  [STATEMENT_TO_SELECT_TOP_2_RESULTS],\n",
        "  distance_type => 'COSINE'\n",
        ");"
      ],
      "metadata": {
        "id": "gN5l4wuab7qB"
      },
      "execution_count": null,
      "outputs": []
    },
    {
      "cell_type": "code",
      "source": [
        "# OR\n",
        "bq query --use_legacy_sql=false \"\n",
        "CREATE OR REPLACE TABLE \\`${PROJECT_ID}.gcc_bqml_dataset.gcc_vector_search_table\\` AS\n",
        "SELECT\n",
        "  base.uri,\n",
        "  base.product_name,\n",
        "  base.content_type,\n",
        "  distance\n",
        "FROM\n",
        "  VECTOR_SEARCH(\n",
        "    TABLE \\`${PROJECT_ID}.gcc_bqml_dataset.gcc_retail_store_embeddings\\`,\n",
        "    'ml_generate_embedding_result',\n",
        "    (\n",
        "      SELECT\n",
        "        ml_generate_embedding_result AS embedding_col\n",
        "      FROM\n",
        "        ML.GENERATE_EMBEDDING(\n",
        "          MODEL \\`${PROJECT_ID}.gcc_bqml_dataset.gcc_embedding\\`,\n",
        "          (SELECT 'Men Sweaters' AS content),\n",
        "          STRUCT(TRUE AS flatten_json_output)\n",
        "        )\n",
        "    ),\n",
        "    top_k => 3,\n",
        "    distance_type => 'COSINE'\n",
        "  );\n",
        "\""
      ],
      "metadata": {
        "id": "eF_S4FtUb7oO"
      },
      "execution_count": null,
      "outputs": []
    },
    {
      "cell_type": "code",
      "source": [],
      "metadata": {
        "id": "_Jm_spRab6qQ"
      },
      "execution_count": null,
      "outputs": []
    },
    {
      "cell_type": "code",
      "source": [],
      "metadata": {
        "id": "bM-1sVk_bxjo"
      },
      "execution_count": null,
      "outputs": []
    },
    {
      "cell_type": "code",
      "source": [],
      "metadata": {
        "id": "1ZQ8N1J8bxgX"
      },
      "execution_count": null,
      "outputs": []
    }
  ]
}