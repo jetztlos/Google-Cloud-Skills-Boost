{
  "nbformat": 4,
  "nbformat_minor": 0,
  "metadata": {
    "colab": {
      "provenance": [],
      "toc_visible": true
    },
    "kernelspec": {
      "name": "python3",
      "display_name": "Python 3"
    },
    "language_info": {
      "name": "python"
    }
  },
  "cells": [
    {
      "cell_type": "code",
      "source": [
        "# Set environment variables\n",
        "export ZONE=us-east4-a\n",
        "export REGION=us-east4\n",
        "export PROJECT_ID=qwiklabs-gcp-01-b3ef8f956410\n",
        "export CLUSTER_NAME=echo-cluster"
      ],
      "metadata": {
        "id": "gO1t86U-ym3A"
      },
      "execution_count": null,
      "outputs": []
    },
    {
      "cell_type": "markdown",
      "source": [
        "##Task 1. Build and deploy the updated application with a new tag"
      ],
      "metadata": {
        "id": "7OFm_PbKFe2A"
      }
    },
    {
      "cell_type": "code",
      "source": [
        "# The updated sample application, including the Dockerfile and the application context files, are contained in an archive called echo-web-v2.tar.gz.\n",
        "# The archive has been copied to a Cloud Storage bucket in your lab project called gs://qwiklabs-gcp-01-b3ef8f956410. V2 of the application adds a version number to the output of the application.\n",
        "# In this task, you will download the archive, build the Docker image, and tag it with the v2 tag.\n",
        "\n",
        "gsutil cp gs://$DEVSHELL_PROJECT_ID/echo-web-v2.tar.gz .\n",
        "tar -xzvf echo-web-v2.tar.gz"
      ],
      "metadata": {
        "id": "KhwFdpr2GXr_"
      },
      "execution_count": null,
      "outputs": []
    },
    {
      "cell_type": "code",
      "source": [
        "docker build -t echo-app:v2 ."
      ],
      "metadata": {
        "id": "J8wkzwFDGXos"
      },
      "execution_count": null,
      "outputs": []
    },
    {
      "cell_type": "code",
      "source": [
        "docker tag echo-app:v2 gcr.io/${PROJECT_ID}/echo-app:v2"
      ],
      "metadata": {
        "id": "Neu0S5cEGErh"
      },
      "execution_count": null,
      "outputs": []
    },
    {
      "cell_type": "markdown",
      "source": [
        "##Task 2. Push the image to the Container Registry"
      ],
      "metadata": {
        "id": "jPeLrzoOFeyh"
      }
    },
    {
      "cell_type": "code",
      "source": [
        "# Your organization uses the Container Registry to host Docker images for deployments, and uses the gcr.io Container Registry hostname for all projects.\n",
        "# You must push the updated image to the Container Registry before deploying it.\n",
        "\n",
        "docker push gcr.io/${PROJECT_ID}/echo-app:v2"
      ],
      "metadata": {
        "id": "rWh3A9FaGm0c"
      },
      "execution_count": null,
      "outputs": []
    },
    {
      "cell_type": "markdown",
      "source": [
        "##Task 3. Deploy the updated application to the Kubernetes cluster"
      ],
      "metadata": {
        "id": "l0hd_8o2_iS3"
      }
    },
    {
      "cell_type": "code",
      "source": [
        "# In this task, you will deploy the updated application to the Kubernetes cluster.\n",
        "# The deployment should be named echo-web and the application should be exposed on port 80.\n",
        "# The application should be accessible from outside the cluster.\n",
        "\n",
        "gcloud container clusters get-credentials $CLUSTER_NAME --zone $ZONE"
      ],
      "metadata": {
        "id": "fJ_w6NsBGmlH"
      },
      "execution_count": null,
      "outputs": []
    },
    {
      "cell_type": "code",
      "source": [
        "kubectl create deployment echo-web --image=gcr.io/${PROJECT_ID}/echo-app:v2"
      ],
      "metadata": {
        "id": "yw4SIr6KKGZR"
      },
      "execution_count": null,
      "outputs": []
    },
    {
      "cell_type": "code",
      "source": [
        "kubectl expose deployment echo-web --type=LoadBalancer --port 80 --target-port 8000"
      ],
      "metadata": {
        "id": "pK35M8rJIMmj"
      },
      "execution_count": null,
      "outputs": []
    },
    {
      "cell_type": "code",
      "source": [
        "kubectl set image deployment/echo-web echo-app=gcr.io/$PROJECT_ID/echo-app:v2"
      ],
      "metadata": {
        "id": "Men9FddjGtWh"
      },
      "execution_count": null,
      "outputs": []
    },
    {
      "cell_type": "markdown",
      "source": [
        "##Task 4. Scale out the application"
      ],
      "metadata": {
        "id": "kOvwTm_M_2hW"
      }
    },
    {
      "cell_type": "code",
      "source": [
        "# In this task, you will need to scale out the application to 2 replicas.\n",
        "\n",
        "kubectl scale deployment echo-web --replicas=2"
      ],
      "metadata": {
        "id": "6S6V7YW9Gxb4"
      },
      "execution_count": null,
      "outputs": []
    },
    {
      "cell_type": "markdown",
      "source": [
        "##Task 5. Confirm the application is running"
      ],
      "metadata": {
        "id": "4vx5wg7-F8EO"
      }
    },
    {
      "cell_type": "code",
      "source": [
        "# In this task, you will need to confirm that the application is running and responding correctly.\n",
        "# You can use the external IP address of the application to test it.\n",
        "\n",
        "kubectl get services"
      ],
      "metadata": {
        "id": "NysXrIy8GyGi"
      },
      "execution_count": null,
      "outputs": []
    },
    {
      "cell_type": "code",
      "source": [
        "curl http://34.145.154.216"
      ],
      "metadata": {
        "id": "HH-Fe4dvGyDZ"
      },
      "execution_count": null,
      "outputs": []
    },
    {
      "cell_type": "code",
      "source": [],
      "metadata": {
        "id": "qtmk5NhlAijj"
      },
      "execution_count": null,
      "outputs": []
    }
  ]
}