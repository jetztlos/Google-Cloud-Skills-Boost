{
  "nbformat": 4,
  "nbformat_minor": 0,
  "metadata": {
    "colab": {
      "provenance": [],
      "toc_visible": true
    },
    "kernelspec": {
      "name": "python3",
      "display_name": "Python 3"
    },
    "language_info": {
      "name": "python"
    }
  },
  "cells": [
    {
      "cell_type": "markdown",
      "source": [
        "##Task 1. Create a storage bucket"
      ],
      "metadata": {
        "id": "7OFm_PbKFe2A"
      }
    },
    {
      "cell_type": "code",
      "source": [
        "gsutil mb gs://$DEVSHELL_PROJECT_ID"
      ],
      "metadata": {
        "id": "QawRcdZ5Fi2j"
      },
      "execution_count": null,
      "outputs": []
    },
    {
      "cell_type": "code",
      "source": [
        "gsutil cp gs://sureskills-ql/challenge-labs/ch01-startup-script/install-web.sh gs://$DEVSHELL_PROJECT_ID"
      ],
      "metadata": {
        "id": "D4--sFpKu1PI"
      },
      "execution_count": null,
      "outputs": []
    },
    {
      "cell_type": "markdown",
      "source": [
        "##Task 2. Create a VM instance with a remote startup script"
      ],
      "metadata": {
        "id": "jPeLrzoOFeyh"
      }
    },
    {
      "cell_type": "code",
      "source": [
        "# Compute Engine -> VM Instances: zone=us-east4-a"
      ],
      "metadata": {
        "id": "vck6-EXPv_ZS"
      },
      "execution_count": null,
      "outputs": []
    },
    {
      "cell_type": "code",
      "source": [
        "gcloud compute instances create example-instance --zone=us-east4-a --tags=http-server --metadata startup-script-url=gs://$DEVSHELL_PROJECT_ID/install-web.sh"
      ],
      "metadata": {
        "id": "pOVoY6GzAQuP"
      },
      "execution_count": null,
      "outputs": []
    },
    {
      "cell_type": "markdown",
      "source": [
        "##Task 3. Create a firewall rule to allow traffic (80/tcp)"
      ],
      "metadata": {
        "id": "l0hd_8o2_iS3"
      }
    },
    {
      "cell_type": "code",
      "source": [
        "gcloud compute firewall-rules create allow-http --target-tags http-server --source-ranges 0.0.0.0/0 --allow tcp:80"
      ],
      "metadata": {
        "id": "ewUAKYI6-rY_"
      },
      "execution_count": null,
      "outputs": []
    },
    {
      "cell_type": "markdown",
      "source": [
        "##Task 4. Test that the VM is serving web content"
      ],
      "metadata": {
        "id": "R_2AT22kmOvW"
      }
    },
    {
      "cell_type": "code",
      "source": [],
      "metadata": {
        "id": "eDmWtrO6mhar"
      },
      "execution_count": null,
      "outputs": []
    }
  ]
}