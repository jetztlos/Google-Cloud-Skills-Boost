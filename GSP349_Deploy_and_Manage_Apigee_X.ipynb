{
  "nbformat": 4,
  "nbformat_minor": 0,
  "metadata": {
    "colab": {
      "provenance": [],
      "toc_visible": true
    },
    "kernelspec": {
      "name": "python3",
      "display_name": "Python 3"
    },
    "language_info": {
      "name": "python"
    }
  },
  "cells": [
    {
      "cell_type": "code",
      "source": [],
      "metadata": {
        "id": "jPKAdxJAhhU1"
      },
      "execution_count": null,
      "outputs": []
    },
    {
      "cell_type": "markdown",
      "source": [
        "##Task 1. Modify the environments and environment groups"
      ],
      "metadata": {
        "id": "_Bq7dn2_PQz4"
      }
    },
    {
      "cell_type": "code",
      "source": [
        "# Add staging environment: Admin -> Environments -> Overview: + Environment ... -> Create"
      ],
      "metadata": {
        "id": "D1VI_UpqhnY-"
      },
      "execution_count": null,
      "outputs": []
    },
    {
      "cell_type": "code",
      "source": [
        "# Add staging environment group: Admin -> Environments -> Groups: + Environment Group ..."
      ],
      "metadata": {
        "id": "_QAXSHmnhjHA"
      },
      "execution_count": null,
      "outputs": []
    },
    {
      "cell_type": "markdown",
      "source": [
        "##Task 2. Use the provisioning wizard to set up access routing"
      ],
      "metadata": {
        "id": "ngL4RcDgPWOv"
      }
    },
    {
      "cell_type": "code",
      "source": [
        "# Access routing -> Edit: Enable internet access, Use wildcard DNS service, Subnetwork [api-subnet] -> Set Access"
      ],
      "metadata": {
        "id": "IZcHga-Whnw_"
      },
      "execution_count": null,
      "outputs": []
    },
    {
      "cell_type": "markdown",
      "source": [
        "##Task 3. Create and activate a NAT address for the instance"
      ],
      "metadata": {
        "id": "MZP8b5RbPZrq"
      }
    },
    {
      "cell_type": "code",
      "source": [
        "# Create NAT address: Apigee API -> organizations.instances.natAddresses\n",
        "# -> create, Try this API [organizations/qwiklabs-gcp-01-8b3cab7b3a39/instances/eval-instance],\n",
        "# Add request body parameters, name [apigee-nat-ip] -> Execute"
      ],
      "metadata": {
        "id": "sORW5699jDkF"
      },
      "execution_count": null,
      "outputs": []
    },
    {
      "cell_type": "code",
      "source": [
        "# Activate NAT address: Apigee API -> organizations.instances.natAddresses\n",
        "# -> activate, Try this API [organizations/qwiklabs-gcp-01-8b3cab7b3a39/instances/eval-instance/natAddresses/apigee-nat-ip] -> Execute"
      ],
      "metadata": {
        "id": "cY60_JGkhm_m"
      },
      "execution_count": null,
      "outputs": []
    },
    {
      "cell_type": "markdown",
      "source": [
        "##Task 4. Create a Cloud Armor security policy and attach it to the global load balancer"
      ],
      "metadata": {
        "id": "PAP9PbcWhy9q"
      }
    },
    {
      "cell_type": "code",
      "source": [
        "# Create the Cloud Armor policy: Network security -> Cloud Armor -> Create policy: [protect-apigee], Default rule action: Allow,\n",
        "# Next step -> + Add rule -> Advanced mode: Match [evaluatePreconfiguredExpr('rce-stable')], Action: Deny, Deny status: 403 (Forbidden), Priority: 1000"
      ],
      "metadata": {
        "id": "O5vrnUG2hm8K"
      },
      "execution_count": null,
      "outputs": []
    },
    {
      "cell_type": "code",
      "source": [
        "# Attach the Cloud Armor policy: [protect-apigee] -> [three dots]: Apply policy to target -> + Add target: [apigee-proxy-backend]"
      ],
      "metadata": {
        "id": "rHbRHTNpkKhF"
      },
      "execution_count": null,
      "outputs": []
    },
    {
      "cell_type": "markdown",
      "source": [
        "##Task 5. Attach the staging environment to the runtime instance"
      ],
      "metadata": {
        "id": "2m7mhCDNh4sp"
      }
    },
    {
      "cell_type": "code",
      "source": [
        "# Cloud Shell\n",
        "echo ${GOOGLE_CLOUD_PROJECT}"
      ],
      "metadata": {
        "id": "qn3SCafuh3x9"
      },
      "execution_count": null,
      "outputs": []
    },
    {
      "cell_type": "code",
      "source": [
        "export INSTANCE_NAME=eval-instance; curl -s -H \"Authorization: Bearer $(gcloud auth print-access-token)\" -H \"Content-Type: application/json\" -X POST \"https://apigee.googleapis.com/v1/organizations/${GOOGLE_CLOUD_PROJECT}/instances/${INSTANCE_NAME}/attachments\" -d '{ \"environment\": \"staging\" }' | jq\n"
      ],
      "metadata": {
        "id": "zb_1ZfU6h4S8"
      },
      "execution_count": null,
      "outputs": []
    },
    {
      "cell_type": "code",
      "source": [
        "export ATTACHING_ENV=staging; export INSTANCE_NAME=eval-instance; echo \"waiting for ${ATTACHING_ENV} attachment\"; while : ; do export ATTACHMENT_DONE=$(curl -s -H \"Authorization: Bearer $(gcloud auth print-access-token)\" -X GET \"https://apigee.googleapis.com/v1/organizations/${GOOGLE_CLOUD_PROJECT}/instances/${INSTANCE_NAME}/attachments\" | jq \"select(.attachments != null) | .attachments[] | select(.environment == \\\"${ATTACHING_ENV}\\\") | .environment\" --join-output); [[ \"${ATTACHMENT_DONE}\" != \"${ATTACHING_ENV}\" ]] || break; echo -n \".\"; sleep 5; done; echo; echo \"***${ATTACHING_ENV} ENVIRONMENT ATTACHED***\";\n"
      ],
      "metadata": {
        "id": "T6HEEmbnh4Po"
      },
      "execution_count": null,
      "outputs": []
    },
    {
      "cell_type": "code",
      "source": [],
      "metadata": {
        "id": "GWL5vAxZhm5t"
      },
      "execution_count": null,
      "outputs": []
    }
  ]
}