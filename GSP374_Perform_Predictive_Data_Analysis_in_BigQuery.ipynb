{
  "nbformat": 4,
  "nbformat_minor": 0,
  "metadata": {
    "colab": {
      "provenance": []
    },
    "kernelspec": {
      "name": "python3",
      "display_name": "Python 3"
    },
    "language_info": {
      "name": "python"
    }
  },
  "cells": [
    {
      "cell_type": "markdown",
      "source": [
        "##Task 1. Data ingestion"
      ],
      "metadata": {
        "id": "8A6gHoCXivZJ"
      }
    },
    {
      "cell_type": "code",
      "execution_count": null,
      "metadata": {
        "id": "zNGIUDdrij6n"
      },
      "outputs": [],
      "source": [
        "# BigQuery -> DONE -> qwiklabs-gcp-01-524663d6e90f -> soccer -> View actions [the 3 dots on the right] -> Create table"
      ]
    },
    {
      "cell_type": "code",
      "source": [
        "# Cloud Shell\n",
        "\n",
        "bq load --autodetect --source_format=NEWLINE_DELIMITED_JSON $DEVSHELL_PROJECT_ID:soccer.competitions gs://spls/bq-soccer-analytics/competitions.json\n",
        "bq load --autodetect --source_format=NEWLINE_DELIMITED_JSON $DEVSHELL_PROJECT_ID:soccer.matches gs://spls/bq-soccer-analytics/matches.json\n",
        "bq load --autodetect --source_format=NEWLINE_DELIMITED_JSON $DEVSHELL_PROJECT_ID:soccer.teams gs://spls/bq-soccer-analytics/teams.json\n",
        "bq load --autodetect --source_format=NEWLINE_DELIMITED_JSON $DEVSHELL_PROJECT_ID:soccer.players gs://spls/bq-soccer-analytics/players.json\n",
        "bq load --autodetect --source_format=NEWLINE_DELIMITED_JSON $DEVSHELL_PROJECT_ID:soccer.events gs://spls/bq-soccer-analytics/events.json"
      ],
      "metadata": {
        "id": "diF2Zwf1u7n-"
      },
      "execution_count": null,
      "outputs": []
    },
    {
      "cell_type": "markdown",
      "source": [
        "##Task 2. Analyze soccer data"
      ],
      "metadata": {
        "id": "mPPl8GLnlAIB"
      }
    },
    {
      "cell_type": "code",
      "source": [
        "# + SQL query\n",
        "\n",
        "SELECT\n",
        "  playerId,\n",
        "  (Players.firstName || ' ' || Players.lastName) AS playerName,\n",
        "  COUNT(id) AS numPKAtt,\n",
        "  SUM(IF(101 IN UNNEST(tags.id), 1, 0)) AS numPKGoals,\n",
        "  SAFE_DIVIDE(\n",
        "    SUM(IF(101 IN UNNEST(tags.id), 1, 0)),\n",
        "    COUNT(id)\n",
        "  ) AS PKSuccessRate\n",
        "FROM `soccer.events361` Events\n",
        "LEFT JOIN `soccer.players` Players\n",
        "ON Events.playerId = Players.wyId\n",
        "WHERE\n",
        "  eventName = 'Free Kick' AND\n",
        "  subEventName = 'Penalty'\n",
        "GROUP BY playerId, playerName\n",
        "HAVING numPkAtt >= 5\n",
        "ORDER BY PKSuccessRate DESC, numPKAtt DESC\n",
        ";"
      ],
      "metadata": {
        "id": "px40kWFlinBC"
      },
      "execution_count": null,
      "outputs": []
    },
    {
      "cell_type": "markdown",
      "source": [
        "##Task 3. Gain insight by analyzing soccer data"
      ],
      "metadata": {
        "id": "0wse8aMWlDeO"
      }
    },
    {
      "cell_type": "code",
      "source": [
        "WITH Shots AS (\n",
        "  SELECT\n",
        "  *,\n",
        "  /* Tag 101 represents a goal using the table */\n",
        "  (101 IN UNNEST(tags.id)) AS isGoal,\n",
        "  /* Translate 0-100 (x,y) coordinate-based distances to absolute positions\n",
        "  using \"average\" field dimensions of 105x68 before combining in 2D dist calc */\n",
        "  SQRT(\n",
        "  POW(\n",
        "    (100 - positions[ORDINAL(1)].x) * 120/45,\n",
        "    2) +\n",
        "  POW(\n",
        "    (60 - positions[ORDINAL(1)].y) * 110/82,\n",
        "    2)\n",
        "   ) AS shotDistance\n",
        "  FROM `soccer.events361`\n",
        "  WHERE\n",
        "    /* Includes both \"open play\" & free kick shots (including penalties) */\n",
        "    eventName = 'Shot' OR\n",
        "    (eventName = 'Free Kick' AND\n",
        "    subEventName IN ('Free kick shot', 'Penalty'))\n",
        ")\n",
        "SELECT\n",
        "  ROUND(shotDistance, 0) AS ShotDistRound0,\n",
        "  COUNT(*) AS numShots,\n",
        "  SUM(IF(isGoal, 1, 0)) AS numGoals,\n",
        "  AVG(IF(isGoal, 1, 0)) AS goalPct\n",
        "FROM Shots\n",
        "WHERE shotDistance <= 50\n",
        "GROUP BY ShotDistRound0\n",
        "ORDER BY ShotDistRound0\n",
        ";"
      ],
      "metadata": {
        "id": "ln1isTZIlHbG"
      },
      "execution_count": null,
      "outputs": []
    },
    {
      "cell_type": "markdown",
      "source": [
        "##Task 4. Create a regression model using soccer data"
      ],
      "metadata": {
        "id": "stiO_6gBlK-v"
      }
    },
    {
      "cell_type": "code",
      "source": [
        "CREATE FUNCTION `soccer.GetShotDistanceToGoal361`(x INT64, y INT64)\n",
        "RETURNS FLOAT64\n",
        "AS (\n",
        " /* Translate 0-100 (x,y) coordinate-based distances to absolute positions\n",
        " using \"average\" field dimensions of 110x82 before combining in 2D dist calc */\n",
        " SQRT(\n",
        "   POW((120 - x) * 110/100, 2) +\n",
        "   POW((45 - y) * 82/100, 2)\n",
        "   )\n",
        " );"
      ],
      "metadata": {
        "id": "p3EcJrnyoZV_"
      },
      "execution_count": null,
      "outputs": []
    },
    {
      "cell_type": "code",
      "source": [
        "CREATE FUNCTION `soccer.GetShotAngleToGoal361`(x INT64, y INT64)\n",
        "RETURNS FLOAT64\n",
        "AS (\n",
        " SAFE.ACOS(\n",
        "   /* Have to translate 0-100 (x,y) coordinates to absolute positions using\n",
        "   \"average\" field dimensions of 110x82 before using in various distance calcs */\n",
        "   SAFE_DIVIDE(\n",
        "     ( /* Squared distance between shot and 1 post, in meters */\n",
        "       (POW(110 - (x * 110/100), 2) + POW(41 + (7.32/2) - (y * 82/100), 2)) +\n",
        "       /* Squared distance between shot and other post, in meters */\n",
        "       (POW(110 - (x * 110/100), 2) + POW(41 - (7.32/2) - (y * 82/100), 2)) -\n",
        "       /* Squared length of goal opening, in meters */\n",
        "       POW(7.32, 2)\n",
        "     ),\n",
        "     (2 *\n",
        "       /* Distance between shot and 1 post, in meters */\n",
        "       SQRT(POW(110 - (x * 110/100), 2) + POW(41 + 7.32/2 - (y * 82/100), 2)) *\n",
        "       /* Distance between shot and other post, in meters */\n",
        "       SQRT(POW(110 - (x * 110/100), 2) + POW(41 - 7.32/2 - (y * 82/100), 2))\n",
        "     )\n",
        "    )\n",
        "  /* Translate radians to degrees */\n",
        "  ) * 180 / ACOS(-1)\n",
        " )\n",
        ";"
      ],
      "metadata": {
        "id": "6Gx65ZY1oe6o"
      },
      "execution_count": null,
      "outputs": []
    },
    {
      "cell_type": "code",
      "source": [
        "CREATE MODEL `soccer.xg_logistic_reg_model_361`\n",
        "OPTIONS(\n",
        "model_type = 'LOGISTIC_REG',\n",
        "input_label_cols = ['isGoal']\n",
        ") AS\n",
        "SELECT\n",
        "Events.subEventName AS shotType,\n",
        "  /* 101 is known Tag for 'goals' from goals table */\n",
        "  (101 IN UNNEST(Events.tags.id)) AS isGoal,\n",
        "  `soccer.GetShotDistanceToGoal361`(Events.positions[ORDINAL(1)].x,\n",
        "  Events.positions[ORDINAL(1)].y) AS shotDistance,\n",
        "  `soccer.GetShotAngleToGoal361`(Events.positions[ORDINAL(1)].x,\n",
        "  Events.positions[ORDINAL(1)].y) AS shotAngle\n",
        "FROM `soccer.events361` Events\n",
        "LEFT JOIN `soccer.matches` Matches\n",
        "ON Events.matchId = Matches.wyId\n",
        "LEFT JOIN `soccer.competitions` Competitions\n",
        "ON Matches.competitionId = Competitions.wyId\n",
        "WHERE\n",
        "  /* Filter out World Cup matches for model fitting purposes */\n",
        "  Competitions.name != 'World Cup' AND\n",
        "  /* Includes both \"open play\" & free kick shots (including penalties) */\n",
        "  (\n",
        "  eventName = 'Shot' OR\n",
        "  (eventName = 'Free Kick' AND subEventName IN ('Free kick shot', 'Penalty'))\n",
        "  ) AND\n",
        "  `soccer.GetShotAngleToGoal361`(Events.positions[ORDINAL(1)].x,\n",
        "  Events.positions[ORDINAL(1)].y) IS NOT NULL\n",
        ";"
      ],
      "metadata": {
        "id": "tJIX1stMlKri"
      },
      "execution_count": null,
      "outputs": []
    },
    {
      "cell_type": "markdown",
      "source": [
        "##Task 5. Make predictions from new data with the BigQuery model"
      ],
      "metadata": {
        "id": "9Y_nFx3BlPz7"
      }
    },
    {
      "cell_type": "code",
      "source": [
        "SELECT\n",
        "  predicted_isGoal_probs[ORDINAL(1)].prob AS predictedGoalProb,\n",
        "  * EXCEPT (predicted_isGoal, predicted_isGoal_probs),\n",
        "FROM\n",
        "  ML.PREDICT(\n",
        "    MODEL `soccer.xg_logistic_reg_model_361`,\n",
        "    (\n",
        "     SELECT\n",
        "       Events.playerId,\n",
        "       (Players.firstName || ' ' || Players.lastName) AS playerName,\n",
        "       Teams.name AS teamName,\n",
        "       CAST(Matches.dateutc AS DATE) AS matchDate,\n",
        "       Matches.label AS match,\n",
        "     /* Convert match period and event seconds to minute of match */\n",
        "       CAST((CASE\n",
        "         WHEN Events.matchPeriod = '1H' THEN 0\n",
        "         WHEN Events.matchPeriod = '2H' THEN 45\n",
        "         WHEN Events.matchPeriod = 'E1' THEN 90\n",
        "         WHEN Events.matchPeriod = 'E2' THEN 105\n",
        "         ELSE 120\n",
        "         END) +\n",
        "         CEILING(Events.eventSec / 60) AS INT64)\n",
        "         AS matchMinute,\n",
        "       Events.subEventName AS shotType,\n",
        "       /* 101 is known Tag for 'goals' from goals table */\n",
        "       (101 IN UNNEST(Events.tags.id)) AS isGoal,\n",
        "\n",
        "       `soccer.GetShotDistanceToGoal361`(Events.positions[ORDINAL(1)].x,\n",
        "           Events.positions[ORDINAL(1)].y) AS shotDistance,\n",
        "       `soccer.GetShotAngleToGoal361`(Events.positions[ORDINAL(1)].x,\n",
        "           Events.positions[ORDINAL(1)].y) AS shotAngle\n",
        "     FROM `soccer.events361` Events\n",
        "     LEFT JOIN `soccer.matches` Matches ON Events.matchId = Matches.wyId\n",
        "     LEFT JOIN `soccer.competitions` Competitions ON Matches.competitionId = Competitions.wyId\n",
        "     LEFT JOIN `soccer.players` Players ON Events.playerId = Players.wyId\n",
        "     LEFT JOIN `soccer.teams` Teams ON Events.teamId = Teams.wyId\n",
        "     WHERE\n",
        "       /* Look only at World Cup matches to apply model */\n",
        "       Competitions.name = 'World Cup' AND\n",
        "       /* Includes both \"open play\" & free kick shots (but not penalties) */\n",
        "       (\n",
        "         eventName = 'Shot' OR\n",
        "         (eventName = 'Free Kick' AND subEventName IN ('Free kick shot'))\n",
        "       ) AND\n",
        "       /* Filter only to goals scored */\n",
        "       (101 IN UNNEST(Events.tags.id))\n",
        "    )\n",
        "  )\n",
        "ORDER BY\n",
        "predictedgoalProb\n",
        ";"
      ],
      "metadata": {
        "id": "33MOOuEXlPgb"
      },
      "execution_count": null,
      "outputs": []
    },
    {
      "cell_type": "code",
      "source": [],
      "metadata": {
        "id": "h1AsVgZGlO6a"
      },
      "execution_count": null,
      "outputs": []
    }
  ]
}