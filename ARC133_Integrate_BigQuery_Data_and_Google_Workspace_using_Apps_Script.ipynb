{
  "nbformat": 4,
  "nbformat_minor": 0,
  "metadata": {
    "colab": {
      "provenance": [],
      "toc_visible": true
    },
    "kernelspec": {
      "name": "python3",
      "display_name": "Python 3"
    },
    "language_info": {
      "name": "python"
    }
  },
  "cells": [
    {
      "cell_type": "markdown",
      "source": [
        "##Task 1. Query BigQuery and log the results to Google Sheets"
      ],
      "metadata": {
        "id": "poU2otpm5BGM"
      }
    },
    {
      "cell_type": "code",
      "source": [
        "# Apps Script -> CREATE APPS SCRIPT -> Code.gs\n",
        "/**\n",
        " * Copyright 2018 Google LLC\n",
        " *\n",
        " * Licensed under the Apache License, Version 2.0 (the \"License\");\n",
        " * you may not use this file except in compliance with the License.\n",
        " * You may obtain a copy of the License at apache.org/licenses/LICENSE-2.0.\n",
        " *\n",
        " * Unless required by applicable law or agreed to in writing, software\n",
        " * distributed under the License is distributed on an \"AS IS\" BASIS,\n",
        " * WITHOUT WARRANTIES OR CONDITIONS OF ANY KIND, either express or implied.\n",
        " * See the License for the specific language governing permissions and\n",
        " * limitations under the License.\n",
        " */\n",
        "\n",
        "// Filename for data results\n",
        "var QUERY_NAME = \"Most common words in all of Shakespeare's works\";\n",
        "var PROJECT_ID = \"qwiklabs-gcp-03-8504bed2af64\";\n",
        "if (!PROJECT_ID) throw Error('Project ID is required in setup');\n",
        "\n",
        "/**\n",
        " * Runs a BigQuery query; puts results into Sheet. You must enable\n",
        " * the BigQuery advanced service before you can run this code.\n",
        " * @see http://developers.google.com/apps-script/advanced/bigquery#run_query\n",
        " * @see http://github.com/gsuitedevs/apps-script-samples/blob/master/advanced/bigquery.gs\n",
        " *\n",
        " * @returns {Spreadsheet} Returns a spreadsheet with BigQuery results\n",
        " * @see http://developers.google.com/apps-script/reference/spreadsheet/spreadsheet\n",
        " */\n",
        "function runQuery() {\n",
        "  // Replace sample with your own BigQuery query.\n",
        "  var request = {\n",
        "    query:\n",
        "        'SELECT ' +\n",
        "            'LOWER(word) AS word, ' +\n",
        "            'SUM(word_count) AS count ' +\n",
        "        'FROM [bigquery-public-data:samples.shakespeare] ' +\n",
        "        'GROUP BY word ' +\n",
        "        'ORDER BY count ' +\n",
        "        'DESC LIMIT 10'\n",
        "  };\n",
        "  var queryResults = BigQuery.Jobs.query(request, PROJECT_ID);\n",
        "  var jobId = queryResults.jobReference.jobId;\n",
        "\n",
        "  // Wait for BQ job completion (with exponential backoff).\n",
        "  var sleepTimeMs = 500;\n",
        "  while (!queryResults.jobComplete) {\n",
        "    Utilities.sleep(sleepTimeMs);\n",
        "    sleepTimeMs *= 2;\n",
        "    queryResults = BigQuery.Jobs.getQueryResults(PROJECT_ID, jobId);\n",
        "  }\n",
        "\n",
        "  // Get all results from BigQuery.\n",
        "  var rows = queryResults.rows;\n",
        "  while (queryResults.pageToken) {\n",
        "    queryResults = BigQuery.Jobs.getQueryResults(PROJECT_ID, jobId, {\n",
        "      pageToken: queryResults.pageToken\n",
        "    });\n",
        "    rows = rows.concat(queryResults.rows);\n",
        "  }\n",
        "\n",
        "  // Return null if no data returned.\n",
        "  if (!rows) {\n",
        "    return Logger.log('No rows returned.');\n",
        "  }\n",
        "\n",
        "  // Create the new results spreadsheet.\n",
        "  var spreadsheet = SpreadsheetApp.create(QUERY_NAME);\n",
        "  var sheet = spreadsheet.getActiveSheet();\n",
        "\n",
        "  // Add headers to Sheet.\n",
        "  var headers = queryResults.schema.fields.map(function(field) {\n",
        "    return field.name.toUpperCase();\n",
        "  });\n",
        "  sheet.appendRow(headers);\n",
        "\n",
        "  // Append the results.\n",
        "  var data = new Array(rows.length);\n",
        "  for (var i = 0; i < rows.length; i++) {\n",
        "    var cols = rows[i].f;\n",
        "    data[i] = new Array(cols.length);\n",
        "    for (var j = 0; j < cols.length; j++) {\n",
        "      data[i][j] = cols[j].v;\n",
        "    }\n",
        "  }\n",
        "\n",
        "  // Start storing data in row 2, col 1\n",
        "  var START_ROW = 2;      // skip header row\n",
        "  var START_COL = 1;\n",
        "  sheet.getRange(START_ROW, START_COL, rows.length, headers.length).setValues(data);\n",
        "\n",
        "  Logger.log('Results spreadsheet created: %s', spreadsheet.getUrl());\n",
        "}"
      ],
      "metadata": {
        "id": "0gzRklEq5h6j"
      },
      "execution_count": null,
      "outputs": []
    },
    {
      "cell_type": "markdown",
      "source": [
        "##Task 2. Perform calculations on charts with Connected Sheets"
      ],
      "metadata": {
        "id": "7zXu79VN5JSH"
      }
    },
    {
      "cell_type": "code",
      "source": [
        "# Google Sheets -> Blank spreadsheet -> Data -> Data connectors -> Connect to BigQuery\n",
        "# -> [Project_ID] -> Public datasets -> chicago_taxi_trips -> taxi_trips"
      ],
      "metadata": {
        "id": "_qgUlSNHHIMY"
      },
      "execution_count": null,
      "outputs": []
    },
    {
      "cell_type": "code",
      "source": [
        "# -> Functions\n",
        "=COUNTUNIQUE(taxi_trips!company)"
      ],
      "metadata": {
        "id": "dZTVsqhzIQIY"
      },
      "execution_count": null,
      "outputs": []
    },
    {
      "cell_type": "code",
      "source": [
        "=COUNTIF(taxi_trips!tips,\">0\")"
      ],
      "metadata": {
        "id": "5hDsvc5IISYz"
      },
      "execution_count": null,
      "outputs": []
    },
    {
      "cell_type": "code",
      "source": [
        "=COUNTIF(taxi_trips!fare,\">0\")"
      ],
      "metadata": {
        "id": "I0K1TiyyITAI"
      },
      "execution_count": null,
      "outputs": []
    },
    {
      "cell_type": "markdown",
      "source": [
        "##Task 3. Use Google Charts with Connected Sheets"
      ],
      "metadata": {
        "id": "nMjCS9DY5NiK"
      }
    },
    {
      "cell_type": "code",
      "source": [
        "# -> Chart -> Pie -> Label [payment_type], Value [fare: Count]"
      ],
      "metadata": {
        "id": "zRHckq1xJRrq"
      },
      "execution_count": null,
      "outputs": []
    },
    {
      "cell_type": "code",
      "source": [
        "# -> Chart -> Line chart -> X-axis [trip_start_timestamp; Group by [Year-Month]], Series [fare], Filter [payment_type; Text contains [mobile]]"
      ],
      "metadata": {
        "id": "-vhZUPNlKH7S"
      },
      "execution_count": null,
      "outputs": []
    },
    {
      "cell_type": "markdown",
      "source": [
        "##Task 4. Use Apps Script to create a new Google Sheets worksheet and enter data"
      ],
      "metadata": {
        "id": "VbFKHmyvHEdJ"
      }
    },
    {
      "cell_type": "code",
      "source": [
        "# Google Sheets -> Blank spreadsheet"
      ],
      "metadata": {
        "id": "AgKZ7AL_LvuR"
      },
      "execution_count": null,
      "outputs": []
    },
    {
      "cell_type": "code",
      "source": [],
      "metadata": {
        "id": "iIA6wm5G6vQS"
      },
      "execution_count": null,
      "outputs": []
    },
    {
      "cell_type": "code",
      "source": [],
      "metadata": {
        "id": "FjdJo_m-5Ajb"
      },
      "execution_count": null,
      "outputs": []
    }
  ]
}