{
  "nbformat": 4,
  "nbformat_minor": 0,
  "metadata": {
    "colab": {
      "provenance": [],
      "toc_visible": true
    },
    "kernelspec": {
      "name": "python3",
      "display_name": "Python 3"
    },
    "language_info": {
      "name": "python"
    }
  },
  "cells": [
    {
      "cell_type": "markdown",
      "source": [
        "##Task 1"
      ],
      "metadata": {
        "id": "A6_XCL1hp-Tj"
      }
    },
    {
      "cell_type": "code",
      "source": [
        "# https://console.cloud.google.com/bigquery?p=bigquery-public-data&d=covid19_govt_response&page=dataset\n",
        "# -> oxford_policy_tracker [starr] -> Details: Table ID [bigquery-public-data.covid19_govt_response.oxford_policy_tracker]"
      ],
      "metadata": {
        "id": "9gSdHJUep6Ma"
      },
      "execution_count": null,
      "outputs": []
    },
    {
      "cell_type": "code",
      "source": [
        "# BigQuery -> [Project_ID] -> Create dataset: covid"
      ],
      "metadata": {
        "id": "uLKUMc1kp6I9"
      },
      "execution_count": null,
      "outputs": []
    },
    {
      "cell_type": "code",
      "source": [
        "# + SQL\n",
        "CREATE OR REPLACE TABLE covid.oxford_policy_tracker\n",
        "PARTITION BY date\n",
        "OPTIONS(\n",
        "partition_expiration_days=1445,\n",
        "description='oxford_policy_tracker table in the COVID 19 Government Response public dataset with an expiry time set to 90 days.'\n",
        ") AS\n",
        "SELECT *\n",
        "FROM bigquery-public-data.covid19_govt_response.oxford_policy_tracker\n",
        "WHERE alpha_3_code NOT IN ('GBR', 'BRA', 'CAN','USA')"
      ],
      "metadata": {
        "id": "r5bQvmWCr5mp"
      },
      "execution_count": null,
      "outputs": []
    },
    {
      "cell_type": "markdown",
      "source": [
        "##Task 2"
      ],
      "metadata": {
        "id": "TvEMb4dmqBet"
      }
    },
    {
      "cell_type": "code",
      "source": [
        "# https://console.cloud.google.com/bigquery?p=bigquery-public-data&d=covid19_google_mobility&page=dataset\n",
        "# -> mobility_report [starr]"
      ],
      "metadata": {
        "id": "Uc5U6ZL1p6G6"
      },
      "execution_count": null,
      "outputs": []
    },
    {
      "cell_type": "code",
      "source": [
        "# + SQL\n",
        "ALTER TABLE qwiklabs-gcp-02-fcc8f05aed60.covid_data.global_mobility_tracker_data\n",
        "ADD COLUMN population INT64,\n",
        "ADD COLUMN country_area FLOAT64,\n",
        "ADD COLUMN mobility STRUCT<\n",
        "   avg_retail      FLOAT64,\n",
        "   avg_grocery     FLOAT64,\n",
        "   avg_parks       FLOAT64,\n",
        "   avg_transit     FLOAT64,\n",
        "   avg_workplace   FLOAT64,\n",
        "   avg_residential FLOAT64\n",
        ">"
      ],
      "metadata": {
        "id": "wbCTdZ2fp6FC"
      },
      "execution_count": null,
      "outputs": []
    },
    {
      "cell_type": "markdown",
      "source": [
        "##Task 3"
      ],
      "metadata": {
        "id": "RdGd8qovqEXA"
      }
    },
    {
      "cell_type": "code",
      "source": [
        "# https://console.cloud.google.com/bigquery?p=bigquery-public-data&d=covid19_ecdc&page=dataset\n",
        "# -> ... Details: Table ID [bigquery-public-data.covid19_ecdc.covid_19_geographic_distribution_worldwide]"
      ],
      "metadata": {
        "id": "hPyMOQMLp6A4"
      },
      "execution_count": null,
      "outputs": []
    },
    {
      "cell_type": "code",
      "execution_count": null,
      "metadata": {
        "id": "3h_A3suKp0jb"
      },
      "outputs": [],
      "source": [
        "# + SQL\n",
        "CREATE OR REPLACE TABLE covid_data.pop_data_2019 AS\n",
        "SELECT\n",
        "  country_territory_code,\n",
        "  pop_data_2019\n",
        "FROM bigquery-public-data.covid19_ecdc.covid_19_geographic_distribution_worldwide\n",
        "GROUP BY\n",
        "  country_territory_code,\n",
        "  pop_data_2019\n",
        "ORDER BY\n",
        "  country_territory_code"
      ]
    },
    {
      "cell_type": "code",
      "source": [
        "# + SQL\n",
        "UPDATE qwiklabs-gcp-02-fcc8f05aed60.covid_data.consolidate_covid_tracker_data t0\n",
        "SET population = t1.pop_data_2019\n",
        "FROM qwiklabs-gcp-02-fcc8f05aed60.covid_data.pop_data_2019 t1\n",
        "WHERE CONCAT(t0.alpha_3_code) = CONCAT(t1.country_territory_code);"
      ],
      "metadata": {
        "id": "tyv5yL5YxaZ_"
      },
      "execution_count": null,
      "outputs": []
    },
    {
      "cell_type": "markdown",
      "source": [
        "##Task 4"
      ],
      "metadata": {
        "id": "E5-4iRkKqIV-"
      }
    },
    {
      "cell_type": "code",
      "source": [
        "# https://console.cloud.google.com/bigquery?p=bigquery-public-data&d=census_bureau_international&page=dataset\n",
        "# -> ... Details: Table ID [bigquery-public-data.census_bureau_international.country_names_area]"
      ],
      "metadata": {
        "id": "ttQOud2bqICI"
      },
      "execution_count": null,
      "outputs": []
    },
    {
      "cell_type": "code",
      "source": [
        "# + SQL\n",
        "UPDATE qwiklabs-gcp-02-fcc8f05aed60.covid_data.consolidate_covid_tracker_data t0\n",
        "SET t0.country_area = t2.country_area\n",
        "FROM\n",
        "  (SELECT DISTINCT country_name, country_area FROM bigquery-public-data.census_bureau_international.country_names_area) AS t2\n",
        "WHERE t0.country_name = t2.country_name;"
      ],
      "metadata": {
        "id": "wu4832yPqH-u"
      },
      "execution_count": null,
      "outputs": []
    },
    {
      "cell_type": "code",
      "source": [],
      "metadata": {
        "id": "IDvXYaKZqH8z"
      },
      "execution_count": null,
      "outputs": []
    },
    {
      "cell_type": "code",
      "source": [],
      "metadata": {
        "id": "DrpDqlJXqHjs"
      },
      "execution_count": null,
      "outputs": []
    }
  ]
}