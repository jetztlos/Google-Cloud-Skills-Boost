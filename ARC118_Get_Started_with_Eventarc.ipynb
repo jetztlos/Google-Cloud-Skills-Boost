{
  "nbformat": 4,
  "nbformat_minor": 0,
  "metadata": {
    "colab": {
      "provenance": []
    },
    "kernelspec": {
      "name": "python3",
      "display_name": "Python 3"
    },
    "language_info": {
      "name": "python"
    }
  },
  "cells": [
    {
      "cell_type": "code",
      "execution_count": null,
      "metadata": {
        "id": "okcaEfUXRv_Z"
      },
      "outputs": [],
      "source": [
        "gcloud auth list"
      ]
    },
    {
      "cell_type": "code",
      "source": [
        "gcloud config list project"
      ],
      "metadata": {
        "id": "QcRjegE8SAWq"
      },
      "execution_count": null,
      "outputs": []
    },
    {
      "cell_type": "markdown",
      "source": [
        "##Task 1. Create a Pub/Sub topic"
      ],
      "metadata": {
        "id": "Aay2jtseR2U_"
      }
    },
    {
      "cell_type": "code",
      "source": [
        "export REGION=us-central1"
      ],
      "metadata": {
        "id": "985V7mn4S4i-"
      },
      "execution_count": null,
      "outputs": []
    },
    {
      "cell_type": "code",
      "source": [
        "gcloud services enable run.googleapis.com\n",
        "gcloud services enable eventarc.googleapis.com"
      ],
      "metadata": {
        "id": "yl_OxXCIVLW5"
      },
      "execution_count": null,
      "outputs": []
    },
    {
      "cell_type": "code",
      "source": [
        "gcloud pubsub topics create $DEVSHELL_PROJECT_ID-topic"
      ],
      "metadata": {
        "id": "Lqy7S0VWR1-s"
      },
      "execution_count": null,
      "outputs": []
    },
    {
      "cell_type": "code",
      "source": [
        "gcloud  pubsub subscriptions create --topic $DEVSHELL_PROJECT_ID-topic $DEVSHELL_PROJECT_ID-topic-sub"
      ],
      "metadata": {
        "id": "BIzzqXKlTDdT"
      },
      "execution_count": null,
      "outputs": []
    },
    {
      "cell_type": "markdown",
      "source": [
        "##Task 2. Create a Cloud Run sink"
      ],
      "metadata": {
        "id": "UWp_BMD1R5vA"
      }
    },
    {
      "cell_type": "code",
      "source": [
        "gcloud run deploy pubsub-events \\\n",
        "  --image=gcr.io/cloudrun/hello \\\n",
        "  --platform=managed \\\n",
        "  --region=$REGION \\\n",
        "  --allow-unauthenticated"
      ],
      "metadata": {
        "id": "QyHkSE70R17Q"
      },
      "execution_count": null,
      "outputs": []
    },
    {
      "cell_type": "markdown",
      "source": [
        "##Task 3. Create and test a Pub/Sub event trigger using Eventarc"
      ],
      "metadata": {
        "id": "apjy3TGER9Dt"
      }
    },
    {
      "cell_type": "code",
      "source": [
        "gcloud eventarc triggers create pubsub-events-trigger \\\n",
        "  --location=$REGION \\\n",
        "  --destination-run-service=pubsub-events \\\n",
        "  --destination-run-region=$REGION \\\n",
        "  --transport-topic=$DEVSHELL_PROJECT_ID-topic \\\n",
        "  --event-filters=\"type=google.cloud.pubsub.topic.v1.messagePublished\""
      ],
      "metadata": {
        "id": "n_VWhCpRR15a"
      },
      "execution_count": null,
      "outputs": []
    },
    {
      "cell_type": "code",
      "source": [
        "gcloud pubsub topics publish $DEVSHELL_PROJECT_ID-topic \\\n",
        "  --message=\"Test message\""
      ],
      "metadata": {
        "id": "aeUEEBF-THsR"
      },
      "execution_count": null,
      "outputs": []
    },
    {
      "cell_type": "code",
      "source": [],
      "metadata": {
        "id": "aCH2eLS9THiG"
      },
      "execution_count": null,
      "outputs": []
    }
  ]
}