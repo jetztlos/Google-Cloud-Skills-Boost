{
  "nbformat": 4,
  "nbformat_minor": 0,
  "metadata": {
    "colab": {
      "provenance": []
    },
    "kernelspec": {
      "name": "python3",
      "display_name": "Python 3"
    },
    "language_info": {
      "name": "python"
    }
  },
  "cells": [
    {
      "cell_type": "markdown",
      "source": [
        "##Task 1. Download the monolith code and build your container"
      ],
      "metadata": {
        "id": "_gUdPtyXXJ8G"
      }
    },
    {
      "cell_type": "code",
      "source": [
        "# Export environment variables\n",
        "export ZONE=us-central1-c\n",
        "export MONOLITH_IDENTIFIER=fancy-monolith-560\n",
        "export CLUSTER_NAME=fancy-prod-714\n",
        "export ORDERS_IDENTIFIER=fancy-orders-995\n",
        "export PRODUCTS_IDENTIFIER=fancy-products-937\n",
        "export FRONTEND_IDENTIFIER=fancy-frontend-152"
      ],
      "metadata": {
        "id": "uJioiyNkXqTR"
      },
      "execution_count": null,
      "outputs": []
    },
    {
      "cell_type": "code",
      "source": [
        "# Clone the repository\n",
        "git clone https://github.com/googlecodelabs/monolith-to-microservices.git\n",
        "cd ~/monolith-to-microservices\n",
        "./setup.sh"
      ],
      "metadata": {
        "id": "aIQf9E_4YdIL"
      },
      "execution_count": null,
      "outputs": []
    },
    {
      "cell_type": "code",
      "source": [
        "# Run the monolith locally\n",
        "cd ~/monolith-to-microservices/monolith\n",
        "npm start"
      ],
      "metadata": {
        "id": "56ryh2fCYiXT"
      },
      "execution_count": null,
      "outputs": []
    },
    {
      "cell_type": "code",
      "source": [
        "# Press Ctrl+C"
      ],
      "metadata": {
        "id": "AQpWdbjiXwpq"
      },
      "execution_count": null,
      "outputs": []
    },
    {
      "cell_type": "markdown",
      "source": [
        "##Task 2. Create a kubernetes cluster and deploy the application"
      ],
      "metadata": {
        "id": "sBNG6277XJvQ"
      }
    },
    {
      "cell_type": "code",
      "source": [
        "# Enable Cloud Build API and submit the build\n",
        "gcloud services enable cloudbuild.googleapis.com\n",
        "gcloud builds submit --tag gcr.io/${GOOGLE_CLOUD_PROJECT}/$MONOLITH_IDENTIFIER:1.0.0 ."
      ],
      "metadata": {
        "id": "6-_zOgxRXqwM"
      },
      "execution_count": null,
      "outputs": []
    },
    {
      "cell_type": "code",
      "source": [
        "# Create a GKE cluster\n",
        "gcloud config set compute/zone $ZONE\n",
        "gcloud services enable container.googleapis.com\n",
        "gcloud container clusters create $CLUSTER_NAME --num-nodes 3"
      ],
      "metadata": {
        "id": "9ARN5m93ZG84"
      },
      "execution_count": null,
      "outputs": []
    },
    {
      "cell_type": "markdown",
      "source": [
        "##Task 3. Create new microservices"
      ],
      "metadata": {
        "id": "f7SKBHL4XJny"
      }
    },
    {
      "cell_type": "code",
      "source": [
        "# Deploy the monolith\n",
        "kubectl create deployment $MONOLITH_IDENTIFIER --image=gcr.io/${GOOGLE_CLOUD_PROJECT}/$MONOLITH_IDENTIFIER:1.0.0\n",
        "kubectl expose deployment $MONOLITH_IDENTIFIER --type=LoadBalancer --port 80 --target-port 8080"
      ],
      "metadata": {
        "id": "eUCRXhlTZQsH"
      },
      "execution_count": null,
      "outputs": []
    },
    {
      "cell_type": "code",
      "source": [],
      "metadata": {
        "id": "Zko29scyXrTU"
      },
      "execution_count": null,
      "outputs": []
    },
    {
      "cell_type": "markdown",
      "source": [
        "##Task 4. Deploy the new microservices"
      ],
      "metadata": {
        "id": "CJpAeLsfXJdW"
      }
    },
    {
      "cell_type": "code",
      "source": [
        "# Deploy the microservice for orders\n",
        "cd ~/monolith-to-microservices/microservices/src/orders\n",
        "gcloud builds submit --tag gcr.io/${GOOGLE_CLOUD_PROJECT}/$ORDERS_IDENTIFIER:1.0.0 .\n",
        "\n",
        "kubectl create deployment $ORDERS_IDENTIFIER --image=gcr.io/${GOOGLE_CLOUD_PROJECT}/$ORDERS_IDENTIFIER:1.0.0\n",
        "kubectl expose deployment $ORDERS_IDENTIFIER --type=LoadBalancer --port 80 --target-port 8081"
      ],
      "metadata": {
        "id": "gLeVN7eUZmMs"
      },
      "execution_count": null,
      "outputs": []
    },
    {
      "cell_type": "code",
      "source": [
        "# Deploy the microservice for products\n",
        "cd ~/monolith-to-microservices/microservices/src/products\n",
        "gcloud builds submit --tag gcr.io/${GOOGLE_CLOUD_PROJECT}/$PRODUCTS_IDENTIFIER:1.0.0 .\n",
        "\n",
        "kubectl create deployment $PRODUCTS_IDENTIFIER --image=gcr.io/${GOOGLE_CLOUD_PROJECT}/$PRODUCTS_IDENTIFIER:1.0.0\n",
        "kubectl expose deployment $PRODUCTS_IDENTIFIER --type=LoadBalancer --port 80 --target-port 8082"
      ],
      "metadata": {
        "id": "a9VsIm-mXrsu"
      },
      "execution_count": null,
      "outputs": []
    },
    {
      "cell_type": "markdown",
      "source": [
        "##Task 5. Configure and deploy the Frontend microservice"
      ],
      "metadata": {
        "id": "Hh_Kil_SXfJ0"
      }
    },
    {
      "cell_type": "code",
      "source": [
        "# Deploy the microservice for FE\n",
        "cd ~/monolith-to-microservices/react-app\n",
        "\n",
        "cd ~/monolith-to-microservices/microservices/src/frontend\n",
        "gcloud builds submit --tag gcr.io/${GOOGLE_CLOUD_PROJECT}/$FRONTEND_IDENTIFIER:1.0.0 .\n",
        "\n",
        "kubectl create deployment $FRONTEND_IDENTIFIER --image=gcr.io/${GOOGLE_CLOUD_PROJECT}/$FRONTEND_IDENTIFIER:1.0.0\n",
        "kubectl expose deployment $FRONTEND_IDENTIFIER --type=LoadBalancer --port 80 --target-port 8080"
      ],
      "metadata": {
        "id": "wSPone7ZXuXx"
      },
      "execution_count": null,
      "outputs": []
    },
    {
      "cell_type": "markdown",
      "source": [
        "##Task 6. Create a containerized version of the Frontend microservice"
      ],
      "metadata": {
        "id": "FHUkKxZeXjk8"
      }
    },
    {
      "cell_type": "code",
      "source": [],
      "metadata": {
        "id": "L9BIuHtIXuzF"
      },
      "execution_count": null,
      "outputs": []
    },
    {
      "cell_type": "markdown",
      "source": [
        "##Task 7. Deploy the Frontend microservice"
      ],
      "metadata": {
        "id": "vjFUnhyBXmvJ"
      }
    },
    {
      "cell_type": "code",
      "execution_count": null,
      "metadata": {
        "id": "A9ZXuQPXXBMD"
      },
      "outputs": [],
      "source": []
    },
    {
      "cell_type": "code",
      "source": [],
      "metadata": {
        "id": "JlT9qmODXvLj"
      },
      "execution_count": null,
      "outputs": []
    }
  ]
}