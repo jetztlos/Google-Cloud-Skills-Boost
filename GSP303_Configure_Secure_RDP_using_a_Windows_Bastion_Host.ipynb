{
  "nbformat": 4,
  "nbformat_minor": 0,
  "metadata": {
    "colab": {
      "provenance": [],
      "toc_visible": true
    },
    "kernelspec": {
      "name": "python3",
      "display_name": "Python 3"
    },
    "language_info": {
      "name": "python"
    }
  },
  "cells": [
    {
      "cell_type": "code",
      "source": [
        "export REGION=us-central1\n",
        "export ZONE=us-central1-c"
      ],
      "metadata": {
        "id": "gO1t86U-ym3A"
      },
      "execution_count": null,
      "outputs": []
    },
    {
      "cell_type": "markdown",
      "source": [
        "##Task 1. Create the VPC network"
      ],
      "metadata": {
        "id": "7OFm_PbKFe2A"
      }
    },
    {
      "cell_type": "code",
      "source": [
        "gcloud compute networks create securenetwork --subnet-mode custom"
      ],
      "metadata": {
        "id": "nj4kvBnYy08E"
      },
      "execution_count": null,
      "outputs": []
    },
    {
      "cell_type": "code",
      "source": [
        "gcloud compute networks subnets create securenetwork-subnet --network=securenetwork --region $REGION --range=192.168.16.0/20"
      ],
      "metadata": {
        "id": "BnAVZG69y042"
      },
      "execution_count": null,
      "outputs": []
    },
    {
      "cell_type": "code",
      "source": [
        "gcloud compute firewall-rules create rdp-ingress-fw-rule --allow=tcp:3389 --source-ranges 0.0.0.0/0 --target-tags allow-rdp-traffic --network securenetwork"
      ],
      "metadata": {
        "id": "3BwM2bWYyi1K"
      },
      "execution_count": null,
      "outputs": []
    },
    {
      "cell_type": "markdown",
      "source": [
        "##Task 2. Deploy your Windows instances and configure user passwords"
      ],
      "metadata": {
        "id": "jPeLrzoOFeyh"
      }
    },
    {
      "cell_type": "code",
      "source": [
        "gcloud compute instances create vm-bastionhost --zone=$ZONE --machine-type=e2-medium --network-interface=subnet=securenetwork-subnet --network-interface=subnet=default,no-address --tags=allow-rdp-traffic --image=projects/windows-cloud/global/images/windows-server-2016-dc-v20220513"
      ],
      "metadata": {
        "id": "uYVRtChIyjLg"
      },
      "execution_count": null,
      "outputs": []
    },
    {
      "cell_type": "code",
      "source": [
        "gcloud compute instances create vm-securehost --zone=$ZONE --machine-type=e2-medium --network-interface=subnet=securenetwork-subnet,no-address --network-interface=subnet=default,no-address --tags=allow-rdp-traffic --image=projects/windows-cloud/global/images/windows-server-2016-dc-v20220513"
      ],
      "metadata": {
        "id": "6ChavIoezBPr"
      },
      "execution_count": null,
      "outputs": []
    },
    {
      "cell_type": "code",
      "source": [
        "gcloud compute reset-windows-password vm-bastionhost --user app_admin --zone $ZONE"
      ],
      "metadata": {
        "id": "-C6-wGlqzBK5"
      },
      "execution_count": null,
      "outputs": []
    },
    {
      "cell_type": "code",
      "source": [
        "ip_address: 34.72.242.90\n",
        "password:   _{\\_hgmU_{~S/rO\n",
        "username:   app_admin"
      ],
      "metadata": {
        "id": "uQjAhFjD17cg"
      },
      "execution_count": null,
      "outputs": []
    },
    {
      "cell_type": "code",
      "source": [
        "gcloud compute reset-windows-password vm-securehost --user app_admin --zone $ZONE"
      ],
      "metadata": {
        "id": "sMBvRPHIzBEC"
      },
      "execution_count": null,
      "outputs": []
    },
    {
      "cell_type": "code",
      "source": [
        "password: mb5;p)9d@9&+W>D\n",
        "username: app_admin"
      ],
      "metadata": {
        "id": "9Z1UGE4118XT"
      },
      "execution_count": null,
      "outputs": []
    },
    {
      "cell_type": "markdown",
      "source": [
        "##Task 3. Connect to the secure host and configure Internet Information Server"
      ],
      "metadata": {
        "id": "l0hd_8o2_iS3"
      }
    },
    {
      "cell_type": "code",
      "source": [
        "# Compute Engine -> VM Instances"
      ],
      "metadata": {
        "id": "eDmWtrO6mhar"
      },
      "execution_count": null,
      "outputs": []
    },
    {
      "cell_type": "code",
      "source": [
        "# vm-bastionhost -> RDP -> Download the RDP file if you will be using a 3rd-party client. ->\n",
        "# <run download> -> Connect -> username: app_admin; password: _{\\_hgmU_{~S/rO"
      ],
      "metadata": {
        "id": "kR-kDMLFzIAq"
      },
      "execution_count": null,
      "outputs": []
    },
    {
      "cell_type": "code",
      "source": [
        "# Search: Remote Desktop Connection -> Computer:"
      ],
      "metadata": {
        "id": "_PhVCTq65gVb"
      },
      "execution_count": null,
      "outputs": []
    },
    {
      "cell_type": "code",
      "source": [
        "# vm-securehost -> Internal IP (nic0): 192.168.16.3"
      ],
      "metadata": {
        "id": "Wcl2uRwU3RJe"
      },
      "execution_count": null,
      "outputs": []
    },
    {
      "cell_type": "code",
      "source": [
        "# -> Connect -> username: app_admin; password: mb5;p)9d@9&+W>D"
      ],
      "metadata": {
        "id": "H75_knDU5yYs"
      },
      "execution_count": null,
      "outputs": []
    },
    {
      "cell_type": "code",
      "source": [
        "# Server Manager: Dashboard -> [1. Configure this local server] -> 2. Add roles and features"
      ],
      "metadata": {
        "id": "DA_4OeM-6uq8"
      },
      "execution_count": null,
      "outputs": []
    },
    {
      "cell_type": "code",
      "source": [
        "# -> Next: Role-based or feature-based installation -> Next: Select a server from the server pool -> vm-securehost"
      ],
      "metadata": {
        "id": "MjTGAvCf7HUD"
      },
      "execution_count": null,
      "outputs": []
    },
    {
      "cell_type": "code",
      "source": [
        "# -> Next: Web Server (IIS) -> Next: IIS Hostable Web Core -> Next -> Next: IIS Management Scripts and Tools -> Next -> Install -> Close"
      ],
      "metadata": {
        "id": "-rqhlQEg7e3t"
      },
      "execution_count": null,
      "outputs": []
    },
    {
      "cell_type": "code",
      "source": [],
      "metadata": {
        "id": "kkfv6Ef_7HQc"
      },
      "execution_count": null,
      "outputs": []
    }
  ]
}