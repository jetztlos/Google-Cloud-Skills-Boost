{
  "nbformat": 4,
  "nbformat_minor": 0,
  "metadata": {
    "colab": {
      "provenance": [],
      "toc_visible": true
    },
    "kernelspec": {
      "name": "python3",
      "display_name": "Python 3"
    },
    "language_info": {
      "name": "python"
    }
  },
  "cells": [
    {
      "cell_type": "code",
      "source": [
        "# Set environment variables\n",
        "export REGION=us-west1\n",
        "export ZONE=us-west1-a\n",
        "export PROJECT_ID=qwiklabs-gcp-04-849b57aab730"
      ],
      "metadata": {
        "id": "gO1t86U-ym3A"
      },
      "execution_count": null,
      "outputs": []
    },
    {
      "cell_type": "markdown",
      "source": [
        "##Task 1. Create a Kubernetes cluster"
      ],
      "metadata": {
        "id": "7OFm_PbKFe2A"
      }
    },
    {
      "cell_type": "code",
      "source": [
        "# Your test environment is limited in capacity, so\n",
        "# you should limit the test Kubernetes cluster you are creating to just two e2-standard-2 instances.\n",
        "# You must call your cluster echo-cluster.\n",
        "\n",
        "gcloud container clusters create echo-cluster \\\n",
        "    --num-nodes=1 \\\n",
        "    --zone=$ZONE \\\n",
        "    --machine-type=e2-standard-2 \\\n",
        "    --enable-ip-alias"
      ],
      "metadata": {
        "id": "nhKyBcoC_6HV"
      },
      "execution_count": null,
      "outputs": []
    },
    {
      "cell_type": "code",
      "source": [
        "gcloud container clusters list"
      ],
      "metadata": {
        "id": "EEP6vqZHANM8"
      },
      "execution_count": null,
      "outputs": []
    },
    {
      "cell_type": "markdown",
      "source": [
        "##Task 2. Build a tagged Docker image"
      ],
      "metadata": {
        "id": "jPeLrzoOFeyh"
      }
    },
    {
      "cell_type": "code",
      "source": [
        "# The sample application, including the Dockerfile and the application context files, are contained in an archive called echo-web.tar.gz.\n",
        "# The archive has been copied to a Cloud Storage bucket belonging to your lab project called gs://[PROJECT_ID].\n",
        "\n",
        "You must deploy this with a tag called v1.\n",
        "\n",
        "gsutil cp gs://${PROJECT_ID}/echo-web.tar.gz ."
      ],
      "metadata": {
        "id": "NfBefmT0ASPF"
      },
      "execution_count": null,
      "outputs": []
    },
    {
      "cell_type": "code",
      "source": [
        "tar -xvzf echo-web.tar.gz"
      ],
      "metadata": {
        "id": "VM4JW80cASLm"
      },
      "execution_count": null,
      "outputs": []
    },
    {
      "cell_type": "code",
      "source": [
        "docker build -t echo-app:v1 ."
      ],
      "metadata": {
        "id": "yiV8vnuNAXIq"
      },
      "execution_count": null,
      "outputs": []
    },
    {
      "cell_type": "code",
      "source": [
        "docker images"
      ],
      "metadata": {
        "id": "K5cqSXOgASJU"
      },
      "execution_count": null,
      "outputs": []
    },
    {
      "cell_type": "markdown",
      "source": [
        "##Task 3. Push the image to the Google Container Registry"
      ],
      "metadata": {
        "id": "l0hd_8o2_iS3"
      }
    },
    {
      "cell_type": "code",
      "source": [
        "# Your organization has decided that it will always use the gcr.io Container Registry hostname for all projects.\n",
        "# The sample application is a simple web application that reports some data describing the configuration of the system where the application is running.\n",
        "# It is configured to use TCP port 8000 by default.\n",
        "\n",
        "docker tag echo-app:v1 gcr.io/${PROJECT_ID}/echo-app:v1"
      ],
      "metadata": {
        "id": "hvWCa8wGAdzH"
      },
      "execution_count": null,
      "outputs": []
    },
    {
      "cell_type": "code",
      "source": [
        "docker push gcr.io/${PROJECT_ID}/echo-app:v1"
      ],
      "metadata": {
        "id": "rl60PUAtAdlA"
      },
      "execution_count": null,
      "outputs": []
    },
    {
      "cell_type": "code",
      "source": [
        "gcloud container images list --repository=gcr.io/${PROJECT_ID}"
      ],
      "metadata": {
        "id": "k53RluL7Adhm"
      },
      "execution_count": null,
      "outputs": []
    },
    {
      "cell_type": "markdown",
      "source": [
        "##Task 4. Deploy the application to the Kubernetes cluster"
      ],
      "metadata": {
        "id": "kOvwTm_M_2hW"
      }
    },
    {
      "cell_type": "code",
      "source": [
        "# Even though the application is configured to respond to HTTP requests on port 8000,\n",
        "# you must configure the service to respond to normal web requests on port 80.\n",
        "# When configuring the cluster for your sample application, call your deployment echo-web.\n",
        "\n",
        "kubectl create deployment echo-web --image=gcr.io/${PROJECT_ID}/echo-app:v1"
      ],
      "metadata": {
        "id": "kkfv6Ef_7HQc"
      },
      "execution_count": null,
      "outputs": []
    },
    {
      "cell_type": "code",
      "source": [
        "gcloud container clusters get-credentials echo-cluster --zone=$ZONE"
      ],
      "metadata": {
        "id": "g5K5ARaWAipa"
      },
      "execution_count": null,
      "outputs": []
    },
    {
      "cell_type": "code",
      "source": [
        "kubectl expose deployment echo-web \\\n",
        "    --type=LoadBalancer \\\n",
        "    --port=80 \\\n",
        "    --target-port=8000"
      ],
      "metadata": {
        "id": "DLyFIA4NAnDp"
      },
      "execution_count": null,
      "outputs": []
    },
    {
      "cell_type": "code",
      "source": [
        "kubectl get service echo-web"
      ],
      "metadata": {
        "id": "TxT-TsRKAil4"
      },
      "execution_count": null,
      "outputs": []
    },
    {
      "cell_type": "code",
      "source": [],
      "metadata": {
        "id": "qtmk5NhlAijj"
      },
      "execution_count": null,
      "outputs": []
    }
  ]
}