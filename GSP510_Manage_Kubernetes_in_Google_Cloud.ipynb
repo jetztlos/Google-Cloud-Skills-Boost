{
  "nbformat": 4,
  "nbformat_minor": 0,
  "metadata": {
    "colab": {
      "provenance": [],
      "toc_visible": true
    },
    "kernelspec": {
      "name": "python3",
      "display_name": "Python 3"
    },
    "language_info": {
      "name": "python"
    }
  },
  "cells": [
    {
      "cell_type": "markdown",
      "source": [
        "##Task 1. Create a GKE cluster"
      ],
      "metadata": {
        "id": "BBIwiN3Un1lF"
      }
    },
    {
      "cell_type": "code",
      "execution_count": null,
      "metadata": {
        "id": "bbT22_1JnsQR"
      },
      "outputs": [],
      "source": [
        "export REPO_NAME=hello-repo\n",
        "export CLUSTER_NAME=hello-world-ge9u\n",
        "export ZONE=us-central1-c"
      ]
    },
    {
      "cell_type": "code",
      "source": [
        "gcloud config set compute/zone $ZONE"
      ],
      "metadata": {
        "id": "GpSmyd4cn6QB"
      },
      "execution_count": null,
      "outputs": []
    },
    {
      "cell_type": "code",
      "source": [
        "gcloud container clusters create $CLUSTER_NAME \\\n",
        "--release-channel regular \\\n",
        "--cluster-version latest \\\n",
        "--num-nodes 3 \\\n",
        "--min-nodes 2 \\\n",
        "--max-nodes 6 \\\n",
        "--enable-autoscaling --no-enable-ip-alias"
      ],
      "metadata": {
        "id": "l7fLp7eun7Ay"
      },
      "execution_count": null,
      "outputs": []
    },
    {
      "cell_type": "code",
      "source": [
        "gcloud container clusters update $CLUSTER_NAME --enable-managed-prometheus --zone $ZONE"
      ],
      "metadata": {
        "id": "HnzApmacpAR4"
      },
      "execution_count": null,
      "outputs": []
    },
    {
      "cell_type": "markdown",
      "source": [
        "##Task 2. Enable Managed Prometheus on the GKE cluster"
      ],
      "metadata": {
        "id": "4KB1NyHbn7b2"
      }
    },
    {
      "cell_type": "code",
      "source": [
        "export NAMESPACE=gmp-dh47\n",
        "export INTERVAL=50s"
      ],
      "metadata": {
        "id": "QBXqekV7otPl"
      },
      "execution_count": null,
      "outputs": []
    },
    {
      "cell_type": "code",
      "source": [
        "kubectl create ns $NAMESPACE"
      ],
      "metadata": {
        "id": "mq2LLVQon67V"
      },
      "execution_count": null,
      "outputs": []
    },
    {
      "cell_type": "code",
      "source": [
        "gsutil cp gs://spls/gsp510/prometheus-app.yaml ."
      ],
      "metadata": {
        "id": "-FZuhXjYp86C"
      },
      "execution_count": null,
      "outputs": []
    },
    {
      "cell_type": "code",
      "source": [
        "cat > prometheus-app.yaml <<EOF\n",
        "\n",
        "apiVersion: apps/v1\n",
        "kind: Deployment\n",
        "metadata:\n",
        "  name: prometheus-test\n",
        "  labels:\n",
        "    app: prometheus-test\n",
        "spec:\n",
        "  selector:\n",
        "    matchLabels:\n",
        "      app: prometheus-test\n",
        "  replicas: 3\n",
        "  template:\n",
        "    metadata:\n",
        "      labels:\n",
        "        app: prometheus-test\n",
        "    spec:\n",
        "      nodeSelector:\n",
        "        kubernetes.io/os: linux\n",
        "        kubernetes.io/arch: amd64\n",
        "      containers:\n",
        "      - image: nilebox/prometheus-example-app:latest\n",
        "        name: prometheus-test\n",
        "        ports:\n",
        "        - name: metrics\n",
        "          containerPort: 1234\n",
        "        command:\n",
        "        - \"/main\"\n",
        "        - \"--process-metrics\"\n",
        "        - \"--go-metrics\"\n",
        "EOF"
      ],
      "metadata": {
        "id": "8Pw8J2ecp82o"
      },
      "execution_count": null,
      "outputs": []
    },
    {
      "cell_type": "code",
      "source": [
        "kubectl -n $NAMESPACE apply -f prometheus-app.yaml"
      ],
      "metadata": {
        "id": "cb1Ro1Wfp801"
      },
      "execution_count": null,
      "outputs": []
    },
    {
      "cell_type": "code",
      "source": [
        "gsutil cp gs://spls/gsp510/pod-monitoring.yaml ."
      ],
      "metadata": {
        "id": "0N2FsQiXp8yf"
      },
      "execution_count": null,
      "outputs": []
    },
    {
      "cell_type": "code",
      "source": [
        "cat > pod-monitoring.yaml <<EOF\n",
        "\n",
        "apiVersion: monitoring.googleapis.com/v1alpha1\n",
        "kind: PodMonitoring\n",
        "metadata:\n",
        "  name: prometheus-test\n",
        "  labels:\n",
        "    app.kubernetes.io/name: prometheus-test\n",
        "spec:\n",
        "  selector:\n",
        "    matchLabels:\n",
        "      app: prometheus-test\n",
        "  endpoints:\n",
        "  - port: metrics\n",
        "    interval: $INTERVAL\n",
        "EOF"
      ],
      "metadata": {
        "id": "d5bGcrazp8wX"
      },
      "execution_count": null,
      "outputs": []
    },
    {
      "cell_type": "code",
      "source": [
        "kubectl -n $NAMESPACE apply -f pod-monitoring.yaml"
      ],
      "metadata": {
        "id": "QIdVJwIpn65W"
      },
      "execution_count": null,
      "outputs": []
    },
    {
      "cell_type": "markdown",
      "source": [
        "##Task 3. Deploy an application onto the GKE cluster"
      ],
      "metadata": {
        "id": "3NxHDF6fn-88"
      }
    },
    {
      "cell_type": "code",
      "source": [
        "gsutil cp -r gs://spls/gsp510/hello-app/ ."
      ],
      "metadata": {
        "id": "DLn5YMqgn63e"
      },
      "execution_count": null,
      "outputs": []
    },
    {
      "cell_type": "code",
      "source": [
        "cd ~/hello-app"
      ],
      "metadata": {
        "id": "wtVRf27-n6zK"
      },
      "execution_count": null,
      "outputs": []
    },
    {
      "cell_type": "code",
      "source": [
        "gcloud container clusters get-credentials $CLUSTER_NAME --zone $ZONE"
      ],
      "metadata": {
        "id": "e5RaolshoHSS"
      },
      "execution_count": null,
      "outputs": []
    },
    {
      "cell_type": "code",
      "source": [
        "kubectl -n $NAMESPACE apply -f manifests/helloweb-deployment.yaml"
      ],
      "metadata": {
        "id": "k14ZqTt7rfZ8"
      },
      "execution_count": null,
      "outputs": []
    },
    {
      "cell_type": "code",
      "source": [
        "cd manifests/"
      ],
      "metadata": {
        "id": "Bk2HnOWMrfWh"
      },
      "execution_count": null,
      "outputs": []
    },
    {
      "cell_type": "code",
      "source": [
        "cat > helloweb-deployment.yaml <<EOF\n",
        "apiVersion: apps/v1\n",
        "kind: Deployment\n",
        "metadata:\n",
        "  name: helloweb\n",
        "  labels:\n",
        "    app: hello\n",
        "spec:\n",
        "  selector:\n",
        "    matchLabels:\n",
        "      app: hello\n",
        "      tier: web\n",
        "  template:\n",
        "    metadata:\n",
        "      labels:\n",
        "        app: hello\n",
        "        tier: web\n",
        "    spec:\n",
        "      containers:\n",
        "      - name: hello-app\n",
        "        image: us-docker.pkg.dev/google-samples/containers/gke/hello-app:1.0\n",
        "        ports:\n",
        "        - containerPort: 8080\n",
        "        resources:\n",
        "          requests:\n",
        "            cpu: 200m\n",
        "# [END container_helloapp_deployment]\n",
        "# [END gke_manifests_helloweb_deployment_deployment_helloweb]\n",
        "---\n",
        "EOF"
      ],
      "metadata": {
        "id": "0jAonSEfrkr6"
      },
      "execution_count": null,
      "outputs": []
    },
    {
      "cell_type": "code",
      "source": [
        "cd .."
      ],
      "metadata": {
        "id": "7J_OWGACrkoW"
      },
      "execution_count": null,
      "outputs": []
    },
    {
      "cell_type": "code",
      "source": [
        "kubectl delete deployments helloweb  -n $NAMESPACE"
      ],
      "metadata": {
        "id": "GdBgdUyloHOu"
      },
      "execution_count": null,
      "outputs": []
    },
    {
      "cell_type": "code",
      "source": [
        "kubectl -n $NAMESPACE apply -f manifests/helloweb-deployment.yaml"
      ],
      "metadata": {
        "id": "mlT52qDirwcg"
      },
      "execution_count": null,
      "outputs": []
    },
    {
      "cell_type": "code",
      "source": [
        "cat > main.go <<EOF\n",
        "package main\n",
        "\n",
        "import (\n",
        "\t\"fmt\"\n",
        "\t\"log\"\n",
        "\t\"net/http\"\n",
        "\t\"os\"\n",
        ")\n",
        "\n",
        "func main() {\n",
        "\t// register hello function to handle all requests\n",
        "\tmux := http.NewServeMux()\n",
        "\tmux.HandleFunc(\"/\", hello)\n",
        "\n",
        "\t// use PORT environment variable, or default to 8080\n",
        "\tport := os.Getenv(\"PORT\")\n",
        "\tif port == \"\" {\n",
        "\t\tport = \"8080\"\n",
        "\t}\n",
        "\n",
        "\t// start the web server on port and accept requests\n",
        "\tlog.Printf(\"Server listening on port %s\", port)\n",
        "\tlog.Fatal(http.ListenAndServe(\":\"+port, mux))\n",
        "}\n",
        "\n",
        "// hello responds to the request with a plain-text \"Hello, world\" message.\n",
        "func hello(w http.ResponseWriter, r *http.Request) {\n",
        "\tlog.Printf(\"Serving request: %s\", r.URL.Path)\n",
        "\thost, _ := os.Hostname()\n",
        "\tfmt.Fprintf(w, \"Hello, world!\\n\")\n",
        "\tfmt.Fprintf(w, \"Version: 2.0.0\\n\")\n",
        "\tfmt.Fprintf(w, \"Hostname: %s\\n\", host)\n",
        "}\n",
        "\n",
        "// [END container_hello_app]\n",
        "// [END gke_hello_app]\n",
        "\n",
        "EOF"
      ],
      "metadata": {
        "id": "5ZbNHpN6r4-p"
      },
      "execution_count": null,
      "outputs": []
    },
    {
      "cell_type": "markdown",
      "source": [
        "##Task 4. Create a logs-based metric and alerting policy"
      ],
      "metadata": {
        "id": "waQDez__oDDs"
      }
    },
    {
      "cell_type": "code",
      "source": [
        "gcloud logging metrics create pod-image-errors \\\n",
        "  --description=\"awesome lab\" \\\n",
        "  --log-filter=\"resource.type=\\\"k8s_pod\\\"\n",
        "severity=WARNING\""
      ],
      "metadata": {
        "id": "V2Lk_wAEsEoH"
      },
      "execution_count": null,
      "outputs": []
    },
    {
      "cell_type": "code",
      "source": [
        "cat > awesome.json <<EOF_END\n",
        "{\n",
        "  \"displayName\": \"Pod Error Alert\",\n",
        "  \"userLabels\": {},\n",
        "  \"conditions\": [\n",
        "    {\n",
        "      \"displayName\": \"Kubernetes Pod - logging/user/pod-image-errors\",\n",
        "      \"conditionThreshold\": {\n",
        "        \"filter\": \"resource.type = \\\"k8s_pod\\\" AND metric.type = \\\"logging.googleapis.com/user/pod-image-errors\\\"\",\n",
        "        \"aggregations\": [\n",
        "          {\n",
        "            \"alignmentPeriod\": \"600s\",\n",
        "            \"crossSeriesReducer\": \"REDUCE_SUM\",\n",
        "            \"perSeriesAligner\": \"ALIGN_COUNT\"\n",
        "          }\n",
        "        ],\n",
        "        \"comparison\": \"COMPARISON_GT\",\n",
        "        \"duration\": \"0s\",\n",
        "        \"trigger\": {\n",
        "          \"count\": 1\n",
        "        },\n",
        "        \"thresholdValue\": 0\n",
        "      }\n",
        "    }\n",
        "  ],\n",
        "  \"alertStrategy\": {\n",
        "    \"autoClose\": \"604800s\"\n",
        "  },\n",
        "  \"combiner\": \"OR\",\n",
        "  \"enabled\": true,\n",
        "  \"notificationChannels\": []\n",
        "}\n",
        "EOF_END"
      ],
      "metadata": {
        "id": "2sliKnC_sEl_"
      },
      "execution_count": null,
      "outputs": []
    },
    {
      "cell_type": "markdown",
      "source": [
        "##Task 5. Update and re-deploy your app"
      ],
      "metadata": {
        "id": "YLBmUALLoHlm"
      }
    },
    {
      "cell_type": "code",
      "source": [
        "export SERVICE_NAME=helloweb-service-mrs3"
      ],
      "metadata": {
        "id": "lASItaTjn69O"
      },
      "execution_count": null,
      "outputs": []
    },
    {
      "cell_type": "code",
      "source": [
        "export PROJECT_ID=$(gcloud config get-value project)\n",
        "export REGION=\"${ZONE%-*}\""
      ],
      "metadata": {
        "id": "INkZMBE2oHMj"
      },
      "execution_count": null,
      "outputs": []
    },
    {
      "cell_type": "markdown",
      "source": [
        "##Task 6. Containerize your code and deploy it onto the cluster"
      ],
      "metadata": {
        "id": "4CvPmleQoMEz"
      }
    },
    {
      "cell_type": "code",
      "source": [
        "cd ~/hello-app/"
      ],
      "metadata": {
        "id": "DTTw43kCoHKj"
      },
      "execution_count": null,
      "outputs": []
    },
    {
      "cell_type": "code",
      "source": [
        "gcloud auth configure-docker $REGION-docker.pkg.dev --quiet"
      ],
      "metadata": {
        "id": "I1Mapy9aoGqo"
      },
      "execution_count": null,
      "outputs": []
    },
    {
      "cell_type": "code",
      "source": [
        "docker build -t $REGION-docker.pkg.dev/$PROJECT_ID/$REPO_NAME/hello-app:v2 ."
      ],
      "metadata": {
        "id": "h1IBnjQ0sErq"
      },
      "execution_count": null,
      "outputs": []
    },
    {
      "cell_type": "code",
      "source": [
        "docker push $REGION-docker.pkg.dev/$PROJECT_ID/$REPO_NAME/hello-app:v2"
      ],
      "metadata": {
        "id": "M_8B-H_GsILg"
      },
      "execution_count": null,
      "outputs": []
    },
    {
      "cell_type": "code",
      "source": [
        "kubectl set image deployment/helloweb -n $NAMESPACE hello-app=$REGION-docker.pkg.dev/$PROJECT_ID/$REPO_NAME/hello-app:v2"
      ],
      "metadata": {
        "id": "ouMhOUOUsIH9"
      },
      "execution_count": null,
      "outputs": []
    },
    {
      "cell_type": "code",
      "source": [
        "kubectl expose deployment helloweb -n $NAMESPACE --name=$SERVICE_NAME --type=LoadBalancer --port 8080 --target-port 8080"
      ],
      "metadata": {
        "id": "Z1jTfdrpsIF1"
      },
      "execution_count": null,
      "outputs": []
    },
    {
      "cell_type": "code",
      "source": [
        "cd .."
      ],
      "metadata": {
        "id": "HZ5IB_ZtsIDt"
      },
      "execution_count": null,
      "outputs": []
    },
    {
      "cell_type": "code",
      "source": [
        "kubectl -n $NAMESPACE apply -f pod-monitoring.yaml"
      ],
      "metadata": {
        "id": "UfchOj7MsIBs"
      },
      "execution_count": null,
      "outputs": []
    },
    {
      "cell_type": "code",
      "source": [
        "gcloud alpha monitoring policies create --policy-from-file=\"awesome.json\""
      ],
      "metadata": {
        "id": "dJ7GS1t7sp45"
      },
      "execution_count": null,
      "outputs": []
    },
    {
      "cell_type": "code",
      "source": [],
      "metadata": {
        "id": "gRJr_gpzsEjy"
      },
      "execution_count": null,
      "outputs": []
    },
    {
      "cell_type": "code",
      "source": [],
      "metadata": {
        "id": "nDJyQBDvn6qa"
      },
      "execution_count": null,
      "outputs": []
    }
  ]
}