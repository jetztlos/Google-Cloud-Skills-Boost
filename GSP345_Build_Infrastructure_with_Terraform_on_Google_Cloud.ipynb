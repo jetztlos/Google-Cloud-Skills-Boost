{
  "nbformat": 4,
  "nbformat_minor": 0,
  "metadata": {
    "colab": {
      "provenance": [],
      "toc_visible": true
    },
    "kernelspec": {
      "name": "python3",
      "display_name": "Python 3"
    },
    "language_info": {
      "name": "python"
    }
  },
  "cells": [
    {
      "cell_type": "code",
      "execution_count": null,
      "metadata": {
        "id": "okcaEfUXRv_Z"
      },
      "outputs": [],
      "source": [
        "gcloud auth list"
      ]
    },
    {
      "cell_type": "code",
      "source": [
        "gcloud config list project"
      ],
      "metadata": {
        "id": "QcRjegE8SAWq"
      },
      "execution_count": null,
      "outputs": []
    },
    {
      "cell_type": "markdown",
      "source": [
        "##Task 1. Create the configuration files"
      ],
      "metadata": {
        "id": "Aay2jtseR2U_"
      }
    },
    {
      "cell_type": "code",
      "source": [
        "export PROJECT_ID=qwiklabs-gcp-00-a2ac05b865c8\n",
        "export REGION=us-east1\n",
        "export ZONE=us-east1-d"
      ],
      "metadata": {
        "id": "HdIAS_WyaR-v"
      },
      "execution_count": null,
      "outputs": []
    },
    {
      "cell_type": "code",
      "source": [
        "export BUCKET=tf-bucket-307614\n",
        "export INSTANCE=tf-instance-679425\n",
        "export VPC=tf-vpc-041626"
      ],
      "metadata": {
        "id": "6xgSDya4aost"
      },
      "execution_count": null,
      "outputs": []
    },
    {
      "cell_type": "code",
      "source": [
        "touch main.tf variables.tf\n",
        "mkdir modules\n",
        "cd modules\n",
        "mkdir instances\n",
        "cd instances\n",
        "touch instances.tf outputs.tf variables.tf\n",
        "cd ..\n",
        "mkdir storage\n",
        "cd storage\n",
        "touch storage.tf outputs.tf variables.tf\n",
        "cd"
      ],
      "metadata": {
        "id": "985V7mn4S4i-"
      },
      "execution_count": null,
      "outputs": []
    },
    {
      "cell_type": "code",
      "source": [
        "cat > variables.tf <<EOF_END\n",
        "variable \"region\" {\n",
        " default = \"$REGION\"\n",
        "}\n",
        "\n",
        "variable \"zone\" {\n",
        " default = \"$ZONE\"\n",
        "}\n",
        "\n",
        "variable \"project_id\" {\n",
        " default = \"$PROJECT_ID\"\n",
        "}\n",
        "EOF_END"
      ],
      "metadata": {
        "id": "upfKfNnIYySj"
      },
      "execution_count": null,
      "outputs": []
    },
    {
      "cell_type": "code",
      "source": [
        "cat > main.tf <<EOF_END\n",
        "terraform {\n",
        "  required_providers {\n",
        "    google = {\n",
        "      source = \"hashicorp/google\"\n",
        "      version = \"4.53.0\"\n",
        "    }\n",
        "  }\n",
        "}\n",
        "\n",
        "provider \"google\" {\n",
        "  project     = var.project_id\n",
        "  region      = var.region\n",
        "  zone        = var.zone\n",
        "}\n",
        "\n",
        "module \"instances\" {\n",
        "  source     = \"./modules/instances\"\n",
        "}\n",
        "EOF_END"
      ],
      "metadata": {
        "id": "4LnwE65UY1Ll"
      },
      "execution_count": null,
      "outputs": []
    },
    {
      "cell_type": "code",
      "source": [
        "terraform init"
      ],
      "metadata": {
        "id": "yl_OxXCIVLW5"
      },
      "execution_count": null,
      "outputs": []
    },
    {
      "cell_type": "markdown",
      "source": [
        "##Task 2. Import infrastructure"
      ],
      "metadata": {
        "id": "UWp_BMD1R5vA"
      }
    },
    {
      "cell_type": "code",
      "source": [
        "export INSTANCE_ID_1=tf-instance-1\n",
        "export INSTANCE_ID_2=tf-instance-2"
      ],
      "metadata": {
        "id": "bGfO6Wf4YqsT"
      },
      "execution_count": null,
      "outputs": []
    },
    {
      "cell_type": "code",
      "source": [
        "cat > modules/instances/instances.tf <<EOF_END\n",
        "resource \"google_compute_instance\" \"tf-instance-1\" {\n",
        "  name         = \"tf-instance-1\"\n",
        "  machine_type = \"n1-standard-1\"\n",
        "  zone         = \"$ZONE\"\n",
        "\n",
        "  boot_disk {\n",
        "    initialize_params {\n",
        "      image = \"debian-cloud/debian-11\"\n",
        "    }\n",
        "  }\n",
        "\n",
        "  network_interface {\n",
        " network = \"default\"\n",
        "  }\n",
        "  metadata_startup_script = <<-EOT\n",
        "        #!/bin/bash\n",
        "    EOT\n",
        "  allow_stopping_for_update = true\n",
        "}\n",
        "\n",
        "resource \"google_compute_instance\" \"tf-instance-2\" {\n",
        "  name         = \"tf-instance-2\"\n",
        "  machine_type = \"n1-standard-1\"\n",
        "  zone         =  \"$ZONE\"\n",
        "\n",
        "  boot_disk {\n",
        "    initialize_params {\n",
        "      image = \"debian-cloud/debian-11\"\n",
        "    }\n",
        "  }\n",
        "\n",
        "  network_interface {\n",
        "\t  network = \"default\"\n",
        "  }\n",
        "  metadata_startup_script = <<-EOT\n",
        "        #!/bin/bash\n",
        "    EOT\n",
        "  allow_stopping_for_update = true\n",
        "}\n",
        "EOF_END"
      ],
      "metadata": {
        "id": "QyHkSE70R17Q"
      },
      "execution_count": null,
      "outputs": []
    },
    {
      "cell_type": "code",
      "source": [
        "terraform import module.instances.google_compute_instance.tf-instance-1 $INSTANCE_ID_1"
      ],
      "metadata": {
        "id": "0bGd8dJ3Y-Ny"
      },
      "execution_count": null,
      "outputs": []
    },
    {
      "cell_type": "code",
      "source": [
        "terraform import module.instances.google_compute_instance.tf-instance-2 $INSTANCE_ID_2"
      ],
      "metadata": {
        "id": "cOvdV_HiY-Kb"
      },
      "execution_count": null,
      "outputs": []
    },
    {
      "cell_type": "code",
      "source": [
        "terraform plan"
      ],
      "metadata": {
        "id": "NjE2XFggY-HN"
      },
      "execution_count": null,
      "outputs": []
    },
    {
      "cell_type": "code",
      "source": [
        "terraform apply -auto-approve"
      ],
      "metadata": {
        "id": "OPzh2pjTY-FY"
      },
      "execution_count": null,
      "outputs": []
    },
    {
      "cell_type": "markdown",
      "source": [
        "##Task 3. Configure a remote backend"
      ],
      "metadata": {
        "id": "apjy3TGER9Dt"
      }
    },
    {
      "cell_type": "code",
      "source": [
        "cat > modules/storage/storage.tf <<EOF_END\n",
        "resource \"google_storage_bucket\" \"storage-bucket\" {\n",
        "  name          = \"$BUCKET\"\n",
        "  location      = \"us\"\n",
        "  force_destroy = true\n",
        "  uniform_bucket_level_access = true\n",
        "}\n",
        "EOF_END"
      ],
      "metadata": {
        "id": "n_VWhCpRR15a"
      },
      "execution_count": null,
      "outputs": []
    },
    {
      "cell_type": "code",
      "source": [
        "cat >> main.tf <<EOF_END\n",
        "module \"storage\" {\n",
        "  source     = \"./modules/storage\"\n",
        "}\n",
        "EOF_END"
      ],
      "metadata": {
        "id": "LqWNkqdcZG3f"
      },
      "execution_count": null,
      "outputs": []
    },
    {
      "cell_type": "code",
      "source": [
        "terraform init"
      ],
      "metadata": {
        "id": "xOc8nu9iZGz9"
      },
      "execution_count": null,
      "outputs": []
    },
    {
      "cell_type": "code",
      "source": [
        "terraform apply -auto-approve"
      ],
      "metadata": {
        "id": "DujSFziAZGx5"
      },
      "execution_count": null,
      "outputs": []
    },
    {
      "cell_type": "code",
      "source": [
        "cat > main.tf <<EOF_END\n",
        "terraform {\n",
        "\tbackend \"gcs\" {\n",
        "\t\tbucket = \"$BUCKET\"\n",
        "\t\tprefix = \"terraform/state\"\n",
        "\t}\n",
        "  required_providers {\n",
        "    google = {\n",
        "      source = \"hashicorp/google\"\n",
        "      version = \"4.53.0\"\n",
        "    }\n",
        "  }\n",
        "}\n",
        "\n",
        "provider \"google\" {\n",
        "  project     = var.project_id\n",
        "  region      = var.region\n",
        "  zone        = var.zone\n",
        "}\n",
        "\n",
        "module \"instances\" {\n",
        "  source     = \"./modules/instances\"\n",
        "}\n",
        "\n",
        "module \"storage\" {\n",
        "  source     = \"./modules/storage\"\n",
        "}\n",
        "EOF_END"
      ],
      "metadata": {
        "id": "TC3EOsEiZGvx"
      },
      "execution_count": null,
      "outputs": []
    },
    {
      "cell_type": "code",
      "source": [
        "terraform init"
      ],
      "metadata": {
        "id": "lWiRgb_4ZUHB"
      },
      "execution_count": null,
      "outputs": []
    },
    {
      "cell_type": "markdown",
      "source": [
        "##Task 4. Modify and update infrastructure"
      ],
      "metadata": {
        "id": "OuXEaTmtYNxQ"
      }
    },
    {
      "cell_type": "code",
      "source": [
        "cat > modules/instances/instances.tf <<EOF_END\n",
        "resource \"google_compute_instance\" \"tf-instance-1\" {\n",
        "  name         = \"tf-instance-1\"\n",
        "  machine_type = \"e2-standard-2\"\n",
        "  zone         = \"$ZONE\"\n",
        "\n",
        "  boot_disk {\n",
        "    initialize_params {\n",
        "      image = \"debian-cloud/debian-11\"\n",
        "    }\n",
        "  }\n",
        "\n",
        "  network_interface {\n",
        " network = \"default\"\n",
        "  }\n",
        "  metadata_startup_script = <<-EOT\n",
        "        #!/bin/bash\n",
        "    EOT\n",
        "  allow_stopping_for_update = true\n",
        "}\n",
        "\n",
        "resource \"google_compute_instance\" \"tf-instance-2\" {\n",
        "  name         = \"tf-instance-2\"\n",
        "  machine_type = \"e2-standard-2\"\n",
        "  zone         =  \"$ZONE\"\n",
        "\n",
        "  boot_disk {\n",
        "    initialize_params {\n",
        "      image = \"debian-cloud/debian-11\"\n",
        "    }\n",
        "  }\n",
        "\n",
        "  network_interface {\n",
        "\t  network = \"default\"\n",
        "  }\n",
        "  metadata_startup_script = <<-EOT\n",
        "        #!/bin/bash\n",
        "    EOT\n",
        "  allow_stopping_for_update = true\n",
        "}\n",
        "\n",
        "resource \"google_compute_instance\" \"$INSTANCE\" {\n",
        "  name         = \"$INSTANCE\"\n",
        "  machine_type = \"e2-standard-2\"\n",
        "  zone         = \"$ZONE\"\n",
        "\n",
        "  boot_disk {\n",
        "    initialize_params {\n",
        "      image = \"debian-cloud/debian-11\"\n",
        "    }\n",
        "  }\n",
        "\n",
        "  network_interface {\n",
        " network = \"default\"\n",
        "  }\n",
        "  metadata_startup_script = <<-EOT\n",
        "        #!/bin/bash\n",
        "    EOT\n",
        "  allow_stopping_for_update = true\n",
        "}\n",
        "EOF_END"
      ],
      "metadata": {
        "id": "aeUEEBF-THsR"
      },
      "execution_count": null,
      "outputs": []
    },
    {
      "cell_type": "code",
      "source": [
        "terraform init"
      ],
      "metadata": {
        "id": "PDFeaqK3ZZrd"
      },
      "execution_count": null,
      "outputs": []
    },
    {
      "cell_type": "code",
      "source": [
        "terraform apply -auto-approve"
      ],
      "metadata": {
        "id": "Milg9BttZWcJ"
      },
      "execution_count": null,
      "outputs": []
    },
    {
      "cell_type": "markdown",
      "source": [
        "##Task 5. Destroy resources"
      ],
      "metadata": {
        "id": "DpZ7xAaYYSW_"
      }
    },
    {
      "cell_type": "code",
      "source": [
        "cat > modules/instances/instances.tf <<EOF_END\n",
        "resource \"google_compute_instance\" \"tf-instance-1\" {\n",
        "  name         = \"tf-instance-1\"\n",
        "  machine_type = \"e2-standard-2\"\n",
        "  zone         = \"$ZONE\"\n",
        "\n",
        "  boot_disk {\n",
        "    initialize_params {\n",
        "      image = \"debian-cloud/debian-11\"\n",
        "    }\n",
        "  }\n",
        "\n",
        "  network_interface {\n",
        " network = \"default\"\n",
        "  }\n",
        "  metadata_startup_script = <<-EOT\n",
        "        #!/bin/bash\n",
        "    EOT\n",
        "  allow_stopping_for_update = true\n",
        "}\n",
        "\n",
        "resource \"google_compute_instance\" \"tf-instance-2\" {\n",
        "  name         = \"tf-instance-2\"\n",
        "  machine_type = \"e2-standard-2\"\n",
        "  zone         =  \"$ZONE\"\n",
        "\n",
        "  boot_disk {\n",
        "    initialize_params {\n",
        "      image = \"debian-cloud/debian-11\"\n",
        "    }\n",
        "  }\n",
        "\n",
        "  network_interface {\n",
        "\t  network = \"default\"\n",
        "  }\n",
        "  metadata_startup_script = <<-EOT\n",
        "        #!/bin/bash\n",
        "    EOT\n",
        "  allow_stopping_for_update = true\n",
        "}\n",
        "EOF_END"
      ],
      "metadata": {
        "id": "qCXZmtbBZeKD"
      },
      "execution_count": null,
      "outputs": []
    },
    {
      "cell_type": "code",
      "source": [
        "terraform apply -auto-approve"
      ],
      "metadata": {
        "id": "zUHR-vbfZeGg"
      },
      "execution_count": null,
      "outputs": []
    },
    {
      "cell_type": "markdown",
      "source": [
        "##Task 6. Use a module from the Registry"
      ],
      "metadata": {
        "id": "EM2JpsPCYV3G"
      }
    },
    {
      "cell_type": "code",
      "source": [
        "cat >> main.tf <<EOF_END\n",
        "module \"vpc\" {\n",
        "    source  = \"terraform-google-modules/network/google\"\n",
        "    version = \"~> 6.0.0\"\n",
        "\n",
        "    project_id   = \"$PROJECT_ID\"\n",
        "    network_name = \"$VPC\"\n",
        "    routing_mode = \"GLOBAL\"\n",
        "\n",
        "    subnets = [\n",
        "        {\n",
        "            subnet_name           = \"subnet-01\"\n",
        "            subnet_ip             = \"10.10.10.0/24\"\n",
        "            subnet_region         = \"$REGION\"\n",
        "        },\n",
        "        {\n",
        "            subnet_name           = \"subnet-02\"\n",
        "            subnet_ip             = \"10.10.20.0/24\"\n",
        "            subnet_region         = \"$REGION\"\n",
        "            subnet_private_access = \"true\"\n",
        "            subnet_flow_logs      = \"true\"\n",
        "            description           = \"Hola\"\n",
        "        },\n",
        "    ]\n",
        "}\n",
        "EOF_END"
      ],
      "metadata": {
        "id": "aUYzlhfzYR1N"
      },
      "execution_count": null,
      "outputs": []
    },
    {
      "cell_type": "code",
      "source": [
        "terraform init"
      ],
      "metadata": {
        "id": "PcIzKcwVZn-g"
      },
      "execution_count": null,
      "outputs": []
    },
    {
      "cell_type": "code",
      "source": [
        "terraform plan"
      ],
      "metadata": {
        "id": "ikbf_XtJZn65"
      },
      "execution_count": null,
      "outputs": []
    },
    {
      "cell_type": "code",
      "source": [
        "terraform apply -auto-approve"
      ],
      "metadata": {
        "id": "aCH2eLS9THiG"
      },
      "execution_count": null,
      "outputs": []
    },
    {
      "cell_type": "code",
      "source": [
        "cat > modules/instances/instances.tf <<EOF_END\n",
        "resource \"google_compute_instance\" \"tf-instance-1\" {\n",
        "  name         = \"tf-instance-1\"\n",
        "  machine_type = \"e2-standard-2\"\n",
        "  zone         = \"$ZONE\"\n",
        "\n",
        "  boot_disk {\n",
        "    initialize_params {\n",
        "      image = \"debian-cloud/debian-11\"\n",
        "    }\n",
        "  }\n",
        "\n",
        "  network_interface {\n",
        "\t  network = \"$VPC\"\n",
        "    subnetwork = \"subnet-01\"\n",
        "  }\n",
        "  metadata_startup_script = <<-EOT\n",
        "        #!/bin/bash\n",
        "    EOT\n",
        "  allow_stopping_for_update = true\n",
        "}\n",
        "\n",
        "resource \"google_compute_instance\" \"tf-instance-2\" {\n",
        "  name         = \"tf-instance-2\"\n",
        "  machine_type = \"e2-standard-2\"\n",
        "  zone         = \"$ZONE\"\n",
        "\n",
        "  boot_disk {\n",
        "    initialize_params {\n",
        "      image = \"debian-cloud/debian-11\"\n",
        "    }\n",
        "  }\n",
        "\n",
        "  network_interface {\n",
        "\t  network = \"$VPC\"\n",
        "    subnetwork = \"subnet-02\"\n",
        "  }\n",
        "  metadata_startup_script = <<-EOT\n",
        "        #!/bin/bash\n",
        "    EOT\n",
        "  allow_stopping_for_update = true\n",
        "}\n",
        "EOF_END"
      ],
      "metadata": {
        "id": "7Yn2vPTQYZ4r"
      },
      "execution_count": null,
      "outputs": []
    },
    {
      "cell_type": "code",
      "source": [
        "terraform init"
      ],
      "metadata": {
        "id": "Wbr7y261ZxFi"
      },
      "execution_count": null,
      "outputs": []
    },
    {
      "cell_type": "code",
      "source": [
        "terraform plan"
      ],
      "metadata": {
        "id": "to_aLKuoZxCD"
      },
      "execution_count": null,
      "outputs": []
    },
    {
      "cell_type": "code",
      "source": [
        "terraform apply -auto-approve"
      ],
      "metadata": {
        "id": "VbsN3dLsZxAB"
      },
      "execution_count": null,
      "outputs": []
    },
    {
      "cell_type": "markdown",
      "source": [
        "##Task 7. Configure a firewall"
      ],
      "metadata": {
        "id": "dAvXv1r9YaJF"
      }
    },
    {
      "cell_type": "code",
      "source": [
        "cat >> main.tf <<EOF_END\n",
        "resource \"google_compute_firewall\" \"tf-firewall\"{\n",
        "  name    = \"tf-firewall\"\n",
        "\tnetwork = \"projects/$PROJECT_ID/global/networks/$VPC\"\n",
        "\n",
        "  allow {\n",
        "    protocol = \"tcp\"\n",
        "    ports    = [\"80\"]\n",
        "  }\n",
        "\n",
        "  source_tags = [\"web\"]\n",
        "  source_ranges = [\"0.0.0.0/0\"]\n",
        "}\n",
        "EOF_END"
      ],
      "metadata": {
        "id": "sFJlWv5UZ5a5"
      },
      "execution_count": null,
      "outputs": []
    },
    {
      "cell_type": "code",
      "source": [
        "terraform init"
      ],
      "metadata": {
        "id": "mQoONLJ_Z5RV"
      },
      "execution_count": null,
      "outputs": []
    },
    {
      "cell_type": "code",
      "source": [
        "terraform plan"
      ],
      "metadata": {
        "id": "-pm7bK4eZ5Ny"
      },
      "execution_count": null,
      "outputs": []
    },
    {
      "cell_type": "code",
      "source": [
        "terraform apply -auto-approve"
      ],
      "metadata": {
        "id": "bfIkzDdpZ5L0"
      },
      "execution_count": null,
      "outputs": []
    },
    {
      "cell_type": "code",
      "source": [],
      "metadata": {
        "id": "EZ7jcYBlYZvP"
      },
      "execution_count": null,
      "outputs": []
    },
    {
      "cell_type": "code",
      "source": [],
      "metadata": {
        "id": "cKpblweEYZQT"
      },
      "execution_count": null,
      "outputs": []
    }
  ]
}