{
 "cells": [
  {
   "cell_type": "code",
   "execution_count": null,
   "metadata": {
    "id": "ur8xi4C7S06n"
   },
   "outputs": [],
   "source": [
    "# Copyright 2024 Google LLC\n",
    "#\n",
    "# Licensed under the Apache License, Version 2.0 (the \"License\");\n",
    "# you may not use this file except in compliance with the License.\n",
    "# You may obtain a copy of the License at\n",
    "#\n",
    "#     https://www.apache.org/licenses/LICENSE-2.0\n",
    "#\n",
    "# Unless required by applicable law or agreed to in writing, software\n",
    "# distributed under the License is distributed on an \"AS IS\" BASIS,\n",
    "# WITHOUT WARRANTIES OR CONDITIONS OF ANY KIND, either express or implied.\n",
    "# See the License for the specific language governing permissions and\n",
    "# limitations under the License."
   ]
  },
  {
   "cell_type": "markdown",
   "metadata": {
    "id": "JAPoU8Sm5E6e"
   },
   "source": [
    "# Prompt Design - Best Practices\n",
    "\n",
    "<table align=\"left\">\n",
    "  <td style=\"text-align: center\">\n",
    "    <a href=\"https://colab.research.google.com/github/GoogleCloudPlatform/generative-ai/blob/main/gemini/prompts/intro_prompt_design.ipynb\">\n",
    "      <img src=\"https://cloud.google.com/ml-engine/images/colab-logo-32px.png\" alt=\"Google Colaboratory logo\"><br> Open in Colab\n",
    "    </a>\n",
    "  </td>\n",
    "  <td style=\"text-align: center\">\n",
    "    <a href=\"https://console.cloud.google.com/vertex-ai/colab/import/https:%2F%2Fraw.githubusercontent.com%2FGoogleCloudPlatform%2Fgenerative-ai%2Fmain%2Fgemini%2Fprompts%2Fintro_prompt_design.ipynb\">\n",
    "      <img width=\"32px\" src=\"https://lh3.googleusercontent.com/JmcxdQi-qOpctIvWKgPtrzZdJJK-J3sWE1RsfjZNwshCFgE_9fULcNpuXYTilIR2hjwN\" alt=\"Google Cloud Colab Enterprise logo\"><br> Open in Colab Enterprise\n",
    "    </a>\n",
    "  </td>    \n",
    "  <td style=\"text-align: center\">\n",
    "    <a href=\"https://console.cloud.google.com/vertex-ai/workbench/deploy-notebook?download_url=https://raw.githubusercontent.com/GoogleCloudPlatform/generative-ai/main/gemini/prompts/intro_prompt_design.ipynb\">\n",
    "      <img src=\"https://lh3.googleusercontent.com/UiNooY4LUgW_oTvpsNhPpQzsstV5W8F7rYgxgGBD85cWJoLmrOzhVs_ksK_vgx40SHs7jCqkTkCk=e14-rj-sc0xffffff-h130-w32\" alt=\"Vertex AI logo\"><br> Open in Workbench\n",
    "    </a>\n",
    "  </td>\n",
    "  <td style=\"text-align: center\">\n",
    "    <a href=\"https://github.com/GoogleCloudPlatform/generative-ai/blob/main/gemini/prompts/intro_prompt_design.ipynb\">\n",
    "      <img src=\"https://cloud.google.com/ml-engine/images/github-logo-32px.png\" alt=\"GitHub logo\"><br> View on GitHub\n",
    "    </a>\n",
    "  </td>\n",
    "  <td style=\"text-align: center\">\n",
    "    <a href=\"https://goo.gle/4fWHlze\">\n",
    "      <img width=\"32px\" src=\"https://cdn.qwiklabs.com/assets/gcp_cloud-e3a77215f0b8bfa9b3f611c0d2208c7e8708ed31.svg\" alt=\"Google Cloud logo\"><br> Open in  Cloud Skills Boost\n",
    "    </a>\n",
    "  </td>\n",
    "</table>\n",
    "\n",
    "<div style=\"clear: both;\"></div>\n",
    "\n",
    "<b>Share to:</b>\n",
    "\n",
    "<a href=\"https://www.linkedin.com/sharing/share-offsite/?url=https%3A//github.com/GoogleCloudPlatform/generative-ai/blob/main/gemini/prompts/intro_prompt_design.ipynb\" target=\"_blank\">\n",
    "  <img width=\"20px\" src=\"https://upload.wikimedia.org/wikipedia/commons/8/81/LinkedIn_icon.svg\" alt=\"LinkedIn logo\">\n",
    "</a>\n",
    "\n",
    "<a href=\"https://bsky.app/intent/compose?text=https%3A//github.com/GoogleCloudPlatform/generative-ai/blob/main/gemini/prompts/intro_prompt_design.ipynb\" target=\"_blank\">\n",
    "  <img width=\"20px\" src=\"https://upload.wikimedia.org/wikipedia/commons/7/7a/Bluesky_Logo.svg\" alt=\"Bluesky logo\">\n",
    "</a>\n",
    "\n",
    "<a href=\"https://twitter.com/intent/tweet?url=https%3A//github.com/GoogleCloudPlatform/generative-ai/blob/main/gemini/prompts/intro_prompt_design.ipynb\" target=\"_blank\">\n",
    "  <img width=\"20px\" src=\"https://upload.wikimedia.org/wikipedia/commons/5/53/X_logo_2023_original.svg\" alt=\"X logo\">\n",
    "</a>\n",
    "\n",
    "<a href=\"https://reddit.com/submit?url=https%3A//github.com/GoogleCloudPlatform/generative-ai/blob/main/gemini/prompts/intro_prompt_design.ipynb\" target=\"_blank\">\n",
    "  <img width=\"20px\" src=\"https://redditinc.com/hubfs/Reddit%20Inc/Brand/Reddit_Logo.png\" alt=\"Reddit logo\">\n",
    "</a>\n",
    "\n",
    "<a href=\"https://www.facebook.com/sharer/sharer.php?u=https%3A//github.com/GoogleCloudPlatform/generative-ai/blob/main/gemini/prompts/intro_prompt_design.ipynb\" target=\"_blank\">\n",
    "  <img width=\"20px\" src=\"https://upload.wikimedia.org/wikipedia/commons/5/51/Facebook_f_logo_%282019%29.svg\" alt=\"Facebook logo\">\n",
    "</a>            "
   ]
  },
  {
   "cell_type": "markdown",
   "metadata": {
    "id": "84f0f73a0f76"
   },
   "source": [
    "| | |\n",
    "|-|-|\n",
    "|Author(s) | [Polong Lin](https://github.com/polong-lin), [Karl Weinmeister](https://github.com/kweinmeister) |"
   ]
  },
  {
   "cell_type": "markdown",
   "metadata": {
    "id": "tvgnzT1CKxrO"
   },
   "source": [
    "## Overview\n",
    "\n",
    "This notebook covers the essentials of prompt engineering, including some best practices.\n",
    "\n",
    "Learn more about prompt design in the [official documentation](https://cloud.google.com/vertex-ai/docs/generative-ai/text/text-overview).\n",
    "\n",
    "In this notebook, you learn best practices around prompt engineering -- how to design prompts to improve the quality of your responses.\n",
    "\n",
    "This notebook covers the following best practices for prompt engineering:\n",
    "\n",
    "- Be concise\n",
    "- Be specific and well-defined\n",
    "- Ask one task at a time\n",
    "- Turn generative tasks into classification tasks\n",
    "- Improve response quality by including examples"
   ]
  },
  {
   "cell_type": "markdown",
   "metadata": {
    "id": "61RBz8LLbxCR"
   },
   "source": [
    "## Getting Started"
   ]
  },
  {
   "cell_type": "markdown",
   "metadata": {
    "id": "No17Cw5hgx12"
   },
   "source": [
    "### Install Google Gen AI SDK\n"
   ]
  },
  {
   "cell_type": "code",
   "execution_count": 1,
   "metadata": {
    "id": "tFy3H3aPgx12",
    "tags": []
   },
   "outputs": [
    {
     "name": "stdout",
     "output_type": "stream",
     "text": [
      "\n",
      "\u001b[1m[\u001b[0m\u001b[34;49mnotice\u001b[0m\u001b[1;39;49m]\u001b[0m\u001b[39;49m A new release of pip is available: \u001b[0m\u001b[31;49m25.0\u001b[0m\u001b[39;49m -> \u001b[0m\u001b[32;49m25.0.1\u001b[0m\n",
      "\u001b[1m[\u001b[0m\u001b[34;49mnotice\u001b[0m\u001b[1;39;49m]\u001b[0m\u001b[39;49m To update, run: \u001b[0m\u001b[32;49mpip install --upgrade pip\u001b[0m\n",
      "Note: you may need to restart the kernel to use updated packages.\n"
     ]
    }
   ],
   "source": [
    "%pip install --upgrade --quiet google-genai"
   ]
  },
  {
   "cell_type": "markdown",
   "metadata": {
    "id": "R5Xep4W9lq-Z"
   },
   "source": [
    "### Restart runtime\n",
    "\n",
    "To use the newly installed packages in this Jupyter runtime, you must restart the runtime. You can do this by running the cell below, which will restart the current kernel."
   ]
  },
  {
   "cell_type": "code",
   "execution_count": 2,
   "metadata": {
    "id": "XRvKdaPDTznN",
    "tags": []
   },
   "outputs": [
    {
     "data": {
      "text/plain": [
       "{'status': 'ok', 'restart': True}"
      ]
     },
     "execution_count": 2,
     "metadata": {},
     "output_type": "execute_result"
    }
   ],
   "source": [
    "import IPython\n",
    "\n",
    "app = IPython.Application.instance()\n",
    "app.kernel.do_shutdown(True)"
   ]
  },
  {
   "cell_type": "markdown",
   "metadata": {
    "id": "SbmM4z7FOBpM"
   },
   "source": [
    "<div class=\"alert alert-block alert-warning\">\n",
    "<b>⚠️ The kernel is going to restart. Please wait until it is finished before continuing to the next step. ⚠️</b>\n",
    "</div>\n"
   ]
  },
  {
   "cell_type": "markdown",
   "metadata": {
    "id": "dmWOrTJ3gx13"
   },
   "source": [
    "### Authenticate your notebook environment (Colab only)\n",
    "\n",
    "Authenticate your environment on Google Colab.\n"
   ]
  },
  {
   "cell_type": "code",
   "execution_count": 1,
   "metadata": {
    "id": "NyKGtVQjgx13",
    "tags": []
   },
   "outputs": [],
   "source": [
    "import sys\n",
    "\n",
    "if \"google.colab\" in sys.modules:\n",
    "    from google.colab import auth\n",
    "\n",
    "    auth.authenticate_user()"
   ]
  },
  {
   "cell_type": "markdown",
   "metadata": {
    "id": "06489bd14f16"
   },
   "source": [
    "### Import libraries\n"
   ]
  },
  {
   "cell_type": "code",
   "execution_count": 2,
   "metadata": {
    "id": "154137022fb6",
    "tags": []
   },
   "outputs": [],
   "source": [
    "from IPython.display import Markdown, display\n",
    "from google import genai\n",
    "from google.genai.types import GenerateContentConfig"
   ]
  },
  {
   "cell_type": "markdown",
   "metadata": {
    "id": "DF4l8DTdWgPY"
   },
   "source": [
    "### Set Google Cloud project information and create client\n",
    "\n",
    "To get started using Vertex AI, you must have an existing Google Cloud project and [enable the Vertex AI API](https://console.cloud.google.com/flows/enableapi?apiid=aiplatform.googleapis.com).\n",
    "\n",
    "Learn more about [setting up a project and a development environment](https://cloud.google.com/vertex-ai/docs/start/cloud-environment)."
   ]
  },
  {
   "cell_type": "code",
   "execution_count": 3,
   "metadata": {
    "id": "Nqwi-5ufWp_B",
    "tags": []
   },
   "outputs": [],
   "source": [
    "import os\n",
    "\n",
    "PROJECT_ID = \"qwiklabs-gcp-01-5ab2f8316289\"  # @param {type: \"string\", placeholder: \"[your-project-id]\", isTemplate: true}\n",
    "if not PROJECT_ID or PROJECT_ID == \"qwiklabs-gcp-01-5ab2f8316289\":\n",
    "    PROJECT_ID = str(os.environ.get(\"GOOGLE_CLOUD_PROJECT\"))\n",
    "\n",
    "LOCATION = os.environ.get(\"GOOGLE_CLOUD_REGION\", \"us-central1\")"
   ]
  },
  {
   "cell_type": "code",
   "execution_count": 4,
   "metadata": {
    "id": "QqRWdPGmW3NJ",
    "tags": []
   },
   "outputs": [],
   "source": [
    "client = genai.Client(vertexai=True, project=PROJECT_ID, location=LOCATION)"
   ]
  },
  {
   "cell_type": "markdown",
   "metadata": {
    "id": "OnFPpCRtXRl4"
   },
   "source": [
    "### Load model\n",
    "\n",
    "Learn more about all [Gemini models on Vertex AI](https://cloud.google.com/vertex-ai/generative-ai/docs/learn/models#gemini-models)."
   ]
  },
  {
   "cell_type": "code",
   "execution_count": 5,
   "metadata": {
    "id": "IQYu_9SvXQah",
    "tags": []
   },
   "outputs": [],
   "source": [
    "MODEL_ID = \"gemini-2.0-flash-001\"  # @param {type: \"string\"}"
   ]
  },
  {
   "cell_type": "markdown",
   "metadata": {
    "id": "cVOtUNJ5X0PY"
   },
   "source": [
    "## Prompt engineering best practices"
   ]
  },
  {
   "cell_type": "markdown",
   "metadata": {
    "id": "uv_e0fEPX60q"
   },
   "source": [
    "Prompt engineering is all about how to design your prompts so that the response is what you were indeed hoping to see.\n",
    "\n",
    "The idea of using \"unfancy\" prompts is to minimize the noise in your prompt to reduce the possibility of the LLM misinterpreting the intent of the prompt. Below are a few guidelines on how to engineer \"unfancy\" prompts.\n",
    "\n",
    "In this section, you'll cover the following best practices when engineering prompts:\n",
    "\n",
    "* Be concise\n",
    "* Be specific, and well-defined\n",
    "* Ask one task at a time\n",
    "* Improve response quality by including examples\n",
    "* Turn generative tasks to classification tasks to improve safety"
   ]
  },
  {
   "cell_type": "markdown",
   "metadata": {
    "id": "0pY4XX0OX9_Y"
   },
   "source": [
    "### Be concise"
   ]
  },
  {
   "cell_type": "markdown",
   "metadata": {
    "id": "xlRpxyxGYA1K"
   },
   "source": [
    "🛑 Not recommended. The prompt below is unnecessarily verbose."
   ]
  },
  {
   "cell_type": "code",
   "execution_count": 6,
   "metadata": {
    "id": "YKV4G-CfXdbi",
    "tags": []
   },
   "outputs": [
    {
     "data": {
      "text/markdown": [
       "Okay, here are some name ideas for a dried flower shop, playing on different aspects of the dried flower aesthetic and target audience:\n",
       "\n",
       "**Emphasizing the Dried/Preserved Aspect:**\n",
       "\n",
       "*   **The Everbloom:** (Classic, hints at lasting beauty)\n",
       "*   **Eternal Petals:** (Romantic and descriptive)\n",
       "*   **Lasting Blooms:** (Simple and clear)\n",
       "*   **The Dried Dahlia:** (Specific flower, feels unique)\n",
       "*   **The Foraged Flower:** (Emphasizes natural, wild elements often found in dried arrangements)\n",
       "*   **Preserved Petals:** (Elegant and descriptive)\n",
       "*   **Still Life Florals:** (Artsy and sophisticated)\n",
       "*   **The Gilded Bloom:** (Suggests luxury and beauty)\n",
       "\n",
       "**Emphasizing the Natural/Rustic Aspect:**\n",
       "\n",
       "*   **The Wild Stem:** (Evokes a natural, untamed feel)\n",
       "*   **The Rustic Bloom:** (Simple, straightforward, and appealing)\n",
       "*   **Golden Field Flowers:** (Imagery of fields and natural beauty)\n",
       "*   **The Earthly Bouquet:** (Down-to-earth and organic)\n",
       "*   **The Meadow's Edge:** (Suggests a natural, slightly wild beauty)\n",
       "\n",
       "**Emphasizing the Artistic/Unique Aspect:**\n",
       "\n",
       "*   **Petal & Pine:** (Combines floral and natural elements)\n",
       "*   **Bloom & Brush:** (Suggests artistry and design)\n",
       "*   **The Botanical Atelier:** (Sophisticated, suggests a workshop)\n",
       "*   **Gathered & Grown:** (Emphasizes a curated and natural selection)\n",
       "*   **Floral Alchemist:** (Unique, suggests transformation and artistry)\n",
       "\n",
       "**Modern & Minimalist:**\n",
       "\n",
       "*   **The Dry Bloom:** (Simple, modern, and direct)\n",
       "*   **Bloom Haus:** (Modern German influence, clean)\n",
       "*   **Petal Studio:** (Clean and focused)\n",
       "*   **Arrangement Co.:** (Simple and professional)\n",
       "\n",
       "**Tips for Choosing:**\n",
       "\n",
       "*   **Say it Out Loud:**  Make sure it's easy to pronounce and remember.\n",
       "*   **Check Availability:**  See if the name (or a similar one) is already in use in your area, and check for domain name availability.\n",
       "*   **Consider Your Brand:**  Does the name reflect the style and price point of your shop?\n",
       "*   **Get Feedback:**  Ask friends, family, and potential customers which names they like best.\n",
       "\n",
       "I hope this gives you a good starting point! Good luck!\n"
      ],
      "text/plain": [
       "<IPython.core.display.Markdown object>"
      ]
     },
     "metadata": {},
     "output_type": "display_data"
    }
   ],
   "source": [
    "prompt = \"What do you think could be a good name for a flower shop that specializes in selling bouquets of dried flowers more than fresh flowers?\"\n",
    "\n",
    "response = client.models.generate_content(model=MODEL_ID, contents=prompt)\n",
    "display(Markdown(response.text))"
   ]
  },
  {
   "cell_type": "markdown",
   "metadata": {
    "id": "YrJexRHJYnmC"
   },
   "source": [
    "✅ Recommended. The prompt below is to the point and concise."
   ]
  },
  {
   "cell_type": "code",
   "execution_count": 7,
   "metadata": {
    "id": "VHetn9lCYrXB",
    "tags": []
   },
   "outputs": [
    {
     "data": {
      "text/markdown": [
       "Okay, here are some name suggestions for a dried flower shop, playing with different styles and vibes:\n",
       "\n",
       "**Elegant & Classic:**\n",
       "\n",
       "*   The Everlasting Bloom\n",
       "*   Preserved Petals\n",
       "*   The Dried Floral\n",
       "*   Golden Stems\n",
       "*   Timeless Blooms\n",
       "*   The Conservatory of Everlasting Flowers\n",
       "\n",
       "**Modern & Minimalist:**\n",
       "\n",
       "*   Dried.\n",
       "*   The Still Life Florist\n",
       "*   Botanical Remains\n",
       "*   Dry Goods Florals\n",
       "*   The Dried Edit\n",
       "*   Bloom & Bone\n",
       "\n",
       "**Whimsical & Rustic:**\n",
       "\n",
       "*   The Wildflower Stays\n",
       "*   Prairie Dust Florals\n",
       "*   The Seed Keeper\n",
       "*   Sunbaked Blooms\n",
       "*   Forgotten Fields\n",
       "*   The Rustic Posy\n",
       "\n",
       "**Creative & Unique:**\n",
       "\n",
       "*   Flora Obscura\n",
       "*   Petrified Petals\n",
       "*   Second Bloom\n",
       "*   The Gilded Stem\n",
       "*   The Art of Dried\n",
       "*   Eternal Flora\n",
       "\n",
       "**Location Specific (If applicable):**\n",
       "\n",
       "*   (Your Town/Area) Dry Goods\n",
       "*   (Landmark) Blooms\n",
       "*   The (Street Name) Florist\n",
       "\n",
       "**Tips for Choosing:**\n",
       "\n",
       "*   **Consider your target audience:** Who are you trying to attract?  A modern minimalist shop might appeal to a younger crowd, while a more classic name might attract an older one.\n",
       "*   **Check for availability:**  Make sure the name isn't already in use by another florist (especially in your area) and that the domain name and social media handles are available.\n",
       "*   **Say it out loud:**  Does it sound good?  Is it easy to remember?\n",
       "*   **Get feedback:**  Ask friends, family, or potential customers what they think of your top choices.\n",
       "\n",
       "I hope this helps! Good luck!\n"
      ],
      "text/plain": [
       "<IPython.core.display.Markdown object>"
      ]
     },
     "metadata": {},
     "output_type": "display_data"
    }
   ],
   "source": [
    "prompt = \"Suggest a name for a flower shop that sells bouquets of dried flowers\"\n",
    "\n",
    "response = client.models.generate_content(model=MODEL_ID, contents=prompt)\n",
    "display(Markdown(response.text))"
   ]
  },
  {
   "cell_type": "markdown",
   "metadata": {
    "id": "eXTAvdOHY0OC"
   },
   "source": [
    "### Be specific, and well-defined"
   ]
  },
  {
   "cell_type": "markdown",
   "metadata": {
    "id": "FTH4GEIgY1dp"
   },
   "source": [
    "Suppose that you want to brainstorm creative ways to describe Earth."
   ]
  },
  {
   "cell_type": "markdown",
   "metadata": {
    "id": "o5BmXBiGY4KC"
   },
   "source": [
    "🛑 The prompt below might be a bit too generic (which is certainly OK if you'd like to ask a generic question!)"
   ]
  },
  {
   "cell_type": "code",
   "execution_count": 8,
   "metadata": {
    "id": "eHBaMvv7Y6mR",
    "tags": []
   },
   "outputs": [
    {
     "data": {
      "text/markdown": [
       "Alright, buckle up for a whirlwind tour of our amazing planet, Earth! Here's a rundown of some of the key facts and features:\n",
       "\n",
       "**Basic Stats:**\n",
       "\n",
       "*   **Name:** Earth (from the Old English word *eorþe* and Middle English *erthe*)\n",
       "*   **Rank in Solar System (from Sun):** 3rd\n",
       "*   **Type:** Terrestrial planet (rocky)\n",
       "*   **Diameter:** About 12,742 kilometers (7,918 miles)\n",
       "*   **Circumference:** About 40,075 kilometers (24,901 miles) at the equator\n",
       "*   **Mass:** Approximately 5.97 × 10^24 kg (a very big number!)\n",
       "*   **Rotation Period (Day):** Approximately 24 hours (23 hours, 56 minutes, 4 seconds, to be precise)\n",
       "*   **Orbital Period (Year):** Approximately 365.25 days (hence the need for leap years)\n",
       "*   **Distance from the Sun:** About 149.6 million kilometers (93 million miles) - this distance is defined as one Astronomical Unit (AU)\n",
       "*   **Moons:** 1 (The Moon, Luna)\n",
       "*   **Atmosphere:** Primarily nitrogen (about 78%) and oxygen (about 21%), with traces of other gases like argon, carbon dioxide, and water vapor.\n",
       "*   **Surface Temperature:** Varies greatly, but the average is around 15°C (59°F).\n",
       "\n",
       "**Key Features and Characteristics:**\n",
       "\n",
       "*   **Only Known Planet to Harbor Life:** This is the big one! Earth is the only place in the universe we currently know to support life. This is due to a combination of factors, including its distance from the sun, its atmosphere, and the presence of liquid water.\n",
       "*   **Liquid Water:**  Earth is often called the \"Blue Planet\" because about 71% of its surface is covered by water. This water is crucial for life as we know it.\n",
       "*   **Plate Tectonics:** Earth's surface is broken into large plates that are constantly moving. This movement causes earthquakes, volcanoes, and the formation of mountains and ocean trenches.  Plate tectonics also plays a vital role in the carbon cycle.\n",
       "*   **Magnetic Field:**  Generated by the movement of molten iron in Earth's outer core, the magnetic field protects us from harmful solar radiation.\n",
       "*   **Atmosphere:** The atmosphere provides a breathable environment, shields us from harmful radiation, and helps regulate the planet's temperature.\n",
       "*   **Ozone Layer:** A layer within the stratosphere that absorbs most of the Sun's harmful ultraviolet (UV) radiation.\n",
       "*   **Layers:** Earth is composed of several layers:\n",
       "    *   **Crust:** The outermost solid layer (oceanic and continental).\n",
       "    *   **Mantle:** A thick, mostly solid layer beneath the crust.\n",
       "    *   **Outer Core:** A liquid layer composed mostly of iron and nickel.\n",
       "    *   **Inner Core:** A solid sphere made mostly of iron and nickel.\n",
       "*   **Continents:**  The major landmasses on Earth: Africa, Antarctica, Asia, Australia, Europe, North America, and South America.\n",
       "*   **Oceans:** The major bodies of saltwater: Arctic, Atlantic, Indian, Pacific, and Southern (or Antarctic).\n",
       "*   **Diverse Ecosystems:** Earth boasts an incredible variety of ecosystems, from rainforests and deserts to coral reefs and polar ice caps.\n",
       "*   **Seasons:**  Caused by the tilt of Earth's axis of rotation relative to its orbit around the Sun. Different parts of the Earth receive more direct sunlight at different times of the year.\n",
       "\n",
       "**Formation and History:**\n",
       "\n",
       "*   **Formation:** Earth formed about 4.54 billion years ago from a swirling cloud of gas and dust left over from the formation of the Sun.\n",
       "*   **Early Earth:**  The early Earth was a very different place, with frequent volcanic activity and asteroid impacts.\n",
       "*   **Origin of Life:** The exact origins of life on Earth are still a mystery, but it is believed to have emerged relatively early in Earth's history.\n",
       "*   **Evolution:** Life on Earth has evolved over billions of years, leading to the incredible biodiversity we see today.\n",
       "*   **Human Impact:**  In recent centuries, human activities have had a significant impact on Earth's environment, leading to concerns about climate change, pollution, and habitat loss.\n",
       "\n",
       "**Interesting Facts:**\n",
       "\n",
       "*   Earth is not perfectly spherical; it's an oblate spheroid, slightly flattened at the poles and bulging at the equator due to its rotation.\n",
       "*   The highest point on Earth is Mount Everest, and the lowest point is the Mariana Trench.\n",
       "*   A day on Earth is gradually getting longer, but only by about 1.7 milliseconds per century.\n",
       "*   Earth's atmosphere scatters sunlight, which is why the sky appears blue.\n",
       "\n",
       "**In summary, Earth is a unique and dynamic planet with a fascinating history and a remarkable ability to support life. Understanding our planet is crucial for protecting it and ensuring a sustainable future.**\n",
       "\n",
       "Do you have any specific questions about Earth that I can answer in more detail?  For example, are you interested in the geology, the atmosphere, the history of life, or the impact of humans?  Just let me know!\n"
      ],
      "text/plain": [
       "<IPython.core.display.Markdown object>"
      ]
     },
     "metadata": {},
     "output_type": "display_data"
    }
   ],
   "source": [
    "prompt = \"Tell me about Earth\"\n",
    "\n",
    "response = client.models.generate_content(model=MODEL_ID, contents=prompt)\n",
    "display(Markdown(response.text))"
   ]
  },
  {
   "cell_type": "markdown",
   "metadata": {
    "id": "4iyvEbteZnFL"
   },
   "source": [
    "✅ Recommended. The prompt below is specific and well-defined."
   ]
  },
  {
   "cell_type": "code",
   "execution_count": 9,
   "metadata": {
    "id": "JQ80z8urZnne",
    "tags": []
   },
   "outputs": [
    {
     "data": {
      "text/markdown": [
       "Okay, here's a list of factors that contribute to Earth's unique status compared to other planets we currently know about:\n",
       "\n",
       "**Essential for Life as We Know It:**\n",
       "\n",
       "*   **Liquid Water on the Surface:**  Earth is the only known planet with a substantial amount of stable liquid water on its surface. This is crucial for the chemistry of life as we understand it, acting as a solvent and participating in many biological processes.\n",
       "*   **Oxygen-Rich Atmosphere:** Earth's atmosphere has a high concentration of free oxygen (around 21%).  This is largely a result of photosynthetic life (plants, algae, and cyanobacteria) and is vital for the respiration of complex animals.\n",
       "*   **Stable Temperature Range:** Earth's distance from the Sun, atmosphere, and other factors create a relatively stable temperature range suitable for liquid water and the complex biochemistry of life. Not too hot, not too cold - \"Goldilocks Zone\".\n",
       "*   **Presence of Life:** This is arguably the most significant difference! Earth is the only planet we *know* to harbor life. The biodiversity, complexity, and impact of life on Earth are unparalleled.\n",
       "*   **Ozone Layer:** This layer in the stratosphere absorbs most of the Sun's harmful ultraviolet (UV) radiation, protecting life on the surface.\n",
       "*   **Plate Tectonics:** Earth has a unique system of plate tectonics where the lithosphere is divided into plates that move and interact. This process helps regulate Earth's temperature, recycles nutrients, and creates diverse landscapes.\n",
       "\n",
       "**Geophysical Factors:**\n",
       "\n",
       "*   **Strong Magnetic Field:** Generated by the Earth's liquid iron core, the magnetic field deflects harmful solar wind and cosmic radiation, protecting the atmosphere and life on the surface.\n",
       "*   **Size and Density:** Earth's size and density are just right to maintain a substantial atmosphere without being too massive (like a gas giant) or too small (like Mars, which lost much of its atmosphere).\n",
       "*   **Active Geology:** Earth is geologically active, with volcanoes, earthquakes, and mountain building. This activity plays a role in releasing gases from the interior, shaping the surface, and potentially contributing to long-term climate regulation.\n",
       "*   **Presence of a Large Moon:** Earth's relatively large moon stabilizes its axial tilt, contributing to relatively stable seasons. The Moon also influences tides.\n",
       "*   **Chemical Composition:**  While we don't have complete data on the composition of all exoplanets, Earth has a specific mix of elements and compounds that are essential for its geological processes and the development of life.\n",
       "*   **Water Cycle:** A complex and dynamic water cycle involving evaporation, condensation, precipitation, and runoff that distributes water around the planet, shapes landscapes, and influences climate.\n",
       "\n",
       "**Important Considerations:**\n",
       "\n",
       "*   **Our Limited Knowledge:** It's crucial to remember that our understanding of exoplanets is still limited. We've only observed a tiny fraction of the planets in our galaxy, and our techniques for characterizing them are still developing.  We might discover planets with similar (or even more unique) features in the future.\n",
       "*   **The Definition of \"Unique\":** What we consider \"unique\" is based on our current understanding and perspective.  Life might exist in forms we haven't even imagined, and planets that seem \"unremarkable\" to us might be perfectly suited for such life.\n",
       "\n",
       "This list provides a comprehensive overview of what currently sets Earth apart. As we continue to explore the cosmos, our understanding of planetary diversity will undoubtedly evolve.\n"
      ],
      "text/plain": [
       "<IPython.core.display.Markdown object>"
      ]
     },
     "metadata": {},
     "output_type": "display_data"
    }
   ],
   "source": [
    "prompt = \"Generate a list of ways that makes Earth unique compared to other planets\"\n",
    "\n",
    "response = client.models.generate_content(model=MODEL_ID, contents=prompt)\n",
    "display(Markdown(response.text))"
   ]
  },
  {
   "cell_type": "markdown",
   "metadata": {
    "id": "R5kmfZYHZsJ7"
   },
   "source": [
    "### Ask one task at a time"
   ]
  },
  {
   "cell_type": "markdown",
   "metadata": {
    "id": "rsAezxeYZuUN"
   },
   "source": [
    "🛑 Not recommended. The prompt below has two parts to the question that could be asked separately."
   ]
  },
  {
   "cell_type": "code",
   "execution_count": 10,
   "metadata": {
    "id": "ElywPXpuZtWf",
    "tags": []
   },
   "outputs": [
    {
     "data": {
      "text/markdown": [
       "Okay, let's tackle both of these questions!\n",
       "\n",
       "**What's the Best Method of Boiling Water?**\n",
       "\n",
       "The \"best\" method depends on what you prioritize: speed, energy efficiency, safety, and convenience.  Here's a breakdown of common methods:\n",
       "\n",
       "*   **Electric Kettle:**\n",
       "    *   **Pros:**  Very fast, energy-efficient (only heats the water), auto shut-off for safety, convenient (cordless).\n",
       "    *   **Cons:** Requires electricity. Some kettles may have plastic parts that can leach into the water.\n",
       "    *   **Best For:** Everyday use, speed, efficiency, safety.\n",
       "\n",
       "*   **Stovetop Kettle:**\n",
       "    *   **Pros:**  Works with gas or electric stoves (versatile), usually durable, can be inexpensive.\n",
       "    *   **Cons:** Slower than an electric kettle, requires attention (no auto shut-off), can be less energy-efficient (stove heats up).\n",
       "    *   **Best For:**  Situations where you don't have an electric kettle, prefer the aesthetic, or want to use a non-electric heat source.\n",
       "\n",
       "*   **Microwave:**\n",
       "    *   **Pros:**  Fast, convenient (especially for small amounts).\n",
       "    *   **Cons:** Can be uneven heating (leading to \"superheating\" where the water boils explosively when disturbed), less energy-efficient than an electric kettle, not ideal for large amounts.\n",
       "    *   **Best For:**  Heating small amounts of water quickly, single servings. *Be very careful to avoid superheating.*\n",
       "\n",
       "*   **Stovetop Pot (without a kettle):**\n",
       "    *   **Pros:** Can boil large quantities of water.\n",
       "    *   **Cons:** Slowest of the common methods, least energy-efficient (heating the entire pot), requires constant attention to prevent boil-over.\n",
       "    *   **Best For:** Boiling large quantities of water, like for pasta or canning.\n",
       "\n",
       "**Summary of Best Uses:**\n",
       "\n",
       "*   **Overall Best (Balance):** Electric Kettle\n",
       "*   **Fastest (small amounts):** Microwave (with caution) or Electric Kettle\n",
       "*   **Most Energy Efficient:** Electric Kettle\n",
       "*   **Most Versatile:** Stovetop Kettle (if you have gas or electric stove)\n",
       "*   **Largest Quantities:** Stovetop Pot\n",
       "\n",
       "**Why is the Sky Blue?**\n",
       "\n",
       "The sky is blue due to a phenomenon called **Rayleigh scattering**. Here's the explanation:\n",
       "\n",
       "1.  **Sunlight Enters the Atmosphere:**  Sunlight, which appears white, is actually made up of all the colors of the rainbow.\n",
       "\n",
       "2.  **Light Interacts with Air Molecules:** As sunlight enters the Earth's atmosphere, it collides with tiny air molecules (mostly nitrogen and oxygen).\n",
       "\n",
       "3.  **Scattering of Light:** This collision causes the light to scatter in different directions.  Different colors of light are scattered to different degrees.\n",
       "\n",
       "4.  **Rayleigh Scattering and Wavelength:** Rayleigh scattering is *inversely proportional to the fourth power of the wavelength*. This means shorter wavelengths (blue and violet) are scattered much more strongly than longer wavelengths (red and orange).\n",
       "\n",
       "5.  **Blue Dominates:**  Blue light is scattered about ten times more efficiently than red light.  This is why we see a predominantly blue sky.\n",
       "\n",
       "6.  **Why not Violet?** Violet light is scattered even *more* than blue, but:\n",
       "    *   The sun emits less violet light than blue light.\n",
       "    *   Our eyes are more sensitive to blue light than violet light.\n",
       "    *   Violet light is absorbed by the upper atmosphere slightly more than blue light.\n",
       "\n",
       "7.  **Sunsets and Sunrises:** At sunset and sunrise, the sun's light has to travel through much more of the atmosphere to reach our eyes. This means that most of the blue light has already been scattered away by the time it gets to us. The remaining light is mostly red and orange, which is why sunsets and sunrises appear reddish.\n",
       "\n",
       "**In simpler terms:**  Imagine throwing tiny balls (light waves) at a bunch of small obstacles (air molecules). The smaller balls (blue light) bounce off in all directions much more than the bigger balls (red light). So, we see blue coming from all directions, making the sky appear blue.\n"
      ],
      "text/plain": [
       "<IPython.core.display.Markdown object>"
      ]
     },
     "metadata": {},
     "output_type": "display_data"
    }
   ],
   "source": [
    "prompt = \"What's the best method of boiling water and why is the sky blue?\"\n",
    "\n",
    "response = client.models.generate_content(model=MODEL_ID, contents=prompt)\n",
    "display(Markdown(response.text))"
   ]
  },
  {
   "cell_type": "markdown",
   "metadata": {
    "id": "ejzahazBZ8vk"
   },
   "source": [
    "✅ Recommended. The prompts below asks one task a time."
   ]
  },
  {
   "cell_type": "code",
   "execution_count": 11,
   "metadata": {
    "id": "C5ckp2F0Z_Ba",
    "tags": []
   },
   "outputs": [
    {
     "data": {
      "text/markdown": [
       "The \"best\" method of boiling water depends on what you prioritize: speed, energy efficiency, cost, or convenience. Here's a breakdown of common methods and their pros and cons:\n",
       "\n",
       "**1. Electric Kettle:**\n",
       "\n",
       "*   **Pros:**\n",
       "    *   **Fastest:** Typically the fastest method for boiling small to medium amounts of water.\n",
       "    *   **Energy Efficient:** Generally more energy-efficient than stovetop methods, especially for boiling small amounts. They heat only the water you need.\n",
       "    *   **Convenient:** Easy to use, often with automatic shut-off features.\n",
       "    *   **Safe:** Many have safety features like automatic shut-off and boil-dry protection.\n",
       "    *   **Precise Temperature Control (some models):** Higher-end models may offer precise temperature settings, ideal for different teas or coffee brewing.\n",
       "*   **Cons:**\n",
       "    *   **Requires Electricity:** Not usable without a power source.\n",
       "    *   **Limited Capacity:** Typically limited to a few liters.\n",
       "    *   **Potential Plastic Contact:** Some models have plastic components that can come into contact with the water, which some people avoid due to concerns about chemicals leaching. Look for kettles with stainless steel or glass interiors.\n",
       "    *   **Can be Expensive:** Higher-end models with advanced features can be pricey.\n",
       "\n",
       "**2. Stovetop Kettle:**\n",
       "\n",
       "*   **Pros:**\n",
       "    *   **Simple and Reliable:** No complex electronics to fail.\n",
       "    *   **Works on Various Stoves:** Compatible with gas, electric, and induction cooktops.\n",
       "    *   **Can Boil Large Amounts:** Often holds more water than electric kettles.\n",
       "    *   **Durable:** Typically very long-lasting.\n",
       "*   **Cons:**\n",
       "    *   **Slower than Electric Kettles:** Takes longer to boil water, especially on electric stoves.\n",
       "    *   **Less Energy Efficient:** More heat is lost to the surrounding air, especially on gas stoves.\n",
       "    *   **Requires Supervision:** No automatic shut-off, so you need to monitor it.\n",
       "    *   **Potential for Burning:** If left unattended, the kettle can boil dry and potentially damage the kettle or create a fire hazard.\n",
       "\n",
       "**3. Stovetop Pot (Saucepan):**\n",
       "\n",
       "*   **Pros:**\n",
       "    *   **Universally Available:** Everyone has a pot.\n",
       "    *   **Can Boil Large Amounts:** Can handle any amount of water you can fit in the pot.\n",
       "    *   **Works on Various Stoves:** Compatible with gas, electric, and induction cooktops.\n",
       "*   **Cons:**\n",
       "    *   **Slowest:** Takes the longest to boil water.\n",
       "    *   **Least Energy Efficient:** Significant heat loss.\n",
       "    *   **Requires Supervision:** No automatic shut-off.\n",
       "    *   **Inconvenient for Pouring:** Can be difficult to pour boiling water safely without spilling.\n",
       "\n",
       "**4. Microwave:**\n",
       "\n",
       "*   **Pros:**\n",
       "    *   **Fast (for small amounts):** Can be quick for boiling a single cup of water.\n",
       "    *   **Convenient:** Easy to use.\n",
       "*   **Cons:**\n",
       "    *   **Uneven Heating:** Microwaves can heat water unevenly, leading to \"superheating,\" where the water heats above its boiling point without actually boiling. This can cause the water to explode when disturbed (e.g., when you add something to it).\n",
       "    *   **Potentially Dangerous:** Superheating can be a burn hazard.\n",
       "    *   **Not Energy Efficient:** Microwaves are generally not very energy-efficient for boiling water.\n",
       "    *   **Not Suitable for Large Amounts:** Inefficient for boiling large quantities of water.\n",
       "    *   **Can Affect Taste:** Some believe microwaving water affects its taste.\n",
       "\n",
       "**Summary Table:**\n",
       "\n",
       "| Method          | Speed    | Energy Efficiency | Cost      | Convenience | Safety    | Best For                                                                 |\n",
       "| --------------- | -------- | ------------------ | --------- | ----------- | --------- | ------------------------------------------------------------------------- |\n",
       "| Electric Kettle | Fastest  | Most Efficient     | Moderate  | Highest     | High      | Boiling small to medium amounts of water quickly and efficiently.            |\n",
       "| Stovetop Kettle | Moderate | Moderate           | Low       | Moderate    | Moderate  | Boiling large amounts of water, reliable option, works on any stove.    |\n",
       "| Stovetop Pot    | Slowest  | Least Efficient    | Lowest    | Low         | Moderate  | Boiling large amounts of water when no kettle is available.              |\n",
       "| Microwave       | Fast (small)| Low             | Low       | High        | Low      | Boiling a single cup of water quickly (with caution due to superheating). |\n",
       "\n",
       "**Recommendation:**\n",
       "\n",
       "For most people, an **electric kettle** is the best option due to its speed, energy efficiency, convenience, and safety features. Look for one with a stainless steel or glass interior to avoid potential plastic contact.\n",
       "\n",
       "If you need to boil large amounts of water or don't have access to electricity, a **stovetop kettle** is a good alternative.\n",
       "\n",
       "Avoid using a **microwave** for boiling water unless you absolutely have to, and always be cautious about superheating.\n"
      ],
      "text/plain": [
       "<IPython.core.display.Markdown object>"
      ]
     },
     "metadata": {},
     "output_type": "display_data"
    }
   ],
   "source": [
    "prompt = \"What's the best method of boiling water?\"\n",
    "\n",
    "response = client.models.generate_content(model=MODEL_ID, contents=prompt)\n",
    "display(Markdown(response.text))"
   ]
  },
  {
   "cell_type": "code",
   "execution_count": 12,
   "metadata": {
    "id": "KwUzhud4aA89",
    "tags": []
   },
   "outputs": [
    {
     "data": {
      "text/markdown": [
       "The sky is blue because of a phenomenon called **Rayleigh scattering**. Here's a breakdown of why:\n",
       "\n",
       "*   **Sunlight and its colors:** Sunlight looks white to us, but it's actually made up of all the colors of the rainbow.\n",
       "\n",
       "*   **Entering the atmosphere:** When sunlight enters the Earth's atmosphere, it collides with tiny air molecules (mostly nitrogen and oxygen).\n",
       "\n",
       "*   **Scattering:** This collision causes the sunlight to scatter in different directions.\n",
       "\n",
       "*   **Rayleigh scattering's preference:** Rayleigh scattering is more effective at scattering shorter wavelengths of light. Blue and violet light have shorter wavelengths than other colors like red and orange.\n",
       "\n",
       "*   **Why blue and not violet?** While violet is scattered even more than blue, there are less violet wavelengths in sunlight to begin with. Our eyes are also more sensitive to blue light than violet. Additionally, violet light gets absorbed higher in the atmosphere, so less of it makes it to our eyes.\n",
       "\n",
       "*   **The result:** As a result, blue light is scattered much more than other colors. This scattered blue light reaches our eyes from all directions, making the sky appear blue.\n",
       "\n",
       "**In simpler terms:**\n",
       "\n",
       "Imagine throwing a bunch of marbles (sunlight) at a bunch of ping pong balls (air molecules). Smaller marbles (blue and violet light) are more easily bounced around in different directions than larger marbles (red and orange light). This is why the sky looks blue because the blue light is bouncing all over the place before reaching our eyes.\n",
       "\n",
       "**Why are sunsets red/orange?**\n",
       "\n",
       "At sunset, the sunlight has to travel through a much longer path in the atmosphere to reach our eyes.  Because of this longer path, most of the blue light has already been scattered away. The longer wavelengths of light, like red and orange, are scattered less and are able to reach our eyes, giving us those beautiful sunset colors.\n"
      ],
      "text/plain": [
       "<IPython.core.display.Markdown object>"
      ]
     },
     "metadata": {},
     "output_type": "display_data"
    }
   ],
   "source": [
    "prompt = \"Why is the sky blue?\"\n",
    "\n",
    "response = client.models.generate_content(model=MODEL_ID, contents=prompt)\n",
    "display(Markdown(response.text))"
   ]
  },
  {
   "cell_type": "markdown",
   "metadata": {
    "id": "PJIL2RTQaGcT"
   },
   "source": [
    "### Watch out for hallucinations"
   ]
  },
  {
   "cell_type": "markdown",
   "metadata": {
    "id": "8Y8kYxrSaHE9"
   },
   "source": [
    "Although LLMs have been trained on a large amount of data, they can generate text containing statements not grounded in truth or reality; these responses from the LLM are often referred to as \"hallucinations\" due to their limited memorization capabilities. Note that simply prompting the LLM to provide a citation isn't a fix to this problem, as there are instances of LLMs providing false or inaccurate citations. Dealing with hallucinations is a fundamental challenge of LLMs and an ongoing research area, so it is important to be cognizant that LLMs may seem to give you confident, correct-sounding statements that are in fact incorrect.\n",
    "\n",
    "Note that if you intend to use LLMs for the creative use cases, hallucinating could actually be quite useful."
   ]
  },
  {
   "cell_type": "markdown",
   "metadata": {
    "id": "8NY5nAGeaJYS"
   },
   "source": [
    "Try the prompt like the one below repeatedly. We set the temperature to `1.0` so that it takes more risks in its choices. It's possible that it may provide an inaccurate, but confident answer."
   ]
  },
  {
   "cell_type": "code",
   "execution_count": 13,
   "metadata": {
    "id": "QALPjEILaM62",
    "tags": []
   },
   "outputs": [
    {
     "data": {
      "text/markdown": [
       "Today is Thursday, November 2, 2023.\n"
      ],
      "text/plain": [
       "<IPython.core.display.Markdown object>"
      ]
     },
     "metadata": {},
     "output_type": "display_data"
    }
   ],
   "source": [
    "generation_config = GenerateContentConfig(temperature=1.0)\n",
    "\n",
    "prompt = \"What day is it today?\"\n",
    "\n",
    "response = client.models.generate_content(model=MODEL_ID, contents=prompt)\n",
    "display(Markdown(response.text))"
   ]
  },
  {
   "cell_type": "markdown",
   "metadata": {
    "id": "BRkwzbgRbhKt"
   },
   "source": [
    "Since LLMs do not have access to real-time information without further integrations, you may have noticed it hallucinates what day it is today in some of the outputs."
   ]
  },
  {
   "cell_type": "markdown",
   "metadata": {},
   "source": [
    "## Reduce Output Variability"
   ]
  },
  {
   "cell_type": "markdown",
   "metadata": {
    "id": "3c811e310d02"
   },
   "source": [
    "### Using system instructions to guardrail the model from irrelevant responses\n",
    "\n",
    "How can we attempt to reduce the chances of irrelevant responses and hallucinations?\n",
    "\n",
    "One way is to provide the LLM with [system instructions](https://cloud.google.com/vertex-ai/generative-ai/docs/multimodal/send-chat-prompts-gemini#system-instructions).\n",
    "\n",
    "Let's see how system instructions works and how you can use them to reduce hallucinations or irrelevant questions for a travel chatbot.\n",
    "\n",
    "Suppose we ask a simple question about one of Italy's most famous tourist spots."
   ]
  },
  {
   "cell_type": "code",
   "execution_count": 14,
   "metadata": {
    "id": "rB6zJU76biFK",
    "tags": []
   },
   "outputs": [
    {
     "data": {
      "text/markdown": [
       "The best place for sightseeing in Milan, Italy is the Duomo di Milano. It is a magnificent cathedral with stunning architecture, intricate sculptures, and breathtaking views from the rooftop.\n"
      ],
      "text/plain": [
       "<IPython.core.display.Markdown object>"
      ]
     },
     "metadata": {},
     "output_type": "display_data"
    }
   ],
   "source": [
    "generation_config = GenerateContentConfig(temperature=1.0)\n",
    "\n",
    "chat = client.chats.create(\n",
    "    model=MODEL_ID,\n",
    "    config=GenerateContentConfig(\n",
    "        system_instruction=[\n",
    "            \"Hello! You are an AI chatbot for a travel web site.\",\n",
    "            \"Your mission is to provide helpful queries for travelers.\",\n",
    "            \"Remember that before you answer a question, you must check to see if it complies with your mission.\",\n",
    "            \"If not, you can say, Sorry I can't answer that question.\",\n",
    "        ]\n",
    "    ),\n",
    ")\n",
    "\n",
    "prompt = \"What is the best place for sightseeing in Milan, Italy?\"\n",
    "\n",
    "response = chat.send_message(prompt)\n",
    "display(Markdown(response.text))"
   ]
  },
  {
   "cell_type": "markdown",
   "metadata": {
    "id": "WZa-Qcf9cF4A"
   },
   "source": [
    "Now let us pretend to be a user asks the chatbot a question that is unrelated to travel."
   ]
  },
  {
   "cell_type": "code",
   "execution_count": 15,
   "metadata": {
    "id": "AZKBIDr2cGnu",
    "tags": []
   },
   "outputs": [
    {
     "data": {
      "text/markdown": [
       "The best place for sightseeing in Milan, Italy is the Duomo di Milano. It is a magnificent cathedral with stunning architecture, intricate sculptures, and breathtaking views from the rooftop.\n"
      ],
      "text/plain": [
       "<IPython.core.display.Markdown object>"
      ]
     },
     "metadata": {},
     "output_type": "display_data"
    }
   ],
   "source": [
    "prompt = \"What is the best place for sightseeing in Milan, Italy?\"\n",
    "\n",
    "response = chat.send_message(prompt)\n",
    "display(Markdown(response.text))"
   ]
  },
  {
   "cell_type": "markdown",
   "metadata": {
    "id": "JiUYIhwpctCy"
   },
   "source": [
    "You can see that this way, a guardrail in the prompt prevented the chatbot from veering off course."
   ]
  },
  {
   "cell_type": "markdown",
   "metadata": {
    "id": "ZuuDhA37cvmP"
   },
   "source": [
    "### Turn generative tasks into classification tasks to reduce output variability"
   ]
  },
  {
   "cell_type": "markdown",
   "metadata": {
    "id": "kUCUrsUzczmb"
   },
   "source": [
    "#### Generative tasks lead to higher output variability"
   ]
  },
  {
   "cell_type": "markdown",
   "metadata": {
    "id": "a1xASHAkc46n"
   },
   "source": [
    "The prompt below results in an open-ended response, useful for brainstorming, but response is highly variable."
   ]
  },
  {
   "cell_type": "code",
   "execution_count": 16,
   "metadata": {
    "id": "nPfXQWIacwRf",
    "tags": []
   },
   "outputs": [
    {
     "data": {
      "text/markdown": [
       "Okay, great! To give you the best recommendation, I need a little more information.  Tell me:\n",
       "\n",
       "1.  **What programming languages do you already know (even just a little bit)?** (e.g., Python, JavaScript, Java, C++, Scratch, etc.)\n",
       "\n",
       "2.  **What are you interested in?** (e.g., web development, game development, data science, AI, mobile apps, general problem-solving, etc.)\n",
       "\n",
       "3.  **What is your current skill level (beginner, intermediate, advanced)?**  Be honest! Are you comfortable with basic concepts like variables, loops, and functions?\n",
       "\n",
       "4.  **How much time are you willing to dedicate to this project?** (e.g., a few hours a week, a dedicated weekend, etc.)\n",
       "\n",
       "In the meantime, here are a few general suggestions based on different skill levels and interests, which might give you some ideas:\n",
       "\n",
       "**For Beginners (even if you only know a little):**\n",
       "\n",
       "*   **Text-Based Adventure Game (Python):**\n",
       "    *   **Concept:** Create a simple interactive story where the player makes choices that affect the outcome.\n",
       "    *   **Why it's good:** Excellent for learning basic input/output, `if/else` statements, and variable usage.\n",
       "    *   **Example:** The game starts in a forest.  The player can choose to go \"north,\" \"south,\" \"east,\" or \"west.\"  Each direction leads to a different scenario.\n",
       "\n",
       "*   **Simple Calculator (Python, Java, JavaScript):**\n",
       "    *   **Concept:** Build a calculator that can perform basic arithmetic operations (+, -, \\*, /).\n",
       "    *   **Why it's good:** Reinforces understanding of operators, variables, and potentially handling user input.\n",
       "    *   **Enhancements:** Add more advanced functions (square root, exponents), error handling (division by zero).\n",
       "\n",
       "*   **To-Do List Application (Python, Java, JavaScript):**\n",
       "    *   **Concept:** Create a program that allows the user to add, remove, and view tasks on a list.\n",
       "    *   **Why it's good:** Introduces the concept of data structures (lists or arrays) and basic CRUD (Create, Read, Update, Delete) operations.\n",
       "\n",
       "**For Intermediate Learners:**\n",
       "\n",
       "*   **Web Scraper (Python with Beautiful Soup and Requests):**\n",
       "    *   **Concept:** Write a program that automatically extracts data from a website.\n",
       "    *   **Why it's good:**  Introduces working with external libraries, handling HTML, and data extraction techniques.  *Make sure to scrape responsibly and respect the website's `robots.txt` file.*\n",
       "    *   **Example:** Scrape a website for product prices and track price changes.\n",
       "\n",
       "*   **Simple Game (Python with Pygame, JavaScript with Phaser):**\n",
       "    *   **Concept:** Develop a simple game like Pong, Snake, or a simple platformer.\n",
       "    *   **Why it's good:** Introduces game development concepts (game loops, collision detection, user input) and working with graphics libraries.\n",
       "    *   **JavaScript/HTML Canvas Option:**  You can do a simple game entirely in JavaScript using the HTML `<canvas>` element.\n",
       "\n",
       "*   **Data Analysis Project (Python with Pandas and Matplotlib):**\n",
       "    *   **Concept:** Analyze a dataset (e.g., sales data, weather data, stock prices) and create visualizations.\n",
       "    *   **Why it's good:** Introduces data analysis techniques, working with dataframes, and creating charts/graphs.\n",
       "    *   **Find Datasets:** Look for free datasets on Kaggle or government websites (e.g., data.gov).\n",
       "\n",
       "**For More Advanced Learners:**\n",
       "\n",
       "*   **Build an API (Python with Flask/Django, Node.js with Express):**\n",
       "    *   **Concept:** Create a web API that provides data or functionality to other applications.\n",
       "    *   **Why it's good:** Introduces web development frameworks, RESTful APIs, and database interaction.\n",
       "    *   **Example:** Create an API that provides information about movies, books, or weather.\n",
       "\n",
       "*   **Contribute to an Open Source Project:**\n",
       "    *   **Concept:** Find an open-source project that interests you and contribute code, documentation, or bug fixes.\n",
       "    *   **Why it's good:** Real-world experience, collaboration, and learning from experienced developers.\n",
       "    *   **How to Find Projects:** Look on GitHub for projects with \"good first issue\" labels.\n",
       "\n",
       "*   **Machine Learning Project (Python with Scikit-learn, TensorFlow, or PyTorch):**\n",
       "    *   **Concept:** Implement a machine learning model to solve a problem (e.g., image classification, sentiment analysis, spam detection).\n",
       "    *   **Why it's good:** Introduces machine learning algorithms, model training, and evaluation.\n",
       "    *   **Start Simple:** Begin with a tutorial or example project to understand the basics.\n",
       "\n",
       "**Important Tips for All Levels:**\n",
       "\n",
       "*   **Break the Project Down:** Divide the project into smaller, manageable tasks.\n",
       "*   **Use Version Control (Git):**  Learn to use Git for tracking your code changes and collaborating with others.  GitHub is a popular platform for hosting Git repositories.\n",
       "*   **Google is Your Friend:** Don't be afraid to search for solutions and examples online.\n",
       "*   **Document Your Code:** Write comments to explain what your code does.\n",
       "*   **Test Your Code:** Regularly test your code to catch errors early.\n",
       "*   **Ask for Help:** Don't be afraid to ask for help from teachers, mentors, or online communities.\n",
       "*   **Have Fun!** Choose a project that you're genuinely interested in, and you'll be more motivated to learn and succeed.\n",
       "\n",
       "Once you tell me more about your background and interests, I can give you a more tailored recommendation! Good luck!\n"
      ],
      "text/plain": [
       "<IPython.core.display.Markdown object>"
      ]
     },
     "metadata": {},
     "output_type": "display_data"
    }
   ],
   "source": [
    "prompt = \"I'm a high school student. Recommend me a programming activity to improve my skills.\"\n",
    "\n",
    "response = client.models.generate_content(model=MODEL_ID, contents=prompt)\n",
    "display(Markdown(response.text))"
   ]
  },
  {
   "cell_type": "markdown",
   "metadata": {
    "id": "iAmm9wPYc_1o"
   },
   "source": [
    "#### Classification tasks reduces output variability"
   ]
  },
  {
   "cell_type": "markdown",
   "metadata": {
    "id": "VvRpK_0GdCpf"
   },
   "source": [
    "The prompt below results in a choice and may be useful if you want the output to be easier to control."
   ]
  },
  {
   "cell_type": "code",
   "execution_count": 17,
   "metadata": {
    "id": "kYDKh0r2dAqo",
    "tags": []
   },
   "outputs": [
    {
     "data": {
      "text/markdown": [
       "For a high school student, I strongly recommend choosing **either Python (a) or JavaScript (b)**. Here's a breakdown of why and which might be better for *you*:\n",
       "\n",
       "**Why Python or JavaScript are Best:**\n",
       "\n",
       "*   **Beginner-Friendly:** Both languages are known for having relatively gentle learning curves. Python's syntax is designed to be clear and readable, resembling plain English. JavaScript is forgiving and widely used, making it easier to find resources and support.\n",
       "*   **Versatility:**\n",
       "    *   **Python:** Excellent for data science, machine learning, web development (backend), scripting, automation, and general-purpose programming. You can do *a lot* with Python.\n",
       "    *   **JavaScript:** The language of the web! Primarily used for frontend web development (making websites interactive), but also powerful for backend development (Node.js), mobile app development (React Native), and game development.\n",
       "*   **In-Demand Skills:**  Python and JavaScript are consistently ranked among the most popular and in-demand programming languages by employers. Learning them gives you a significant advantage if you're interested in pursuing computer science or related fields in college and beyond.\n",
       "*   **Huge Community & Resources:**  Tons of tutorials, online courses, documentation, and active communities are available for both Python and JavaScript. You'll easily find help when you get stuck.\n",
       "*   **Fun and Engaging:**  You can quickly build interesting projects with both languages, which keeps you motivated and reinforces your learning.\n",
       "\n",
       "**Why NOT Fortran (c):**\n",
       "\n",
       "*   **Specialized Use Case:** Fortran is primarily used in scientific and engineering computing, particularly for numerical analysis and simulations. While important in those fields, it's much less broadly applicable than Python or JavaScript.\n",
       "*   **Steeper Learning Curve:** The syntax can be less intuitive for beginners compared to Python or JavaScript.\n",
       "*   **Limited Job Market:** While there are Fortran jobs, they are much fewer in number and often require specialized scientific or engineering knowledge.\n",
       "*   **Less Beginner-Friendly Resources:**  The online learning resources are not as abundant or as geared towards absolute beginners as they are for Python and JavaScript.\n",
       "\n",
       "**Which to Choose: Python or JavaScript?**\n",
       "\n",
       "This depends on your specific interests:\n",
       "\n",
       "*   **Choose Python if you're interested in:**\n",
       "    *   Data science, data analysis, or machine learning.\n",
       "    *   Building backend web applications (e.g., servers, APIs).\n",
       "    *   Scripting and automation (e.g., automating tasks on your computer).\n",
       "    *   General-purpose programming for a wide range of applications.\n",
       "    *   A language that's often used in introductory computer science courses.\n",
       "\n",
       "*   **Choose JavaScript if you're interested in:**\n",
       "    *   Creating interactive websites and web applications.\n",
       "    *   Frontend web development (making websites look and behave the way you want).\n",
       "    *   Backend web development using Node.js.\n",
       "    *   Mobile app development using frameworks like React Native.\n",
       "    *   Game development for the web (e.g., using libraries like Phaser).\n",
       "\n",
       "**Here's a simple decision table:**\n",
       "\n",
       "| Interest                     | Recommended Language |\n",
       "|------------------------------|-----------------------|\n",
       "| Data Science/Machine Learning  | Python                |\n",
       "| Web Development (Frontend)    | JavaScript            |\n",
       "| Web Development (Backend)     | Python or JavaScript (Node.js)  |\n",
       "| General Programming          | Python                |\n",
       "| Mobile App Development       | JavaScript (React Native) |\n",
       "| Game Development              | JavaScript (Phaser)   |\n",
       "\n",
       "**My Recommendation:**\n",
       "\n",
       "If you're unsure, **start with Python**. It's a fantastic general-purpose language that will give you a solid foundation in programming concepts. It's also widely used in introductory CS courses, so it's a good choice if you're considering a computer science degree.\n",
       "\n",
       "After you have a good grasp of Python, you can easily learn JavaScript if you want to explore web development or other areas.\n",
       "\n",
       "No matter which language you choose, focus on learning the fundamentals (variables, data types, loops, functions, etc.) and practice by building small projects. Good luck!\n"
      ],
      "text/plain": [
       "<IPython.core.display.Markdown object>"
      ]
     },
     "metadata": {},
     "output_type": "display_data"
    }
   ],
   "source": [
    "prompt = \"\"\"I'm a high school student. Which of these activities do you suggest and why:\n",
    "a) learn Python\n",
    "b) learn JavaScript\n",
    "c) learn Fortran\n",
    "\"\"\"\n",
    "\n",
    "response = client.models.generate_content(model=MODEL_ID, contents=prompt)\n",
    "display(Markdown(response.text))"
   ]
  },
  {
   "cell_type": "markdown",
   "metadata": {
    "id": "iTd60b1GdIsx"
   },
   "source": [
    "### Improve response quality by including examples"
   ]
  },
  {
   "cell_type": "markdown",
   "metadata": {
    "id": "yJi44NejdJYE"
   },
   "source": [
    "Another way to improve response quality is to add examples in your prompt. The LLM learns in-context from the examples on how to respond. Typically, one to five examples (shots) are enough to improve the quality of responses. Including too many examples can cause the model to over-fit the data and reduce the quality of responses.\n",
    "\n",
    "Similar to classical model training, the quality and distribution of the examples is very important. Pick examples that are representative of the scenarios that you need the model to learn, and keep the distribution of the examples (e.g. number of examples per class in the case of classification) aligned with your actual distribution."
   ]
  },
  {
   "cell_type": "markdown",
   "metadata": {
    "id": "sMbLginWdOKs"
   },
   "source": [
    "#### Zero-shot prompt"
   ]
  },
  {
   "cell_type": "markdown",
   "metadata": {
    "id": "Crh2Loi2dQ0v"
   },
   "source": [
    "Below is an example of zero-shot prompting, where you don't provide any examples to the LLM within the prompt itself."
   ]
  },
  {
   "cell_type": "code",
   "execution_count": 18,
   "metadata": {
    "id": "-7myRc-SdTQ4",
    "tags": []
   },
   "outputs": [
    {
     "data": {
      "text/markdown": [
       "Sentiment: Positive\n"
      ],
      "text/plain": [
       "<IPython.core.display.Markdown object>"
      ]
     },
     "metadata": {},
     "output_type": "display_data"
    }
   ],
   "source": [
    "prompt = \"\"\"Decide whether a Tweet's sentiment is positive, neutral, or negative.\n",
    "\n",
    "Tweet: I loved the new YouTube video you made!\n",
    "Sentiment:\n",
    "\"\"\"\n",
    "\n",
    "response = client.models.generate_content(model=MODEL_ID, contents=prompt)\n",
    "display(Markdown(response.text))"
   ]
  },
  {
   "cell_type": "markdown",
   "metadata": {
    "id": "ucRtPn9SdL64"
   },
   "source": [
    "#### One-shot prompt"
   ]
  },
  {
   "cell_type": "markdown",
   "metadata": {
    "id": "rs0gQH2vdYBi"
   },
   "source": [
    "Below is an example of one-shot prompting, where you provide one example to the LLM within the prompt to give some guidance on what type of response you want."
   ]
  },
  {
   "cell_type": "code",
   "execution_count": 19,
   "metadata": {
    "id": "iEq-KxGYdaT5",
    "tags": []
   },
   "outputs": [
    {
     "data": {
      "text/markdown": [
       "Sentiment: negative\n"
      ],
      "text/plain": [
       "<IPython.core.display.Markdown object>"
      ]
     },
     "metadata": {},
     "output_type": "display_data"
    }
   ],
   "source": [
    "prompt = \"\"\"Decide whether a Tweet's sentiment is positive, neutral, or negative.\n",
    "\n",
    "Tweet: I loved the new YouTube video you made!\n",
    "Sentiment: positive\n",
    "\n",
    "Tweet: That was awful. Super boring 😠\n",
    "Sentiment:\n",
    "\"\"\"\n",
    "\n",
    "response = client.models.generate_content(model=MODEL_ID, contents=prompt)\n",
    "display(Markdown(response.text))"
   ]
  },
  {
   "cell_type": "markdown",
   "metadata": {
    "id": "JnKLjJzmdfL_"
   },
   "source": [
    "#### Few-shot prompt"
   ]
  },
  {
   "cell_type": "markdown",
   "metadata": {
    "id": "6Zv-9F5OdgI_"
   },
   "source": [
    "Below is an example of few-shot prompting, where you provide a few examples to the LLM within the prompt to give some guidance on what type of response you want."
   ]
  },
  {
   "cell_type": "code",
   "execution_count": 20,
   "metadata": {
    "id": "u37P9tG4dk9S",
    "tags": []
   },
   "outputs": [
    {
     "data": {
      "text/markdown": [
       "Sentiment: positive\n"
      ],
      "text/plain": [
       "<IPython.core.display.Markdown object>"
      ]
     },
     "metadata": {},
     "output_type": "display_data"
    }
   ],
   "source": [
    "prompt = \"\"\"Decide whether a Tweet's sentiment is positive, neutral, or negative.\n",
    "\n",
    "Tweet: I loved the new YouTube video you made!\n",
    "Sentiment: positive\n",
    "\n",
    "Tweet: That was awful. Super boring 😠\n",
    "Sentiment: negative\n",
    "\n",
    "Tweet: Something surprised me about this video - it was actually original. It was not the same old recycled stuff that I always see. Watch it - you will not regret it.\n",
    "Sentiment:\n",
    "\"\"\"\n",
    "\n",
    "response = client.models.generate_content(model=MODEL_ID, contents=prompt)\n",
    "display(Markdown(response.text))"
   ]
  },
  {
   "cell_type": "markdown",
   "metadata": {
    "id": "wDMD3xb2dvX6"
   },
   "source": [
    "#### Choosing between zero-shot, one-shot, few-shot prompting methods"
   ]
  },
  {
   "cell_type": "markdown",
   "metadata": {
    "id": "s92W0YpNdxJp"
   },
   "source": [
    "Which prompt technique to use will solely depends on your goal. The zero-shot prompts are more open-ended and can give you creative answers, while one-shot and few-shot prompts teach the model how to behave so you can get more predictable answers that are consistent with the examples provided."
   ]
  }
 ],
 "metadata": {
  "colab": {
   "name": "intro_prompt_design.ipynb",
   "toc_visible": true
  },
  "environment": {
   "kernel": "conda-base-py",
   "name": "workbench-notebooks.m128",
   "type": "gcloud",
   "uri": "us-docker.pkg.dev/deeplearning-platform-release/gcr.io/workbench-notebooks:m128"
  },
  "kernelspec": {
   "display_name": "Python 3 (ipykernel) (Local) (Local)",
   "language": "python",
   "name": "conda-base-py"
  },
  "language_info": {
   "codemirror_mode": {
    "name": "ipython",
    "version": 3
   },
   "file_extension": ".py",
   "mimetype": "text/x-python",
   "name": "python",
   "nbconvert_exporter": "python",
   "pygments_lexer": "ipython3",
   "version": "3.10.16"
  }
 },
 "nbformat": 4,
 "nbformat_minor": 4
}
