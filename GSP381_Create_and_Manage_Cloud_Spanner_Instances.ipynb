{
  "nbformat": 4,
  "nbformat_minor": 0,
  "metadata": {
    "colab": {
      "provenance": [],
      "toc_visible": true
    },
    "kernelspec": {
      "name": "python3",
      "display_name": "Python 3"
    },
    "language_info": {
      "name": "python"
    }
  },
  "cells": [
    {
      "cell_type": "code",
      "source": [
        "gcloud auth list"
      ],
      "metadata": {
        "id": "ShNkeNzdiMxI"
      },
      "execution_count": null,
      "outputs": []
    },
    {
      "cell_type": "code",
      "execution_count": null,
      "metadata": {
        "id": "jH0zR0S4iIWD"
      },
      "outputs": [],
      "source": [
        "gcloud config list project"
      ]
    },
    {
      "cell_type": "markdown",
      "source": [
        "##Task 1. Create a Cloud Spanner instance"
      ],
      "metadata": {
        "id": "AL5X6DwtiMI-"
      }
    },
    {
      "cell_type": "code",
      "source": [
        "export REGION=us-central1"
      ],
      "metadata": {
        "id": "JzkJG-wRiL1A"
      },
      "execution_count": null,
      "outputs": []
    },
    {
      "cell_type": "code",
      "source": [
        "gcloud spanner instances create banking-ops-instance --config=regional-$REGION --description=\"quickgcplab\" --nodes=1"
      ],
      "metadata": {
        "id": "PDi8-UZfjA6W"
      },
      "execution_count": null,
      "outputs": []
    },
    {
      "cell_type": "markdown",
      "source": [
        "##Task 2. Create a Cloud Spanner database"
      ],
      "metadata": {
        "id": "-YuXPc4yiX06"
      }
    },
    {
      "cell_type": "code",
      "source": [
        "gcloud spanner databases create banking-ops-db --instance=banking-ops-instance"
      ],
      "metadata": {
        "id": "xPHdZ_mpjA2_"
      },
      "execution_count": null,
      "outputs": []
    },
    {
      "cell_type": "markdown",
      "source": [
        "##Task 3. Create tables in your database"
      ],
      "metadata": {
        "id": "1XlXfnyIia_O"
      }
    },
    {
      "cell_type": "code",
      "source": [
        "gcloud spanner databases ddl update banking-ops-db --instance=banking-ops-instance --ddl=\"CREATE TABLE Portfolio (\n",
        "    PortfolioId INT64 NOT NULL,\n",
        "    Name STRING(MAX),\n",
        "    ShortName STRING(MAX),\n",
        "    PortfolioInfo STRING(MAX))\n",
        "    PRIMARY KEY (PortfolioId)\""
      ],
      "metadata": {
        "id": "bjzffyF8iLxX"
      },
      "execution_count": null,
      "outputs": []
    },
    {
      "cell_type": "code",
      "source": [
        "gcloud spanner databases ddl update banking-ops-db --instance=banking-ops-instance --ddl=\"CREATE TABLE Category (\n",
        "    CategoryId INT64 NOT NULL,\n",
        "    PortfolioId INT64 NOT NULL,\n",
        "    CategoryName STRING(MAX),\n",
        "    PortfolioInfo STRING(MAX))\n",
        "    PRIMARY KEY (CategoryId)\""
      ],
      "metadata": {
        "id": "ffb4fHTEiLud"
      },
      "execution_count": null,
      "outputs": []
    },
    {
      "cell_type": "code",
      "source": [
        "gcloud spanner databases ddl update banking-ops-db --instance=banking-ops-instance --ddl=\"CREATE TABLE Product (\n",
        "    ProductId INT64 NOT NULL,\n",
        "    CategoryId INT64 NOT NULL,\n",
        "    PortfolioId INT64 NOT NULL,\n",
        "    ProductName STRING(MAX),\n",
        "    ProductAssetCode STRING(25),\n",
        "    ProductClass STRING(25))\n",
        "    PRIMARY KEY (ProductId)\""
      ],
      "metadata": {
        "id": "aVt8UkgZiLsZ"
      },
      "execution_count": null,
      "outputs": []
    },
    {
      "cell_type": "code",
      "source": [
        "gcloud spanner databases ddl update banking-ops-db --instance=banking-ops-instance --ddl=\"CREATE TABLE Customer (\n",
        "    CustomerId STRING(36) NOT NULL,\n",
        "    Name STRING(MAX) NOT NULL,\n",
        "    Location STRING(MAX) NOT NULL)\n",
        "    PRIMARY KEY (CustomerId)\""
      ],
      "metadata": {
        "id": "WAd2zwJyiLqR"
      },
      "execution_count": null,
      "outputs": []
    },
    {
      "cell_type": "markdown",
      "source": [
        "##Task 4. Load simple datasets into tables"
      ],
      "metadata": {
        "id": "n7h9O7L2if2z"
      }
    },
    {
      "cell_type": "code",
      "source": [
        "gcloud spanner databases execute-sql banking-ops-db --instance=banking-ops-instance --sql='INSERT INTO Portfolio (PortfolioId, Name, ShortName, PortfolioInfo)\n",
        "VALUES\n",
        "  (1, \"Banking\", \"Bnkg\", \"All Banking Business\"),\n",
        "  (2, \"Asset Growth\", \"AsstGrwth\", \"All Asset Focused Products\"),\n",
        "  (3, \"Insurance\", \"Insurance\", \"All Insurance Focused Products\")'"
      ],
      "metadata": {
        "id": "Ez-_ePWmiLoI"
      },
      "execution_count": null,
      "outputs": []
    },
    {
      "cell_type": "code",
      "source": [
        "gcloud spanner databases execute-sql banking-ops-db --instance=banking-ops-instance --sql='INSERT INTO Category (CategoryId, PortfolioId, CategoryName)\n",
        "VALUES\n",
        "  (1, 1, \"Cash\"),\n",
        "  (2, 2, \"Investments - Short Return\"),\n",
        "  (3, 2, \"Annuities\"),\n",
        "  (4, 3, \"Life Insurance\")'"
      ],
      "metadata": {
        "id": "VyfqO5t8ie3D"
      },
      "execution_count": null,
      "outputs": []
    },
    {
      "cell_type": "code",
      "source": [
        "gcloud spanner databases execute-sql banking-ops-db --instance=banking-ops-instance --sql='INSERT INTO Product (ProductId, CategoryId, PortfolioId, ProductName, ProductAssetCode, ProductClass)\n",
        "VALUES\n",
        "  (1, 1, 1, \"Checking Account\", \"ChkAcct\", \"Banking LOB\"),\n",
        "  (2, 2, 2, \"Mutual Fund Consumer Goods\", \"MFundCG\", \"Investment LOB\"),\n",
        "  (3, 3, 2, \"Annuity Early Retirement\", \"AnnuFixed\", \"Investment LOB\"),\n",
        "  (4, 4, 3, \"Term Life Insurance\", \"TermLife\", \"Insurance LOB\"),\n",
        "  (5, 1, 1, \"Savings Account\", \"SavAcct\", \"Banking LOB\"),\n",
        "  (6, 1, 1, \"Personal Loan\", \"PersLn\", \"Banking LOB\"),\n",
        "  (7, 1, 1, \"Auto Loan\", \"AutLn\", \"Banking LOB\"),\n",
        "  (8, 4, 3, \"Permanent Life Insurance\", \"PermLife\", \"Insurance LOB\"),\n",
        "  (9, 2, 2, \"US Savings Bonds\", \"USSavBond\", \"Investment LOB\")'"
      ],
      "metadata": {
        "id": "znOKtPTdifde"
      },
      "execution_count": null,
      "outputs": []
    },
    {
      "cell_type": "markdown",
      "source": [
        "##Task 5. Load a complex dataset"
      ],
      "metadata": {
        "id": "snh3E2sWii3o"
      }
    },
    {
      "cell_type": "code",
      "source": [
        "gs://cloud-training/OCBL375/Customer_List_500.csv"
      ],
      "metadata": {
        "id": "ZJD0N0PcifZ9"
      },
      "execution_count": null,
      "outputs": []
    },
    {
      "cell_type": "code",
      "source": [
        "https://storage.googleapis.com/cloud-training/OCBL375/Customer_List_500.csv"
      ],
      "metadata": {
        "id": "Tkd13NrgifYA"
      },
      "execution_count": null,
      "outputs": []
    },
    {
      "cell_type": "code",
      "source": [
        "gcloud services disable dataflow.googleapis.com --force\n",
        "gcloud services enable dataflow.googleapis.com"
      ],
      "metadata": {
        "id": "E-Dvw_urkEGW"
      },
      "execution_count": null,
      "outputs": []
    },
    {
      "cell_type": "code",
      "source": [
        "cat > manifest.json << EOF_CP\n",
        "{\n",
        "  \"tables\": [\n",
        "    {\n",
        "      \"table_name\": \"Customer\",\n",
        "      \"file_patterns\": [\n",
        "        \"gs://$DEVSHELL_PROJECT_ID/Customer_List_500.csv\"\n",
        "      ],\n",
        "      \"columns\": [\n",
        "        {\"column_name\" : \"CustomerId\", \"type_name\" : \"STRING\" },\n",
        "        {\"column_name\" : \"Name\", \"type_name\" : \"STRING\" },\n",
        "        {\"column_name\" : \"Location\", \"type_name\" : \"STRING\" }\n",
        "      ]\n",
        "    }\n",
        "  ]\n",
        "}\n",
        "EOF_CP"
      ],
      "metadata": {
        "id": "FZ3uxKHLkG-l"
      },
      "execution_count": null,
      "outputs": []
    },
    {
      "cell_type": "markdown",
      "source": [
        "##Task 6. Add a new column to an existing table"
      ],
      "metadata": {
        "id": "IlN-cqU9inqW"
      }
    },
    {
      "cell_type": "code",
      "source": [
        "gsutil mb gs://$DEVSHELL_PROJECT_ID"
      ],
      "metadata": {
        "id": "RNyY5khUkK2e"
      },
      "execution_count": null,
      "outputs": []
    },
    {
      "cell_type": "code",
      "source": [
        "touch quickgcplab"
      ],
      "metadata": {
        "id": "xPvbWArUkKzH"
      },
      "execution_count": null,
      "outputs": []
    },
    {
      "cell_type": "code",
      "source": [
        "gsutil cp emptyfile gs://$DEVSHELL_PROJECT_ID/tmp/quickgcplab"
      ],
      "metadata": {
        "id": "NXAID5pXkOGe"
      },
      "execution_count": null,
      "outputs": []
    },
    {
      "cell_type": "code",
      "source": [
        "gsutil cp Customer_List_500.csv gs://$DEVSHELL_PROJECT_ID"
      ],
      "metadata": {
        "id": "s2Zw_OKrkODE"
      },
      "execution_count": null,
      "outputs": []
    },
    {
      "cell_type": "code",
      "source": [
        "gsutil cp manifest.json gs://$DEVSHELL_PROJECT_ID"
      ],
      "metadata": {
        "id": "biY91Bv6kVoF"
      },
      "execution_count": null,
      "outputs": []
    },
    {
      "cell_type": "code",
      "source": [
        "gcloud dataflow jobs run quickgcplab --gcs-location gs://dataflow-templates-\"$REGION\"/latest/GCS_Text_to_Cloud_Spanner --region=\"$REGION\" --staging-location gs://$DEVSHELL_PROJECT_ID/tmp/ --parameters instanceId=banking-ops-instance,databaseId=banking-ops-db,importManifest=gs://$DEVSHELL_PROJECT_ID/manifest.json\n"
      ],
      "metadata": {
        "id": "FchEoymKkWwX"
      },
      "execution_count": null,
      "outputs": []
    },
    {
      "cell_type": "code",
      "source": [
        "gcloud spanner databases ddl update banking-ops-db --instance=banking-ops-instance --ddl='ALTER TABLE Category ADD COLUMN MarketingBudget INT64;'"
      ],
      "metadata": {
        "id": "OQhzU6UykTHl"
      },
      "execution_count": null,
      "outputs": []
    },
    {
      "cell_type": "code",
      "source": [],
      "metadata": {
        "id": "uEIiBlnikKxD"
      },
      "execution_count": null,
      "outputs": []
    },
    {
      "cell_type": "code",
      "source": [],
      "metadata": {
        "id": "i5Zd9DJDkIEf"
      },
      "execution_count": null,
      "outputs": []
    },
    {
      "cell_type": "code",
      "source": [],
      "metadata": {
        "id": "Yna3_RJbifPa"
      },
      "execution_count": null,
      "outputs": []
    }
  ]
}