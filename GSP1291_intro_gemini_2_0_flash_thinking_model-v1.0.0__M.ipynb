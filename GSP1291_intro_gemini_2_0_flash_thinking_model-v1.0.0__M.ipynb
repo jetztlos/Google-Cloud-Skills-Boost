{
 "cells": [
  {
   "cell_type": "code",
   "execution_count": null,
   "metadata": {
    "id": "sqi5B7V_Rjim"
   },
   "outputs": [],
   "source": [
    "# Copyright 2024 Google LLC\n",
    "#\n",
    "# Licensed under the Apache License, Version 2.0 (the \"License\");\n",
    "# you may not use this file except in compliance with the License.\n",
    "# You may obtain a copy of the License at\n",
    "#\n",
    "#     https://www.apache.org/licenses/LICENSE-2.0\n",
    "#\n",
    "# Unless required by applicable law or agreed to in writing, software\n",
    "# distributed under the License is distributed on an \"AS IS\" BASIS,\n",
    "# WITHOUT WARRANTIES OR CONDITIONS OF ANY KIND, either express or implied.\n",
    "# See the License for the specific language governing permissions and\n",
    "# limitations under the License."
   ]
  },
  {
   "cell_type": "markdown",
   "metadata": {
    "id": "VyPmicX9RlZX"
   },
   "source": [
    "# Getting Started with Gemini 2.0 the Flash Thinking Model\n",
    "\n",
    "<table align=\"left\">\n",
    "  <td style=\"text-align: center\">\n",
    "    <a href=\"https://colab.research.google.com/github/GoogleCloudPlatform/generative-ai/blob/main/gemini/getting-started/intro_gemini_2_0_flash_thinking_mode.ipynb\">\n",
    "      <img width=\"32px\" src=\"https://www.gstatic.com/pantheon/images/bigquery/welcome_page/colab-logo.svg\" alt=\"Google Colaboratory logo\"><br> Open in Colab\n",
    "    </a>\n",
    "  </td>\n",
    "  <td style=\"text-align: center\">\n",
    "    <a href=\"https://console.cloud.google.com/vertex-ai/colab/import/https:%2F%2Fraw.githubusercontent.com%2FGoogleCloudPlatform%2Fgenerative-ai%2Fmain%2Fgemini%2Fgetting-started%2Fintro_gemini_2_0_flash_thinking_mode.ipynb\">\n",
    "      <img width=\"32px\" src=\"https://lh3.googleusercontent.com/JmcxdQi-qOpctIvWKgPtrzZdJJK-J3sWE1RsfjZNwshCFgE_9fULcNpuXYTilIR2hjwN\" alt=\"Google Cloud Colab Enterprise logo\"><br> Open in Colab Enterprise\n",
    "    </a>\n",
    "  </td>\n",
    "  <td style=\"text-align: center\">\n",
    "    <a href=\"https://console.cloud.google.com/vertex-ai/workbench/deploy-notebook?download_url=https://raw.githubusercontent.com/GoogleCloudPlatform/generative-ai/main/gemini/getting-started/intro_gemini_2_0_flash_thinking_mode.ipynb\">\n",
    "      <img src=\"https://www.gstatic.com/images/branding/gcpiconscolors/vertexai/v1/32px.svg\" alt=\"Vertex AI logo\"><br> Open in Vertex AI Workbench\n",
    "    </a>\n",
    "  </td>\n",
    "  <td style=\"text-align: center\">\n",
    "    <a href=\"https://github.com/GoogleCloudPlatform/generative-ai/blob/main/gemini/getting-started/intro_gemini_2_0_flash_thinking_mode.ipynb\">\n",
    "      <img width=\"32px\" src=\"https://upload.wikimedia.org/wikipedia/commons/9/91/Octicons-mark-github.svg\" alt=\"GitHub logo\"><br> View on GitHub\n",
    "    </a>\n",
    "  </td>\n",
    "  <td style=\"text-align: center\">\n",
    "    <a href=\"https://goo.gle/42q3ZwP\">\n",
    "      <img width=\"32px\" src=\"https://cdn.qwiklabs.com/assets/gcp_cloud-e3a77215f0b8bfa9b3f611c0d2208c7e8708ed31.svg\" alt=\"Google Cloud logo\"><br> Open in Cloud Skills Boost\n",
    "    </a>\n",
    "  </td>\n",
    "</table>\n",
    "\n",
    "<div style=\"clear: both;\"></div>\n",
    "\n",
    "<b>Share to:</b>\n",
    "\n",
    "<a href=\"https://www.linkedin.com/sharing/share-offsite/?url=https%3A//github.com/GoogleCloudPlatform/generative-ai/blob/main/gemini/getting-started/intro_gemini_2_0_flash_thinking_mode.ipynb\" target=\"_blank\">\n",
    "  <img width=\"20px\" src=\"https://upload.wikimedia.org/wikipedia/commons/8/81/LinkedIn_icon.svg\" alt=\"LinkedIn logo\">\n",
    "</a>\n",
    "\n",
    "<a href=\"https://bsky.app/intent/compose?text=https%3A//github.com/GoogleCloudPlatform/generative-ai/blob/main/gemini/getting-started/intro_gemini_2_0_flash_thinking_mode.ipynb\" target=\"_blank\">\n",
    "  <img width=\"20px\" src=\"https://upload.wikimedia.org/wikipedia/commons/7/7a/Bluesky_Logo.svg\" alt=\"Bluesky logo\">\n",
    "</a>\n",
    "\n",
    "<a href=\"https://twitter.com/intent/tweet?url=https%3A//github.com/GoogleCloudPlatform/generative-ai/blob/main/gemini/getting-started/intro_gemini_2_0_flash_thinking_mode.ipynb\" target=\"_blank\">\n",
    "  <img width=\"20px\" src=\"https://upload.wikimedia.org/wikipedia/commons/5/53/X_logo_2023_original.svg\" alt=\"X logo\">\n",
    "</a>\n",
    "\n",
    "<a href=\"https://reddit.com/submit?url=https%3A//github.com/GoogleCloudPlatform/generative-ai/blob/main/gemini/getting-started/intro_gemini_2_0_flash_thinking_mode.ipynb\" target=\"_blank\">\n",
    "  <img width=\"20px\" src=\"https://redditinc.com/hubfs/Reddit%20Inc/Brand/Reddit_Logo.png\" alt=\"Reddit logo\">\n",
    "</a>\n",
    "\n",
    "<a href=\"https://www.facebook.com/sharer/sharer.php?u=https%3A//github.com/GoogleCloudPlatform/generative-ai/blob/main/gemini/getting-started/intro_gemini_2_0_flash_thinking_mode.ipynb\" target=\"_blank\">\n",
    "  <img width=\"20px\" src=\"https://upload.wikimedia.org/wikipedia/commons/5/51/Facebook_f_logo_%282019%29.svg\" alt=\"Facebook logo\">\n",
    "</a>"
   ]
  },
  {
   "cell_type": "markdown",
   "metadata": {
    "id": "8MqT58L6Rm_q"
   },
   "source": [
    "| | |\n",
    "|-|-|\n",
    "| Author(s) |  [Guillaume Vernade](https://github.com/giom-v), [Eric Dong](https://github.com/gericdong) |"
   ]
  },
  {
   "cell_type": "markdown",
   "metadata": {
    "id": "3w14yjWnPVD-"
   },
   "source": [
    "## Overview\n",
    "\n",
    "[Gemini 2.0 Flash Thinking](https://cloud.google.com/vertex-ai/generative-ai/docs/thinking-mode) is an experimental model that's trained to generate the \"thinking process\" the model goes through as part of its response. As a result, the Flash Thinking model is capable of stronger reasoning capabilities in its responses than the Gemini 2.0 Flash model.\n",
    "\n",
    "This tutorial demonstrates how to access the Gemini 2.0 Flash Thinking model and use the model to solve the following complex tasks that require multiple rounds of strategizing and iteratively solving.\n",
    "\n",
    "- Example 1: Code simplification\n",
    "- Example 2: Geometry problem (with image)\n",
    "- Example 3: Mathematical brain teaser\n",
    "- Example 4: Generating question for a specific level of knowledge\n",
    "- Example 5: Statistics\n",
    "- Example 6: Brain teaser with a twist\n"
   ]
  },
  {
   "cell_type": "markdown",
   "metadata": {
    "id": "gPiTOAHURvTM"
   },
   "source": [
    "## Getting Started"
   ]
  },
  {
   "cell_type": "markdown",
   "metadata": {
    "id": "CHRZUpfWSEpp"
   },
   "source": [
    "### Install Google Gen AI SDK for Python\n"
   ]
  },
  {
   "cell_type": "code",
   "execution_count": 1,
   "metadata": {
    "id": "sG3_LKsWSD3A",
    "tags": []
   },
   "outputs": [
    {
     "name": "stdout",
     "output_type": "stream",
     "text": [
      "\n",
      "\u001b[1m[\u001b[0m\u001b[34;49mnotice\u001b[0m\u001b[1;39;49m]\u001b[0m\u001b[39;49m A new release of pip is available: \u001b[0m\u001b[31;49m25.0\u001b[0m\u001b[39;49m -> \u001b[0m\u001b[32;49m25.0.1\u001b[0m\n",
      "\u001b[1m[\u001b[0m\u001b[34;49mnotice\u001b[0m\u001b[1;39;49m]\u001b[0m\u001b[39;49m To update, run: \u001b[0m\u001b[32;49mpip install --upgrade pip\u001b[0m\n",
      "Note: you may need to restart the kernel to use updated packages.\n"
     ]
    }
   ],
   "source": [
    "%pip install --upgrade --quiet google-genai"
   ]
  },
  {
   "cell_type": "markdown",
   "metadata": {
    "id": "0Ef0zVX-X9Bg"
   },
   "source": [
    "### Import libraries\n"
   ]
  },
  {
   "cell_type": "code",
   "execution_count": 2,
   "metadata": {
    "id": "xBCH3hnAX9Bh",
    "tags": []
   },
   "outputs": [],
   "source": [
    "from collections.abc import Iterator\n",
    "import os\n",
    "\n",
    "from IPython.display import Image, Markdown, display\n",
    "from google import genai\n",
    "from google.genai.types import (\n",
    "    GenerateContentConfig,\n",
    "    GenerateContentResponse,\n",
    "    Part,\n",
    "    ThinkingConfig,\n",
    ")"
   ]
  },
  {
   "cell_type": "markdown",
   "metadata": {
    "id": "LymmEN6GSTn-"
   },
   "source": [
    "### Set Google Cloud project information and create client\n",
    "\n",
    "To get started using Vertex AI, you must have an existing Google Cloud project and [enable the Vertex AI API](https://console.cloud.google.com/flows/enableapi?apiid=aiplatform.googleapis.com).\n",
    "\n",
    "Learn more about [setting up a project and a development environment](https://cloud.google.com/vertex-ai/docs/start/cloud-environment)."
   ]
  },
  {
   "cell_type": "code",
   "execution_count": 3,
   "metadata": {
    "id": "Nqwi-5ufWp_B",
    "tags": []
   },
   "outputs": [],
   "source": [
    "PROJECT_ID = \"qwiklabs-gcp-00-b766cbb3bc37\"  # @param {type: \"string\"}\n",
    "if not PROJECT_ID or PROJECT_ID == \"qwiklabs-gcp-00-b766cbb3bc37\":\n",
    "    PROJECT_ID = str(os.environ.get(\"GOOGLE_CLOUD_PROJECT\"))\n",
    "\n",
    "LOCATION = os.environ.get(\"GOOGLE_CLOUD_REGION\", \"us-central1\")"
   ]
  },
  {
   "cell_type": "code",
   "execution_count": 4,
   "metadata": {
    "id": "T-tiytzQE0uM",
    "tags": []
   },
   "outputs": [],
   "source": [
    "client = genai.Client(\n",
    "    vertexai=True,\n",
    "    project=PROJECT_ID,\n",
    "    location=LOCATION,\n",
    ")"
   ]
  },
  {
   "cell_type": "markdown",
   "metadata": {
    "id": "w0u6hYSleE0H"
   },
   "source": [
    "## Use Gemini 2.0 Flash Thinking Model\n"
   ]
  },
  {
   "cell_type": "markdown",
   "metadata": {
    "id": "5M7EKckIYVFy"
   },
   "source": [
    "### Set model ID\n",
    "\n",
    "See the [Google models](https://cloud.google.com/vertex-ai/generative-ai/docs/learn/models) page for more information."
   ]
  },
  {
   "cell_type": "code",
   "execution_count": 5,
   "metadata": {
    "id": "-coEslfWPrxo",
    "tags": []
   },
   "outputs": [],
   "source": [
    "MODEL_ID = \"gemini-2.0-flash-thinking-exp-01-21\"  # @param {type: \"string\"}"
   ]
  },
  {
   "cell_type": "markdown",
   "metadata": {
    "id": "72e846835b84"
   },
   "source": [
    "### Helper functions\n",
    "\n",
    "Create methods to print out the thoughts and answer."
   ]
  },
  {
   "cell_type": "code",
   "execution_count": 6,
   "metadata": {
    "id": "51e2ab48b44a",
    "tags": []
   },
   "outputs": [],
   "source": [
    "def print_thoughts(response: GenerateContentResponse) -> None:\n",
    "    for part in response.candidates[0].content.parts:\n",
    "        header = \"Thoughts\" if part.thought else \"Answer\"\n",
    "        display(Markdown(f\"\"\"## {header}:\\n{part.text}\"\"\"))\n",
    "\n",
    "\n",
    "def print_thoughts_stream(response: Iterator[GenerateContentResponse]) -> None:\n",
    "    display(Markdown(\"## Thoughts:\\n\"))\n",
    "    answer_shown = False\n",
    "\n",
    "    for chunk in response:\n",
    "        for part in chunk.candidates[0].content.parts:\n",
    "            if not part.thought and not answer_shown:\n",
    "                display(Markdown(\"## Answer:\\n\"))\n",
    "                answer_shown = True\n",
    "            display(Markdown(part.text))"
   ]
  },
  {
   "cell_type": "markdown",
   "metadata": {
    "id": "7103e527293a"
   },
   "source": [
    "### Enable thoughts\n",
    "\n",
    "You set the flag `include_thoughts` in the `ThinkingConfig` to indicate whether to return thoughts in the model response. The flag is set to `False` by default."
   ]
  },
  {
   "cell_type": "code",
   "execution_count": 7,
   "metadata": {
    "id": "869bd363d8fc",
    "tags": []
   },
   "outputs": [],
   "source": [
    "config = GenerateContentConfig(thinking_config=ThinkingConfig(include_thoughts=True))"
   ]
  },
  {
   "cell_type": "markdown",
   "metadata": {
    "id": "c5fc462efc55"
   },
   "source": [
    "### Generate content with thoughts\n",
    "\n",
    "Then use the `generate_content` method to send a request to generate content with thoughts. The model responds with multiple parts, the thoughts and the model response. You can check the `part.thought` field to determine if a part is a thought or not."
   ]
  },
  {
   "cell_type": "code",
   "execution_count": 8,
   "metadata": {
    "id": "c55bf1df11ea",
    "tags": []
   },
   "outputs": [
    {
     "data": {
      "text/markdown": [
       "## Answer:\n",
       "The next number in the sequence 2, 4, 8, 16 is **32**.\n",
       "\n",
       "**Explanation:**\n",
       "\n",
       "This sequence is formed by multiplying each number by 2 to get the next number:\n",
       "\n",
       "* 2 * 2 = 4\n",
       "* 4 * 2 = 8\n",
       "* 8 * 2 = 16\n",
       "* 16 * 2 = 32\n",
       "\n",
       "Alternatively, you can see this sequence as powers of 2:\n",
       "\n",
       "* 2 = 2<sup>1</sup>\n",
       "* 4 = 2<sup>2</sup>\n",
       "* 8 = 2<sup>3</sup>\n",
       "* 16 = 2<sup>4</sup>\n",
       "* 32 = 2<sup>5</sup>\n",
       "\n",
       "Both patterns lead to the same conclusion that the next number in the sequence is 32."
      ],
      "text/plain": [
       "<IPython.core.display.Markdown object>"
      ]
     },
     "metadata": {},
     "output_type": "display_data"
    }
   ],
   "source": [
    "response = client.models.generate_content(\n",
    "    model=MODEL_ID,\n",
    "    contents=\"What is the next number in this sequence: 2, 4, 8, 16, __?\",\n",
    "    config=config,\n",
    ")\n",
    "print_thoughts(response)"
   ]
  },
  {
   "cell_type": "markdown",
   "metadata": {
    "id": "0c9a466d65d0"
   },
   "source": [
    "### Generate content stream with thoughts\n",
    "\n",
    "You can also use the `generate_content_stream` method to stream the response and thoughts as they are being generated, and the model will return chunks of the response as soon as they are generated."
   ]
  },
  {
   "cell_type": "code",
   "execution_count": 9,
   "metadata": {
    "id": "425f08594870",
    "tags": []
   },
   "outputs": [
    {
     "data": {
      "text/markdown": [
       "## Thoughts:\n"
      ],
      "text/plain": [
       "<IPython.core.display.Markdown object>"
      ]
     },
     "metadata": {},
     "output_type": "display_data"
    },
    {
     "data": {
      "text/markdown": [
       "## Answer:\n"
      ],
      "text/plain": [
       "<IPython.core.display.Markdown object>"
      ]
     },
     "metadata": {},
     "output_type": "display_data"
    },
    {
     "data": {
      "text/markdown": [
       "Yes, the Monty Hall Problem **fundamentally changes** if all the doors are made of"
      ],
      "text/plain": [
       "<IPython.core.display.Markdown object>"
      ]
     },
     "metadata": {},
     "output_type": "display_data"
    },
    {
     "data": {
      "text/markdown": [
       " transparent glass.  Let's break down why:\n",
       "\n",
       "**Understanding the Classic Monty Hall Problem**\n",
       "\n",
       "In the standard Monty Hall Problem:\n",
       "\n",
       "* **Hidden Information:** The key element is that you and the contestant *don't know* where the prize is initially. This lack of information is what creates the probabilities"
      ],
      "text/plain": [
       "<IPython.core.display.Markdown object>"
      ]
     },
     "metadata": {},
     "output_type": "display_data"
    },
    {
     "data": {
      "text/markdown": [
       ".\n",
       "* **Host's Knowledge & Action:** Monty Hall knows where the prize is. He deliberately opens a door to reveal a goat, *always choosing a door that is not your initial choice and doesn't have the prize.* This action is crucial because it *transfers probability* from the unopened doors to the door"
      ],
      "text/plain": [
       "<IPython.core.display.Markdown object>"
      ]
     },
     "metadata": {},
     "output_type": "display_data"
    },
    {
     "data": {
      "text/markdown": [
       " you didn't initially pick.\n",
       "* **Switching Advantage:** Switching doors doubles your probability of winning (from 1/3 to 2/3) because the host's action isn't random; it's based on knowledge and designed to provide information.\n",
       "\n",
       "**The Monty Hall Problem with Transparent Glass"
      ],
      "text/plain": [
       "<IPython.core.display.Markdown object>"
      ]
     },
     "metadata": {},
     "output_type": "display_data"
    },
    {
     "data": {
      "text/markdown": [
       " Doors**\n",
       "\n",
       "If the doors are transparent glass, everything changes because:\n",
       "\n",
       "* **No Hidden Information:** You can *see* exactly what is behind each door from the very beginning. You know which door has the car and which doors have goats.\n",
       "* **Host's Action Becomes Irrelevant (in terms"
      ],
      "text/plain": [
       "<IPython.core.display.Markdown object>"
      ]
     },
     "metadata": {},
     "output_type": "display_data"
    },
    {
     "data": {
      "text/markdown": [
       " of information):**  When Monty Hall opens a door to reveal a goat, he's not giving you any *new* information. You already saw that door had a goat.\n",
       "* **Initial Choice Becomes Deterministic:** Your initial choice is no longer a guess based on probabilities. It's a direct"
      ],
      "text/plain": [
       "<IPython.core.display.Markdown object>"
      ]
     },
     "metadata": {},
     "output_type": "display_data"
    },
    {
     "data": {
      "text/markdown": [
       " choice based on known information.\n",
       "\n",
       "**Why the Problem Changes & How to Play with Transparent Doors**\n",
       "\n",
       "1. **Initial Choice - Pick the Prize Door:**  With transparent doors, your best strategy is to simply choose the door you see that has the car behind it **right from the start**.  There's no need"
      ],
      "text/plain": [
       "<IPython.core.display.Markdown object>"
      ]
     },
     "metadata": {},
     "output_type": "display_data"
    },
    {
     "data": {
      "text/markdown": [
       " to guess or rely on probability.\n",
       "\n",
       "2. **Host's Action is Meaningless:**  When Monty Hall opens a door showing a goat, it's just a theatrical gesture. You already knew there was a goat there.  His action doesn't change the location of the car or the probability of winning.\n",
       "\n"
      ],
      "text/plain": [
       "<IPython.core.display.Markdown object>"
      ]
     },
     "metadata": {},
     "output_type": "display_data"
    },
    {
     "data": {
      "text/markdown": [
       "3. **Switching is Irrelevant:**  Whether you switch or stay after Monty reveals a goat behind a transparent door **makes no difference whatsoever** to your chances of winning.  You've already made your choice based on perfect information.\n",
       "\n",
       "**In Summary**\n",
       "\n",
       "The transparency of the doors completely removes the core"
      ],
      "text/plain": [
       "<IPython.core.display.Markdown object>"
      ]
     },
     "metadata": {},
     "output_type": "display_data"
    },
    {
     "data": {
      "text/markdown": [
       " element of the Monty Hall Problem – the hidden information and the host's knowledgeable action providing a probability shift.\n",
       "\n",
       "With transparent doors:\n",
       "\n",
       "* **It's no longer a probability puzzle, but a simple decision based on direct observation.**\n",
       "* **Switching doors is neither beneficial nor detrimental; it's pointless"
      ],
      "text/plain": [
       "<IPython.core.display.Markdown object>"
      ]
     },
     "metadata": {},
     "output_type": "display_data"
    },
    {
     "data": {
      "text/markdown": [
       ".**\n",
       "* **The optimal strategy is to pick the door with the car visible behind it from the outset.**\n",
       "\n",
       "Essentially, the transparent doors transform the Monty Hall Problem from a counterintuitive probability puzzle into a trivial game of \"spot the prize.\""
      ],
      "text/plain": [
       "<IPython.core.display.Markdown object>"
      ]
     },
     "metadata": {},
     "output_type": "display_data"
    }
   ],
   "source": [
    "response = client.models.generate_content_stream(\n",
    "    model=MODEL_ID,\n",
    "    contents=\"Does the Monty Hall Problem change if all the doors are made of transparent glass?\",\n",
    "    config=config,\n",
    ")\n",
    "\n",
    "print_thoughts_stream(response)"
   ]
  },
  {
   "cell_type": "markdown",
   "metadata": {
    "id": "IrRBg9UGC9nn"
   },
   "source": [
    "## Thinking Model examples\n",
    "\n",
    "The following examples are some complex tasks that require multiple rounds of strategizing and iteratively solving.\n",
    "\n",
    "### **Example 1**: Code simplification\n",
    "\n",
    "First, try with a simple code comprehension and simplification example."
   ]
  },
  {
   "cell_type": "code",
   "execution_count": 10,
   "metadata": {
    "id": "dLhhffx2C9nn",
    "tags": []
   },
   "outputs": [
    {
     "data": {
      "text/markdown": [
       "## Answer:\n",
       "The code `(Math.round(radius/pixelsPerMile * 10) / 10).toFixed(1);` is already quite concise for what it achieves, which is:\n",
       "\n",
       "1. **Convert `radius` to miles:** Assuming `radius` is in pixels and `pixelsPerMile` represents the number of pixels in a mile, `radius/pixelsPerMile` calculates the radius in miles.\n",
       "\n",
       "2. **Multiply by 10:**  `* 10` shifts the decimal point one place to the right. This is done to prepare for rounding to one decimal place.\n",
       "\n",
       "3. **Round to the nearest integer:** `Math.round(...)` rounds the result to the nearest whole number.\n",
       "\n",
       "4. **Divide by 10:** `/ 10` shifts the decimal point back one place to the left, effectively rounding the original miles value to one decimal place.\n",
       "\n",
       "5. **Format to one decimal place as a string:** `.toFixed(1)` converts the number to a string and ensures it always has exactly one digit after the decimal point, even if that digit is zero.\n",
       "\n",
       "**Here are a few perspectives on simplification, depending on what you're trying to achieve:**\n",
       "\n",
       "**1. For Readability and Understanding (No Functional Change):**\n",
       "\n",
       "The code is already fairly readable if you understand the common pattern of rounding to a specific decimal place in JavaScript using `Math.round()`. You could add a comment to clarify the purpose:\n",
       "\n",
       "```javascript\n",
       "// Calculate radius in miles, rounded to one decimal place, and format as string.\n",
       "(Math.round(radius/pixelsPerMile * 10) / 10).toFixed(1);\n",
       "```\n",
       "\n",
       "You could also break it down into separate steps for even greater clarity, although this might be considered less concise:\n",
       "\n",
       "```javascript\n",
       "let radiusInMiles = radius / pixelsPerMile; // Calculate radius in miles\n",
       "let radiusInMilesTimesTen = radiusInMiles * 10; // Multiply by 10\n",
       "let roundedRadiusInMilesTimesTen = Math.round(radiusInMilesTimesTen); // Round to nearest integer\n",
       "let roundedRadiusInMiles = roundedRadiusInMilesTimesTen / 10; // Divide by 10\n",
       "let formattedRadius = roundedRadiusInMiles.toFixed(1); // Format to one decimal place string\n",
       "```\n",
       "While more verbose, this might be easier to follow for someone less familiar with the one-liner.\n",
       "\n",
       "**2.  If you don't *need* `.toFixed(1)` (Output as a Number, Not a String):**\n",
       "\n",
       "If you only need the *numerical* value rounded to one decimal place and don't require it to be a string with a fixed decimal place, you can remove `.toFixed(1)`:\n",
       "\n",
       "```javascript\n",
       "Math.round(radius/pixelsPerMile * 10) / 10;\n",
       "```\n",
       "\n",
       "This will return a number rounded to one decimal place.  It might not always display with `.0` if the decimal part is zero when you log it to the console or use it in other calculations, but the numerical value will be correctly rounded.\n",
       "\n",
       "**3.  If you're concerned about potential small floating-point inaccuracies (Less Likely to be Needed Here):**\n",
       "\n",
       "In some very rare cases, floating-point arithmetic can introduce tiny inaccuracies.  However, in this relatively simple calculation, it's unlikely to be a significant problem.  If you were dealing with much more complex calculations or very large/small numbers, and you wanted to be extremely precise, you might consider using libraries for arbitrary-precision arithmetic, but that's overkill for this scenario.\n",
       "\n",
       "**4. No significant further *algorithmic* simplification possible:**\n",
       "\n",
       "The core logic of multiplying by 10, rounding to the nearest integer, and then dividing by 10 is the standard and efficient way to round to one decimal place using `Math.round()`.  There isn't a mathematically simpler way to achieve this rounding in JavaScript using built-in functions.\n",
       "\n",
       "**In summary:**\n",
       "\n",
       "The original code is already quite well-simplified for its purpose.  The \"best\" simplification depends on your specific needs:\n",
       "\n",
       "* **For maximum conciseness and functionality as described:** The original code `(Math.round(radius/pixelsPerMile * 10) / 10).toFixed(1);` is good.\n",
       "* **For maximum readability (slightly more verbose):** Break it down into steps as shown in point 1.\n",
       "* **If you only need the numerical value (not a formatted string):** Remove `.toFixed(1)`:  `Math.round(radius/pixelsPerMile * 10) / 10;`\n",
       "\n",
       "Choose the version that best balances readability and conciseness for your context and audience. For most common use cases, the original one-liner is perfectly acceptable and efficient."
      ],
      "text/plain": [
       "<IPython.core.display.Markdown object>"
      ]
     },
     "metadata": {},
     "output_type": "display_data"
    }
   ],
   "source": [
    "prompt = \"\"\"\n",
    "How can I simplify this?\n",
    "`(Math.round(radius/pixelsPerMile * 10) / 10).toFixed(1);`\n",
    "\"\"\"\n",
    "\n",
    "response = client.models.generate_content(\n",
    "    model=MODEL_ID,\n",
    "    contents=prompt,\n",
    "    config=config,\n",
    ")\n",
    "\n",
    "print_thoughts(response)"
   ]
  },
  {
   "cell_type": "markdown",
   "metadata": {
    "id": "d6cOmdVPC9nn"
   },
   "source": [
    "As a comparison here's what you'd get with the [Gemini 2.0 Flash](https://cloud.google.com/vertex-ai/generative-ai/docs/gemini-v2) base model.\n",
    "\n",
    "Unlike thinking mode, the normal model does not articulate its thoughts and tries to answer right away which can lead to more simple answers to complex problems."
   ]
  },
  {
   "cell_type": "code",
   "execution_count": 12,
   "metadata": {
    "id": "027b7d9a6134",
    "tags": []
   },
   "outputs": [
    {
     "data": {
      "text/markdown": [
       "Let's break down how to simplify that expression, focusing on readability and potential optimization.\n",
       "\n",
       "**Understanding the Code**\n",
       "\n",
       "* `radius`:  Likely a distance in some unit (probably also miles).\n",
       "* `pixelsPerMile`: A conversion factor to turn miles into pixels.\n",
       "* `radius / pixelsPerMile`: Calculates the radius in pixels.\n",
       "* `* 10`: Multiplies the pixel radius by 10.\n",
       "* `Math.round(...)`: Rounds the result to the nearest integer.\n",
       "* `/ 10`: Divides the rounded result by 10. This effectively rounds to the nearest tenth (one decimal place).\n",
       "* `.toFixed(1)`: Converts the number to a string, always displaying exactly one decimal place.\n",
       "\n",
       "**Simplifications and Optimizations**\n",
       "\n",
       "1. **Combined Rounding and `toFixed`:** You can achieve the same rounding effect directly within `toFixed` in many cases. However, there are subtle differences.  `Math.round` always rounds *halfway values* (e.g., 0.5) *away from zero*. `toFixed` typically uses \"round half to even\" (also known as banker's rounding) which rounds to the *nearest* even number in case of a tie.\n",
       "\n",
       "   * **Option 1 (Simpler, may have different rounding):** If you're okay with the possibility of Banker's rounding:\n",
       "\n",
       "     ```javascript\n",
       "     (radius / pixelsPerMile).toFixed(1);\n",
       "     ```\n",
       "\n",
       "     This is the most straightforward, but the rounding behavior is different if the result of `radius / pixelsPerMile` has more than 1 decimal place.\n",
       "\n",
       "   * **Option 2 (Preserves `Math.round` behavior):**  For perfect consistency with your original approach use `Math.round` *before* `toFixed`. Note that JavaScript implicitly converts the result of `Math.round` to a string when you call `toFixed`, so it is important that we divide first.\n",
       "\n",
       "     ```javascript\n",
       "     (Math.round((radius / pixelsPerMile) * 10) / 10).toFixed(1);\n",
       "     ```\n",
       "\n",
       "2. **Variable Assignment (Readability):**  Break down the calculation into named variables. This makes the code much easier to read and debug.\n",
       "\n",
       "   ```javascript\n",
       "   const radiusInPixels = radius / pixelsPerMile;\n",
       "   const roundedValue = Math.round(radiusInPixels * 10) / 10; // keep same behavior from original\n",
       "   const formattedValue = roundedValue.toFixed(1);\n",
       "   ```\n",
       "\n",
       "   Or, using the simpler (but possibly different rounding) version:\n",
       "\n",
       "   ```javascript\n",
       "   const radiusInPixels = radius / pixelsPerMile;\n",
       "   const formattedValue = radiusInPixels.toFixed(1);\n",
       "   ```\n",
       "\n",
       "3. **Consider Context:** Where is this code used?  If it's in a performance-critical section that's executed many times, you might explore further optimizations, *but only after you've measured to see if it matters*. Premature optimization is the root of all evil.\n",
       "\n",
       "4. **Remove `toFixed(1)` if not needed:** `toFixed(1)` converts the result to a string.  If you need the result as a *number* and just want to round to one decimal place, you can skip the `toFixed` step. You only need it if you specifically need a string representation with exactly one decimal place.\n",
       "\n",
       "**Complete Example (with variable assignments and assuming you want consistent rounding from your original code):**\n",
       "\n",
       "```javascript\n",
       "function calculateFormattedRadius(radius, pixelsPerMile) {\n",
       "  const radiusInPixels = radius / pixelsPerMile;\n",
       "  const roundedValue = Math.round(radiusInPixels * 10) / 10;  //Match previous rounding behavior\n",
       "  const formattedValue = roundedValue.toFixed(1);  // format into a string\n",
       "\n",
       "  return formattedValue;\n",
       "}\n",
       "\n",
       "// Example usage:\n",
       "const radius = 2.75;\n",
       "const pixelsPerMile = 100;\n",
       "const formattedRadius = calculateFormattedRadius(radius, pixelsPerMile);\n",
       "console.log(formattedRadius); // Output: 0.0\n",
       "```\n",
       "\n",
       "**Key Considerations:**\n",
       "\n",
       "* **Rounding Differences:** Be *absolutely sure* you understand the rounding implications of using `toFixed` directly versus using `Math.round` and then `toFixed`.  The difference is subtle, but it can lead to unexpected results in certain cases.\n",
       "* **Performance:**  Unless you're doing this calculation thousands of times, the performance difference between the various options will be negligible.  Focus on readability and correctness first.\n",
       "* **Purpose:** The best simplification depends on *why* you're formatting the number.  Is it for display? Is it for further calculations? This will determine if you need the final result as a string or a number.\n",
       "\n",
       "Choose the option that best balances readability, correctness (especially regarding rounding), and your specific needs.  The variable assignment approach is almost always a good idea for clarity.\n"
      ],
      "text/plain": [
       "<IPython.core.display.Markdown object>"
      ]
     },
     "metadata": {},
     "output_type": "display_data"
    }
   ],
   "source": [
    "response = client.models.generate_content(\n",
    "    model=\"gemini-2.0-flash-001\",\n",
    "    contents=prompt,\n",
    ")\n",
    "\n",
    "display(Markdown(response.text))"
   ]
  },
  {
   "cell_type": "markdown",
   "metadata": {
    "id": "4080cc17f5d9"
   },
   "source": [
    "### **Example 2**: Geometry problem (with image)\n",
    "\n",
    "This geometry problem requires complex reasoning and is also using Gemini multimodal capabilities to read the image."
   ]
  },
  {
   "cell_type": "code",
   "execution_count": 13,
   "metadata": {
    "id": "8bd02dff35d0",
    "tags": []
   },
   "outputs": [
    {
     "data": {
      "text/html": [
       "<img src=\"https://storage.googleapis.com/generativeai-downloads/images/geometry.png\" width=\"400\"/>"
      ],
      "text/plain": [
       "<IPython.core.display.Image object>"
      ]
     },
     "metadata": {},
     "output_type": "display_data"
    }
   ],
   "source": [
    "image_file_path = \"generativeai-downloads/images/geometry.png\"\n",
    "image_file_uri = f\"gs://{image_file_path}\"\n",
    "image_file_url = f\"https://storage.googleapis.com/{image_file_path}\"\n",
    "\n",
    "display(Image(url=image_file_url, width=400))"
   ]
  },
  {
   "cell_type": "code",
   "execution_count": 14,
   "metadata": {
    "id": "80f2vzWxC9no",
    "tags": []
   },
   "outputs": [
    {
     "data": {
      "text/markdown": [
       "## Answer:\n",
       "This is a riddle! Here's how to solve it:\n",
       "\n",
       "You can use the number 3 three times to get 30 by doing the following:\n",
       "\n",
       "**33 - 3 = 30**\n",
       "\n",
       "Let me know if you'd like to try another riddle!"
      ],
      "text/plain": [
       "<IPython.core.display.Markdown object>"
      ]
     },
     "metadata": {},
     "output_type": "display_data"
    }
   ],
   "source": [
    "response = client.models.generate_content(\n",
    "    model=MODEL_ID,\n",
    "    contents=[\n",
    "        Part.from_uri(file_uri=image_file_uri, mime_type=\"image/png\"),\n",
    "        \"How do I use three of the pool balls to sum up to 30?\",\n",
    "    ],\n",
    "    config=config,\n",
    ")\n",
    "\n",
    "print_thoughts(response)"
   ]
  },
  {
   "cell_type": "markdown",
   "metadata": {
    "id": "9_WlcJZjC9np"
   },
   "source": [
    "### **Example 3**: Mathematical brain teaser\n"
   ]
  },
  {
   "cell_type": "code",
   "execution_count": 15,
   "metadata": {
    "id": "e5411dfb9e8b",
    "tags": []
   },
   "outputs": [
    {
     "data": {
      "text/markdown": [
       "## Answer:\n",
       "Here's one way to reach 746 using the numbers 8, 7, 50, and 4 with additions, subtractions, and multiplications, using each number only once:\n",
       "\n",
       "**(8 + 7) * 50 - 4 = 746**\n",
       "\n",
       "Let's break it down step-by-step:\n",
       "\n",
       "1. **8 + 7 = 15**\n",
       "2. **15 * 50 = 750**\n",
       "3. **750 - 4 = 746**\n",
       "\n",
       "All four numbers (8, 7, 50, and 4) are used exactly once, and only addition, multiplication, and subtraction operations are used.\n",
       "\n",
       "Final Answer: The final answer is $\\boxed{(8+7)*50-4}$"
      ],
      "text/plain": [
       "<IPython.core.display.Markdown object>"
      ]
     },
     "metadata": {},
     "output_type": "display_data"
    }
   ],
   "source": [
    "prompt = \"\"\"Add mathematical operations (additions, subtractions, multiplications)\n",
    "to get 746 using these numbers only once: 8, 7, 50, and 4\n",
    "\"\"\"\n",
    "\n",
    "response = client.models.generate_content(\n",
    "    model=MODEL_ID,\n",
    "    contents=prompt,\n",
    "    config=config,\n",
    ")\n",
    "\n",
    "print_thoughts(response)"
   ]
  },
  {
   "cell_type": "markdown",
   "metadata": {
    "id": "655ba02d9bda"
   },
   "source": [
    "### **Example 4**: Generating question for a specific level of knowledge\n",
    "\n",
    "This time, the questions require a few types of knowledge, including what is relevant to the [Physics C: Mechanics exam](https://apcentral.collegeboard.org/courses/ap-physics-c-mechanics/exam). The questions generated are not the interesting part, but the reasoning to come up with them shows they are not just randomly generated."
   ]
  },
  {
   "cell_type": "code",
   "execution_count": 16,
   "metadata": {
    "id": "MU3FAUqcC9np",
    "tags": []
   },
   "outputs": [
    {
     "data": {
      "text/markdown": [
       "## Answer:\n",
       "Okay, here's a practice question for AP Physics C: Mechanics that focuses on rotational motion, energy, and forces, which are frequently tested topics.\n",
       "\n",
       "**Question:**\n",
       "\n",
       "A uniform solid cylinder of mass *M* and radius *R* is released from rest at the top of an inclined plane of height *H* and angle of inclination *θ*.  The cylinder rolls without slipping down the incline.\n",
       "\n",
       "**(a)  Free-Body Diagram and Forces:**\n",
       "\n",
       "*   **(i)** Draw a free-body diagram for the cylinder as it rolls down the incline. Clearly label all forces acting on the cylinder.\n",
       "*   **(ii)**  Identify the force responsible for providing the torque that causes the cylinder to rotate.\n",
       "\n",
       "**(b)  Equations of Motion:**\n",
       "\n",
       "*   **(i)**  Write down Newton's Second Law for the translational motion of the center of mass of the cylinder along the incline.\n",
       "*   **(ii)**  Write down Newton's Second Law for rotational motion about the center of mass of the cylinder.\n",
       "*   **(iii)**  State the relationship between the linear acceleration (*a*) of the center of mass and the angular acceleration (*α*) of the cylinder for rolling without slipping.\n",
       "\n",
       "**(c)  Acceleration and Friction:**\n",
       "\n",
       "*   **(i)**  Using the equations from part (b), derive an expression for the linear acceleration (*a*) of the center of mass of the cylinder down the incline in terms of *g*, *θ*, and fundamental constants (and numerical factors if needed).\n",
       "*   **(ii)** Derive an expression for the minimum coefficient of static friction (μ<sub>s</sub>) required for the cylinder to roll without slipping in terms of *θ* and fundamental constants (and numerical factors if needed).\n",
       "\n",
       "**(d) Energy Conservation:**\n",
       "\n",
       "*   **(i)**  Using conservation of mechanical energy, determine the linear speed (*v*) of the center of mass of the cylinder when it reaches the bottom of the incline. Express your answer in terms of *g* and *H*.\n",
       "*   **(ii)**  Verify that the speed calculated in part (d)(i) is consistent with the acceleration you found in part (c)(i) and kinematic equations for constant acceleration.\n",
       "\n",
       "**Given Information:**\n",
       "\n",
       "*   Moment of inertia of a solid cylinder about its central axis:  *I* = (1/2) *M*R<sup>2</sup>\n",
       "*   Assume the acceleration due to gravity is *g*.\n",
       "\n",
       "**Instructions for Practice:**\n",
       "\n",
       "1.  **Attempt to solve this problem completely on your own.**  Simulate exam conditions: time yourself and try to solve it without looking at notes or solutions initially.\n",
       "2.  **Show all your work clearly and logically.**  This is crucial for getting partial credit on the AP exam.\n",
       "3.  **Check your units** at each step to ensure consistency.\n",
       "4.  **Once you've completed your attempt, review your solution.**  Compare it to solution keys or discuss it with a teacher or study group. Identify areas where you struggled or made mistakes.\n",
       "5.  **Reflect on the concepts tested in this problem.**  Make sure you understand the underlying principles of forces, torque, rotational motion, energy conservation, and rolling without slipping.\n",
       "\n",
       "This question covers a good range of topics relevant to AP Physics C: Mechanics. Good luck practicing! Let me know if you'd like to go over the solution or have any other questions."
      ],
      "text/plain": [
       "<IPython.core.display.Markdown object>"
      ]
     },
     "metadata": {},
     "output_type": "display_data"
    }
   ],
   "source": [
    "response = client.models.generate_content(\n",
    "    model=MODEL_ID,\n",
    "    contents=\"Give me a practice question I can use for the AP Physics C: Mechanics exam?\",\n",
    "    config=config,\n",
    ")\n",
    "\n",
    "print_thoughts(response)"
   ]
  },
  {
   "cell_type": "markdown",
   "metadata": {
    "id": "FnDwUxI-fRWo"
   },
   "source": [
    "### **Example 5**: Statistics\n",
    "\n",
    "Here's a new mathematical problem. Once again, what's interesting is not the answer (as you might know it already) but how the model is coming up with it."
   ]
  },
  {
   "cell_type": "code",
   "execution_count": 17,
   "metadata": {
    "id": "hQozYPZzgXRE",
    "tags": []
   },
   "outputs": [
    {
     "data": {
      "text/markdown": [
       "## Answer:\n",
       "Let $P(HHH)$ be the probability that HHH occurs first, and $P(HTH)$ be the probability that HTH occurs first. We set up a system of equations for the probabilities of reaching HHH first starting from different prefixes.\n",
       "Let $P_S$ be the probability that HHH occurs first starting from the beginning (state S).\n",
       "Let $P_H$ be the probability that HHH occurs first given that we just flipped H (state H).\n",
       "Let $P_{HH}$ be the probability that HHH occurs first given that we just flipped HH (state HH).\n",
       "Let $P_{HT}$ be the probability that HHH occurs first given that we just flipped HT (state HT).\n",
       "\n",
       "Starting from S:\n",
       "$P_S = \\frac{1}{2} P_H + \\frac{1}{2} P_S$\n",
       "\n",
       "Starting from H:\n",
       "$P_H = \\frac{1}{2} P_{HH} + \\frac{1}{2} P_{HT}$\n",
       "\n",
       "Starting from HH:\n",
       "$P_{HH} = \\frac{1}{2} \\times 1 + \\frac{1}{2} P_{HT}$ (If we flip H, we get HHH, so HHH occurs first with probability 1. If we flip T, we get HHT, so we are in state HT).\n",
       "\n",
       "Starting from HT:\n",
       "$P_{HT} = \\frac{1}{2} \\times 0 + \\frac{1}{2} P_S$ (If we flip H, we get HTH, so HTH occurs first, HHH does not occur first with probability 0. If we flip T, we get HTT, so we are back to state S).\n",
       "\n",
       "From $P_S = \\frac{1}{2} P_H + \\frac{1}{2} P_S$, we get $P_S = P_H$.\n",
       "Substitute $P_H = P_S$ and $P_{HT} = \\frac{1}{2} P_S$ into $P_H = \\frac{1}{2} P_{HH} + \\frac{1}{2} P_{HT}$:\n",
       "$P_S = \\frac{1}{2} P_{HH} + \\frac{1}{2} (\\frac{1}{2} P_S) = \\frac{1}{2} P_{HH} + \\frac{1}{4} P_S$\n",
       "$\\frac{3}{4} P_S = \\frac{1}{2} P_{HH}$\n",
       "$P_{HH} = \\frac{3}{2} P_S$\n",
       "\n",
       "Substitute $P_{HT} = \\frac{1}{2} P_S$ into $P_{HH} = \\frac{1}{2} + \\frac{1}{2} P_{HT}$:\n",
       "$P_{HH} = \\frac{1}{2} + \\frac{1}{2} (\\frac{1}{2} P_S) = \\frac{1}{2} + \\frac{1}{4} P_S$\n",
       "\n",
       "Now we have two equations for $P_{HH}$:\n",
       "$P_{HH} = \\frac{3}{2} P_S$\n",
       "$P_{HH} = \\frac{1}{2} + \\frac{1}{4} P_S$\n",
       "Equate them:\n",
       "$\\frac{3}{2} P_S = \\frac{1}{2} + \\frac{1}{4} P_S$\n",
       "Multiply by 4: $6 P_S = 2 + P_S$\n",
       "$5 P_S = 2$\n",
       "$P_S = \\frac{2}{5}$\n",
       "\n",
       "So, $P(HHH \\text{ first}) = P_S = \\frac{2}{5}$.\n",
       "$P(HTH \\text{ first}) = 1 - P(HHH \\text{ first}) = 1 - \\frac{2}{5} = \\frac{3}{5}$.\n",
       "Since $P(HTH \\text{ first}) = \\frac{3}{5} > \\frac{2}{5} = P(HHH \\text{ first})$, it is more likely to get HTH first.\n",
       "\n",
       "Final Answer: The final answer is $\\boxed{HTH}$"
      ],
      "text/plain": [
       "<IPython.core.display.Markdown object>"
      ]
     },
     "metadata": {},
     "output_type": "display_data"
    }
   ],
   "source": [
    "response = client.models.generate_content(\n",
    "    model=MODEL_ID,\n",
    "    contents=\"You repeatedly flipped a coin until you either flip three heads, or heads tails heads. Which is more likely to happen first?\",\n",
    "    config=config,\n",
    ")\n",
    "\n",
    "print_thoughts(response)"
   ]
  },
  {
   "cell_type": "markdown",
   "metadata": {
    "id": "m9RG4DRCm1vY"
   },
   "source": [
    "### **Example 6**:  Brain teaser with a twist\n",
    "\n",
    "Here's another brain teaser based on an image, this time it looks like a mathematical problem, but it cannot actually be solved mathematically. If you check the thoughts of the model you'll see that it will realize it and come up with an out-of-the-box solution."
   ]
  },
  {
   "cell_type": "code",
   "execution_count": 18,
   "metadata": {
    "id": "b26b9ebd2d5d",
    "tags": []
   },
   "outputs": [
    {
     "data": {
      "text/html": [
       "<img src=\"https://storage.googleapis.com/generativeai-downloads/images/pool.png\" width=\"400\"/>"
      ],
      "text/plain": [
       "<IPython.core.display.Image object>"
      ]
     },
     "metadata": {},
     "output_type": "display_data"
    }
   ],
   "source": [
    "image_file_path = \"generativeai-downloads/images/pool.png\"\n",
    "image_file_uri = f\"gs://{image_file_path}\"\n",
    "image_file_url = f\"https://storage.googleapis.com/{image_file_path}\"\n",
    "\n",
    "display(Image(url=image_file_url, width=400))"
   ]
  },
  {
   "cell_type": "code",
   "execution_count": 19,
   "metadata": {
    "id": "A0_4uP5Wm6yx",
    "tags": []
   },
   "outputs": [
    {
     "data": {
      "text/markdown": [
       "## Answer:\n",
       "Unfortunately, with standard addition using the numbers shown on the pool balls (7, 9, 11, and 13), it is **impossible** to sum any three of them to exactly 30.\n",
       "\n",
       "Here's why:\n",
       "\n",
       "* **Odd Numbers:** All the numbers on the balls (7, 9, 11, 13) are odd numbers.\n",
       "* **Sum of Odd Numbers:** When you add three odd numbers together, the result will always be an odd number.\n",
       "* **Even Target:** The number 30 is an even number.\n",
       "\n",
       "Since you can only get an odd number by adding three of these pool ball numbers, and you need to reach an even number (30), it's mathematically impossible to solve this puzzle with simple addition.\n",
       "\n",
       "Perhaps this is a bit of a trick question designed to highlight this mathematical principle!"
      ],
      "text/plain": [
       "<IPython.core.display.Markdown object>"
      ]
     },
     "metadata": {},
     "output_type": "display_data"
    }
   ],
   "source": [
    "response = client.models.generate_content(\n",
    "    model=MODEL_ID,\n",
    "    contents=[\n",
    "        Part.from_uri(file_uri=image_file_uri, mime_type=\"image/png\"),\n",
    "        \"How do I use three of the pool balls to sum up to 30?\",\n",
    "    ],\n",
    "    config=config,\n",
    ")\n",
    "\n",
    "print_thoughts(response)"
   ]
  },
  {
   "cell_type": "markdown",
   "metadata": {
    "id": "lND4jB6MrsSk"
   },
   "source": [
    "## Next Steps\n",
    "\n",
    "- Explore the Vertex AI [Cookbook](https://cloud.google.com/vertex-ai/generative-ai/docs/cookbook) for a curated, searchable gallery of notebooks for Generative AI.\n",
    "- Explore other notebooks and samples in the [Google Cloud Generative AI repository](https://github.com/GoogleCloudPlatform/generative-ai)."
   ]
  }
 ],
 "metadata": {
  "colab": {
   "name": "intro_gemini_2_0_flash_thinking_mode.ipynb",
   "toc_visible": true
  },
  "environment": {
   "kernel": "conda-base-py",
   "name": "workbench-notebooks.m128",
   "type": "gcloud",
   "uri": "us-docker.pkg.dev/deeplearning-platform-release/gcr.io/workbench-notebooks:m128"
  },
  "kernelspec": {
   "display_name": "Python 3 (ipykernel) (Local)",
   "language": "python",
   "name": "conda-base-py"
  },
  "language_info": {
   "codemirror_mode": {
    "name": "ipython",
    "version": 3
   },
   "file_extension": ".py",
   "mimetype": "text/x-python",
   "name": "python",
   "nbconvert_exporter": "python",
   "pygments_lexer": "ipython3",
   "version": "3.10.16"
  }
 },
 "nbformat": 4,
 "nbformat_minor": 4
}
