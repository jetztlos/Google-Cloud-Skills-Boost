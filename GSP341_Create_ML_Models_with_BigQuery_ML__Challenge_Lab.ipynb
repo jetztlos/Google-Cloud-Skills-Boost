{
  "nbformat": 4,
  "nbformat_minor": 0,
  "metadata": {
    "colab": {
      "provenance": [],
      "toc_visible": true
    },
    "kernelspec": {
      "name": "python3",
      "display_name": "Python 3"
    },
    "language_info": {
      "name": "python"
    }
  },
  "cells": [
    {
      "cell_type": "markdown",
      "source": [
        "##Task 1. Create a new dataset"
      ],
      "metadata": {
        "id": "hltp8Tvv72FS"
      }
    },
    {
      "cell_type": "markdown",
      "source": [
        "* Open BigQuery\n",
        "* Create dataset `bq_dataset`\n"
      ],
      "metadata": {
        "id": "mpAMgHNe74fC"
      }
    },
    {
      "cell_type": "markdown",
      "source": [
        "##Task 2. Evaluate classification model performance"
      ],
      "metadata": {
        "id": "H_5EbDqZ8YSZ"
      }
    },
    {
      "cell_type": "markdown",
      "source": [
        "For this task you have precreated dataset `ecommerce` which contains a pretrained BigQuery ML model `customer_classification_model`.\n",
        "The below query is used to create the `customer_classification_model`:"
      ],
      "metadata": {
        "id": "lhZDea0G80fG"
      }
    },
    {
      "cell_type": "code",
      "execution_count": null,
      "metadata": {
        "id": "x5hWbnzs7bbJ"
      },
      "outputs": [],
      "source": [
        "CREATE OR REPLACE MODEL `ecommerce.customer_classification_model`\n",
        "OPTIONS\n",
        "(\n",
        "model_type='logistic_reg',\n",
        "labels = ['will_buy_on_return_visit']\n",
        ")\n",
        "AS\n",
        "#standardSQL\n",
        "SELECT\n",
        "* EXCEPT(fullVisitorId)\n",
        "FROM\n",
        "# features\n",
        "(SELECT\n",
        "fullVisitorId,\n",
        "IFNULL(totals.bounces, 0) AS bounces,\n",
        "IFNULL(totals.timeOnSite, 0) AS time_on_site\n",
        "FROM `data-to-insights.ecommerce.web_analytics`\n",
        "WHERE totals.newVisits = 1\n",
        "AND date BETWEEN '20160801' AND '20170430') # train on first 9 months\n",
        "JOIN\n",
        "(SELECT\n",
        "fullvisitorid,\n",
        "IF(COUNTIF(totals.transactions > 0 AND totals.newVisits IS NULL) > 0, 1, 0) AS will_buy_on_return_visit\n",
        "FROM `data-to-insights.ecommerce.web_analytics`\n",
        "GROUP BY fullvisitorid)\n",
        "USING (fullVisitorId)\n",
        ";"
      ]
    },
    {
      "cell_type": "markdown",
      "source": [
        "You have to evaluate the performance of the model against new unseen evaluation data.\n",
        "In BigQuery ML, roc_auc is simply a queryable field when evaluating your trained ML model. So run the query to evaluate how well the model performs using `ML.EVALUATE`.\n",
        "After evaluating your model observe the predictive power of this model.\n"
      ],
      "metadata": {
        "id": "tH3PZh0f9FKN"
      }
    },
    {
      "cell_type": "code",
      "source": [
        "SELECT\n",
        "  roc_auc,\n",
        "  CASE\n",
        "    WHEN roc_auc > .9 THEN 'good'\n",
        "    WHEN roc_auc > .8 THEN 'fair'\n",
        "    WHEN roc_auc > .7 THEN 'decent'\n",
        "    WHEN roc_auc > .6 THEN 'not great'\n",
        "  ELSE 'poor' END AS model_quality\n",
        "FROM\n",
        "  ML.EVALUATE(MODEL ecommerce.customer_classification_model,  (\n",
        "\n",
        "SELECT\n",
        "  * EXCEPT(fullVisitorId)\n",
        "FROM\n",
        "  # features\n",
        "  (SELECT\n",
        "    fullVisitorId,\n",
        "    IFNULL(totals.bounces, 0) AS bounces,\n",
        "    IFNULL(totals.timeOnSite, 0) AS time_on_site\n",
        "  FROM `data-to-insights.ecommerce.web_analytics`\n",
        "  WHERE\n",
        "    totals.newVisits = 1\n",
        "    AND date BETWEEN '20170501' AND '20170630') # eval on 2 months\n",
        "  JOIN\n",
        "  (SELECT\n",
        "    fullvisitorid,\n",
        "    IF(COUNTIF(totals.transactions > 0 AND totals.newVisits IS NULL) > 0, 1, 0) AS will_buy_on_return_visit\n",
        "  FROM `data-to-insights.ecommerce.web_analytics`\n",
        "  GROUP BY fullvisitorid)\n",
        "  USING (fullVisitorId)\n",
        "));"
      ],
      "metadata": {
        "id": "lgRbjjPr9M5T"
      },
      "execution_count": null,
      "outputs": []
    },
    {
      "cell_type": "markdown",
      "source": [
        "##Task 3. Improve model performance with Feature Engineering and Evaluate the model to see if there is better predictive power\n"
      ],
      "metadata": {
        "id": "EaW2eUe89ROZ"
      }
    },
    {
      "cell_type": "markdown",
      "source": [
        "For this task you have precreated dataset `ecommerce` which contains a pretrained BigQuery ML model `customer_classification_model`, but there are many more features in the dataset that may help the model better understand the relationship between a visitor's first session and the likelihood that they will purchase on a subsequent visit.\n",
        "\n",
        "Now add some new features and create a second machine learning model called `improved_customer_classification_model`.\n",
        "*\tHow far the visitor got in the checkout process on their first visit\n",
        "*\tWhere the visitor came from (traffic source: organic search, referring site etc..)\n",
        "*\tDevice category (mobile, tablet, desktop)\n",
        "*\tGeographic information (country)\n"
      ],
      "metadata": {
        "id": "5E2it_Fn9gRf"
      }
    },
    {
      "cell_type": "code",
      "source": [
        "CREATE OR REPLACE MODEL `ecommerce.improved_customer_classification_model`\n",
        "OPTIONS\n",
        "  (model_type='logistic_reg', input_label_cols = ['will_buy_on_return_visit']) AS\n",
        "\n",
        "WITH all_visitor_stats AS (\n",
        "SELECT\n",
        "  fullvisitorid,\n",
        "  IF(COUNTIF(totals.transactions > 0 AND totals.newVisits IS NULL) > 0, 1, 0) AS will_buy_on_return_visit\n",
        "  FROM `data-to-insights.ecommerce.web_analytics`\n",
        "  GROUP BY fullvisitorid\n",
        ")\n",
        "\n",
        "# add in new features\n",
        "SELECT * EXCEPT(unique_session_id) FROM (\n",
        "\n",
        "  SELECT\n",
        "      CONCAT(fullvisitorid, CAST(visitId AS STRING)) AS unique_session_id,\n",
        "\n",
        "      # input_label_cols\n",
        "      will_buy_on_return_visit,\n",
        "\n",
        "      MAX(CAST(h.eCommerceAction.action_type AS INT64)) AS latest_ecommerce_progress,\n",
        "\n",
        "      # behavior on the site\n",
        "      IFNULL(totals.bounces, 0) AS bounces,\n",
        "      IFNULL(totals.timeOnSite, 0) AS time_on_site,\n",
        "      IFNULL(totals.pageviews, 0) AS pageviews,\n",
        "\n",
        "      # where the visitor came from\n",
        "      trafficSource.source,\n",
        "      trafficSource.medium,\n",
        "      channelGrouping,\n",
        "\n",
        "      # mobile or desktop\n",
        "      device.deviceCategory,\n",
        "\n",
        "      # geographic\n",
        "      IFNULL(geoNetwork.country, \"\") AS country\n",
        "\n",
        "  FROM `data-to-insights.ecommerce.web_analytics`,\n",
        "     UNNEST(hits) AS h\n",
        "\n",
        "    JOIN all_visitor_stats USING(fullvisitorid)\n",
        "\n",
        "  WHERE 1=1\n",
        "    # only predict for new visits\n",
        "    AND totals.newVisits = 1\n",
        "    AND date BETWEEN '20160801' AND '20170430' # train 9 months\n",
        "\n",
        "  GROUP BY\n",
        "  unique_session_id,\n",
        "  will_buy_on_return_visit,\n",
        "  bounces,\n",
        "  time_on_site,\n",
        "  totals.pageviews,\n",
        "  trafficSource.source,\n",
        "  trafficSource.medium,\n",
        "  channelGrouping,\n",
        "  device.deviceCategory,\n",
        "  country\n",
        ");"
      ],
      "metadata": {
        "id": "9piJre1l9gvb"
      },
      "execution_count": null,
      "outputs": []
    },
    {
      "cell_type": "markdown",
      "source": [
        "Now, evaluate the newly created model `improved_customer_classification_model` to see if there is better predictive power then `customer_classification_model`:"
      ],
      "metadata": {
        "id": "PNWukiId9imB"
      }
    },
    {
      "cell_type": "code",
      "source": [
        "#standardSQL\n",
        "SELECT\n",
        "  roc_auc,\n",
        "  CASE\n",
        "    WHEN roc_auc > .9 THEN 'good'\n",
        "    WHEN roc_auc > .8 THEN 'fair'\n",
        "    WHEN roc_auc > .7 THEN 'decent'\n",
        "    WHEN roc_auc > .6 THEN 'not great'\n",
        "  ELSE 'poor' END AS model_quality\n",
        "FROM\n",
        "  ML.EVALUATE(MODEL ecommerce.improved_customer_classification_model,  (\n",
        "\n",
        "WITH all_visitor_stats AS (\n",
        "SELECT\n",
        "  fullvisitorid,\n",
        "  IF(COUNTIF(totals.transactions > 0 AND totals.newVisits IS NULL) > 0, 1, 0) AS will_buy_on_return_visit\n",
        "  FROM `data-to-insights.ecommerce.web_analytics`\n",
        "  GROUP BY fullvisitorid\n",
        ")\n",
        "\n",
        "# add in new features\n",
        "SELECT * EXCEPT(unique_session_id) FROM (\n",
        "\n",
        "  SELECT\n",
        "      CONCAT(fullvisitorid, CAST(visitId AS STRING)) AS unique_session_id,\n",
        "\n",
        "      # input_label_cols\n",
        "      will_buy_on_return_visit,\n",
        "\n",
        "      MAX(CAST(h.eCommerceAction.action_type AS INT64)) AS latest_ecommerce_progress,\n",
        "\n",
        "      # behavior on the site\n",
        "      IFNULL(totals.bounces, 0) AS bounces,\n",
        "      IFNULL(totals.timeOnSite, 0) AS time_on_site,\n",
        "      totals.pageviews,\n",
        "\n",
        "      # where the visitor came from\n",
        "      trafficSource.source,\n",
        "      trafficSource.medium,\n",
        "      channelGrouping,\n",
        "\n",
        "      # mobile or desktop\n",
        "      device.deviceCategory,\n",
        "\n",
        "      # geographic\n",
        "      IFNULL(geoNetwork.country, \"\") AS country\n",
        "\n",
        "  FROM `data-to-insights.ecommerce.web_analytics`,\n",
        "     UNNEST(hits) AS h\n",
        "\n",
        "    JOIN all_visitor_stats USING(fullvisitorid)\n",
        "\n",
        "  WHERE 1=1\n",
        "    # only predict for new visits\n",
        "    AND totals.newVisits = 1\n",
        "    AND date BETWEEN '20170501' AND '20170630' # eval 2 months\n",
        "\n",
        "  GROUP BY\n",
        "  unique_session_id,\n",
        "  will_buy_on_return_visit,\n",
        "  bounces,\n",
        "  time_on_site,\n",
        "  totals.pageviews,\n",
        "  trafficSource.source,\n",
        "  trafficSource.medium,\n",
        "  channelGrouping,\n",
        "  device.deviceCategory,\n",
        "  country\n",
        ")\n",
        "));"
      ],
      "metadata": {
        "id": "cDYnxjOx9l8_"
      },
      "execution_count": null,
      "outputs": []
    },
    {
      "cell_type": "markdown",
      "source": [
        "##Task 4. Predict which new visitors will come back and purchase\n"
      ],
      "metadata": {
        "id": "krO5KM3D-QRt"
      }
    },
    {
      "cell_type": "markdown",
      "source": [
        "For this task you have precreated dataset ecommerce which contains a pretrained BigQuery ML model `finalized_classification_model`.\n",
        "1.\tWrite a query to predict which new visitors will come back and make a purchase.\n",
        "2.\tThe query will uses the `finalized_classification_model` model to predict the probability that a first-time visitor to the Google Merchandise Store will make a purchase in a later visit\n",
        "3.\tYou have to make the predictions in the last 1 month (out of 12 months) of the dataset.\n"
      ],
      "metadata": {
        "id": "-uVQ247Q-SN4"
      }
    },
    {
      "cell_type": "code",
      "source": [
        "SELECT\n",
        "*\n",
        "FROM\n",
        "  ml.PREDICT(MODEL `ecommerce.finalized_classification_model`,\n",
        "   (\n",
        "\n",
        "WITH all_visitor_stats AS (\n",
        "SELECT\n",
        "  fullvisitorid,\n",
        "  IF(COUNTIF(totals.transactions > 0 AND totals.newVisits IS NULL) > 0, 1, 0) AS will_buy_on_return_visit\n",
        "  FROM `data-to-insights.ecommerce.web_analytics`\n",
        "  GROUP BY fullvisitorid\n",
        ")\n",
        "\n",
        "  SELECT\n",
        "      CONCAT(fullvisitorid, '-',CAST(visitId AS STRING)) AS unique_session_id,\n",
        "\n",
        "      # input_label_cols\n",
        "      will_buy_on_return_visit,\n",
        "\n",
        "      MAX(CAST(h.eCommerceAction.action_type AS INT64)) AS latest_ecommerce_progress,\n",
        "\n",
        "      # behavior on the site\n",
        "      IFNULL(totals.bounces, 0) AS bounces,\n",
        "      IFNULL(totals.timeOnSite, 0) AS time_on_site,\n",
        "      totals.pageviews,\n",
        "\n",
        "      # where the visitor came from\n",
        "      trafficSource.source,\n",
        "      trafficSource.medium,\n",
        "      channelGrouping,\n",
        "\n",
        "      # mobile or desktop\n",
        "      device.deviceCategory,\n",
        "\n",
        "      # geographic\n",
        "      IFNULL(geoNetwork.country, \"\") AS country\n",
        "\n",
        "  FROM `data-to-insights.ecommerce.web_analytics`,\n",
        "     UNNEST(hits) AS h\n",
        "\n",
        "    JOIN all_visitor_stats USING(fullvisitorid)\n",
        "\n",
        "  WHERE\n",
        "    # only predict for new visits\n",
        "    totals.newVisits = 1\n",
        "    AND date BETWEEN '20170701' AND '20170801' # test 1 month\n",
        "\n",
        "  GROUP BY\n",
        "  unique_session_id,\n",
        "  will_buy_on_return_visit,\n",
        "  bounces,\n",
        "  time_on_site,\n",
        "  totals.pageviews,\n",
        "  trafficSource.source,\n",
        "  trafficSource.medium,\n",
        "  channelGrouping,\n",
        "  device.deviceCategory,\n",
        "  country\n",
        ")\n",
        "\n",
        ")\n",
        "\n",
        "ORDER BY\n",
        "  predicted_will_buy_on_return_visit DESC;"
      ],
      "metadata": {
        "id": "GEqQsi2T-cqT"
      },
      "execution_count": null,
      "outputs": []
    },
    {
      "cell_type": "markdown",
      "source": [
        "Tada :)!!"
      ],
      "metadata": {
        "id": "24u5-DXP-g5b"
      }
    }
  ]
}