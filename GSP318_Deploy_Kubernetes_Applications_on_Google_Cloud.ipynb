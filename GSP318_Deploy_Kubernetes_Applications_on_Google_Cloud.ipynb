{
  "nbformat": 4,
  "nbformat_minor": 0,
  "metadata": {
    "colab": {
      "provenance": [],
      "toc_visible": true
    },
    "kernelspec": {
      "name": "python3",
      "display_name": "Python 3"
    },
    "language_info": {
      "name": "python"
    }
  },
  "cells": [
    {
      "cell_type": "code",
      "execution_count": null,
      "metadata": {
        "id": "RZby3yCibkR8"
      },
      "outputs": [],
      "source": [
        "# Cloud Shell\n",
        "gcloud auth list"
      ]
    },
    {
      "cell_type": "code",
      "source": [
        "export REPO=valkyrie-docker\n",
        "export DCKR_IMG=valkyrie-dev\n",
        "export TAG=valkyrie-dev"
      ],
      "metadata": {
        "id": "fKYhIRaEtehW"
      },
      "execution_count": null,
      "outputs": []
    },
    {
      "cell_type": "code",
      "source": [
        "export REGION=us-east1\n",
        "export ZONE=us-east1-c"
      ],
      "metadata": {
        "id": "E7GHep9lsngS"
      },
      "execution_count": null,
      "outputs": []
    },
    {
      "cell_type": "markdown",
      "source": [
        "##Task 1. Create a Docker image and store the Dockerfile"
      ],
      "metadata": {
        "id": "wl4a65d2szTr"
      }
    },
    {
      "cell_type": "code",
      "source": [
        "# Sourcing setup script\n",
        "source <(gsutil cat gs://cloud-training/gsp318/marking/setup_marking_v2.sh)"
      ],
      "metadata": {
        "id": "uC6RuvCDdZmF"
      },
      "execution_count": null,
      "outputs": []
    },
    {
      "cell_type": "code",
      "source": [
        "# Downloading and extracting application\n",
        "gsutil cp gs://spls/gsp318/valkyrie-app.tgz .\n",
        "tar -xzf valkyrie-app.tgz\n",
        "cd valkyrie-app"
      ],
      "metadata": {
        "id": "5R186GwWsnp2"
      },
      "execution_count": null,
      "outputs": []
    },
    {
      "cell_type": "code",
      "source": [
        "# Creating Dockerfile\n",
        "cat > Dockerfile <<EOF\n",
        "FROM golang:1.10\n",
        "WORKDIR /go/src/app\n",
        "COPY source .\n",
        "RUN go install -v\n",
        "ENTRYPOINT [\"app\",\"-single=true\",\"-port=8080\"]\n",
        "EOF"
      ],
      "metadata": {
        "id": "H6E3QeOptIy3"
      },
      "execution_count": null,
      "outputs": []
    },
    {
      "cell_type": "code",
      "source": [
        "# Building Docker image\n",
        "docker build -t $DCKR_IMG:$TAG ."
      ],
      "metadata": {
        "id": "8nMm3NsMu0w-"
      },
      "execution_count": null,
      "outputs": []
    },
    {
      "cell_type": "code",
      "source": [
        "# Executing Step 1 script\n",
        "cd ..\n",
        "bash ~/marking/step1_v2.sh"
      ],
      "metadata": {
        "id": "islsXvTMsnmn"
      },
      "execution_count": null,
      "outputs": []
    },
    {
      "cell_type": "markdown",
      "source": [
        "##Task 2. Test the created Docker image"
      ],
      "metadata": {
        "id": "C8wu6dvys0rV"
      }
    },
    {
      "cell_type": "code",
      "source": [
        "# Running Docker container\n",
        "cd valkyrie-app\n",
        "docker run -d -p 8080:8080 $DCKR_IMG:$TAG"
      ],
      "metadata": {
        "id": "m0jpiWtAvWMw"
      },
      "execution_count": null,
      "outputs": []
    },
    {
      "cell_type": "code",
      "source": [
        "# Executing Step 2 script\n",
        "cd ..\n",
        "bash ~/marking/step2_v2.sh"
      ],
      "metadata": {
        "id": "otGQWGVRvWJG"
      },
      "execution_count": null,
      "outputs": []
    },
    {
      "cell_type": "markdown",
      "source": [
        "##Task 3. Push the Docker image to the Artifact Registry\n"
      ],
      "metadata": {
        "id": "1TlKuBYMs4D6"
      }
    },
    {
      "cell_type": "code",
      "source": [
        "cd valkyrie-app"
      ],
      "metadata": {
        "id": "sC75YBcJvWFx"
      },
      "execution_count": null,
      "outputs": []
    },
    {
      "cell_type": "code",
      "source": [
        "# Creating Artifact Repository\n",
        "gcloud artifacts repositories create $REPO \\\n",
        "    --repository-format=docker \\\n",
        "    --location=$REGION \\\n",
        "    --description=\"awesome lab\" \\\n",
        "    --async"
      ],
      "metadata": {
        "id": "V2sPxdLtv4TT"
      },
      "execution_count": null,
      "outputs": []
    },
    {
      "cell_type": "code",
      "source": [
        "# Configuring Docker authentication\n",
        "gcloud auth configure-docker $REGION-docker.pkg.dev --quiet"
      ],
      "metadata": {
        "id": "K4vdVMeIv4Pv"
      },
      "execution_count": null,
      "outputs": []
    },
    {
      "cell_type": "code",
      "source": [
        "# Tagging and pushing Docker image\n",
        "# Re-tag, the format should resemble the following: LOCATION-docker.pkg.dev/PROJECT-ID/REPOSITORY/IMAGE\n",
        "Image_ID=$(docker images --format='{{.ID}}')"
      ],
      "metadata": {
        "id": "KDIGiSbavWD6"
      },
      "execution_count": null,
      "outputs": []
    },
    {
      "cell_type": "code",
      "source": [
        "docker tag $Image_ID $REGION-docker.pkg.dev/$DEVSHELL_PROJECT_ID/$REPO/$DCKR_IMG:$TAG"
      ],
      "metadata": {
        "id": "9mJNVIGrvWCU"
      },
      "execution_count": null,
      "outputs": []
    },
    {
      "cell_type": "code",
      "source": [
        "docker push $REGION-docker.pkg.dev/$DEVSHELL_PROJECT_ID/$REPO/$DCKR_IMG:$TAG"
      ],
      "metadata": {
        "id": "PIcpPOlcvV-z"
      },
      "execution_count": null,
      "outputs": []
    },
    {
      "cell_type": "markdown",
      "source": [
        "##Task 4. Create and expose a deployment in Kubernetes"
      ],
      "metadata": {
        "id": "eCjE-B6ts9Dr"
      }
    },
    {
      "cell_type": "code",
      "source": [
        "# Updating Kubernetes deployment\n",
        "sed -i s#IMAGE_HERE#$REGION-docker.pkg.dev/$DEVSHELL_PROJECT_ID/$REPO/$DCKR_IMG:$TAG#g k8s/deployment.yaml"
      ],
      "metadata": {
        "id": "ixjnS75AwZLJ"
      },
      "execution_count": null,
      "outputs": []
    },
    {
      "cell_type": "code",
      "source": [
        "# Configuring Kubernetes cluster\n",
        "gcloud container clusters get-credentials valkyrie-dev --zone $ZONE"
      ],
      "metadata": {
        "id": "hPAYE9NMwZH4"
      },
      "execution_count": null,
      "outputs": []
    },
    {
      "cell_type": "code",
      "source": [
        "# Deploying application to Kubernetes\n",
        "kubectl create -f k8s/deployment.yaml\n",
        "kubectl create -f k8s/service.yaml"
      ],
      "metadata": {
        "id": "9dcfpITSwZF5"
      },
      "execution_count": null,
      "outputs": []
    },
    {
      "cell_type": "code",
      "source": [],
      "metadata": {
        "id": "DK2qhYuwwZDm"
      },
      "execution_count": null,
      "outputs": []
    },
    {
      "cell_type": "code",
      "source": [],
      "metadata": {
        "id": "livxB7cPwZBs"
      },
      "execution_count": null,
      "outputs": []
    },
    {
      "cell_type": "code",
      "source": [],
      "metadata": {
        "id": "iRT6Iw2-snRU"
      },
      "execution_count": null,
      "outputs": []
    },
    {
      "cell_type": "code",
      "source": [],
      "metadata": {
        "id": "jDXic-oHsmti"
      },
      "execution_count": null,
      "outputs": []
    }
  ]
}