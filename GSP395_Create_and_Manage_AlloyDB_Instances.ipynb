{
  "nbformat": 4,
  "nbformat_minor": 0,
  "metadata": {
    "colab": {
      "provenance": [],
      "toc_visible": true
    },
    "kernelspec": {
      "name": "python3",
      "display_name": "Python 3"
    },
    "language_info": {
      "name": "python"
    }
  },
  "cells": [
    {
      "cell_type": "code",
      "source": [
        "export ZONE=us-central1-c\n",
        "export REGION=\"${ZONE%-*}\""
      ],
      "metadata": {
        "id": "cMIPanwS-XQO"
      },
      "execution_count": null,
      "outputs": []
    },
    {
      "cell_type": "markdown",
      "source": [
        "##Task 1. Create a cluster and instance"
      ],
      "metadata": {
        "id": "U8fupECy-OBx"
      }
    },
    {
      "cell_type": "code",
      "source": [
        "gcloud beta alloydb clusters create lab-cluster \\\n",
        "    --password=Change3Me \\\n",
        "    --network=peering-network \\\n",
        "    --region=$REGION \\\n",
        "    --project=$DEVSHELL_PROJECT_ID"
      ],
      "metadata": {
        "id": "gx1cQIA2-WcY"
      },
      "execution_count": null,
      "outputs": []
    },
    {
      "cell_type": "code",
      "source": [
        "gcloud beta alloydb instances create lab-instance \\\n",
        "    --instance-type=PRIMARY \\\n",
        "    --cpu-count=2 \\\n",
        "    --region=$REGION  \\\n",
        "    --cluster=lab-cluster \\\n",
        "    --project=$DEVSHELL_PROJECT_ID"
      ],
      "metadata": {
        "id": "tzF2KfcP_EAP"
      },
      "execution_count": null,
      "outputs": []
    },
    {
      "cell_type": "markdown",
      "source": [
        "##Task 2. Create tables in your instance"
      ],
      "metadata": {
        "id": "ruZHhA2G-Xxf"
      }
    },
    {
      "cell_type": "code",
      "source": [
        "export ALLOYDB=10.120.0.2"
      ],
      "metadata": {
        "id": "_jOLzBfm_6Zw"
      },
      "execution_count": null,
      "outputs": []
    },
    {
      "cell_type": "code",
      "source": [
        "echo $ALLOYDB  > alloydbip.txt"
      ],
      "metadata": {
        "id": "B1drEncnHzb-"
      },
      "execution_count": null,
      "outputs": []
    },
    {
      "cell_type": "code",
      "source": [
        "psql -h $ALLOYDB -U postgres"
      ],
      "metadata": {
        "id": "tW9irXNkAMr3"
      },
      "execution_count": null,
      "outputs": []
    },
    {
      "cell_type": "code",
      "source": [
        "Change3Me"
      ],
      "metadata": {
        "id": "v6C64xoqAQhM"
      },
      "execution_count": null,
      "outputs": []
    },
    {
      "cell_type": "code",
      "source": [
        "CREATE TABLE regions (\n",
        "    region_id bigint NOT NULL,\n",
        "    region_name varchar(25)\n",
        ") ;\n",
        "ALTER TABLE regions ADD PRIMARY KEY (region_id);"
      ],
      "metadata": {
        "id": "W-1QOZopAUvG"
      },
      "execution_count": null,
      "outputs": []
    },
    {
      "cell_type": "code",
      "source": [
        "CREATE TABLE countries (\n",
        "    country_id char(2) NOT NULL,\n",
        "    country_name varchar(40),\n",
        "    region_id bigint\n",
        ") ;\n",
        "ALTER TABLE countries ADD PRIMARY KEY (country_id);"
      ],
      "metadata": {
        "id": "_mn4bXRUAXk9"
      },
      "execution_count": null,
      "outputs": []
    },
    {
      "cell_type": "code",
      "source": [
        "CREATE TABLE departments (\n",
        "    department_id smallint NOT NULL,\n",
        "    department_name varchar(30),\n",
        "    manager_id integer,\n",
        "    location_id smallint\n",
        ") ;\n",
        "ALTER TABLE departments ADD PRIMARY KEY (department_id);"
      ],
      "metadata": {
        "id": "nRzGLymSAYK_"
      },
      "execution_count": null,
      "outputs": []
    },
    {
      "cell_type": "markdown",
      "source": [
        "##Task 3. Load simple datasets into tables"
      ],
      "metadata": {
        "id": "c1DSDbMX-ebs"
      }
    },
    {
      "cell_type": "code",
      "source": [
        "INSERT INTO regions VALUES ( 1, 'Europe' );\n",
        "INSERT INTO regions VALUES ( 2, 'Americas' );\n",
        "INSERT INTO regions VALUES ( 3, 'Asia' );\n",
        "INSERT INTO regions VALUES ( 4, 'Middle East and Africa' );"
      ],
      "metadata": {
        "id": "Ephgz7b0AarL"
      },
      "execution_count": null,
      "outputs": []
    },
    {
      "cell_type": "code",
      "source": [
        "INSERT INTO countries VALUES ('IT', 'Italy', 1 );\n",
        "INSERT INTO countries VALUES ('JP', 'Japan', 3  );\n",
        "INSERT INTO countries VALUES ('US', 'United States of America', 2  );\n",
        "INSERT INTO countries VALUES ('CA', 'Canada', 2  );\n",
        "INSERT INTO countries VALUES ('CN', 'China', 3  );\n",
        "INSERT INTO countries VALUES ('IN', 'India', 3 );\n",
        "INSERT INTO countries VALUES ('AU', 'Australia', 3  );\n",
        "INSERT INTO countries VALUES ('ZW', 'Zimbabwe', 4  );\n",
        "INSERT INTO countries VALUES ('SG', 'Singapore', 3 );"
      ],
      "metadata": {
        "id": "iEC1ioZv-eAZ"
      },
      "execution_count": null,
      "outputs": []
    },
    {
      "cell_type": "code",
      "source": [
        "INSERT INTO departments VALUES (10, 'Administration', 200, 1700 );\n",
        "INSERT INTO departments VALUES (20, 'Marketing', 201, 1800);\n",
        "INSERT INTO departments VALUES (30, 'Purchasing', 114, 1700 );\n",
        "INSERT INTO departments VALUES (40, 'Human Resources', 203, 2400);\n",
        "INSERT INTO departments VALUES (50, 'Shipping', 121, 1500);\n",
        "INSERT INTO departments VALUES (60, 'IT', 103, 1400);"
      ],
      "metadata": {
        "id": "gqVFJDp0Af7N"
      },
      "execution_count": null,
      "outputs": []
    },
    {
      "cell_type": "markdown",
      "source": [
        "##Task 4. Create a Read Pool instance"
      ],
      "metadata": {
        "id": "BgpC7DlF-i8k"
      }
    },
    {
      "cell_type": "code",
      "source": [
        "gcloud alloydb instances create lab-instance-rp1 \\\n",
        "  --cluster=lab-cluster \\\n",
        "  --region=$REGION \\\n",
        "  --instance-type=READ_POOL \\\n",
        "  --cpu-count=2 \\\n",
        "  --read-pool-node-count=2"
      ],
      "metadata": {
        "id": "UEDS3n8_-eDv"
      },
      "execution_count": null,
      "outputs": []
    },
    {
      "cell_type": "markdown",
      "source": [
        "##Task 5. Create a backup"
      ],
      "metadata": {
        "id": "vJ1HIsCM-n8m"
      }
    },
    {
      "cell_type": "code",
      "source": [
        "gcloud beta alloydb backups create lab-backup --region=$REGION  --cluster=lab-cluster"
      ],
      "metadata": {
        "id": "X8lEzOMz-de8"
      },
      "execution_count": null,
      "outputs": []
    },
    {
      "cell_type": "code",
      "source": [
        "gcloud compute ssh alloydb-client --project=$DEVSHELL_PROJECT_ID --zone=$ZONE --quiet"
      ],
      "metadata": {
        "id": "vj0golDX_VXE"
      },
      "execution_count": null,
      "outputs": []
    },
    {
      "cell_type": "code",
      "execution_count": null,
      "metadata": {
        "id": "YVpeAcis-DT2"
      },
      "outputs": [],
      "source": []
    }
  ]
}