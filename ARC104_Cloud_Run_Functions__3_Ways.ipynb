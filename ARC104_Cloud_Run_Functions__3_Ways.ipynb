{
  "nbformat": 4,
  "nbformat_minor": 0,
  "metadata": {
    "colab": {
      "provenance": [],
      "toc_visible": true
    },
    "kernelspec": {
      "name": "python3",
      "display_name": "Python 3"
    },
    "language_info": {
      "name": "python"
    }
  },
  "cells": [
    {
      "cell_type": "code",
      "source": [
        "export HTTP_FUNCTION=http-messenger\n",
        "export FUNCTION_NAME=cs-monitor\n",
        "export REGION=europe-west1"
      ],
      "metadata": {
        "id": "tbfVYeAlnbHJ"
      },
      "execution_count": null,
      "outputs": []
    },
    {
      "cell_type": "code",
      "source": [
        "PROJECT_NUMBER=$(gcloud projects list --filter=\"project_id:$DEVSHELL_PROJECT_ID\" --format='value(project_number)')"
      ],
      "metadata": {
        "id": "DIafaX1xoNQd"
      },
      "execution_count": null,
      "outputs": []
    },
    {
      "cell_type": "code",
      "source": [
        "SERVICE_ACCOUNT=$(gsutil kms serviceaccount -p $PROJECT_NUMBER)"
      ],
      "metadata": {
        "id": "qOCbY32koQHs"
      },
      "execution_count": null,
      "outputs": []
    },
    {
      "cell_type": "code",
      "source": [
        "export BUCKET=\"gs://$DEVSHELL_PROJECT_ID\""
      ],
      "metadata": {
        "id": "exhEqOPDofsf"
      },
      "execution_count": null,
      "outputs": []
    },
    {
      "cell_type": "markdown",
      "source": [
        "##Task 1. Create a Cloud Storage bucket"
      ],
      "metadata": {
        "id": "_Bq7dn2_PQz4"
      }
    },
    {
      "cell_type": "code",
      "source": [
        "gcloud services enable \\\n",
        "  artifactregistry.googleapis.com \\\n",
        "  cloudfunctions.googleapis.com \\\n",
        "  cloudbuild.googleapis.com \\\n",
        "  eventarc.googleapis.com \\\n",
        "  run.googleapis.com \\\n",
        "  logging.googleapis.com \\\n",
        "  pubsub.googleapis.com"
      ],
      "metadata": {
        "id": "0qAARSGrncXT"
      },
      "execution_count": null,
      "outputs": []
    },
    {
      "cell_type": "code",
      "source": [
        "gcloud projects add-iam-policy-binding $DEVSHELL_PROJECT_ID \\\n",
        "  --member serviceAccount:$SERVICE_ACCOUNT \\\n",
        "  --role roles/pubsub.publisher"
      ],
      "metadata": {
        "id": "_jL9qmg2oU0D"
      },
      "execution_count": null,
      "outputs": []
    },
    {
      "cell_type": "code",
      "source": [
        "gsutil mb -l $REGION gs://$DEVSHELL_PROJECT_ID"
      ],
      "metadata": {
        "id": "DpkT74cFn-Ih"
      },
      "execution_count": null,
      "outputs": []
    },
    {
      "cell_type": "markdown",
      "source": [
        "##Task 2. Create, deploy, and test a Cloud Storage function"
      ],
      "metadata": {
        "id": "ngL4RcDgPWOv"
      }
    },
    {
      "cell_type": "code",
      "source": [
        "mkdir ~/$FUNCTION_NAME && cd $_\n",
        "touch index.js && touch package.json"
      ],
      "metadata": {
        "id": "YU-JghRjoqgF"
      },
      "execution_count": null,
      "outputs": []
    },
    {
      "cell_type": "code",
      "source": [
        "cat > index.js <<EOF\n",
        "const functions = require('@google-cloud/functions-framework');\n",
        "functions.cloudEvent('$FUNCTION_NAME', (cloudevent) => {\n",
        "  console.log('A new event in your Cloud Storage bucket has been logged!');\n",
        "  console.log(cloudevent);\n",
        "});\n",
        "EOF"
      ],
      "metadata": {
        "id": "sNY3-nAqPVbU"
      },
      "execution_count": null,
      "outputs": []
    },
    {
      "cell_type": "code",
      "source": [
        "cat > package.json <<EOF\n",
        "{\n",
        "  \"name\": \"nodejs-functions-gen2-codelab\",\n",
        "  \"version\": \"0.0.1\",\n",
        "  \"main\": \"index.js\",\n",
        "  \"dependencies\": {\n",
        "    \"@google-cloud/functions-framework\": \"^2.0.0\"\n",
        "  }\n",
        "}\n",
        "EOF"
      ],
      "metadata": {
        "id": "EQ1idZ2kneJn"
      },
      "execution_count": null,
      "outputs": []
    },
    {
      "cell_type": "code",
      "source": [
        "deploy_function() {\n",
        "  gcloud functions deploy $FUNCTION_NAME \\\n",
        "  --gen2 \\\n",
        "  --runtime nodejs20 \\\n",
        "  --entry-point $FUNCTION_NAME \\\n",
        "  --source . \\\n",
        "  --region $REGION \\\n",
        "  --trigger-bucket $BUCKET \\\n",
        "  --trigger-location $REGION \\\n",
        "  --max-instances 2 \\\n",
        "  --quiet\n",
        "}"
      ],
      "metadata": {
        "id": "Xx_XqdVgoy-x"
      },
      "execution_count": null,
      "outputs": []
    },
    {
      "cell_type": "markdown",
      "source": [
        "##Task 3. Create and deploy a HTTP function with minimum instances"
      ],
      "metadata": {
        "id": "MZP8b5RbPZrq"
      }
    },
    {
      "cell_type": "code",
      "source": [
        "cd .."
      ],
      "metadata": {
        "id": "OvjLv8PuneyU"
      },
      "execution_count": null,
      "outputs": []
    },
    {
      "cell_type": "code",
      "source": [
        "mkdir ~/HTTP_FUNCTION && cd $_\n",
        "touch index.js && touch package.json"
      ],
      "metadata": {
        "id": "tjeegRO-nfFW"
      },
      "execution_count": null,
      "outputs": []
    },
    {
      "cell_type": "code",
      "source": [
        "cat > index.js <<EOF\n",
        "const functions = require('@google-cloud/functions-framework');\n",
        "functions.http('$HTTP_FUNCTION', (req, res) => {\n",
        "  res.status(200).send('awesome lab');\n",
        "});\n",
        "EOF"
      ],
      "metadata": {
        "id": "JAcvhRzsniJ5"
      },
      "execution_count": null,
      "outputs": []
    },
    {
      "cell_type": "code",
      "source": [
        "cat > package.json <<EOF\n",
        "{\n",
        "  \"name\": \"nodejs-functions-gen2-codelab\",\n",
        "  \"version\": \"0.0.1\",\n",
        "  \"main\": \"index.js\",\n",
        "  \"dependencies\": {\n",
        "    \"@google-cloud/functions-framework\": \"^2.0.0\"\n",
        "  }\n",
        "}\n",
        "EOF"
      ],
      "metadata": {
        "id": "R-uQ8quAniGZ"
      },
      "execution_count": null,
      "outputs": []
    },
    {
      "cell_type": "code",
      "source": [
        "deploy_function() {\n",
        "  gcloud functions deploy $HTTP_FUNCTION \\\n",
        "  --gen2 \\\n",
        "  --runtime nodejs20 \\\n",
        "  --entry-point $HTTP_FUNCTION \\\n",
        "  --source . \\\n",
        "  --region $REGION \\\n",
        "  --trigger-http \\\n",
        "  --timeout 600s \\\n",
        "  --max-instances 2 \\\n",
        "  --min-instances 1 \\\n",
        "  --quiet\n",
        "}"
      ],
      "metadata": {
        "id": "oueMAN35pMn0"
      },
      "execution_count": null,
      "outputs": []
    },
    {
      "cell_type": "code",
      "source": [],
      "metadata": {
        "id": "VaIbJZJbPVQz"
      },
      "execution_count": null,
      "outputs": []
    }
  ]
}