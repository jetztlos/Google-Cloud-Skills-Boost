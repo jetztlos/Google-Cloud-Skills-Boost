{
  "nbformat": 4,
  "nbformat_minor": 0,
  "metadata": {
    "colab": {
      "provenance": [],
      "toc_visible": true
    },
    "kernelspec": {
      "name": "python3",
      "display_name": "Python 3"
    },
    "language_info": {
      "name": "python"
    }
  },
  "cells": [
    {
      "cell_type": "code",
      "source": [
        "# Cloud Shell\n",
        "gcloud auth list"
      ],
      "metadata": {
        "id": "EQDG4qlIhK0f"
      },
      "execution_count": null,
      "outputs": []
    },
    {
      "cell_type": "code",
      "source": [
        "gcloud config list project"
      ],
      "metadata": {
        "id": "mftvDM0ohV5p"
      },
      "execution_count": null,
      "outputs": []
    },
    {
      "cell_type": "markdown",
      "source": [
        "##Task 1. Proxy the Cloud Translation API"
      ],
      "metadata": {
        "id": "8A6gHoCXivZJ"
      }
    },
    {
      "cell_type": "code",
      "source": [
        "# APIs & Services -> Library -> Cloud Translation API -> API Enabled"
      ],
      "metadata": {
        "id": "hQb5r9uTjlQ6"
      },
      "execution_count": null,
      "outputs": []
    },
    {
      "cell_type": "code",
      "execution_count": null,
      "metadata": {
        "id": "zNGIUDdrij6n"
      },
      "outputs": [],
      "source": [
        "# IAM & Admin -> Service Accounts -> + Create Service Account"
      ]
    },
    {
      "cell_type": "code",
      "source": [
        "# Apigee -> API Proxies -> + Create -> ... -> Develop -> Target Endpoints | default ..."
      ],
      "metadata": {
        "id": "2sKwupQikSUN"
      },
      "execution_count": null,
      "outputs": []
    },
    {
      "cell_type": "code",
      "source": [
        "# Compute Engine -> VM instances -> ... | SSH\n",
        "\n",
        "export INSTANCE_NAME=eval-instance; export ENV_NAME=eval; export PREV_INSTANCE_STATE=; echo \"waiting for runtime instance ${INSTANCE_NAME} to be active\"; while : ; do export INSTANCE_STATE=$(curl -s -H \"Authorization: Bearer $(gcloud auth print-access-token)\" -X GET \"https://apigee.googleapis.com/v1/organizations/${GOOGLE_CLOUD_PROJECT}/instances/${INSTANCE_NAME}\" | jq \"select(.state != null) | .state\" --raw-output); [[ \"${INSTANCE_STATE}\" == \"${PREV_INSTANCE_STATE}\" ]] || (echo; echo \"INSTANCE_STATE=${INSTANCE_STATE}\"); export PREV_INSTANCE_STATE=${INSTANCE_STATE}; [[ \"${INSTANCE_STATE}\" != \"ACTIVE\" ]] || break; echo -n \".\"; sleep 5; done; echo; echo \"instance created, waiting for environment ${ENV_NAME} to be attached to instance\"; while : ; do export ATTACHMENT_DONE=$(curl -s -H \"Authorization: Bearer $(gcloud auth print-access-token)\" -X GET \"https://apigee.googleapis.com/v1/organizations/${GOOGLE_CLOUD_PROJECT}/instances/${INSTANCE_NAME}/attachments\" | jq \"select(.attachments != null) | .attachments[] | select(.environment == \\\"${ENV_NAME}\\\") | .environment\" --join-output); [[ \"${ATTACHMENT_DONE}\" != \"${ENV_NAME}\" ]] || break; echo -n \".\"; sleep 5; done; echo \"***ORG IS READY TO USE***\";\n"
      ],
      "metadata": {
        "id": "2AdPg2A_kSJD"
      },
      "execution_count": null,
      "outputs": []
    },
    {
      "cell_type": "code",
      "source": [
        "# ... Save -> Deploy\n",
        "# apigee-proxy@qwiklabs-gcp-02-499b66e75c7f.iam.gserviceaccount.com"
      ],
      "metadata": {
        "id": "RUTQWE8F9in2"
      },
      "execution_count": null,
      "outputs": []
    },
    {
      "cell_type": "code",
      "source": [
        "# SSH\n",
        "\n",
        "TEST_VM_ZONE=$(gcloud compute instances list --filter=\"name=('apigeex-test-vm')\" --format \"value(zone)\")\n",
        "gcloud compute ssh apigeex-test-vm --zone=${TEST_VM_ZONE} --force-key-file-overwrite"
      ],
      "metadata": {
        "id": "mU5ym68jOAYs"
      },
      "execution_count": null,
      "outputs": []
    },
    {
      "cell_type": "code",
      "source": [
        "curl -i -k -X POST \"https://eval.example.com/translate/v1\" -H \"Content-Type: application/json\" -d '{ \"q\": \"Translate this text!\", \"target\": \"es\" }'\n"
      ],
      "metadata": {
        "id": "7reNp0MtOFS8"
      },
      "execution_count": null,
      "outputs": []
    },
    {
      "cell_type": "markdown",
      "source": [
        "##Task 2. Change the API request and response"
      ],
      "metadata": {
        "id": "mPPl8GLnlAIB"
      }
    },
    {
      "cell_type": "code",
      "source": [
        "# Develop -> Resources +: [Property set], [language.properties] -> XML:\n",
        "output=es\n",
        "caller=en"
      ],
      "metadata": {
        "id": "75YmNhqk9iZx"
      },
      "execution_count": null,
      "outputs": []
    },
    {
      "cell_type": "code",
      "source": [
        "# Develop -> Proxy Endpoints -> default +: [translate], [Path and Verb], [/], [POST]"
      ],
      "metadata": {
        "id": "QHnb5T3CRVsR"
      },
      "execution_count": null,
      "outputs": []
    },
    {
      "cell_type": "code",
      "source": [
        "# translate | Request + [Mediation: Assign Message] -> AM-BuildTranslateRequest -> XML:\n",
        "<?xml version=\"1.0\" encoding=\"UTF-8\" standalone=\"yes\"?>\n",
        "<AssignMessage name=\"AM-BuildTranslateRequest\">\n",
        "  <AssignVariable>\n",
        "    <Name>text</Name>\n",
        "    <Template>{jsonPath($.text,request.content)}</Template>\n",
        "  </AssignVariable>\n",
        "  <AssignVariable>\n",
        "    <Name>language</Name>\n",
        "    <Template>{firstnonnull(request.queryparam.lang,propertyset.language.output)}</Template>\n",
        "  </AssignVariable>\n",
        "  <Set>\n",
        "    <Payload>{ \"q\": \"{text}\", \"target\": \"{language}\" }</Payload>\n",
        "  </Set>\n",
        "  <IgnoreUnresolvedVariables>true</IgnoreUnresolvedVariables>\n",
        "  <AssignTo createNew=\"false\" transport=\"http\" type=\"request\"/>\n",
        "</AssignMessage>"
      ],
      "metadata": {
        "id": "TPAA03PZlKxC"
      },
      "execution_count": null,
      "outputs": []
    },
    {
      "cell_type": "code",
      "source": [
        "# translate | Response + [Mediation: Assign Message] -> AM-BuildTranslateResponse -> XML:\n",
        "<?xml version=\"1.0\" encoding=\"UTF-8\" standalone=\"yes\"?>\n",
        "<AssignMessage name=\"AM-BuildTranslateResponse\">\n",
        "  <AssignVariable>\n",
        "    <Name>translated</Name>\n",
        "    <Template>{jsonPath($.data.translations[0].translatedText,response.content)}</Template>\n",
        "  </AssignVariable>\n",
        "  <Set>\n",
        "    <Headers>\n",
        "      <Header name=\"Content-Type\">application/json</Header>\n",
        "    </Headers>\n",
        "    <Payload>{\"translated\": \"{translated}\" }</Payload>\n",
        "  </Set>\n",
        "  <IgnoreUnresolvedVariables>true</IgnoreUnresolvedVariables>\n",
        "  <AssignTo createNew=\"true\" transport=\"http\" type=\"response\"/>\n",
        "</AssignMessage>"
      ],
      "metadata": {
        "id": "7elXw03ORX5k"
      },
      "execution_count": null,
      "outputs": []
    },
    {
      "cell_type": "code",
      "source": [
        "# Develop -> Proxy Endpoints -> default +: [getLanguages], [Path], [/languages]"
      ],
      "metadata": {
        "id": "gFa2JfByPz2E"
      },
      "execution_count": null,
      "outputs": []
    },
    {
      "cell_type": "code",
      "source": [
        "# getLanguages | Request + [Mediation: Assign Message] -> AM-BuildLanguagesRequest -> XML:\n",
        "<?xml version=\"1.0\" encoding=\"UTF-8\" standalone=\"yes\"?>\n",
        "<AssignMessage name=\"AM-BuildLanguagesRequest\">\n",
        "  <Set>\n",
        "    <Verb>POST</Verb>\n",
        "    <Payload contentType=\"application/json\">{ \"target\": \"{propertyset.language.caller}\" }</Payload>\n",
        "  </Set>\n",
        "  <IgnoreUnresolvedVariables>true</IgnoreUnresolvedVariables>\n",
        "  <AssignTo createNew=\"true\" transport=\"http\" type=\"request\"/>\n",
        "</AssignMessage>"
      ],
      "metadata": {
        "id": "nZBjK8uqSEBh"
      },
      "execution_count": null,
      "outputs": []
    },
    {
      "cell_type": "code",
      "source": [
        "# getLanguages | Response + [Extension: JavaScript] -> JS-BuildLanguagesResponse -> XML:\n",
        "<?xml version=\"1.0\" encoding=\"UTF-8\" standalone=\"yes\"?>\n",
        "<Javascript continueOnError=\"false\" enabled=\"true\" timeLimit=\"200\" name=\"JS-BuildLanguagesResponse\">\n",
        "  <ResourceURL>jsc://buildLanguagesResponse.js</ResourceURL>\n",
        "</Javascript>"
      ],
      "metadata": {
        "id": "YEIdXfziSjWF"
      },
      "execution_count": null,
      "outputs": []
    },
    {
      "cell_type": "code",
      "source": [
        "# Develop -> Resources -> buildLanguagesResponse.js -> XML:\n",
        "var payload = context.getVariable(\"response.content\");\n",
        "var payloadObj = JSON.parse(payload);\n",
        "var newPayload = JSON.stringify(payloadObj.data.languages);\n",
        "context.setVariable(\"response.content\", newPayload);"
      ],
      "metadata": {
        "id": "SUnmziAUTeGn"
      },
      "execution_count": null,
      "outputs": []
    },
    {
      "cell_type": "code",
      "source": [
        "# ... Save -> Deploy\n",
        "# apigee-proxy@qwiklabs-gcp-02-499b66e75c7f.iam.gserviceaccount.com"
      ],
      "metadata": {
        "id": "5z-kaYp1Tycn"
      },
      "execution_count": null,
      "outputs": []
    },
    {
      "cell_type": "code",
      "source": [
        "# SSH\n",
        "\n",
        "curl -i -k -X GET \"https://eval.example.com/translate/v1/languages\""
      ],
      "metadata": {
        "id": "oG00tzQOULFz"
      },
      "execution_count": null,
      "outputs": []
    },
    {
      "cell_type": "code",
      "source": [
        "curl -i -k -X POST \"https://eval.example.com/translate/v1?lang=de\" -H \"Content-Type:application/json\" -d '{ \"text\": \"Hello world!\" }'"
      ],
      "metadata": {
        "id": "Y5nvd2h7UO5x"
      },
      "execution_count": null,
      "outputs": []
    },
    {
      "cell_type": "code",
      "source": [
        "curl -i -k -X POST \"https://eval.example.com/translate/v1\" -H \"Content-Type:application/json\" -d '{ \"text\": \"Hello world!\" }'"
      ],
      "metadata": {
        "id": "o0A0NYPgUR7v"
      },
      "execution_count": null,
      "outputs": []
    },
    {
      "cell_type": "markdown",
      "source": [
        "##Task 3. Add API key verification and quota enforcement"
      ],
      "metadata": {
        "id": "0wse8aMWlDeO"
      }
    },
    {
      "cell_type": "code",
      "source": [
        "# Apigee -> API products -> + Create -> [translate-product], Environment [eval], Access [Public],\n",
        "# Operations -> Add An Operation: API Proxy [translate-v1], Path [/], Methods [GET and POST], Quota [10], [1], [minute]"
      ],
      "metadata": {
        "id": "dB8QlZQtnmLX"
      },
      "execution_count": null,
      "outputs": []
    },
    {
      "cell_type": "code",
      "source": [
        "# Apigee -> Developers -> + Developer -> ... joe@example.com"
      ],
      "metadata": {
        "id": "urL4ynqrW4pt"
      },
      "execution_count": null,
      "outputs": []
    },
    {
      "cell_type": "code",
      "source": [
        "# Apigee -> Apps -> + Create -> ... Credentials -> + Add Products: [translate-app], [translate-product], [joe@example.com]"
      ],
      "metadata": {
        "id": "diF2Zwf1u7n-"
      },
      "execution_count": null,
      "outputs": []
    },
    {
      "cell_type": "code",
      "source": [
        "# Apigee -> API proxies -> [translate-v1] -> Develop -> Proxy Endpoints | default |\n",
        "# PreFlow | Request +: [Security: Verify API Key] -> [VA-VerifyKey] -> XML:\n",
        "<?xml version=\"1.0\" encoding=\"UTF-8\" standalone=\"yes\"?>\n",
        "<VerifyAPIKey continueOnError=\"false\" enabled=\"true\" name=\"VA-VerifyKey\">\n",
        "  <DisplayName>VA-VerifyKey</DisplayName>\n",
        "  <Properties/>\n",
        "  <APIKey ref=\"request.header.Key\"/>\n",
        "</VerifyAPIKey>"
      ],
      "metadata": {
        "id": "iTVqa67on8wJ"
      },
      "execution_count": null,
      "outputs": []
    },
    {
      "cell_type": "code",
      "source": [
        "# PreFlow | Request +: [Traffic Management: Quota] -> [Q-EnforceQuota] -> XML:\n",
        "<?xml version=\"1.0\" encoding=\"UTF-8\" standalone=\"yes\"?>\n",
        "<Quota name=\"Q-EnforceQuota\" type=\"calendar\">\n",
        "  <UseQuotaConfigInAPIProduct stepName=\"VA-VerifyKey\">\n",
        "    <DefaultConfig>\n",
        "      <Allow>5</Allow>\n",
        "      <Interval>1</Interval>\n",
        "      <TimeUnit>hour</TimeUnit>\n",
        "    </DefaultConfig>\n",
        "  </UseQuotaConfigInAPIProduct>\n",
        "  <StartTime>2022-01-01 00:00:00</StartTime>\n",
        "</Quota>"
      ],
      "metadata": {
        "id": "82A0Ubh0n8sk"
      },
      "execution_count": null,
      "outputs": []
    },
    {
      "cell_type": "code",
      "source": [
        "# ... Save -> Deploy\n",
        "# apigee-proxy@qwiklabs-gcp-02-499b66e75c7f.iam.gserviceaccount.com"
      ],
      "metadata": {
        "id": "s4BXipD3oNcX"
      },
      "execution_count": null,
      "outputs": []
    },
    {
      "cell_type": "code",
      "source": [
        "#SSH\n",
        "\n",
        "curl -i -k -X POST \"https://eval.example.com/translate/v1?lang=de\" -H \"Content-Type:application/json\" -d '{ \"text\": \"Hello world!\" }'"
      ],
      "metadata": {
        "id": "Oj7VGylHaFKd"
      },
      "execution_count": null,
      "outputs": []
    },
    {
      "cell_type": "code",
      "source": [
        "curl -i -k -X POST \"https://eval.example.com/translate/v1?lang=de\" -H \"Content-Type:application/json\" -H \"Key: ABC123\" -d '{ \"text\": \"Hello world!\" }'\n"
      ],
      "metadata": {
        "id": "ZN3kVwzbaFG8"
      },
      "execution_count": null,
      "outputs": []
    },
    {
      "cell_type": "code",
      "source": [
        "curl -i -k -X POST \"https://eval.example.com/translate/v1?lang=de\" -H \"Content-Type:application/json\" -H \"Key: $KEY\" -d '{ \"text\": \"Hello world!\" }'\n"
      ],
      "metadata": {
        "id": "MUnLFogbaFE2"
      },
      "execution_count": null,
      "outputs": []
    },
    {
      "cell_type": "markdown",
      "source": [
        "##Task 4. Add message logging"
      ],
      "metadata": {
        "id": "stiO_6gBlK-v"
      }
    },
    {
      "cell_type": "code",
      "source": [
        "# translate | Response +: [Extension: Message Logging] -> [ML-LogTranslation] -> XML:\n",
        "<?xml version=\"1.0\" encoding=\"UTF-8\" standalone=\"yes\"?>\n",
        "<MessageLogging name=\"ML-LogTranslation\">\n",
        "  <CloudLogging>\n",
        "    <LogName>projects/{organization.name}/logs/translate</LogName>\n",
        "    <Message contentType=\"text/plain\">{language}|{text}|{translated}</Message>\n",
        "  </CloudLogging>\n",
        "</MessageLogging>"
      ],
      "metadata": {
        "id": "kwZDjiwoaFC7"
      },
      "execution_count": null,
      "outputs": []
    },
    {
      "cell_type": "code",
      "source": [
        "# ... Save -> Deploy\n",
        "# apigee-proxy@qwiklabs-gcp-02-499b66e75c7f.iam.gserviceaccount.com"
      ],
      "metadata": {
        "id": "nL8IpRxioWSG"
      },
      "execution_count": null,
      "outputs": []
    },
    {
      "cell_type": "code",
      "source": [
        "# SSH\n",
        "\n",
        "curl -i -k -X POST \"https://eval.example.com/translate/v1?lang=de\" -H \"Content-Type:application/json\" -H \"Key: $KEY\" -d '{ \"text\": \"Hello world!\" }'\n"
      ],
      "metadata": {
        "id": "4hmn_6Gsbb4V"
      },
      "execution_count": null,
      "outputs": []
    },
    {
      "cell_type": "markdown",
      "source": [
        "##Task 5. Rewrite a backend error message"
      ],
      "metadata": {
        "id": "9Y_nFx3BlPz7"
      }
    },
    {
      "cell_type": "code",
      "source": [
        "# translate | Request +: [Mediation: Assign Message] -> [AM-BuildErrorResponse] -> XML:\n",
        "<?xml version=\"1.0\" encoding=\"UTF-8\" standalone=\"yes\"?>\n",
        "<AssignMessage name=\"AM-BuildErrorResponse\">\n",
        "  <Set>\n",
        "    <Payload contentType=\"application/json\">{ \"error\": \"Invalid request. Verify the lang query parameter.\" }</Payload>\n",
        "  </Set>\n",
        "</AssignMessage>"
      ],
      "metadata": {
        "id": "yR6-L47B9Ke8"
      },
      "execution_count": null,
      "outputs": []
    },
    {
      "cell_type": "code",
      "source": [
        "# Target Endpoints | default -> XML:\n",
        "<?xml version=\"1.0\" encoding=\"UTF-8\" standalone=\"yes\"?>\n",
        "<TargetEndpoint name=\"default\">\n",
        "  <Description/>\n",
        "  <FaultRules>\n",
        "    <FaultRule name=\"invalidInput\">\n",
        "      <Step>\n",
        "        <Name>AM-BuildErrorResponse</Name>\n",
        "      </Step>\n",
        "      <Condition>fault.name == \"ErrorResponseCode\"</Condition>\n",
        "    </FaultRule>\n",
        "  </FaultRules>\n",
        "  <PreFlow name=\"PreFlow\">\n",
        "    <Request/>\n",
        "    <Response/>\n",
        "  </PreFlow>\n",
        "  <PostFlow name=\"PostFlow\">\n",
        "    <Request/>\n",
        "    <Response/>\n",
        "  </PostFlow>\n",
        "  <Flows/>\n",
        "  <HTTPTargetConnection>\n",
        "    <URL>https://translation.googleapis.com/language/translate/v2</URL>\n",
        "    <Authentication>\n",
        "      <GoogleAccessToken>\n",
        "        <Scopes>\n",
        "          <Scope>https://www.googleapis.com/auth/cloud-translation</Scope>\n",
        "        </Scopes>\n",
        "      </GoogleAccessToken>\n",
        "    </Authentication>\n",
        "  </HTTPTargetConnection>\n",
        "</TargetEndpoint>"
      ],
      "metadata": {
        "id": "lvsN9tSDb_3l"
      },
      "execution_count": null,
      "outputs": []
    },
    {
      "cell_type": "code",
      "source": [
        "# ... Save -> Deploy\n",
        "# apigee-proxy@qwiklabs-gcp-02-499b66e75c7f.iam.gserviceaccount.com"
      ],
      "metadata": {
        "id": "nw3L8gxidU-a"
      },
      "execution_count": null,
      "outputs": []
    },
    {
      "cell_type": "code",
      "source": [
        "# SSH\n",
        "\n",
        "curl -i -k -X POST \"https://eval.example.com/translate/v1?lang=de\" -H \"Content-Type:application/json\" -H \"Key: $KEY\" -d '{ \"text\": \"Hello world!\" }'\n"
      ],
      "metadata": {
        "id": "Mc1TC-NydX2Z"
      },
      "execution_count": null,
      "outputs": []
    },
    {
      "cell_type": "code",
      "source": [
        "curl -i -k -X POST \"https://eval.example.com/translate/v1?lang=invalid\" -H \"Content-Type:application/json\" -H \"Key: $KEY\" -d '{ \"text\": \"Hello world!\" }'\n"
      ],
      "metadata": {
        "id": "IAmA-OdWb_0I"
      },
      "execution_count": null,
      "outputs": []
    },
    {
      "cell_type": "code",
      "source": [],
      "metadata": {
        "id": "Ko6-hv9Lb_yO"
      },
      "execution_count": null,
      "outputs": []
    }
  ]
}