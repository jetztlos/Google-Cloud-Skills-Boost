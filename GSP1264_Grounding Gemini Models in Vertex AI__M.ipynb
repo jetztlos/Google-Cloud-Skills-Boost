{
 "cells": [
  {
   "cell_type": "code",
   "execution_count": 1,
   "metadata": {
    "id": "ur8xi4C7S06n"
   },
   "outputs": [],
   "source": [
    "# Copyright 2024 Google LLC\n",
    "#\n",
    "# Licensed under the Apache License, Version 2.0 (the \"License\");\n",
    "# you may not use this file except in compliance with the License.\n",
    "# You may obtain a copy of the License at\n",
    "#\n",
    "#     https://www.apache.org/licenses/LICENSE-2.0\n",
    "#\n",
    "# Unless required by applicable law or agreed to in writing, software\n",
    "# distributed under the License is distributed on an \"AS IS\" BASIS,\n",
    "# WITHOUT WARRANTIES OR CONDITIONS OF ANY KIND, either express or implied.\n",
    "# See the License for the specific language governing permissions and\n",
    "# limitations under the License."
   ]
  },
  {
   "cell_type": "markdown",
   "metadata": {
    "id": "JAPoU8Sm5E6e"
   },
   "source": [
    "# Intro to Grounding with Gemini in Vertex AI\n",
    "\n",
    "<table align=\"left\">\n",
    "  <td style=\"text-align: center\">\n",
    "    <a href=\"https://colab.research.google.com/github/GoogleCloudPlatform/generative-ai/blob/main/gemini/grounding/intro-grounding-gemini.ipynb\">\n",
    "      <img width=\"32px\" src=\"https://www.gstatic.com/pantheon/images/bigquery/welcome_page/colab-logo.svg\" alt=\"Google Colaboratory logo\"><br> Run in Colab\n",
    "    </a>\n",
    "  </td>\n",
    "  <td style=\"text-align: center\">\n",
    "    <a href=\"https://console.cloud.google.com/vertex-ai/colab/import/https:%2F%2Fraw.githubusercontent.com%2FGoogleCloudPlatform%2Fgenerative-ai%2Fmain%2Fgemini%2Fgrounding%2Fintro-grounding-gemini.ipynb\">\n",
    "      <img width=\"32px\" src=\"https://lh3.googleusercontent.com/JmcxdQi-qOpctIvWKgPtrzZdJJK-J3sWE1RsfjZNwshCFgE_9fULcNpuXYTilIR2hjwN\" alt=\"Google Cloud Colab Enterprise logo\"><br> Run in Colab Enterprise\n",
    "    </a>\n",
    "  </td>\n",
    "  <td style=\"text-align: center\">\n",
    "    <a href=\"https://github.com/GoogleCloudPlatform/generative-ai/blob/main/gemini/grounding/intro-grounding-gemini.ipynb\">\n",
    "      <img width=\"32px\" src=\"https://www.svgrepo.com/download/217753/github.svg\" alt=\"GitHub logo\"><br> View on GitHub\n",
    "    </a>\n",
    "  </td>\n",
    "  <td style=\"text-align: center\">\n",
    "    <a href=\"https://console.cloud.google.com/vertex-ai/workbench/deploy-notebook?download_url=https://raw.githubusercontent.com/GoogleCloudPlatform/generative-ai/main/gemini/grounding/intro-grounding-gemini.ipynb\">\n",
    "      <img src=\"https://www.gstatic.com/images/branding/gcpiconscolors/vertexai/v1/32px.svg\" alt=\"Vertex AI logo\"><br> Open in Vertex AI Workbench\n",
    "    </a>\n",
    "  </td>\n",
    "  <td style=\"text-align: center\">\n",
    "    <a href=\"https://goo.gle/4jeQyFS\">\n",
    "      <img width=\"32px\" src=\"https://cdn.qwiklabs.com/assets/gcp_cloud-e3a77215f0b8bfa9b3f611c0d2208c7e8708ed31.svg\" alt=\"Google Cloud logo\"><br> Open in  Cloud Skills Boost\n",
    "    </a>\n",
    "  </td>\n",
    "</table>\n",
    "\n",
    "<div style=\"clear: both;\"></div>\n",
    "\n",
    "<b>Share to:</b>\n",
    "\n",
    "<a href=\"https://www.linkedin.com/sharing/share-offsite/?url=https%3A//github.com/GoogleCloudPlatform/generative-ai/blob/main/gemini/grounding/intro-grounding-gemini.ipynb\" target=\"_blank\">\n",
    "  <img width=\"20px\" src=\"https://upload.wikimedia.org/wikipedia/commons/8/81/LinkedIn_icon.svg\" alt=\"LinkedIn logo\">\n",
    "</a>\n",
    "\n",
    "<a href=\"https://bsky.app/intent/compose?text=https%3A//github.com/GoogleCloudPlatform/generative-ai/blob/main/gemini/grounding/intro-grounding-gemini.ipynb\" target=\"_blank\">\n",
    "  <img width=\"20px\" src=\"https://upload.wikimedia.org/wikipedia/commons/7/7a/Bluesky_Logo.svg\" alt=\"Bluesky logo\">\n",
    "</a>\n",
    "\n",
    "<a href=\"https://twitter.com/intent/tweet?url=https%3A//github.com/GoogleCloudPlatform/generative-ai/blob/main/gemini/grounding/intro-grounding-gemini.ipynb\" target=\"_blank\">\n",
    "  <img width=\"20px\" src=\"https://upload.wikimedia.org/wikipedia/commons/5/5a/X_icon_2.svg\" alt=\"X logo\">\n",
    "</a>\n",
    "\n",
    "<a href=\"https://reddit.com/submit?url=https%3A//github.com/GoogleCloudPlatform/generative-ai/blob/main/gemini/grounding/intro-grounding-gemini.ipynb\" target=\"_blank\">\n",
    "  <img width=\"20px\" src=\"https://redditinc.com/hubfs/Reddit%20Inc/Brand/Reddit_Logo.png\" alt=\"Reddit logo\">\n",
    "</a>\n",
    "\n",
    "<a href=\"https://www.facebook.com/sharer/sharer.php?u=https%3A//github.com/GoogleCloudPlatform/generative-ai/blob/main/gemini/grounding/intro-grounding-gemini.ipynb\" target=\"_blank\">\n",
    "  <img width=\"20px\" src=\"https://upload.wikimedia.org/wikipedia/commons/5/51/Facebook_f_logo_%282019%29.svg\" alt=\"Facebook logo\">\n",
    "</a>            "
   ]
  },
  {
   "cell_type": "markdown",
   "metadata": {
    "id": "49e1e41cea0d"
   },
   "source": [
    "| | |\n",
    "|-|-|\n",
    "|Author(s) | [Holt Skinner](https://github.com/holtskinner), [Kristopher Overholt](https://github.com/koverholt) |"
   ]
  },
  {
   "cell_type": "markdown",
   "metadata": {
    "id": "tvgnzT1CKxrO"
   },
   "source": [
    "## Overview\n",
    "\n",
    "**YouTube Video: Introduction to grounding with Gemini on Vertex AI**\n",
    "\n",
    "<a href=\"https://www.youtube.com/watch?v=Ph0g6dnsB4g&list=PLIivdWyY5sqJio2yeg1dlfILOUO2FoFRx\" target=\"_blank\">\n",
    "  <img src=\"https://img.youtube.com/vi/Ph0g6dnsB4g/maxresdefault.jpg\" alt=\"Introduction to grounding with Gemini on Vertex AI\" width=\"500\">\n",
    "</a>\n",
    "\n",
    "[Grounding in Vertex AI](https://cloud.google.com/vertex-ai/generative-ai/docs/multimodal/ground-gemini) lets you use generative text models to generate content grounded in your own documents and data. This capability lets the model access information at runtime that goes beyond its training data. By grounding model responses in Google Search results or data stores within [Vertex AI Search](https://cloud.google.com/generative-ai-app-builder/docs/enterprise-search-introduction), LLMs that are grounded in data can produce more accurate, up-to-date, and relevant responses.\n",
    "\n",
    "Grounding provides the following benefits:\n",
    "\n",
    "- Reduces model hallucinations (instances where the model generates content that isn't factual)\n",
    "- Anchors model responses to specific information, documents, and data sources\n",
    "- Enhances the trustworthiness, accuracy, and applicability of the generated content\n",
    "\n",
    "You can configure two different sources of grounding in Vertex AI:\n",
    "\n",
    "1. Google Search results for data that is publicly available and indexed.\n",
    "   - If you use this service in a production application, you will also need to [use a Google Search entry point](https://cloud.google.com/vertex-ai/generative-ai/docs/multimodal/grounding-search-entry-points).\n",
    "2. [Data stores in Vertex AI Search](https://cloud.google.com/generative-ai-app-builder/docs/create-datastore-ingest), which can include your own data in the form of website data, unstructured data, or structured data"
   ]
  },
  {
   "cell_type": "markdown",
   "metadata": {
    "id": "d975e698c9a4"
   },
   "source": [
    "### Objective\n",
    "\n",
    "In this tutorial, you learn how to:\n",
    "\n",
    "- Generate LLM text and chat model responses grounded in Google Search results\n",
    "- Compare the results of ungrounded LLM responses with grounded LLM responses\n",
    "- Create and use a data store in Vertex AI Search to ground responses in custom documents and data\n",
    "- Generate LLM text and chat model responses grounded in Vertex AI Search results\n",
    "\n",
    "This tutorial uses the following Google Cloud AI services and resources:\n",
    "\n",
    "- Vertex AI\n",
    "- Vertex AI Search\n",
    "\n",
    "The steps performed include:\n",
    "\n",
    "- Configuring the LLM and prompt for various examples\n",
    "- Sending example prompts to generative text and chat models in Vertex AI\n",
    "- Setting up a data store in Vertex AI Search with your own data\n",
    "- Sending example prompts with various levels of grounding (no grounding, web grounding, data store grounding)"
   ]
  },
  {
   "cell_type": "markdown",
   "metadata": {
    "id": "BF1j6f9HApxa"
   },
   "source": [
    "## Before you begin\n",
    "\n",
    "### Set up your Google Cloud project\n",
    "\n",
    "**The following steps are required, regardless of your notebook environment.**\n",
    "\n",
    "1. [Select or create a Google Cloud project](https://console.cloud.google.com/cloud-resource-manager). When you first create an account, you get a $300 free credit towards your compute/storage costs.\n",
    "1. [Make sure that billing is enabled for your project](https://cloud.google.com/billing/docs/how-to/modify-project).\n",
    "1. Enable the [Vertex AI and Vertex AI Agent Builder APIs](https://console.cloud.google.com/flows/enableapi?apiid=aiplatform.googleapis.com,discoveryengine.googleapis.com).\n",
    "1. If you are running this notebook locally, you need to install the [Cloud SDK](https://cloud.google.com/sdk)."
   ]
  },
  {
   "cell_type": "markdown",
   "metadata": {
    "id": "i7EUnXsZhAGF"
   },
   "source": [
    "### Install Google Gen AI SDK for Python\n",
    "\n",
    "Install the following packages required to execute this notebook."
   ]
  },
  {
   "cell_type": "code",
   "execution_count": 2,
   "metadata": {
    "id": "2b4ef9b72d43",
    "tags": []
   },
   "outputs": [
    {
     "name": "stdout",
     "output_type": "stream",
     "text": [
      "Note: you may need to restart the kernel to use updated packages.\n"
     ]
    }
   ],
   "source": [
    "%pip install --upgrade --quiet google-genai"
   ]
  },
  {
   "cell_type": "markdown",
   "metadata": {
    "id": "sBCra4QMA2wR"
   },
   "source": [
    "### Authenticate your Google Cloud account\n",
    "\n",
    "If you are running this notebook on Google Colab, you will need to authenticate your environment. To do this, run the new cell below. This step is not required if you are using Vertex AI Workbench."
   ]
  },
  {
   "cell_type": "code",
   "execution_count": 3,
   "metadata": {
    "id": "603adbbf0532",
    "tags": []
   },
   "outputs": [],
   "source": [
    "import sys\n",
    "\n",
    "if \"google.colab\" in sys.modules:\n",
    "    # Authenticate user to Google Cloud\n",
    "    from google.colab import auth\n",
    "\n",
    "    auth.authenticate_user()"
   ]
  },
  {
   "cell_type": "markdown",
   "metadata": {
    "id": "WReHDGG5g0XY"
   },
   "source": [
    "### Set Google Cloud project information and create client\n",
    "\n",
    "To get started using Vertex AI, you must have an existing Google Cloud project and [enable the Vertex AI API](https://console.cloud.google.com/flows/enableapi?apiid=aiplatform.googleapis.com).\n",
    "\n",
    "Learn more about [setting up a project and a development environment](https://cloud.google.com/vertex-ai/docs/start/cloud-environment).\n",
    "\n",
    "**If you don't know your project ID**, try the following:\n",
    "* Run `gcloud config list`.\n",
    "* Run `gcloud projects list`.\n",
    "* See the support page: [Locate the project ID](https://support.google.com/googleapi/answer/7014113)\n",
    "\n",
    "You can also change the `LOCATION` variable used by Vertex AI. Learn more about [Vertex AI regions](https://cloud.google.com/vertex-ai/docs/general/locations)."
   ]
  },
  {
   "cell_type": "code",
   "execution_count": 4,
   "metadata": {
    "id": "oM1iC_MfAts1",
    "tags": []
   },
   "outputs": [],
   "source": [
    "import os\n",
    "\n",
    "PROJECT_ID = \"qwiklabs-gcp-04-68b16004a141\"  # @param {type: \"string\"}\n",
    "if not PROJECT_ID or PROJECT_ID == \"qwiklabs-gcp-04-68b16004a141\":\n",
    "    PROJECT_ID = str(os.environ.get(\"GOOGLE_CLOUD_PROJECT\"))\n",
    "\n",
    "LOCATION = os.environ.get(\"GOOGLE_CLOUD_REGION\", \"us-central1\")\n",
    "\n",
    "from google import genai\n",
    "\n",
    "client = genai.Client(vertexai=True, project=PROJECT_ID, location=LOCATION)"
   ]
  },
  {
   "cell_type": "markdown",
   "metadata": {
    "id": "960505627ddf"
   },
   "source": [
    "### Import libraries"
   ]
  },
  {
   "cell_type": "code",
   "execution_count": 5,
   "metadata": {
    "id": "PyQmSRbKA8r-",
    "tags": []
   },
   "outputs": [],
   "source": [
    "from IPython.display import Markdown, display\n",
    "from google.genai.types import (\n",
    "    GenerateContentConfig,\n",
    "    GenerateContentResponse,\n",
    "    GoogleSearch,\n",
    "    Part,\n",
    "    Retrieval,\n",
    "    Tool,\n",
    "    VertexAISearch,\n",
    ")"
   ]
  },
  {
   "cell_type": "markdown",
   "metadata": {
    "id": "4e569c5d4a49"
   },
   "source": [
    "### Helper functions"
   ]
  },
  {
   "cell_type": "code",
   "execution_count": 6,
   "metadata": {
    "id": "307f36dbd36c",
    "tags": []
   },
   "outputs": [],
   "source": [
    "def print_grounding_data(response: GenerateContentResponse) -> None:\n",
    "    candidate = response.candidates[0]\n",
    "\n",
    "    citation_metadata = getattr(candidate, \"citation_metadata\")\n",
    "    if citation_metadata:\n",
    "        print(\"Citations\")\n",
    "        for citation in citation_metadata.citations:\n",
    "            print(citation)\n",
    "\n",
    "    grounding_metadata = getattr(candidate, \"grounding_metadata\")\n",
    "    if grounding_metadata:\n",
    "        print(\"\\nGrounding Chunks\")\n",
    "        for grounding_chunk in grounding_metadata.grounding_chunks:\n",
    "            print(grounding_chunk)\n",
    "\n",
    "        print(\"\\nGrounding Supports\")\n",
    "        for grounding_support in grounding_metadata.grounding_supports:\n",
    "            print(grounding_support)"
   ]
  },
  {
   "cell_type": "markdown",
   "metadata": {
    "id": "55cf2dd17690"
   },
   "source": [
    "Initialize the Gemini model from Vertex AI:"
   ]
  },
  {
   "cell_type": "code",
   "execution_count": 7,
   "metadata": {
    "id": "652a8969dd5a",
    "tags": []
   },
   "outputs": [],
   "source": [
    "MODEL_ID = \"gemini-2.0-flash\"  # @param {type: \"string\"}"
   ]
  },
  {
   "cell_type": "markdown",
   "metadata": {
    "id": "e336da7161af"
   },
   "source": [
    "## Example: Grounding with Google Search results\n",
    "\n",
    "In this example, you'll compare LLM responses with no grounding with responses that are grounded in the results of a Google Search. You'll ask a question about a the most recent solar eclipse."
   ]
  },
  {
   "cell_type": "code",
   "execution_count": 8,
   "metadata": {
    "id": "6a28ca4abb52",
    "tags": []
   },
   "outputs": [],
   "source": [
    "PROMPT = \"You are an expert in astronomy. When is the next solar eclipse in the US?\""
   ]
  },
  {
   "cell_type": "markdown",
   "metadata": {
    "id": "25955ce5d263"
   },
   "source": [
    "### Text generation without grounding\n",
    "\n",
    "Make a prediction request to the LLM with no grounding:"
   ]
  },
  {
   "cell_type": "code",
   "execution_count": 9,
   "metadata": {
    "id": "a2e348ff93e6",
    "tags": []
   },
   "outputs": [
    {
     "data": {
      "text/markdown": [
       "Alright, let's talk solar eclipses in the US!\n",
       "\n",
       "The next solar eclipse visible in the United States will be an **annular solar eclipse on October 14, 2023**.\n",
       "\n",
       "**Here's a breakdown:**\n",
       "\n",
       "*   **Type:** Annular Solar Eclipse - This means the Moon will pass in front of the Sun, but it won't completely cover it. Instead, a bright ring of sunlight (the \"annulus\" or \"ring of fire\") will be visible around the Moon.\n",
       "\n",
       "*   **Date:** October 14, 2023\n",
       "\n",
       "*   **Path of Annularity (where the ring of fire is visible):** A narrow path will cross the US, starting in Oregon and moving southeast through parts of Nevada, Utah, New Mexico, and Texas, before continuing into Mexico and Central America.\n",
       "\n",
       "*   **Partial Eclipse Visibility:** A partial solar eclipse (where the Moon covers only a portion of the Sun) will be visible across a much wider area of North and Central America, including most of the United States.\n",
       "\n",
       "**Important Note:** Always use proper eye protection (eclipse glasses or a solar viewer) when viewing any solar eclipse. Looking directly at the Sun, even during an eclipse, can cause serious and permanent eye damage.\n",
       "\n",
       "Enjoy the celestial event!\n"
      ],
      "text/plain": [
       "<IPython.core.display.Markdown object>"
      ]
     },
     "metadata": {},
     "output_type": "display_data"
    }
   ],
   "source": [
    "response = client.models.generate_content(\n",
    "    model=MODEL_ID,\n",
    "    contents=PROMPT,\n",
    ")\n",
    "\n",
    "display(Markdown(response.text))"
   ]
  },
  {
   "cell_type": "markdown",
   "metadata": {
    "id": "5d7cb7cceb99"
   },
   "source": [
    "### Text generation grounded in Google Search results\n",
    "\n",
    "You can add the `tools` keyword argument with a `Tool` including `GoogleSearch` to instruct Gemini to first perform a Google Search with the prompt, then construct an answer based on the web search results.\n",
    "\n",
    "The search queries and [Search Entry Point](https://cloud.google.com/vertex-ai/generative-ai/docs/multimodal/grounding-search-entry-points) are available for each `Candidate` in the response."
   ]
  },
  {
   "cell_type": "code",
   "execution_count": 10,
   "metadata": {
    "id": "1d9fb83b0ab9",
    "tags": []
   },
   "outputs": [
    {
     "data": {
      "text/markdown": [
       "Okay, I can help you with that! Let me check when the next solar eclipse will be visible in the US.\n",
       "\n",
       "Okay, here's the information about upcoming solar eclipses in the US:\n",
       "\n",
       "*   **Partial Solar Eclipse:** The next partial solar eclipse in the United States will occur on **August 12, 2026.**\n",
       "*   **Total Solar Eclipse (Alaska only):** The next total solar eclipse in the United States will occur on **March 30, 2033,** but it will only be visible in Alaska.\n",
       "*   **Total Solar Eclipse (Contiguous US):** For the contiguous United States, the next total solar eclipse will be on **August 23, 2044**. This eclipse will start in Greenland, travel through Canada, and end around sunset in Montana, North Dakota, and South Dakota.\n",
       "*   **Total Solar Eclipse (Significant portion of the US):** A more significant eclipse that will cross a large portion of the continental US will occur on **August 12, 2045.** This eclipse will travel from California to Florida.\n",
       "\n",
       "So, while there's a partial eclipse in 2026 and a total eclipse in Alaska in 2033, the next total solar eclipse that will be widely visible in the contiguous United States will be in 2044, with an even more extensive one in 2045.\n"
      ],
      "text/plain": [
       "<IPython.core.display.Markdown object>"
      ]
     },
     "metadata": {},
     "output_type": "display_data"
    },
    {
     "name": "stdout",
     "output_type": "stream",
     "text": [
      "\n",
      "Grounding Chunks\n",
      "retrieved_context=None web=GroundingChunkWeb(domain='wikipedia.org', title='wikipedia.org', uri='https://vertexaisearch.cloud.google.com/grounding-api-redirect/AWQVqALlLEV8VRJFBwHC3QSLYZFK_j7LgZEx2Kld1AqnoGY5EP1qZe5_i1u073A-X_nFYKR96IvHGprf806W1JwGmN-YzQOFPmlItxZ088j5-pRVZlA3IbaP_W8jcG-fHkI8KKU0iLggS-6Vnl8nsj4t66Yb54VnHoxIpPkCWJ7ubambERUjqAB2KZdHUlka-rg=')\n",
      "retrieved_context=None web=GroundingChunkWeb(domain='cbsnews.com', title='cbsnews.com', uri='https://vertexaisearch.cloud.google.com/grounding-api-redirect/AWQVqAKqoAI7gVJC_FIIYK7qsePvbj9cHXwmlpeGPGMcaMg4d-yEb89XrvRRFvFL5_nWoDa_Poon9pQlVVUmx0xxiH1Wr5PvC8Ci6FvfoCfp7LCC3_-KFeWfqTFkO-VXtHfZXVM02q3H0OX7sf7vuNGqK-6rlPA0ei3ewmPNrg==')\n",
      "\n",
      "Grounding Supports\n",
      "confidence_scores=[0.91968614] grounding_chunk_indices=[0] segment=Segment(end_index=289, part_index=None, start_index=172, text='*   **Partial Solar Eclipse:** The next partial solar eclipse in the United States will occur on **August 12, 2026.**')\n",
      "confidence_scores=[0.9441109] grounding_chunk_indices=[0] segment=Segment(end_index=455, part_index=None, start_index=290, text='*   **Total Solar Eclipse (Alaska only):** The next total solar eclipse in the United States will occur on **March 30, 2033,** but it will only be visible in Alaska.')\n",
      "confidence_scores=[0.84072024] grounding_chunk_indices=[1] segment=Segment(end_index=595, part_index=None, start_index=456, text='*   **Total Solar Eclipse (Contiguous US):** For the contiguous United States, the next total solar eclipse will be on **August 23, 2044**.')\n",
      "confidence_scores=[0.9851252] grounding_chunk_indices=[1] segment=Segment(end_index=722, part_index=None, start_index=596, text='This eclipse will start in Greenland, travel through Canada, and end around sunset in Montana, North Dakota, and South Dakota.')\n",
      "confidence_scores=[0.7946009] grounding_chunk_indices=[1] segment=Segment(end_index=952, part_index=None, start_index=723, text='*   **Total Solar Eclipse (Significant portion of the US):** A more significant eclipse that will cross a large portion of the continental US will occur on **August 12, 2045.** This eclipse will travel from California to Florida.')\n",
      "None\n"
     ]
    }
   ],
   "source": [
    "google_search_tool = Tool(google_search=GoogleSearch())\n",
    "\n",
    "response = client.models.generate_content(\n",
    "    model=MODEL_ID,\n",
    "    contents=PROMPT,\n",
    "    config=GenerateContentConfig(tools=[google_search_tool]),\n",
    ")\n",
    "\n",
    "display(Markdown(response.text))\n",
    "\n",
    "print(print_grounding_data(response))"
   ]
  },
  {
   "cell_type": "markdown",
   "metadata": {
    "id": "6d3920bb2ac0"
   },
   "source": [
    "Note that the response without grounding only has limited information from the LLM about solar eclipses. Whereas the response that was grounded in web search results contains the most up to date information from web search results that are returned as part of the LLM with grounding request."
   ]
  },
  {
   "cell_type": "markdown",
   "metadata": {
    "id": "59c98ab0f5fb"
   },
   "source": [
    "### Text generation with multimodal input grounded in Google Search results\n",
    "\n",
    "Gemini can also generate grounded responses with multimodal input. Let's try with this image of the Eiffel Tower.\n",
    "\n",
    "![Paris](https://storage.googleapis.com/github-repo/generative-ai/gemini/grounding/paris.jpg)"
   ]
  },
  {
   "cell_type": "code",
   "execution_count": 11,
   "metadata": {
    "id": "5ebdda19afad",
    "tags": []
   },
   "outputs": [
    {
     "data": {
      "text/markdown": [
       "The image shows a view of Paris, France, featuring the Eiffel Tower and the Seine River. To provide you with the current temperature in Paris, I will perform a search.\n",
       "\n",
       "The current temperature in Paris, France is 13°C (55°F). It feels like 13°C (55°F). The weather is partly cloudy, and the chance of rain is around 0%.\n"
      ],
      "text/plain": [
       "<IPython.core.display.Markdown object>"
      ]
     },
     "metadata": {},
     "output_type": "display_data"
    },
    {
     "name": "stdout",
     "output_type": "stream",
     "text": [
      "\n",
      "Grounding Chunks\n",
      "retrieved_context=None web=GroundingChunkWeb(domain='google.com', title='Weather information for locality: Paris', uri='https://www.google.com/search?q=weather+in+Paris')\n",
      "\n",
      "Grounding Supports\n",
      "confidence_scores=[0.7194718] grounding_chunk_indices=[0] segment=Segment(end_index=227, part_index=None, start_index=169, text='The current temperature in Paris, France is 13°C (55°F).')\n",
      "confidence_scores=[0.96209973] grounding_chunk_indices=[0] segment=Segment(end_index=256, part_index=None, start_index=228, text='It feels like 13°C (55°F).')\n",
      "confidence_scores=[0.98002464] grounding_chunk_indices=[0] segment=Segment(end_index=323, part_index=None, start_index=257, text='The weather is partly cloudy, and the chance of rain is around 0%.')\n"
     ]
    }
   ],
   "source": [
    "PROMPT = \"What is the current temperature at this location?\"\n",
    "\n",
    "response = client.models.generate_content(\n",
    "    model=MODEL_ID,\n",
    "    contents=[\n",
    "        Part.from_uri(\n",
    "            file_uri=\"gs://github-repo/generative-ai/gemini/grounding/paris.jpg\",\n",
    "            mime_type=\"image/jpeg\",\n",
    "        ),\n",
    "        PROMPT,\n",
    "    ],\n",
    "    config=GenerateContentConfig(\n",
    "        tools=[google_search_tool],\n",
    "    ),\n",
    ")\n",
    "\n",
    "display(Markdown(response.text))\n",
    "print_grounding_data(response)"
   ]
  },
  {
   "cell_type": "markdown",
   "metadata": {
    "id": "77f0800f8762"
   },
   "source": [
    "## Example: Grounding with custom documents and data\n",
    "\n",
    "In this example, you'll compare LLM responses with no grounding with responses that are grounded in the [results of a data store in Vertex AI Search](https://cloud.google.com/generative-ai-app-builder/docs/create-datastore-ingest).\n",
    "\n",
    "The data store will contain internal documents from a fictional bank, Cymbal Bank. These documents aren't available on the public internet, so the Gemini model won't have any information about them by default."
   ]
  },
  {
   "cell_type": "markdown",
   "metadata": {
    "id": "1b308548c68b"
   },
   "source": [
    "### Creating a data store in Vertex AI Search\n",
    "\n",
    "In this example, you'll use a Google Cloud Storage bucket with a few sample internal documents for our bank. There's some docs about booking business travel, strategic plan for this Fiscal Year and HR docs describing the different jobs available in the company.\n",
    "\n",
    "Follow the tutorial steps in the Vertex AI Search documentation to:\n",
    "\n",
    "1. [Create a data store with unstructured data](https://cloud.google.com/generative-ai-app-builder/docs/try-enterprise-search#unstructured-data) that loads in documents from the GCS folder `gs://cloud-samples-data/gen-app-builder/search/cymbal-bank-employee`.\n",
    "2. [Create a search app](https://cloud.google.com/generative-ai-app-builder/docs/try-enterprise-search#create_a_search_app) that is attached to that data store. You should also enable the **Enterprise edition features** so that you can search indexed records within the data store.\n",
    "\n",
    "Note: The data store must be in the same project that you are using for Gemini.\n",
    "\n",
    "You can also follow this notebook to do it with code. [Create a Vertex AI Search Datastore and App\n",
    "](https://github.com/GoogleCloudPlatform/generative-ai/blob/main/search/create_datastore_and_search.ipynb)\n",
    "\n",
    "Once you've created a data store, obtain the Data Store ID and input it below.\n",
    "\n",
    "Note: You will need to wait for data ingestion to finish before using a data store with grounding. For more information, see [create a data store](https://cloud.google.com/generative-ai-app-builder/docs/create-data-store-es)."
   ]
  },
  {
   "cell_type": "code",
   "execution_count": 12,
   "metadata": {
    "id": "fcd767476241",
    "tags": []
   },
   "outputs": [],
   "source": [
    "DATA_STORE_PROJECT_ID = PROJECT_ID  # @param {type: \"string\"}\n",
    "DATA_STORE_REGION = \"global\"  # @param {type: \"string\"}\n",
    "# Replace this with your data store ID from Vertex AI Search\n",
    "DATA_STORE_ID = \"loli_1745436079620\"  # @param {type: \"string\"}\n",
    "\n",
    "DATA_STORE_NAME = f\"projects/{DATA_STORE_PROJECT_ID}/locations/{DATA_STORE_REGION}/collections/default_collection/dataStores/{DATA_STORE_ID}\""
   ]
  },
  {
   "cell_type": "markdown",
   "metadata": {
    "id": "ccc156676e0a"
   },
   "source": [
    "Now you can ask a question about the company culture:"
   ]
  },
  {
   "cell_type": "code",
   "execution_count": 13,
   "metadata": {
    "id": "9c1e1b1743bd",
    "tags": []
   },
   "outputs": [],
   "source": [
    "PROMPT = \"What is the company culture like?\""
   ]
  },
  {
   "cell_type": "markdown",
   "metadata": {
    "id": "f365681544bb"
   },
   "source": [
    "### Text generation without grounding\n",
    "\n",
    "Make a prediction request to the LLM with no grounding:"
   ]
  },
  {
   "cell_type": "code",
   "execution_count": 14,
   "metadata": {
    "id": "299818ae71e9",
    "tags": []
   },
   "outputs": [
    {
     "data": {
      "text/markdown": [
       "To give you the best answer about a company's culture, I need a little more information!  Tell me:\n",
       "\n",
       "*   **Which company are you asking about?** Please provide the name of the company.\n",
       "*   **Are you a job applicant, employee, or just curious?** This helps me tailor the response.\n",
       "*   **Are you looking for information on a specific aspect of the company culture?** (e.g., work-life balance, opportunities for growth, management style, diversity and inclusion)\n",
       "\n",
       "In the meantime, here are some general things to consider when researching a company's culture:\n",
       "\n",
       "**Common Aspects of Company Culture:**\n",
       "\n",
       "*   **Values:** What principles guide the company's decisions and actions?\n",
       "*   **Mission:** What is the company trying to achieve?\n",
       "*   **Vision:** Where does the company see itself in the future?\n",
       "*   **Leadership Style:** How do managers lead their teams? Is it collaborative, hierarchical, or something else?\n",
       "*   **Communication:** How is information shared within the company? Is it open and transparent?\n",
       "*   **Work-Life Balance:** How does the company support employees' personal lives?\n",
       "*   **Opportunities for Growth:** Are there opportunities for professional development and advancement?\n",
       "*   **Diversity and Inclusion:** How does the company promote diversity and create an inclusive environment?\n",
       "*   **Employee Recognition:** How are employees recognized and rewarded for their contributions?\n",
       "*   **Social Activities:** Are there company-sponsored events or activities that promote social interaction?\n",
       "*   **Dress Code:** What is the typical attire at the office?\n",
       "*   **Work Environment:** Is it a formal or informal environment? Is it fast-paced or more relaxed?\n",
       "\n",
       "Once you give me the company name, I can use publicly available information from sources like:\n",
       "\n",
       "*   **Company Website:** Look for sections on \"About Us,\" \"Our Values,\" \"Careers,\" or \"Life at [Company Name].\"\n",
       "*   **Glassdoor:** This site provides employee reviews, salary information, and insights into the company's culture.\n",
       "*   **LinkedIn:** Check out the company's LinkedIn page for posts about company events, employee achievements, and company culture.\n",
       "*   **Indeed:** Similar to Glassdoor, Indeed has company reviews and employee ratings.\n",
       "*   **Comparably:** This site focuses on providing data-driven insights into company culture and compensation.\n",
       "*   **News Articles and Press Releases:** These can provide information about the company's values and initiatives.\n",
       "*   **Social Media:** Check out the company's social media accounts (e.g., Facebook, Twitter, Instagram) for a glimpse into their culture.\n",
       "*   **Personal Network:** If you know someone who works at the company, reach out and ask them about their experience.\n",
       "\n",
       "I look forward to helping you learn more!"
      ],
      "text/plain": [
       "<IPython.core.display.Markdown object>"
      ]
     },
     "metadata": {},
     "output_type": "display_data"
    }
   ],
   "source": [
    "response = client.models.generate_content(\n",
    "    model=MODEL_ID,\n",
    "    contents=PROMPT,\n",
    ")\n",
    "\n",
    "display(Markdown(response.text))"
   ]
  },
  {
   "cell_type": "markdown",
   "metadata": {
    "id": "073f2ec42ff6"
   },
   "source": [
    "### Text generation grounded in Vertex AI Search results\n",
    "\n",
    "Now we can add the `tools` keyword arg with a grounding tool of `grounding.VertexAISearch()` to instruct the LLM to first perform a search within your custom data store, then construct an answer based on the relevant documents:"
   ]
  },
  {
   "cell_type": "code",
   "execution_count": 15,
   "metadata": {
    "id": "d4c5d53a37b4",
    "tags": []
   },
   "outputs": [
    {
     "data": {
      "text/markdown": [
       "Company culture encompasses the values, beliefs, attitudes, and behaviors that characterize how a company and its employees operate. It influences all aspects of a company, including how employees interact with each other, how decisions are made, and how customers are served. A positive company culture can lead to increased employee engagement, productivity, and retention, while a negative culture can lead to the opposite.\n"
      ],
      "text/plain": [
       "<IPython.core.display.Markdown object>"
      ]
     },
     "metadata": {},
     "output_type": "display_data"
    },
    {
     "name": "stdout",
     "output_type": "stream",
     "text": [
      "\n",
      "Grounding Chunks\n"
     ]
    },
    {
     "ename": "TypeError",
     "evalue": "'NoneType' object is not iterable",
     "output_type": "error",
     "traceback": [
      "\u001b[0;31m---------------------------------------------------------------------------\u001b[0m",
      "\u001b[0;31mTypeError\u001b[0m                                 Traceback (most recent call last)",
      "Cell \u001b[0;32mIn[15], line 12\u001b[0m\n\u001b[1;32m      5\u001b[0m response \u001b[38;5;241m=\u001b[39m client\u001b[38;5;241m.\u001b[39mmodels\u001b[38;5;241m.\u001b[39mgenerate_content(\n\u001b[1;32m      6\u001b[0m     model\u001b[38;5;241m=\u001b[39mMODEL_ID,\n\u001b[1;32m      7\u001b[0m     contents\u001b[38;5;241m=\u001b[39m\u001b[38;5;124m\"\u001b[39m\u001b[38;5;124mWhat is the company culture like?\u001b[39m\u001b[38;5;124m\"\u001b[39m,\n\u001b[1;32m      8\u001b[0m     config\u001b[38;5;241m=\u001b[39mGenerateContentConfig(tools\u001b[38;5;241m=\u001b[39m[vertex_ai_search_tool]),\n\u001b[1;32m      9\u001b[0m )\n\u001b[1;32m     11\u001b[0m display(Markdown(response\u001b[38;5;241m.\u001b[39mtext))\n\u001b[0;32m---> 12\u001b[0m \u001b[43mprint_grounding_data\u001b[49m\u001b[43m(\u001b[49m\u001b[43mresponse\u001b[49m\u001b[43m)\u001b[49m\n",
      "Cell \u001b[0;32mIn[6], line 13\u001b[0m, in \u001b[0;36mprint_grounding_data\u001b[0;34m(response)\u001b[0m\n\u001b[1;32m     11\u001b[0m \u001b[38;5;28;01mif\u001b[39;00m grounding_metadata:\n\u001b[1;32m     12\u001b[0m     \u001b[38;5;28mprint\u001b[39m(\u001b[38;5;124m\"\u001b[39m\u001b[38;5;130;01m\\n\u001b[39;00m\u001b[38;5;124mGrounding Chunks\u001b[39m\u001b[38;5;124m\"\u001b[39m)\n\u001b[0;32m---> 13\u001b[0m     \u001b[38;5;28;01mfor\u001b[39;00m grounding_chunk \u001b[38;5;129;01min\u001b[39;00m grounding_metadata\u001b[38;5;241m.\u001b[39mgrounding_chunks:\n\u001b[1;32m     14\u001b[0m         \u001b[38;5;28mprint\u001b[39m(grounding_chunk)\n\u001b[1;32m     16\u001b[0m     \u001b[38;5;28mprint\u001b[39m(\u001b[38;5;124m\"\u001b[39m\u001b[38;5;130;01m\\n\u001b[39;00m\u001b[38;5;124mGrounding Supports\u001b[39m\u001b[38;5;124m\"\u001b[39m)\n",
      "\u001b[0;31mTypeError\u001b[0m: 'NoneType' object is not iterable"
     ]
    }
   ],
   "source": [
    "vertex_ai_search_tool = Tool(\n",
    "    retrieval=Retrieval(vertex_ai_search=VertexAISearch(datastore=DATA_STORE_NAME))\n",
    ")\n",
    "\n",
    "response = client.models.generate_content(\n",
    "    model=MODEL_ID,\n",
    "    contents=\"What is the company culture like?\",\n",
    "    config=GenerateContentConfig(tools=[vertex_ai_search_tool]),\n",
    ")\n",
    "\n",
    "display(Markdown(response.text))\n",
    "print_grounding_data(response)"
   ]
  },
  {
   "cell_type": "markdown",
   "metadata": {
    "id": "e3f985c704cd"
   },
   "source": [
    "Note that the response without grounding doesn't have any context about what company we are asking about. Whereas the response that was grounded in Vertex AI Search results contains information from the documents provided, along with citations of the information.\n",
    "\n",
    "<div class=\"alert alert-block alert-warning\">\n",
    "<b>⚠️ Important notes:</b><br>\n",
    "<br>\n",
    "<b>If you get an error when running the previous cell:</b><br>\n",
    "&nbsp;&nbsp;&nbsp;&nbsp;In order for this sample notebook to work with data store in Vertex AI Search,<br>\n",
    "&nbsp;&nbsp;&nbsp;&nbsp;you'll need to create a <a href=\"https://cloud.google.com/generative-ai-app-builder/docs/try-enterprise-search#create_a_data_store\">data store</a> <b>and</b> a <a href=\"https://cloud.google.com/generative-ai-app-builder/docs/try-enterprise-search#create_a_search_app\">search app</a> associated with it in Vertex AI Search.<br>\n",
    "&nbsp;&nbsp;&nbsp;&nbsp;If you only create a data store, the previous request will return errors when making queries against the data store.\n",
    "<br><br>\n",
    "<b>If you get an empty response when running the previous cell:</b><br>\n",
    "&nbsp;&nbsp;&nbsp;&nbsp;You will need to wait for data ingestion to finish before using a data store with grounding.<br>\n",
    "&nbsp;&nbsp;&nbsp;&nbsp;For more information, see <a href=\"https://cloud.google.com/generative-ai-app-builder/docs/create-data-store-es\">create a data store</a>.\n",
    "</div>\n",
    "</div>"
   ]
  },
  {
   "cell_type": "markdown",
   "metadata": {
    "id": "54562717e2a4"
   },
   "source": [
    "## Example: Grounded chat responses\n",
    "\n",
    "You can also use grounding when using chat conversations in Vertex AI. In this example, you'll compare LLM responses with no grounding with responses that are grounded in the results of a Google Search and a data store in Vertex AI Search."
   ]
  },
  {
   "cell_type": "code",
   "execution_count": 16,
   "metadata": {
    "id": "490cf1ed3399",
    "tags": []
   },
   "outputs": [],
   "source": [
    "PROMPT = \"What are managed datasets in Vertex AI?\"\n",
    "PROMPT_FOLLOWUP = \"What types of data can I use?\""
   ]
  },
  {
   "cell_type": "markdown",
   "metadata": {
    "id": "b59783e4f1ce"
   },
   "source": [
    "### Chat session grounded in Google Search results\n",
    "\n",
    "Now you can add the `tools` keyword arg with a Tool of `GoogleSearch` to instruct the chat model to first perform a Google Search with the prompt, then construct an answer based on the web search results:"
   ]
  },
  {
   "cell_type": "code",
   "execution_count": 17,
   "metadata": {
    "id": "58edb2bd860f",
    "tags": []
   },
   "outputs": [
    {
     "data": {
      "text/markdown": [
       "In Vertex AI, managed datasets serve as a centralized repository for your machine learning data, offering a structured approach to manage, prepare, and access data for training and serving ML models. Here's a breakdown of their key aspects:\n",
       "\n",
       "**Key Features and Benefits:**\n",
       "\n",
       "*   **Centralized Management:** Datasets are stored in a central location within Vertex AI, providing a single source of truth for your machine learning data.\n",
       "*   **Simplified Dataset Management:** They eliminate the need for separate data storage and management infrastructure, streamlining dataset organization, access, and version control.\n",
       "*   **Data Preparation:** Managed datasets support various data preparation tasks, including cleansing, transformation, and encoding.\n",
       "*   **Data Labeling:** They provide the ability to annotate and label data directly within the user interface. If your data is unlabeled, you can use the data labeling service for human assistance.\n",
       "*   **Automatic Data Splitting**: Automatically split data into training, test, and validation sets\n",
       "*   **Data Exploration:** Managed datasets allow you to generate data statistics and visualizations to quickly inspect data distributions and identify missing values.\n",
       "*   **Model Governance:** They enable tracking of lineage to models for governance and iterative development.\n",
       "*   **Performance Comparison**: Managed datasets allow comparing model performance by training AutoML and custom models using the same datasets.\n",
       "\n",
       "**Supported Data Types:**\n",
       "\n",
       "Vertex AI managed datasets support various data types, including:\n",
       "\n",
       "*   **Tabular Datasets:** Consist of structured data in rows and columns, typically in CSV or JSON format.\n",
       "*   **Image Datasets:** Contain images for tasks like image classification, object detection, and image segmentation.\n",
       "*   **Text Datasets:** Contain written text for tasks like text classification, sentiment analysis, and NLP.\n",
       "*   **Video Datasets:** Contain videos for tasks like video classification, object tracking, and action recognition.\n",
       "\n",
       "**Accessing Managed Datasets:**\n",
       "\n",
       "To access managed datasets from custom training code, Vertex AI injects key environment variables into the training container, including file locations and schema details.\n",
       "\n",
       "**How to Use Managed Datasets:**\n",
       "\n",
       "1.  **Create a Dataset:** In the Vertex AI console, go to the Datasets section and click \"Create Dataset.\" Choose the appropriate data type (Tabular, Image, Text, or Video) and name the dataset.\n",
       "2.  **Choose a Storage Location:** Specify the storage location. You can import data from local files, Cloud Storage buckets, or BigQuery tables.\n",
       "3.  **Define Data Schema (Optional):** For tabular datasets, define the schema, including column names and data types. This helps Vertex AI understand the data structure and perform automated preprocessing.\n",
       "\n"
      ],
      "text/plain": [
       "<IPython.core.display.Markdown object>"
      ]
     },
     "metadata": {},
     "output_type": "display_data"
    },
    {
     "data": {
      "text/markdown": [
       "Vertex AI managed datasets support a variety of data types to accommodate different machine learning tasks:\n",
       "\n",
       "*   **Tabular Datasets:** These datasets consist of structured data organized in rows and columns, commonly found in CSV or JSON formats. You can import tabular data from CSV files, BigQuery tables, or Cloud Storage buckets.\n",
       "*   **Image Datasets:** These datasets contain images suitable for tasks such as image classification, object detection (identifying and locating objects within an image), and image segmentation (assigning labels to individual pixels in an image).\n",
       "*   **Text Datasets:** These datasets comprise written text and are used for tasks like text classification, sentiment analysis (determining the emotional tone of text), and natural language processing (NLP).\n",
       "*   **Video Datasets:** These datasets include videos for tasks like video classification, object tracking (following objects across video frames), and action recognition (identifying actions occurring in videos).\n",
       "\n",
       "In addition to the data types, Vertex AI also supports various data formats, including JSONL, CSV, and BigQuery.\n"
      ],
      "text/plain": [
       "<IPython.core.display.Markdown object>"
      ]
     },
     "metadata": {},
     "output_type": "display_data"
    }
   ],
   "source": [
    "chat = client.chats.create(\n",
    "    model=MODEL_ID,\n",
    "    config=GenerateContentConfig(tools=[Tool(google_search=GoogleSearch())]),\n",
    ")\n",
    "\n",
    "response = chat.send_message(PROMPT)\n",
    "display(Markdown(response.text))\n",
    "\n",
    "response = chat.send_message(PROMPT_FOLLOWUP)\n",
    "display(Markdown(response.text))"
   ]
  },
  {
   "cell_type": "markdown",
   "metadata": {
    "id": "87be7f661f14"
   },
   "source": [
    "### Chat session grounded in Vertex AI Search results\n",
    "\n",
    "Now we can add the `tools` keyword arg with a grounding tool of `grounding.VertexAISearch()` to instruct the chat model to first perform a search within your custom data store, then construct an answer based on the relevant documents:"
   ]
  },
  {
   "cell_type": "code",
   "execution_count": 18,
   "metadata": {
    "id": "8fdad0c3f1f3",
    "tags": []
   },
   "outputs": [],
   "source": [
    "PROMPT = \"How do I book business travel?\"\n",
    "PROMPT_FOLLOWUP = \"Give me more details.\""
   ]
  },
  {
   "cell_type": "code",
   "execution_count": 19,
   "metadata": {
    "id": "1a824202a8f0",
    "tags": []
   },
   "outputs": [
    {
     "data": {
      "text/markdown": [
       "Booking business travel involves a few key steps, and the best approach often depends on the size of your company and the frequency of travel. Here's a general guide:\n",
       "\n",
       "**1. Determine Your Company's Travel Policy:**\n",
       "\n",
       "*   **Does your company have a preferred booking method?** Many companies use specific online booking tools or travel management companies.\n",
       "*   **Are there pre-approved hotels or airlines?** Travel policies often include preferred vendors to leverage negotiated rates or loyalty programs.\n",
       "*   **What is the approval process?** Understand if you need to get approval from a manager before booking.\n",
       "*   **What are the spending limits?** Policies usually outline acceptable price ranges for flights, hotels, and other expenses.\n",
       "\n",
       "**2. Choose a Booking Method:**\n",
       "\n",
       "Here are several options for booking business travel:\n",
       "\n",
       "*   **Online Travel Agencies (OTAs):** Websites like Expedia, Kayak, and Booking.com can be convenient for comparing prices and options. However, they may not always offer the best deals for business travelers, and you might miss out on corporate discounts or benefits.\n",
       "*   **Directly with Airlines and Hotels:** Booking directly can sometimes give you access to better rates, especially if you're a loyalty program member.\n",
       "*   **Travel Management Companies (TMCs):** TMCs (like American Express Global Business Travel, BCD Travel, or CWT) specialize in corporate travel. They offer a range of services, including booking flights and hotels, managing travel itineraries, and providing 24/7 support. They can also help you track travel expenses and ensure compliance with your company's travel policy.\n",
       "*   **Dedicated Business Travel Booking Platforms:** Several platforms cater specifically to business travel, such as Navan (formerly TripActions), TravelPerk, and Spotnana. These platforms often integrate with expense management systems and offer features like travel policy enforcement, automated reporting, and duty of care support.\n",
       "\n",
       "**3. Search and Compare Options:**\n",
       "\n",
       "*   **Flights:** Look for flights that fit your schedule and budget. Consider factors like layovers, baggage fees, and seat selection.\n",
       "*   **Hotels:** Choose hotels that are conveniently located and offer the amenities you need (e.g., Wi-Fi, business center). Consider your company's preferred hotels or those that offer corporate rates.\n",
       "*   **Car Rentals/Ground Transportation:** If necessary, book a rental car or arrange for airport transfers.\n",
       "\n",
       "**4. Book and Confirm:**\n",
       "\n",
       "*   **Double-check all details** before confirming your booking (dates, times, names, etc.).\n",
       "*   **Save your confirmation numbers** and any relevant contact information.\n",
       "*   **Add the trip to your calendar** and share your itinerary with colleagues or family members.\n",
       "\n",
       "**5. Expense Reporting:**\n",
       "\n",
       "*   **Keep track of all your expenses,** including receipts for flights, hotels, meals, and transportation.\n",
       "*   **Submit your expense report** according to your company's policy. Many travel booking platforms integrate with expense management systems to automate this process.\n",
       "\n",
       "**Tips for Efficient Business Travel Booking:**\n",
       "\n",
       "*   **Book in advance:** You'll often get better rates by booking flights and hotels well in advance of your trip.\n",
       "*   **Be flexible with your dates:** If possible, try to be flexible with your travel dates. Sometimes flying on a Tuesday or Wednesday can save you money.\n",
       "*   **Consider alternative airports:** Flying into or out of a smaller, less busy airport can sometimes be cheaper.\n",
       "*   **Use travel apps:** Download the apps for your preferred airlines, hotels, and rental car companies. These apps can provide you with real-time updates on your flights, hotel reservations, and other travel information.\n",
       "*   **Take advantage of loyalty programs:** If you travel frequently, sign up for airline, hotel, and rental car loyalty programs. You can earn points or miles that can be redeemed for free travel or other benefits.\n"
      ],
      "text/plain": [
       "<IPython.core.display.Markdown object>"
      ]
     },
     "metadata": {},
     "output_type": "display_data"
    },
    {
     "data": {
      "text/markdown": [
       "Okay, let's break down the details of business travel booking further, expanding on the key steps and providing more granular advice:\n",
       "\n",
       "**1. Diving Deeper into Company Travel Policy:**\n",
       "\n",
       "*   **Policy Access:** Where is the policy documented? (Intranet, shared drive, HR portal, travel booking platform). Get familiar with it.\n",
       "*   **Specific Restrictions:** Are there restrictions on booking first class or business class flights, or specific hotel brands? What's the approval process for exceptions?\n",
       "*   **Duty of Care:** What are the company's policies regarding traveler safety and security? Is there a travel risk management program? Who do you contact in an emergency?\n",
       "*   **Sustainability:** Does the company prioritize sustainable travel options (e.g., direct flights, eco-friendly hotels)?\n",
       "*   **Payment Methods:** Are you required to use a corporate credit card? Are virtual cards used? Is there a process for pre-trip expense advances?\n",
       "*   **Who to contact with questions**: Who in your company is responsible for travel-related questions? Is there a dedicated travel department, or an HR contact?\n",
       "\n",
       "**2. Exploring Booking Methods in Detail:**\n",
       "\n",
       "*   **Online Travel Agencies (OTAs):**\n",
       "    *   *Pros:* Comparison shopping, wide selection, user reviews.\n",
       "    *   *Cons:* Lack of personalized service, difficult to make changes, may not integrate with expense systems, potential hidden fees, might not comply with corporate travel policy\n",
       "    *   *When to use:* Independent contractors or very small businesses without negotiated rates, for simple domestic trips when policy allows.\n",
       "*   **Direct Booking (Airlines/Hotels):**\n",
       "    *   *Pros:* Can earn loyalty points, potentially better customer service for changes, sometimes access to exclusive deals.\n",
       "    *   *Cons:* Time-consuming to compare options, doesn't ensure policy compliance, difficult to track expenses.\n",
       "    *   *When to use:* When you have strong loyalty to a specific brand, or if the company policy requires booking direct for certain vendors.\n",
       "*   **Travel Management Companies (TMCs):**\n",
       "    *   *Pros:* Policy compliance, negotiated rates, 24/7 support, expense tracking, travel risk management, reporting capabilities.\n",
       "    *   *Cons:* Can be more expensive than OTAs (but savings often outweigh the cost), may require training on the platform.\n",
       "    *   *When to use:* Mid-sized to large companies with complex travel needs, frequent travelers, strict policy requirements.\n",
       "*   **Business Travel Booking Platforms (e.g., Navan, TravelPerk):**\n",
       "    *   *Pros:* User-friendly interface, policy enforcement, automated expense reporting, real-time data, duty of care features, often integrates with other business systems.\n",
       "    *   *Cons:* Can be expensive, may not offer the same level of personalized service as a TMC.\n",
       "    *   *When to use:* Startups to mid-sized companies that want a modern, technology-driven solution with built-in policy and expense management.\n",
       "*   **Travel Agencies**\n",
       "    *   *Pros:* Personalized service, can handle complex itineraries, good for groups.\n",
       "    *   *Cons:* More expensive than online options, might not have access to all the best deals.\n",
       "    *   *When to use:* Complex international itineraries, group travel, VIP travelers who require high-touch service.\n",
       "\n",
       "**3. Refining Your Search and Comparison Strategies:**\n",
       "\n",
       "*   **Flights:**\n",
       "    *   *Optimal Booking Window:* Generally, 2-3 weeks in advance for domestic and 1-3 months for international travel can yield the best prices (but this varies greatly depending on route, season, and demand).\n",
       "    *   *Use Flight Comparison Tools:* Google Flights, Kayak, and Skyscanner are useful for identifying the cheapest days to fly and alternative airports.\n",
       "    *   *Consider \"Hidden City\" Ticketing:* Be aware that \"hidden city\" ticketing (booking a flight with a layover at your desired destination and getting off there) can violate airline terms of service and may result in penalties.\n",
       "    *   *Watch out for Basic Economy:* Basic Economy fares often restrict seat selection, baggage allowance, and changes. Make sure it aligns with your needs.\n",
       "*   **Hotels:**\n",
       "    *   *Location, Location, Location:* Choose hotels near your meeting location or with easy access to transportation.\n",
       "    *   *Read Reviews:* Check reviews on TripAdvisor, Google Hotels, and other sites to get an idea of the hotel's quality and service.\n",
       "    *   *Negotiate Corporate Rates:* If you travel frequently to a particular city, try to negotiate a corporate rate with a hotel.\n",
       "    *   *Consider Amenities:* Does the hotel have free Wi-Fi, a business center, a gym, and free breakfast?\n",
       "*   **Car Rentals/Ground Transportation:**\n",
       "    *   *Compare Rental Companies:* Use comparison sites to find the best deals on rental cars.\n",
       "    *   *Consider Ride-Sharing:* Uber and Lyft can be convenient and cost-effective for short trips.\n",
       "    *   *Look for Airport Shuttles:* Many hotels offer free airport shuttles, which can save you money on transportation.\n",
       "\n",
       "**4. Booking and Confirmation - The Finer Points:**\n",
       "\n",
       "*   **Passport and Visa Requirements:** If traveling internationally, ensure your passport is valid for at least six months beyond your return date and that you have any necessary visas.\n",
       "*   **TSA PreCheck/Global Entry:** If you travel frequently, consider applying for TSA PreCheck or Global Entry to expedite airport security.\n",
       "*   **Seat Selection:** Choose your seat in advance to ensure you get a comfortable spot.\n",
       "*   **Mobile Check-In:** Check in for your flight online or via the airline's app to save time at the airport.\n",
       "*   **Travel Insurance:** Consider purchasing travel insurance to protect yourself against unexpected events like flight cancellations, lost luggage, or medical emergencies.\n",
       "*   **Share your Itinerary:** Leave a copy of your itinerary with a colleague, family member, or friend.\n",
       "\n",
       "**5. Optimizing the Expense Reporting Process:**\n",
       "\n",
       "*   **Track Expenses Diligently:** Use a mobile app or spreadsheet to track your expenses as you incur them.\n",
       "*   **Take Photos of Receipts:** Take pictures of your receipts with your smartphone to avoid losing them.\n",
       "*   **Submit Expense Reports Promptly:** Submit your expense reports as soon as possible to get reimbursed quickly.\n",
       "*   **Automated Expense Reporting Tools:** Integrate your travel booking platform with an expense management system like Expensify, Concur, or Zoho Expense.\n",
       "*   **Understand Per Diem Rates:** If your company uses per diem rates for meals and incidentals, familiarize yourself with the allowable amounts.\n",
       "\n",
       "**Additional Tips for the Savvy Business Traveler:**\n",
       "\n",
       "*   **Travel Light:** Pack only what you need to avoid checked baggage fees and delays.\n",
       "*   **Stay Connected:** Bring a portable charger to keep your devices powered up.\n",
       "*   **Learn Basic Phrases:** If traveling internationally, learn a few basic phrases in the local language.\n",
       "*   **Be Prepared for Delays:** Pack a book, download movies, or bring other entertainment to keep yourself occupied during delays.\n",
       "*   **Stay Healthy:** Get enough sleep, eat healthy foods, and stay hydrated to avoid getting sick while traveling.\n",
       "*   **Use Airline Lounges:** If you have access to airline lounges, take advantage of the free food, drinks, and Wi-Fi.\n",
       "\n",
       "By paying attention to these details, you can make your business travel more efficient, comfortable, and cost-effective. Remember to always prioritize your company's travel policy and seek clarification from your travel department or HR if you have any questions.\n"
      ],
      "text/plain": [
       "<IPython.core.display.Markdown object>"
      ]
     },
     "metadata": {},
     "output_type": "display_data"
    }
   ],
   "source": [
    "chat = client.chats.create(\n",
    "    model=MODEL_ID,\n",
    "    config=GenerateContentConfig(\n",
    "        tools=[\n",
    "            Tool(\n",
    "                retrieval=Retrieval(\n",
    "                    vertex_ai_search=VertexAISearch(datastore=DATA_STORE_NAME)\n",
    "                )\n",
    "            )\n",
    "        ]\n",
    "    ),\n",
    ")\n",
    "\n",
    "response = chat.send_message(PROMPT)\n",
    "display(Markdown(response.text))\n",
    "\n",
    "response = chat.send_message(PROMPT_FOLLOWUP)\n",
    "display(Markdown(response.text))"
   ]
  },
  {
   "cell_type": "markdown",
   "metadata": {
    "id": "TpV-iwP9qw9c"
   },
   "source": [
    "## Cleaning up\n",
    "\n",
    "To avoid incurring charges to your Google Cloud account for the resources used in this notebook, follow these steps:\n",
    "\n",
    "1. To avoid unnecessary Google Cloud charges, use the [Google Cloud console](https://console.cloud.google.com/) to delete your project if you do not need it. Learn more in the Google Cloud documentation for [managing and deleting your project](https://cloud.google.com/resource-manager/docs/creating-managing-projects).\n",
    "1. If you used an existing Google Cloud project, delete the resources you created to avoid incurring charges to your account. For more information, refer to the documentation to [Delete data from a data store in Vertex AI Search](https://cloud.google.com/generative-ai-app-builder/docs/delete-datastores), then delete your data store.\n",
    "2. Disable the [Vertex AI Search API](https://console.cloud.google.com/apis/api/discoveryengine.googleapis.com) and [Vertex AI API](https://console.cloud.google.com/apis/api/aiplatform.googleapis.com) in the Google Cloud Console."
   ]
  }
 ],
 "metadata": {
  "colab": {
   "collapsed_sections": [],
   "name": "intro-grounding-gemini.ipynb",
   "toc_visible": true
  },
  "environment": {
   "kernel": "conda-base-py",
   "name": "workbench-notebooks.m129",
   "type": "gcloud",
   "uri": "us-docker.pkg.dev/deeplearning-platform-release/gcr.io/workbench-notebooks:m129"
  },
  "kernelspec": {
   "display_name": "Python 3 (ipykernel) (Local) (Local)",
   "language": "python",
   "name": "conda-base-py"
  },
  "language_info": {
   "codemirror_mode": {
    "name": "ipython",
    "version": 3
   },
   "file_extension": ".py",
   "mimetype": "text/x-python",
   "name": "python",
   "nbconvert_exporter": "python",
   "pygments_lexer": "ipython3",
   "version": "3.10.16"
  }
 },
 "nbformat": 4,
 "nbformat_minor": 4
}
