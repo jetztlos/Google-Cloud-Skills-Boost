{
  "nbformat": 4,
  "nbformat_minor": 0,
  "metadata": {
    "colab": {
      "provenance": [],
      "toc_visible": true
    },
    "kernelspec": {
      "name": "python3",
      "display_name": "Python 3"
    },
    "language_info": {
      "name": "python"
    }
  },
  "cells": [
    {
      "cell_type": "code",
      "source": [
        "gcloud auth list"
      ],
      "metadata": {
        "id": "E4j3816XEczi"
      },
      "execution_count": null,
      "outputs": []
    },
    {
      "cell_type": "code",
      "source": [
        "gcloud config list project"
      ],
      "metadata": {
        "id": "3ZglfS2rEcv_"
      },
      "execution_count": null,
      "outputs": []
    },
    {
      "cell_type": "code",
      "source": [
        "export ZONE=us-east4-a"
      ],
      "metadata": {
        "id": "sQfKrKSMGAC1"
      },
      "execution_count": null,
      "outputs": []
    },
    {
      "cell_type": "markdown",
      "source": [
        "##Task 1. Create a custom security role"
      ],
      "metadata": {
        "id": "nm61fSTBEdb5"
      }
    },
    {
      "cell_type": "code",
      "source": [
        "export CUSTOM_SECURIY_ROLE=orca_storage_editor_433"
      ],
      "metadata": {
        "id": "rEOMyiB5F9bT"
      },
      "execution_count": null,
      "outputs": []
    },
    {
      "cell_type": "code",
      "source": [
        "gcloud config set compute/zone $ZONE"
      ],
      "metadata": {
        "id": "AZxskEsIEctM"
      },
      "execution_count": null,
      "outputs": []
    },
    {
      "cell_type": "code",
      "source": [
        "nano role-definition.yaml\n",
        "### OR vi role-definition.yaml"
      ],
      "metadata": {
        "id": "u7Qnz-j4FL70"
      },
      "execution_count": null,
      "outputs": []
    },
    {
      "cell_type": "code",
      "source": [
        "title: \"Custom-Security-Role\"\n",
        "description: \"Permissions\"\n",
        "stage: \"ALPHA\"\n",
        "includedPermissions:\n",
        "- storage.buckets.get\n",
        "- storage.objects.get\n",
        "- storage.objects.list\n",
        "- storage.objects.update\n",
        "- storage.objects.create\n",
        "\n",
        "# Ctrl + X -> Y -> Enter/Return\n",
        "### OR :wq!"
      ],
      "metadata": {
        "id": "WFvcGbaHFLyh"
      },
      "execution_count": null,
      "outputs": []
    },
    {
      "cell_type": "code",
      "source": [
        "gcloud iam roles create $CUSTOM_SECURIY_ROLE --project $DEVSHELL_PROJECT_ID --file role-definition.yaml"
      ],
      "metadata": {
        "id": "XRcZ6a1dFRaG"
      },
      "execution_count": null,
      "outputs": []
    },
    {
      "cell_type": "markdown",
      "source": [
        "##Task 2. Create a service account"
      ],
      "metadata": {
        "id": "TZ1Kl93kEjvO"
      }
    },
    {
      "cell_type": "code",
      "source": [
        "export SERVICE_ACCOUNT=orca-private-cluster-152-sa"
      ],
      "metadata": {
        "id": "1GGK5mF-GPdS"
      },
      "execution_count": null,
      "outputs": []
    },
    {
      "cell_type": "code",
      "source": [
        "gcloud iam service-accounts create $SERVICE_ACCOUNT --display-name \"Orca Private Cluster Service Account\""
      ],
      "metadata": {
        "id": "Y08b1WcsEcq8"
      },
      "execution_count": null,
      "outputs": []
    },
    {
      "cell_type": "markdown",
      "source": [
        "##Task 3. Bind a custom security role to a service account"
      ],
      "metadata": {
        "id": "jqfO7ZKDEnUN"
      }
    },
    {
      "cell_type": "code",
      "source": [
        "gcloud projects add-iam-policy-binding $DEVSHELL_PROJECT_ID --member=serviceAccount:$SERVICE_ACCOUNT@$DEVSHELL_PROJECT_ID.iam.gserviceaccount.com --role roles/monitoring.viewer\n",
        "gcloud projects add-iam-policy-binding $DEVSHELL_PROJECT_ID --member=serviceAccount:$SERVICE_ACCOUNT@$DEVSHELL_PROJECT_ID.iam.gserviceaccount.com --role roles/monitoring.metricWriter\n",
        "gcloud projects add-iam-policy-binding $DEVSHELL_PROJECT_ID --member=serviceAccount:$SERVICE_ACCOUNT@$DEVSHELL_PROJECT_ID.iam.gserviceaccount.com --role roles/logging.logWriter\n",
        "gcloud projects add-iam-policy-binding $DEVSHELL_PROJECT_ID --member serviceAccount:$SERVICE_ACCOUNT@$DEVSHELL_PROJECT_ID.iam.gserviceaccount.com --role projects/$DEVSHELL_PROJECT_ID/roles/$CUSTOM_SECURIY_ROLE\n"
      ],
      "metadata": {
        "id": "RAA3KL1bEqZh"
      },
      "execution_count": null,
      "outputs": []
    },
    {
      "cell_type": "markdown",
      "source": [
        "##Task 4. Create and configure a new Kubernetes Engine private cluster"
      ],
      "metadata": {
        "id": "soT-_YM6ErGY"
      }
    },
    {
      "cell_type": "code",
      "source": [
        "export CLUSTER_NAME=orca-cluster-958\n",
        "export VPC_NAME=orca-build-vpc\n",
        "export SUBNET_NAME=orca-build-subnet\n",
        "export SERVICE_ACCOUNT=orca-private-cluster-152-sa"
      ],
      "metadata": {
        "id": "R6nYw3HKGYnD"
      },
      "execution_count": null,
      "outputs": []
    },
    {
      "cell_type": "code",
      "source": [
        "gcloud compute instances describe orca-jumphost --zone $ZONE \\\n",
        "    --format=\"value(networkInterfaces[0].networkIP)\""
      ],
      "metadata": {
        "id": "b-VkV4IlOwco"
      },
      "execution_count": null,
      "outputs": []
    },
    {
      "cell_type": "code",
      "source": [
        "gcloud container clusters create $CLUSTER_NAME \\\n",
        "    --num-nodes=1 \\\n",
        "    --master-ipv4-cidr=172.16.0.64/28 \\\n",
        "    --network=$VPC_NAME \\\n",
        "    --subnetwork=$SUBNET_NAME \\\n",
        "    --enable-master-authorized-networks \\\n",
        "    --master-authorized-networks=192.168.10.2/32 \\\n",
        "    --enable-ip-alias \\\n",
        "    --enable-private-nodes \\\n",
        "    --enable-private-endpoint \\\n",
        "    --service-account=$SERVICE_ACCOUNT@$DEVSHELL_PROJECT_ID.iam.gserviceaccount.com \\\n",
        "    --zone=$ZONE"
      ],
      "metadata": {
        "id": "KFKjgCgnOXJz"
      },
      "execution_count": null,
      "outputs": []
    },
    {
      "cell_type": "code",
      "source": [],
      "metadata": {
        "id": "8DOOjh6yKpJn"
      },
      "execution_count": null,
      "outputs": []
    },
    {
      "cell_type": "markdown",
      "source": [
        "##Task 5. Deploy an application to a private Kubernetes Engine cluster"
      ],
      "metadata": {
        "id": "rFx6dlVZExwL"
      }
    },
    {
      "cell_type": "code",
      "source": [
        "export JUMPHOST_NAME=orca-jumphost"
      ],
      "metadata": {
        "id": "zPyQlvLbE50j"
      },
      "execution_count": null,
      "outputs": []
    },
    {
      "cell_type": "code",
      "source": [
        "gcloud compute ssh --zone $ZONE $JUMPHOST_NAME"
      ],
      "metadata": {
        "id": "lTu4W_SyExc6"
      },
      "execution_count": null,
      "outputs": []
    },
    {
      "cell_type": "code",
      "source": [
        "gcloud config set compute/zone us-east4-a"
      ],
      "metadata": {
        "id": "n6MpT3ynFfgd"
      },
      "execution_count": null,
      "outputs": []
    },
    {
      "cell_type": "code",
      "source": [
        "sudo apt-get install google-cloud-sdk-gke-gcloud-auth-plugin"
      ],
      "metadata": {
        "id": "BmQLuzHxFfa-"
      },
      "execution_count": null,
      "outputs": []
    },
    {
      "cell_type": "code",
      "source": [
        "gcloud container clusters get-credentials orca-cluster-958 --internal-ip"
      ],
      "metadata": {
        "id": "RascSO_OFfc_"
      },
      "execution_count": null,
      "outputs": []
    },
    {
      "cell_type": "code",
      "source": [
        "kubectl create deployment hello-server --image=gcr.io/google-samples/hello-app:1.0"
      ],
      "metadata": {
        "id": "oBeHJQeSFfZC"
      },
      "execution_count": null,
      "outputs": []
    },
    {
      "cell_type": "code",
      "source": [
        "kubectl expose deployment hello-server --name orca-hello-service --type LoadBalancer --port 80 --target-port 8080"
      ],
      "metadata": {
        "id": "l29T84I6Ew_n"
      },
      "execution_count": null,
      "outputs": []
    },
    {
      "cell_type": "code",
      "execution_count": null,
      "metadata": {
        "id": "otUNOpfBEUeP"
      },
      "outputs": [],
      "source": []
    }
  ]
}