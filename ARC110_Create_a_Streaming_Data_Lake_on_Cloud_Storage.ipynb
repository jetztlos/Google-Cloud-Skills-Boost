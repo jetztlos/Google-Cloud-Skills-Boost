{
  "nbformat": 4,
  "nbformat_minor": 0,
  "metadata": {
    "colab": {
      "provenance": [],
      "toc_visible": true
    },
    "kernelspec": {
      "name": "python3",
      "display_name": "Python 3"
    },
    "language_info": {
      "name": "python"
    }
  },
  "cells": [
    {
      "cell_type": "code",
      "source": [
        "gcloud auth list"
      ],
      "metadata": {
        "id": "N574nm5MzxwC"
      },
      "execution_count": null,
      "outputs": []
    },
    {
      "cell_type": "code",
      "source": [
        "gcloud config list project"
      ],
      "metadata": {
        "id": "YRu2IkAIzxsf"
      },
      "execution_count": null,
      "outputs": []
    },
    {
      "cell_type": "code",
      "source": [
        "PROJECT_ID=$(gcloud config get-value project)\n",
        "export BUCKET_NAME=\"${PROJECT_ID}-bucket\"\n",
        "export REGION=us-east4"
      ],
      "metadata": {
        "id": "EewDawsxsZT3"
      },
      "execution_count": null,
      "outputs": []
    },
    {
      "cell_type": "markdown",
      "source": [
        "##Task 1. Create a Pub/Sub topic"
      ],
      "metadata": {
        "id": "l2wTUrxzqsxj"
      }
    },
    {
      "cell_type": "code",
      "source": [
        "export TOPIC_ID=mypubsub"
      ],
      "metadata": {
        "id": "MK8jJ7jCNWch"
      },
      "execution_count": null,
      "outputs": []
    },
    {
      "cell_type": "code",
      "execution_count": null,
      "metadata": {
        "id": "HSBdmV8Nqqzx"
      },
      "outputs": [],
      "source": [
        "gcloud services disable dataflow.googleapis.com\n",
        "gcloud services enable dataflow.googleapis.com"
      ]
    },
    {
      "cell_type": "markdown",
      "source": [
        "##Task 3. Create a Cloud Storage bucket"
      ],
      "metadata": {
        "id": "c4ih3A6Oq0lp"
      }
    },
    {
      "cell_type": "code",
      "source": [
        "gsutil mb gs://$BUCKET_NAME"
      ],
      "metadata": {
        "id": "J6nMtu1aqr8Z"
      },
      "execution_count": null,
      "outputs": []
    },
    {
      "cell_type": "code",
      "source": [
        "gcloud pubsub topics create $TOPIC_ID"
      ],
      "metadata": {
        "id": "PXJwZxresrNW"
      },
      "execution_count": null,
      "outputs": []
    },
    {
      "cell_type": "markdown",
      "source": [
        "##Task 2. Create a Cloud Scheduler job"
      ],
      "metadata": {
        "id": "M6lzXmUNqxGt"
      }
    },
    {
      "cell_type": "code",
      "source": [
        "export MESSAGE=\"Hello World!\""
      ],
      "metadata": {
        "id": "3Z3oOjDcM28f"
      },
      "execution_count": null,
      "outputs": []
    },
    {
      "cell_type": "code",
      "source": [
        "gcloud app create --region=$REGION"
      ],
      "metadata": {
        "id": "X2oRxuHiqr5C"
      },
      "execution_count": null,
      "outputs": []
    },
    {
      "cell_type": "code",
      "source": [
        "gcloud scheduler jobs create pubsub loli --schedule=\"* * * * *\" \\\n",
        "    --topic=$TOPIC_ID --message-body=\"$MESSAGE\""
      ],
      "metadata": {
        "id": "TIOOauObMsqS"
      },
      "execution_count": null,
      "outputs": []
    },
    {
      "cell_type": "code",
      "source": [
        "gcloud scheduler jobs run loli"
      ],
      "metadata": {
        "id": "3nzLTDZyON5u"
      },
      "execution_count": null,
      "outputs": []
    },
    {
      "cell_type": "markdown",
      "source": [
        "##Task 4. Run a Dataflow pipeline to stream data from a Pub/Sub topic to Cloud Storage"
      ],
      "metadata": {
        "id": "2W71B49uMmuu"
      }
    },
    {
      "cell_type": "code",
      "source": [
        "cat > run_pubsub_to_gcs_loli.sh <<EOF_CP\n",
        "#!/bin/bash\n",
        "\n",
        "# Set environment variables\n",
        "export PROJECT_ID=$PROJECT_ID\n",
        "export REGION=$REGION\n",
        "export TOPIC_ID=$TOPIC_ID\n",
        "export BUCKET_NAME=$BUCKET_NAME\n",
        "\n",
        "# Clone the repository and navigate to the required directory\n",
        "git clone https://github.com/GoogleCloudPlatform/python-docs-samples.git\n",
        "cd python-docs-samples/pubsub/streaming-analytics\n",
        "\n",
        "# Install dependencies\n",
        "pip install -U -r requirements.txt\n",
        "\n",
        "# Run the Python script with parameters\n",
        "python PubSubToGCS.py \\\n",
        "  --project=$PROJECT_ID \\\n",
        "  --region=$REGION \\\n",
        "  --input_topic=projects/$PROJECT_ID/topics/$TOPIC_ID \\\n",
        "  --output_path=gs://$BUCKET_NAME/samples/output \\\n",
        "  --runner=DataflowRunner \\\n",
        "  --window_size=2 \\\n",
        "  --num_shards=2 \\\n",
        "  --temp_location=gs://$BUCKET_NAME/temp\n",
        "EOF_CP"
      ],
      "metadata": {
        "id": "AhGV6uyJqr01"
      },
      "execution_count": null,
      "outputs": []
    },
    {
      "cell_type": "code",
      "source": [
        "chmod +x run_pubsub_to_gcs_loli.sh"
      ],
      "metadata": {
        "id": "ztrCLt-MOmB3"
      },
      "execution_count": null,
      "outputs": []
    },
    {
      "cell_type": "code",
      "source": [
        "gcloud scheduler jobs run loli"
      ],
      "metadata": {
        "id": "L7aH3u4gqryx"
      },
      "execution_count": null,
      "outputs": []
    },
    {
      "cell_type": "code",
      "source": [
        "docker run -it \\\n",
        "  -e DEVSHELL_PROJECT_ID=$DEVSHELL_PROJECT_ID \\\n",
        "  -v \"$(pwd)/run_pubsub_to_gcs_loli.sh:/run_pubsub_to_gcs_loli.sh\" \\\n",
        "  python:3.7 \\\n",
        "  /bin/bash -c \"/run_pubsub_to_gcs_loli.sh\""
      ],
      "metadata": {
        "id": "LuRydwytqrw4"
      },
      "execution_count": null,
      "outputs": []
    },
    {
      "cell_type": "code",
      "source": [],
      "metadata": {
        "id": "ffUeIcs6QDwt"
      },
      "execution_count": null,
      "outputs": []
    },
    {
      "cell_type": "code",
      "source": [],
      "metadata": {
        "id": "nuE8Hj80qruo"
      },
      "execution_count": null,
      "outputs": []
    }
  ]
}