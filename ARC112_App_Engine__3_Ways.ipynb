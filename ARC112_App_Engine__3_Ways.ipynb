{
  "nbformat": 4,
  "nbformat_minor": 0,
  "metadata": {
    "colab": {
      "provenance": [],
      "toc_visible": true
    },
    "kernelspec": {
      "name": "python3",
      "display_name": "Python 3"
    },
    "language_info": {
      "name": "python"
    }
  },
  "cells": [
    {
      "cell_type": "code",
      "execution_count": null,
      "metadata": {
        "id": "mw5fp-xVPJCb"
      },
      "outputs": [],
      "source": [
        "export ZONE=$(gcloud compute instances list lab-setup --format 'csv[no-heading](zone)')"
      ]
    },
    {
      "cell_type": "code",
      "source": [
        "export REGION=\"${ZONE%-*}\""
      ],
      "metadata": {
        "id": "wj11M01ZP6Mb"
      },
      "execution_count": null,
      "outputs": []
    },
    {
      "cell_type": "code",
      "source": [
        "export MESSAGE=\"Goodbye world!\""
      ],
      "metadata": {
        "id": "oHbfMtFHSBKc"
      },
      "execution_count": null,
      "outputs": []
    },
    {
      "cell_type": "markdown",
      "source": [
        "##Task 1. Enable the Google App Engine Admin API"
      ],
      "metadata": {
        "id": "_Bq7dn2_PQz4"
      }
    },
    {
      "cell_type": "code",
      "source": [
        "gcloud services enable appengine.googleapis.com"
      ],
      "metadata": {
        "id": "eQ3dvUlyPRKd"
      },
      "execution_count": null,
      "outputs": []
    },
    {
      "cell_type": "markdown",
      "source": [
        "##Task 2. Download the Hello World app"
      ],
      "metadata": {
        "id": "ngL4RcDgPWOv"
      }
    },
    {
      "cell_type": "code",
      "source": [
        "cat > prepare_disk.sh <<'EOF_END'\n",
        "\n",
        "git clone https://github.com/GoogleCloudPlatform/python-docs-samples.git\n",
        "\n",
        "cd python-docs-samples/appengine/standard_python3/hello_world\n",
        "\n",
        "EOF_END"
      ],
      "metadata": {
        "id": "4RMnJ6gmPU3X"
      },
      "execution_count": null,
      "outputs": []
    },
    {
      "cell_type": "code",
      "source": [
        "gcloud compute scp prepare_disk.sh lab-setup:/tmp --project=$DEVSHELL_PROJECT_ID --zone=$ZONE --quiet"
      ],
      "metadata": {
        "id": "bt0qILiaQNQ2"
      },
      "execution_count": null,
      "outputs": []
    },
    {
      "cell_type": "code",
      "source": [
        "gcloud compute ssh lab-setup --project=$DEVSHELL_PROJECT_ID --zone=$ZONE --quiet --command=\"bash /tmp/prepare_disk.sh\""
      ],
      "metadata": {
        "id": "XDRZ2lqYQQRo"
      },
      "execution_count": null,
      "outputs": []
    },
    {
      "cell_type": "code",
      "source": [
        "git clone https://github.com/GoogleCloudPlatform/python-docs-samples.git"
      ],
      "metadata": {
        "id": "Z_mRsKEVQVBD"
      },
      "execution_count": null,
      "outputs": []
    },
    {
      "cell_type": "code",
      "source": [
        "cd python-docs-samples/appengine/standard_python3/hello_world"
      ],
      "metadata": {
        "id": "82HYiR4jQYDR"
      },
      "execution_count": null,
      "outputs": []
    },
    {
      "cell_type": "code",
      "source": [
        "gcloud app create --region=$REGION"
      ],
      "metadata": {
        "id": "yXHA4bC8QbBo"
      },
      "execution_count": null,
      "outputs": []
    },
    {
      "cell_type": "markdown",
      "source": [
        "##Task 3. Deploy your application"
      ],
      "metadata": {
        "id": "MZP8b5RbPZrq"
      }
    },
    {
      "cell_type": "code",
      "source": [
        "yes | gcloud app deploy"
      ],
      "metadata": {
        "id": "aO36uysNPVg7"
      },
      "execution_count": null,
      "outputs": []
    },
    {
      "cell_type": "markdown",
      "source": [
        "##Task 4. Deploy updates to your application"
      ],
      "metadata": {
        "id": "8ftY0zsoPdGP"
      }
    },
    {
      "cell_type": "code",
      "source": [
        "sed -i 's/Hello World!/'\"$MESSAGE\"'/g' main.py"
      ],
      "metadata": {
        "id": "gOy_zT3RQjWL"
      },
      "execution_count": null,
      "outputs": []
    },
    {
      "cell_type": "code",
      "source": [
        "yes | gcloud app deploy"
      ],
      "metadata": {
        "id": "E_rEq2K-PVdh"
      },
      "execution_count": null,
      "outputs": []
    },
    {
      "cell_type": "code",
      "source": [],
      "metadata": {
        "id": "sNY3-nAqPVbU"
      },
      "execution_count": null,
      "outputs": []
    },
    {
      "cell_type": "code",
      "source": [],
      "metadata": {
        "id": "VaIbJZJbPVQz"
      },
      "execution_count": null,
      "outputs": []
    }
  ]
}