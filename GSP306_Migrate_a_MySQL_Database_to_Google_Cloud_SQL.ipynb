{
  "nbformat": 4,
  "nbformat_minor": 0,
  "metadata": {
    "colab": {
      "provenance": [],
      "toc_visible": true
    },
    "kernelspec": {
      "name": "python3",
      "display_name": "Python 3"
    },
    "language_info": {
      "name": "python"
    }
  },
  "cells": [
    {
      "cell_type": "code",
      "execution_count": null,
      "metadata": {
        "id": "0O3RcpvPnnyr"
      },
      "outputs": [],
      "source": [
        "# Set environment variables\n",
        "export INSTANCE_ID=\"wordpress-db-instance\"\n",
        "export REGION=\"us-east1\"\n",
        "export ZONE=\"us-east1-d\"\n",
        "export ROOT_PASSWORD=\"admin123\"\n",
        "export BUCKET_NAME=\"qwiklabs-gcp-04-c7628d0dc4de\""
      ]
    },
    {
      "cell_type": "markdown",
      "source": [
        "##Task 1. Create a new Cloud SQL instance"
      ],
      "metadata": {
        "id": "ZpF44m5anqwA"
      }
    },
    {
      "cell_type": "code",
      "source": [
        "# Create Cloud SQL instance\n",
        "gcloud sql instances create $INSTANCE_ID \\\n",
        "    --database-version=MYSQL_8_0 \\\n",
        "    --tier=db-f1-micro \\\n",
        "    --region=$REGION \\\n",
        "    --root-password=$ROOT_PASSWORD \\\n",
        "    --storage-size=10GB"
      ],
      "metadata": {
        "id": "Z9p7kvNxn6dU"
      },
      "execution_count": null,
      "outputs": []
    },
    {
      "cell_type": "markdown",
      "source": [
        "##Task 2. Configure the new database"
      ],
      "metadata": {
        "id": "Y9GOSi9Inuv6"
      }
    },
    {
      "cell_type": "code",
      "source": [
        "# Set variables\n",
        "export DB_NAME=\"wordpress\"\n",
        "export DB_USER=\"blogadmin\"\n",
        "export DB_PASSWORD=\"Password1*\""
      ],
      "metadata": {
        "id": "RZaQdNV-n62i"
      },
      "execution_count": null,
      "outputs": []
    },
    {
      "cell_type": "code",
      "source": [
        "# Create SQL DB\n",
        "gcloud sql databases create $DB_NAME --instance=$INSTANCE_ID"
      ],
      "metadata": {
        "id": "SGFVk4TYoJAO"
      },
      "execution_count": null,
      "outputs": []
    },
    {
      "cell_type": "code",
      "source": [
        "# Create DB user\n",
        "gcloud sql users create $DB_USER \\\n",
        "    --instance=$INSTANCE_ID \\\n",
        "    --password=$DB_PASSWORD"
      ],
      "metadata": {
        "id": "xL5hOTvooI8u"
      },
      "execution_count": null,
      "outputs": []
    },
    {
      "cell_type": "code",
      "source": [
        "# Verify configuration\n",
        "gcloud sql databases list --instance=$INSTANCE_ID\n",
        "gcloud sql users list --instance=$INSTANCE_ID"
      ],
      "metadata": {
        "id": "c4ta5zqUoI6w"
      },
      "execution_count": null,
      "outputs": []
    },
    {
      "cell_type": "markdown",
      "source": [
        "##Task 3. Perform a database dump and import the data"
      ],
      "metadata": {
        "id": "uJb-PQ2DnxtR"
      }
    },
    {
      "cell_type": "code",
      "source": [
        "# Export the current DB\n",
        "mysqldump -u blogadmin -p wordpress > wordpress_db.sql"
      ],
      "metadata": {
        "id": "Ll82YbUln7Mz"
      },
      "execution_count": null,
      "outputs": []
    },
    {
      "cell_type": "code",
      "source": [
        "# Upload the SQL dump to a Cloud Stotage bucket\n",
        "gcloud storage buckets create gs://${BUCKET_NAME} --location=REGION"
      ],
      "metadata": {
        "id": "PvTaIOlOoS2y"
      },
      "execution_count": null,
      "outputs": []
    },
    {
      "cell_type": "code",
      "source": [
        "gsutil cp wordpress_db.sql gs://$BUCKET_NAME/"
      ],
      "metadata": {
        "id": "UKrliFrloSwQ"
      },
      "execution_count": null,
      "outputs": []
    },
    {
      "cell_type": "code",
      "source": [
        "# Import the SQL dump into Cloud SQL\n",
        "gcloud sql import sql $INSTANCE_ID gs://$BUCKET_NAME/wordpress_db.sql \\\n",
        "    --database=$DB_NAME"
      ],
      "metadata": {
        "id": "6g5DlWhKoYHt"
      },
      "execution_count": null,
      "outputs": []
    },
    {
      "cell_type": "code",
      "source": [
        "# Connect to DB, check if the tables are imported\n",
        "gcloud sql connect $INSTANCE_ID --user=$DB_USER"
      ],
      "metadata": {
        "id": "lgXhS6GpoSss"
      },
      "execution_count": null,
      "outputs": []
    },
    {
      "cell_type": "markdown",
      "source": [
        "##Task 4. Reconfigure the WordPress installation"
      ],
      "metadata": {
        "id": "R7c0blhon0tY"
      }
    },
    {
      "cell_type": "code",
      "source": [
        "# Update wp-config.php, locate and edit the wp-config.php file on your WordPress server\n",
        "vi /var/www/html/wp-config.php"
      ],
      "metadata": {
        "id": "q4K6ixycodUc"
      },
      "execution_count": null,
      "outputs": []
    },
    {
      "cell_type": "code",
      "source": [
        "# Update the DB with the following details\n",
        "define('DB_NAME', 'wordpress');\n",
        "define('DB_USER', 'blogadmin');\n",
        "define('DB_PASSWORD', 'Password1*');\n",
        "define('DB_HOST', '34.148.119.26'); # Cloud SQL -> Public IP address"
      ],
      "metadata": {
        "id": "rZ1Aw4L0odL2"
      },
      "execution_count": null,
      "outputs": []
    },
    {
      "cell_type": "code",
      "source": [
        "# Restart the webserver\n",
        "sudo systemctl restart apache2"
      ],
      "metadata": {
        "id": "aPyYnuoGn7j-"
      },
      "execution_count": null,
      "outputs": []
    },
    {
      "cell_type": "markdown",
      "source": [
        "##Task 5. Validate and troubleshoot"
      ],
      "metadata": {
        "id": "ThOq2RcEn3dB"
      }
    },
    {
      "cell_type": "code",
      "source": [
        "# Test DB connectivity\n",
        "gcloud sql connect $INSTANCE_ID --user=$DB_USER"
      ],
      "metadata": {
        "id": "oZiQdW1iojud"
      },
      "execution_count": null,
      "outputs": []
    },
    {
      "cell_type": "code",
      "source": [
        "# Check logs for errors in WordPress\n",
        "tail -f /var/log/apache2/error.log"
      ],
      "metadata": {
        "id": "G3JdPXRTojrQ"
      },
      "execution_count": null,
      "outputs": []
    },
    {
      "cell_type": "code",
      "source": [
        "# Ensure that the WordPress server is authorized to access the DB\n",
        "gcloud sql instances patch $INSTANCE_ID \\\n",
        "    --authorized-networks=<WORDPRESS_SERVER_PUBLIC_IP>"
      ],
      "metadata": {
        "id": "Me0D-zjfn8rh"
      },
      "execution_count": null,
      "outputs": []
    },
    {
      "cell_type": "code",
      "source": [],
      "metadata": {
        "id": "1DDLmcQmn8hw"
      },
      "execution_count": null,
      "outputs": []
    }
  ]
}