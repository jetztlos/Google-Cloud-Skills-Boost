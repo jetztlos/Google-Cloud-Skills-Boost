{
  "nbformat": 4,
  "nbformat_minor": 0,
  "metadata": {
    "colab": {
      "provenance": [],
      "toc_visible": true
    },
    "kernelspec": {
      "name": "python3",
      "display_name": "Python 3"
    },
    "language_info": {
      "name": "python"
    }
  },
  "cells": [
    {
      "cell_type": "markdown",
      "source": [
        "##Task 1. Create and customize an AppSheet app"
      ],
      "metadata": {
        "id": "poU2otpm5BGM"
      }
    },
    {
      "cell_type": "code",
      "source": [
        "# AppSheet -> Copy App"
      ],
      "metadata": {
        "id": "KyCU2zEB5As1"
      },
      "execution_count": null,
      "outputs": []
    },
    {
      "cell_type": "markdown",
      "source": [
        "##Task 2. Add an automation to an AppSheet app"
      ],
      "metadata": {
        "id": "7zXu79VN5JSH"
      }
    },
    {
      "cell_type": "code",
      "source": [
        "# My Drive"
      ],
      "metadata": {
        "id": "2VUU79rc5AnW"
      },
      "execution_count": null,
      "outputs": []
    },
    {
      "cell_type": "markdown",
      "source": [
        "##Task 3. Create and publish an Apps Script chat bot"
      ],
      "metadata": {
        "id": "nMjCS9DY5NiK"
      }
    },
    {
      "cell_type": "code",
      "source": [
        "# Apps Script -> Chat App -> Code.gs\n",
        "/**\n",
        " * Responds to a MESSAGE event in Google Chat.\n",
        " *\n",
        " * @param {Object} event the event object from Google Chat\n",
        " */\n",
        "function onMessage(event) {\n",
        "  var name = \"\";\n",
        "\n",
        "  if (event.space.type == \"DM\") {\n",
        "    name = \"You\";\n",
        "  } else {\n",
        "    name = event.user.displayName;\n",
        "  }\n",
        "  var message = name + \" said \\\"\" + event.message.text + \"\\\"\";\n",
        "\n",
        "  return { \"text\": message };\n",
        "}\n",
        "\n",
        "/**\n",
        " * Responds to an ADDED_TO_SPACE event in Google Chat.\n",
        " *\n",
        " * @param {Object} event the event object from Google Chat\n",
        " */\n",
        "function onAddToSpace(event) {\n",
        "  var message = \"\";\n",
        "\n",
        "  if (event.space.singleUserBotDm) {\n",
        "    message = \"Thank you for adding me to a DM, \" + event.user.displayName + \"!\";\n",
        "  } else {\n",
        "    message = \"Thank you for adding me to \" +\n",
        "        (event.space.displayName ? event.space.displayName : \"this chat\");\n",
        "  }\n",
        "\n",
        "  if (event.message) {\n",
        "    // Bot added through @mention.\n",
        "    message = message + \" and you said: \\\"\" + event.message.text + \"\\\"\";\n",
        "  }\n",
        "  console.log('Helper Bot added in ', event.space.name);\n",
        "  return { \"text\": message };\n",
        "}\n",
        "\n",
        "/**\n",
        " * Responds to a REMOVED_FROM_SPACE event in Google Chat.\n",
        " *\n",
        " * @param {Object} event the event object from Google Chat\n",
        " */\n",
        "function onRemoveFromSpace(event) {\n",
        "  console.info(\"Bot removed from \",\n",
        "      (event.space.name ? event.space.name : \"this chat\"));\n",
        "}"
      ],
      "metadata": {
        "id": "0gzRklEq5h6j"
      },
      "execution_count": null,
      "outputs": []
    },
    {
      "cell_type": "code",
      "source": [
        "# APIs & Services -> OAuth consent screen"
      ],
      "metadata": {
        "id": "XCIdr45e5h3P"
      },
      "execution_count": null,
      "outputs": []
    },
    {
      "cell_type": "code",
      "source": [
        "# APIs & Services -> Enabled APIs & Services"
      ],
      "metadata": {
        "id": "zIGkpwy_5NM1"
      },
      "execution_count": null,
      "outputs": []
    },
    {
      "cell_type": "code",
      "source": [
        "# Google Chat"
      ],
      "metadata": {
        "id": "5K27rf9L5MuO"
      },
      "execution_count": null,
      "outputs": []
    },
    {
      "cell_type": "code",
      "source": [],
      "metadata": {
        "id": "iIA6wm5G6vQS"
      },
      "execution_count": null,
      "outputs": []
    },
    {
      "cell_type": "code",
      "source": [],
      "metadata": {
        "id": "FjdJo_m-5Ajb"
      },
      "execution_count": null,
      "outputs": []
    }
  ]
}