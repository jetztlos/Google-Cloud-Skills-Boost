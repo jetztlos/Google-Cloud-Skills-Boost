{
  "nbformat": 4,
  "nbformat_minor": 0,
  "metadata": {
    "colab": {
      "provenance": [],
      "toc_visible": true
    },
    "kernelspec": {
      "name": "python3",
      "display_name": "Python 3"
    },
    "language_info": {
      "name": "python"
    }
  },
  "cells": [
    {
      "cell_type": "code",
      "execution_count": null,
      "metadata": {
        "id": "RZby3yCibkR8"
      },
      "outputs": [],
      "source": [
        "# Cloud Shell\n",
        "gcloud auth list"
      ]
    },
    {
      "cell_type": "code",
      "source": [
        "export REGION=us-east4\n",
        "export ZONE=us-east4-a\n",
        "\n",
        "export PROJECT_ID=qwiklabs-gcp-03-7c28d8d9733e"
      ],
      "metadata": {
        "id": "6JSna1gkcFTe"
      },
      "execution_count": null,
      "outputs": []
    },
    {
      "cell_type": "markdown",
      "source": [
        "##Task 1. Create development VPC"
      ],
      "metadata": {
        "id": "s0oFkt8fbsYV"
      }
    },
    {
      "cell_type": "code",
      "source": [
        "gcloud compute networks create griffin-dev-vpc --subnet-mode custom"
      ],
      "metadata": {
        "id": "r9fZvAFGRnKY"
      },
      "execution_count": null,
      "outputs": []
    },
    {
      "cell_type": "markdown",
      "source": [
        "##Task 2. Create production VPC"
      ],
      "metadata": {
        "id": "M8V4UknDbx7i"
      }
    },
    {
      "cell_type": "code",
      "source": [
        "gcloud compute networks subnets create griffin-dev-wp --network=griffin-dev-vpc --region $REGION --range=192.168.16.0/20"
      ],
      "metadata": {
        "id": "adT7f3ngSOao"
      },
      "execution_count": null,
      "outputs": []
    },
    {
      "cell_type": "code",
      "source": [
        "gcloud compute networks subnets create griffin-dev-mgmt --network=griffin-dev-vpc --region $REGION --range=192.168.32.0/20"
      ],
      "metadata": {
        "id": "1bXotagaSVCy"
      },
      "execution_count": null,
      "outputs": []
    },
    {
      "cell_type": "markdown",
      "source": [
        "##Task 3. Create bastion host"
      ],
      "metadata": {
        "id": "OS-nVRxtb2vE"
      }
    },
    {
      "cell_type": "code",
      "source": [
        "gcloud compute instances create bastion --network-interface=network=griffin-dev-vpc,subnet=griffin-dev-mgmt  --network-interface=network=griffin-prod-vpc,subnet=griffin-prod-mgmt --tags=ssh --zone=$ZONE"
      ],
      "metadata": {
        "id": "qx8gzQBtUBCl"
      },
      "execution_count": null,
      "outputs": []
    },
    {
      "cell_type": "code",
      "source": [
        "gcloud compute firewall-rules create fw-ssh-dev --source-ranges=0.0.0.0/0 --target-tags ssh --allow=tcp:22 --network=griffin-dev-vpc"
      ],
      "metadata": {
        "id": "0fxYCn9lUA47"
      },
      "execution_count": null,
      "outputs": []
    },
    {
      "cell_type": "code",
      "source": [
        "gcloud compute firewall-rules create fw-ssh-prod --source-ranges=0.0.0.0/0 --target-tags ssh --allow=tcp:22 --network=griffin-prod-vpc\n"
      ],
      "metadata": {
        "id": "WpdbrbzpRn71"
      },
      "execution_count": null,
      "outputs": []
    },
    {
      "cell_type": "markdown",
      "source": [
        "##Task 4. Create and configure Cloud SQL Instance"
      ],
      "metadata": {
        "id": "fOiRooZzb8Kh"
      }
    },
    {
      "cell_type": "code",
      "source": [
        "gcloud sql instances create griffin-dev-db \\\n",
        "    --database-version=MYSQL_5_7 \\\n",
        "    --region=$REGION \\\n",
        "    --root-password='awesome'"
      ],
      "metadata": {
        "id": "Nc-hpQI7UhUO"
      },
      "execution_count": null,
      "outputs": []
    },
    {
      "cell_type": "code",
      "source": [
        "gcloud sql databases create wordpress --instance=griffin-dev-db"
      ],
      "metadata": {
        "id": "pA9AennmUhRH"
      },
      "execution_count": null,
      "outputs": []
    },
    {
      "cell_type": "code",
      "source": [
        "gcloud sql users create wp_user --instance=griffin-dev-db --password=stormwind_rules --instance=griffin-dev-db"
      ],
      "metadata": {
        "id": "sIOoL3m5UhPK"
      },
      "execution_count": null,
      "outputs": []
    },
    {
      "cell_type": "code",
      "source": [
        "gcloud sql users set-password wp_user --instance=griffin-dev-db --password=stormwind_rules --instance=griffin-dev-db"
      ],
      "metadata": {
        "id": "wr55U1YEUhNN"
      },
      "execution_count": null,
      "outputs": []
    },
    {
      "cell_type": "code",
      "source": [
        "gcloud sql users list --instance=griffin-dev-db --format=\"value(name)\" --filter=\"host='%'\" --instance=griffin-dev-db"
      ],
      "metadata": {
        "id": "Co2MVB4vUhLY"
      },
      "execution_count": null,
      "outputs": []
    },
    {
      "cell_type": "markdown",
      "source": [
        "##Task 5. Create Kubernetes cluster"
      ],
      "metadata": {
        "id": "B2eD6YYJRSFf"
      }
    },
    {
      "cell_type": "code",
      "source": [
        "gcloud container clusters create griffin-dev \\\n",
        "  --network griffin-dev-vpc \\\n",
        "  --subnetwork griffin-dev-wp \\\n",
        "  --machine-type e2-standard-4 \\\n",
        "  --num-nodes 2  \\\n",
        "  --zone $ZONE"
      ],
      "metadata": {
        "id": "oiGOWSUIRo0f"
      },
      "execution_count": null,
      "outputs": []
    },
    {
      "cell_type": "code",
      "source": [
        "gcloud container clusters get-credentials griffin-dev --zone $ZONE"
      ],
      "metadata": {
        "id": "KBj9K6T2RpOZ"
      },
      "execution_count": null,
      "outputs": []
    },
    {
      "cell_type": "markdown",
      "source": [
        "##Task 6. Prepare the Kubernetes cluster"
      ],
      "metadata": {
        "id": "c80nWQJWRTLZ"
      }
    },
    {
      "cell_type": "code",
      "source": [
        "cd ~/"
      ],
      "metadata": {
        "id": "CjGvcwwYYjJ0"
      },
      "execution_count": null,
      "outputs": []
    },
    {
      "cell_type": "code",
      "source": [
        "gsutil cp -r gs://cloud-training/gsp321/wp-k8s ."
      ],
      "metadata": {
        "id": "i28l8BIgYiTe"
      },
      "execution_count": null,
      "outputs": []
    },
    {
      "cell_type": "code",
      "source": [
        "cat > wp-k8s/wp-env.yaml <<EOF_END\n",
        "kind: PersistentVolumeClaim\n",
        "apiVersion: v1\n",
        "metadata:\n",
        "  name: wordpress-volumeclaim\n",
        "spec:\n",
        "  accessModes:\n",
        "    - ReadWriteOnce\n",
        "  resources:\n",
        "    requests:\n",
        "      storage: 200Gi\n",
        "---\n",
        "apiVersion: v1\n",
        "kind: Secret\n",
        "metadata:\n",
        "  name: database\n",
        "type: Opaque\n",
        "stringData:\n",
        "  username: wp_user\n",
        "  password: stormwind_rules\n",
        "\n",
        "EOF_END"
      ],
      "metadata": {
        "id": "d3lbubKNYyJm"
      },
      "execution_count": null,
      "outputs": []
    },
    {
      "cell_type": "code",
      "source": [
        "cd wp-k8s"
      ],
      "metadata": {
        "id": "TSmOruVPYyF6"
      },
      "execution_count": null,
      "outputs": []
    },
    {
      "cell_type": "code",
      "source": [
        "kubectl create -f wp-env.yaml"
      ],
      "metadata": {
        "id": "_fDmZtVTY8WQ"
      },
      "execution_count": null,
      "outputs": []
    },
    {
      "cell_type": "code",
      "source": [
        "gcloud iam service-accounts keys create key.json \\\n",
        "    --iam-account=cloud-sql-proxy@$GOOGLE_CLOUD_PROJECT.iam.gserviceaccount.com\n",
        "kubectl create secret generic cloudsql-instance-credentials \\\n",
        "    --from-file key.json"
      ],
      "metadata": {
        "id": "pDH7o_yBY8S5"
      },
      "execution_count": null,
      "outputs": []
    },
    {
      "cell_type": "markdown",
      "source": [
        "##Task 7. Create a WordPress deployment"
      ],
      "metadata": {
        "id": "VOM6e8TTRWgk"
      }
    },
    {
      "cell_type": "code",
      "source": [
        "INSTANCE_ID=$(gcloud sql instances describe griffin-dev-db --format='value(connectionName)')"
      ],
      "metadata": {
        "id": "F2gx_LbMY8Qw"
      },
      "execution_count": null,
      "outputs": []
    },
    {
      "cell_type": "code",
      "source": [
        "cat > wp-deployment.yaml <<EOF_END\n",
        "apiVersion: apps/v1\n",
        "kind: Deployment\n",
        "metadata:\n",
        "  name: wordpress\n",
        "  labels:\n",
        "    app: wordpress\n",
        "spec:\n",
        "  replicas: 1\n",
        "  selector:\n",
        "    matchLabels:\n",
        "      app: wordpress\n",
        "  template:\n",
        "    metadata:\n",
        "      labels:\n",
        "        app: wordpress\n",
        "    spec:\n",
        "      containers:\n",
        "        - image: wordpress\n",
        "          name: wordpress\n",
        "          env:\n",
        "          - name: WORDPRESS_DB_HOST\n",
        "            value: 127.0.0.1:3306\n",
        "          - name: WORDPRESS_DB_USER\n",
        "            valueFrom:\n",
        "              secretKeyRef:\n",
        "                name: database\n",
        "                key: username\n",
        "          - name: WORDPRESS_DB_PASSWORD\n",
        "            valueFrom:\n",
        "              secretKeyRef:\n",
        "                name: database\n",
        "                key: password\n",
        "          ports:\n",
        "            - containerPort: 80\n",
        "              name: wordpress\n",
        "          volumeMounts:\n",
        "            - name: wordpress-persistent-storage\n",
        "              mountPath: /var/www/html\n",
        "        - name: cloudsql-proxy\n",
        "          image: gcr.io/cloudsql-docker/gce-proxy:1.33.2\n",
        "          command: [\"/cloud_sql_proxy\",\n",
        "                    \"-instances=$INSTANCE_ID=tcp:3306\",\n",
        "                    \"-credential_file=/secrets/cloudsql/key.json\"]\n",
        "          securityContext:\n",
        "            runAsUser: 2  # non-root user\n",
        "            allowPrivilegeEscalation: false\n",
        "          volumeMounts:\n",
        "            - name: cloudsql-instance-credentials\n",
        "              mountPath: /secrets/cloudsql\n",
        "              readOnly: true\n",
        "      volumes:\n",
        "        - name: wordpress-persistent-storage\n",
        "          persistentVolumeClaim:\n",
        "            claimName: wordpress-volumeclaim\n",
        "        - name: cloudsql-instance-credentials\n",
        "          secret:\n",
        "            secretName: cloudsql-instance-credentials\n",
        "\n",
        "EOF_END"
      ],
      "metadata": {
        "id": "Wh2IJ00SRpko"
      },
      "execution_count": null,
      "outputs": []
    },
    {
      "cell_type": "code",
      "source": [
        "kubectl create -f wp-deployment.yaml"
      ],
      "metadata": {
        "id": "hvrAdzAeZ0OK"
      },
      "execution_count": null,
      "outputs": []
    },
    {
      "cell_type": "code",
      "source": [
        "kubectl create -f wp-service.yaml"
      ],
      "metadata": {
        "id": "r4Mwy4OSZ0Ix"
      },
      "execution_count": null,
      "outputs": []
    },
    {
      "cell_type": "markdown",
      "source": [
        "##Task 8. Enable monitoring"
      ],
      "metadata": {
        "id": "OSUGv2ZYRaDw"
      }
    },
    {
      "cell_type": "code",
      "source": [
        "# Monitoring -> Uptime checks"
      ],
      "metadata": {
        "id": "nSvtKbOfRqn5"
      },
      "execution_count": null,
      "outputs": []
    },
    {
      "cell_type": "markdown",
      "source": [
        "##Task 9. Provide access for an additional engineer"
      ],
      "metadata": {
        "id": "KRgUpO-7RgA3"
      }
    },
    {
      "cell_type": "code",
      "source": [
        "# IAM & Admin -> IAM"
      ],
      "metadata": {
        "id": "Km-8leqKdZrP"
      },
      "execution_count": null,
      "outputs": []
    },
    {
      "cell_type": "code",
      "source": [],
      "metadata": {
        "id": "DSm1CzJ0dZn4"
      },
      "execution_count": null,
      "outputs": []
    },
    {
      "cell_type": "code",
      "source": [],
      "metadata": {
        "id": "uC6RuvCDdZmF"
      },
      "execution_count": null,
      "outputs": []
    },
    {
      "cell_type": "code",
      "source": [],
      "metadata": {
        "id": "1ZQ8N1J8bxgX"
      },
      "execution_count": null,
      "outputs": []
    }
  ]
}