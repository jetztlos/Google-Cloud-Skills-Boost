{
  "nbformat": 4,
  "nbformat_minor": 0,
  "metadata": {
    "colab": {
      "provenance": [],
      "toc_visible": true
    },
    "kernelspec": {
      "name": "python3",
      "display_name": "Python 3"
    },
    "language_info": {
      "name": "python"
    }
  },
  "cells": [
    {
      "cell_type": "code",
      "source": [
        "# Developer Mode -> Develop -> qwiklabs-ecommerce"
      ],
      "metadata": {
        "id": "K10ifbPJ5yPJ"
      },
      "execution_count": null,
      "outputs": []
    },
    {
      "cell_type": "markdown",
      "source": [
        "##Task 1. Enable the Cloud Document AI API and copy lab source files"
      ],
      "metadata": {
        "id": "ZpF44m5anqwA"
      }
    },
    {
      "cell_type": "code",
      "source": [
        "# -> API & Services -> Library -> Cloud Document AI API -> Enable"
      ],
      "metadata": {
        "id": "Em0vFAWSeR9V"
      },
      "execution_count": null,
      "outputs": []
    },
    {
      "cell_type": "code",
      "source": [
        "  mkdir ./document-ai-challenge\n",
        "  gsutil -m cp -r gs://spls/gsp367/* \\\n",
        "    ~/document-ai-challenge/"
      ],
      "metadata": {
        "id": "eLMUiX1WfgNN"
      },
      "execution_count": null,
      "outputs": []
    },
    {
      "cell_type": "markdown",
      "source": [
        "##Task 2. Create a form processor"
      ],
      "metadata": {
        "id": "Y9GOSi9Inuv6"
      }
    },
    {
      "cell_type": "code",
      "source": [
        "# Document AI -> Explore Processors -> Form Parser: Create Processor -> Processor Name:\tform-processor"
      ],
      "metadata": {
        "id": "EcPZqKtYeZIQ"
      },
      "execution_count": null,
      "outputs": []
    },
    {
      "cell_type": "markdown",
      "source": [
        "##Task 3. Create Google Cloud resources"
      ],
      "metadata": {
        "id": "uJb-PQ2DnxtR"
      }
    },
    {
      "cell_type": "code",
      "source": [
        "export PROJECT_ID=$(gcloud config get-value core/project)\n",
        "export BUCKET_LOCATION=us-east4"
      ],
      "metadata": {
        "id": "k5lKn1vSegKF"
      },
      "execution_count": null,
      "outputs": []
    },
    {
      "cell_type": "code",
      "source": [
        "gsutil mb -c standard -l ${BUCKET_LOCATION} -b on \\\n",
        " gs://${PROJECT_ID}-input-invoices\n",
        "gsutil mb -c standard -l ${BUCKET_LOCATION} -b on \\\n",
        " gs://${PROJECT_ID}-output-invoices\n",
        "gsutil mb -c standard -l ${BUCKET_LOCATION} -b on \\\n",
        " gs://${PROJECT_ID}-archived-invoices"
      ],
      "metadata": {
        "id": "ulZBaJ0cghF0"
      },
      "execution_count": null,
      "outputs": []
    },
    {
      "cell_type": "code",
      "source": [
        "bq --location=\"US\" mk  -d \\\n",
        "   --description \"Form Parser Results\" \\\n",
        "   ${PROJECT_ID}:invoice_parser_results"
      ],
      "metadata": {
        "id": "SApXUDsKg0uM"
      },
      "execution_count": null,
      "outputs": []
    },
    {
      "cell_type": "code",
      "source": [
        "cd ~/documentai-pipeline-demo/scripts/table-schema/"
      ],
      "metadata": {
        "id": "R5VaybwwirZG"
      },
      "execution_count": null,
      "outputs": []
    },
    {
      "cell_type": "code",
      "source": [
        "bq mk --table invoice_parser_results.doc_ai_extracted_entities\\doc_ai_extracted_entities.json\n",
        "bq mk --table invoice_parser_results.geocode_details\\geocode_details.json"
      ],
      "metadata": {
        "id": "5e9VjL_fg0fp"
      },
      "execution_count": null,
      "outputs": []
    },
    {
      "cell_type": "markdown",
      "source": [
        "##Task 4. Deploy the document processing Cloud Run functions"
      ],
      "metadata": {
        "id": "Iugdh4Weegvi"
      }
    },
    {
      "cell_type": "code",
      "source": [
        "cd ~/document-ai-challenge/scripts"
      ],
      "metadata": {
        "id": "103iipcGegFp"
      },
      "execution_count": null,
      "outputs": []
    },
    {
      "cell_type": "code",
      "source": [
        "PROJECT_ID=$(gcloud config get-value project)\n",
        "PROJECT_NUMBER=$(gcloud projects list --filter=\"project_id:$PROJECT_ID\" --format='value(project_number)')\n",
        "\n",
        "SERVICE_ACCOUNT=$(gcloud storage service-agent --project=$PROJECT_ID)\n",
        "\n",
        "gcloud projects add-iam-policy-binding $PROJECT_ID \\\n",
        "  --member serviceAccount:$SERVICE_ACCOUNT \\\n",
        "  --role roles/pubsub.publisher"
      ],
      "metadata": {
        "id": "fEhCD8q2jEzV"
      },
      "execution_count": null,
      "outputs": []
    },
    {
      "cell_type": "code",
      "source": [
        "  export CLOUD_FUNCTION_LOCATION=us-east4\n",
        "  gcloud functions deploy process-invoices \\\n",
        "  --gen2 \\\n",
        "  --region=${CLOUD_FUNCTION_LOCATION} \\\n",
        "  --entry-point=process_invoice \\\n",
        "  --runtime=python39 \\\n",
        "  --service-account=${PROJECT_ID}@appspot.gserviceaccount.com \\\n",
        "  --source=cloud-functions/process-invoices \\\n",
        "  --timeout=400 \\\n",
        "  --env-vars-file=cloud-functions/process-invoices/.env.yaml \\\n",
        "  --trigger-resource=gs://${PROJECT_ID}-input-invoices \\\n",
        "  --trigger-event=google.storage.object.finalize\\\n",
        "  --service-account $PROJECT_NUMBER-compute@developer.gserviceaccount.com \\\n",
        "  --allow-unauthenticated"
      ],
      "metadata": {
        "id": "crbP_ks7jGrB"
      },
      "execution_count": null,
      "outputs": []
    },
    {
      "cell_type": "markdown",
      "source": [
        "##Task 5. Test and validate the end-to-end solution"
      ],
      "metadata": {
        "id": "FuE8t_CLelIy"
      }
    },
    {
      "cell_type": "code",
      "source": [
        "# Cloud Functions -> process-invoices -> Edit & Deploy -> Variables & Secrets -> Processor ID ... [-> Document AI] -> Deploy\n",
        "# -> Source -> Edit Source -> .env.yaml -> Processor ID ... [-> Document AI] -> Save & Redeploy"
      ],
      "metadata": {
        "id": "sCFGROZTmZaI"
      },
      "execution_count": null,
      "outputs": []
    },
    {
      "cell_type": "code",
      "source": [
        "gsutil -m cp -r gs://cloud-training/gsp367/* \\\n",
        " ~/document-ai-challenge/invoices gs://${PROJECT_ID}-input-invoices/"
      ],
      "metadata": {
        "id": "vYaGEmn2ifDQ"
      },
      "execution_count": null,
      "outputs": []
    },
    {
      "cell_type": "code",
      "source": [],
      "metadata": {
        "id": "xTXthdonekrI"
      },
      "execution_count": null,
      "outputs": []
    },
    {
      "cell_type": "code",
      "source": [],
      "metadata": {
        "id": "_HzQQ385Z5vY"
      },
      "execution_count": null,
      "outputs": []
    }
  ]
}