{
  "nbformat": 4,
  "nbformat_minor": 0,
  "metadata": {
    "colab": {
      "provenance": [],
      "toc_visible": true
    },
    "kernelspec": {
      "name": "python3",
      "display_name": "Python 3"
    },
    "language_info": {
      "name": "python"
    }
  },
  "cells": [
    {
      "cell_type": "code",
      "execution_count": null,
      "metadata": {
        "id": "U0-wiHo70hzY"
      },
      "outputs": [],
      "source": [
        "export ZONE=$(gcloud compute project-info describe \\\n",
        "--format=\"value(commonInstanceMetadata.items[google-compute-default-zone])\")"
      ]
    },
    {
      "cell_type": "markdown",
      "source": [
        "##Task 1. Deploy a GKE cluster"
      ],
      "metadata": {
        "id": "fh7VkN0N0znp"
      }
    },
    {
      "cell_type": "code",
      "source": [
        "gcloud container clusters create gmp-cluster --num-nodes=3 --zone=$ZONE"
      ],
      "metadata": {
        "id": "9ea4RP3b0y2s"
      },
      "execution_count": null,
      "outputs": []
    },
    {
      "cell_type": "code",
      "source": [
        "gcloud container clusters get-credentials gmp-cluster --zone=$ZONE"
      ],
      "metadata": {
        "id": "faY92GfG1K3o"
      },
      "execution_count": null,
      "outputs": []
    },
    {
      "cell_type": "markdown",
      "source": [
        "##Task 2. Deploy a managed collection"
      ],
      "metadata": {
        "id": "sFAiWjd_01v0"
      }
    },
    {
      "cell_type": "markdown",
      "source": [
        "##Task 3. Deploy an example application"
      ],
      "metadata": {
        "id": "3At6RSk505BE"
      }
    },
    {
      "cell_type": "markdown",
      "source": [
        "##Task 4. Filter exported metrics"
      ],
      "metadata": {
        "id": "C9RCHsVo0_Db"
      }
    },
    {
      "cell_type": "code",
      "source": [
        "kubectl create ns gmp-test"
      ],
      "metadata": {
        "id": "BXlvTNi21WKL"
      },
      "execution_count": null,
      "outputs": []
    },
    {
      "cell_type": "code",
      "source": [
        "kubectl -n gmp-test apply -f https://raw.githubusercontent.com/GoogleCloudPlatform/prometheus-engine/v0.2.3/manifests/setup.yaml"
      ],
      "metadata": {
        "id": "TKPeWI6A1WG2"
      },
      "execution_count": null,
      "outputs": []
    },
    {
      "cell_type": "code",
      "source": [
        "kubectl -n gmp-test apply -f https://raw.githubusercontent.com/GoogleCloudPlatform/prometheus-engine/v0.2.3/manifests/operator.yaml"
      ],
      "metadata": {
        "id": "ml5BGx0P1bse"
      },
      "execution_count": null,
      "outputs": []
    },
    {
      "cell_type": "code",
      "source": [
        "kubectl -n gmp-test apply -f https://raw.githubusercontent.com/GoogleCloudPlatform/prometheus-engine/v0.2.3/examples/example-app.yaml"
      ],
      "metadata": {
        "id": "kgVJE9Zi0y5x"
      },
      "execution_count": null,
      "outputs": []
    },
    {
      "cell_type": "code",
      "source": [
        "cat > op-config.yaml <<'EOF_END'\n",
        "apiVersion: monitoring.googleapis.com/v1alpha1\n",
        "collection:\n",
        "  filter:\n",
        "    matchOneOf:\n",
        "    - '{job=\"prom-example\"}'\n",
        "    - '{__name__=~\"job:.+\"}'\n",
        "kind: OperatorConfig\n",
        "metadata:\n",
        "  annotations:\n",
        "    components.gke.io/layer: addon\n",
        "    kubectl.kubernetes.io/last-applied-configuration: |\n",
        "      {\"apiVersion\":\"monitoring.googleapis.com/v1alpha1\",\"kind\":\"OperatorConfig\",\"metadata\":{\"annotations\":{\"components.gke.io/layer\":\"addon\"},\"labels\":{\"addonmanager.kubernetes.io/mode\":\"Reconcile\"},\"name\":\"config\",\"namespace\":\"gmp-public\"}}\n",
        "  creationTimestamp: \"2022-03-14T22:34:23Z\"\n",
        "  generation: 1\n",
        "  labels:\n",
        "    addonmanager.kubernetes.io/mode: Reconcile\n",
        "  name: config\n",
        "  namespace: gmp-public\n",
        "  resourceVersion: \"2882\"\n",
        "  uid: 4ad23359-efeb-42bb-b689-045bd704f295\n",
        "EOF_END"
      ],
      "metadata": {
        "id": "8Fy-ND1A1fuc"
      },
      "execution_count": null,
      "outputs": []
    },
    {
      "cell_type": "code",
      "source": [
        "export PROJECT=$(gcloud config get-value project)"
      ],
      "metadata": {
        "id": "Qx5JUpyh1kWz"
      },
      "execution_count": null,
      "outputs": []
    },
    {
      "cell_type": "code",
      "source": [
        "gsutil mb -p $PROJECT gs://$PROJECT"
      ],
      "metadata": {
        "id": "b51E2eKy1frG"
      },
      "execution_count": null,
      "outputs": []
    },
    {
      "cell_type": "code",
      "source": [
        "gsutil cp op-config.yaml gs://$PROJECT"
      ],
      "metadata": {
        "id": "bg9liJig0y8f"
      },
      "execution_count": null,
      "outputs": []
    },
    {
      "cell_type": "code",
      "source": [
        "gsutil -m acl set -R -a public-read gs://$PROJECT"
      ],
      "metadata": {
        "id": "lz_RmAjL0y_y"
      },
      "execution_count": null,
      "outputs": []
    },
    {
      "cell_type": "code",
      "source": [],
      "metadata": {
        "id": "d_fityLm1wuo"
      },
      "execution_count": null,
      "outputs": []
    }
  ]
}