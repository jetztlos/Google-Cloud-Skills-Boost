{
  "nbformat": 4,
  "nbformat_minor": 0,
  "metadata": {
    "colab": {
      "provenance": [],
      "toc_visible": true
    },
    "kernelspec": {
      "name": "python3",
      "display_name": "Python 3"
    },
    "language_info": {
      "name": "python"
    }
  },
  "cells": [
    {
      "cell_type": "markdown",
      "source": [
        "##Task 1. Create a Linux VM instance"
      ],
      "metadata": {
        "id": "ZpF44m5anqwA"
      }
    },
    {
      "cell_type": "code",
      "source": [
        "# Compute Engine -> VM Instances -> Create instance"
      ],
      "metadata": {
        "id": "o40q8DUA4J6-"
      },
      "execution_count": null,
      "outputs": []
    },
    {
      "cell_type": "markdown",
      "source": [
        "##Task 2. Enable public access to VM instance"
      ],
      "metadata": {
        "id": "Y9GOSi9Inuv6"
      }
    },
    {
      "cell_type": "code",
      "source": [
        "# VPC Network -> Firewall -> Create firewall rule\n",
        "# Name: \"allow-http\"; Target tags: \"http-server\"; Source IPv4 ranges: \"0.0.0.0/0\"; Specified protocols and ports -> TCP -> Ports: \"80\""
      ],
      "metadata": {
        "id": "D0p247w_42fZ"
      },
      "execution_count": null,
      "outputs": []
    },
    {
      "cell_type": "code",
      "source": [
        "# Compute Engine -> VM Instances -> Stop, Edit -> Network interfaces -> Network tags: \"http-server\" -> Start"
      ],
      "metadata": {
        "id": "K0qJg-B66OG7"
      },
      "execution_count": null,
      "outputs": []
    },
    {
      "cell_type": "markdown",
      "source": [
        "##Task 3. Running a basic Apache Web Server"
      ],
      "metadata": {
        "id": "uJb-PQ2DnxtR"
      }
    },
    {
      "cell_type": "code",
      "source": [
        "# -> SSH"
      ],
      "metadata": {
        "id": "s23icRYU7xch"
      },
      "execution_count": null,
      "outputs": []
    },
    {
      "cell_type": "code",
      "source": [
        "sudo apt update && sudo apt install apache2 -y"
      ],
      "metadata": {
        "id": "S6bXsqUf8pJQ"
      },
      "execution_count": null,
      "outputs": []
    },
    {
      "cell_type": "markdown",
      "source": [
        "##Task 4. Test your server"
      ],
      "metadata": {
        "id": "R7c0blhon0tY"
      }
    },
    {
      "cell_type": "code",
      "source": [
        "# -> External IP"
      ],
      "metadata": {
        "id": "kNZEkXMk8z64"
      },
      "execution_count": null,
      "outputs": []
    },
    {
      "cell_type": "code",
      "source": [],
      "metadata": {
        "id": "1DDLmcQmn8hw"
      },
      "execution_count": null,
      "outputs": []
    }
  ]
}