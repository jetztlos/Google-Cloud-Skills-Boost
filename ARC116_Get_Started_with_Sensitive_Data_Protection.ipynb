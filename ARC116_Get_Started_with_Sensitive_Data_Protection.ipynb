{
  "nbformat": 4,
  "nbformat_minor": 0,
  "metadata": {
    "colab": {
      "provenance": [],
      "toc_visible": true
    },
    "kernelspec": {
      "name": "python3",
      "display_name": "Python 3"
    },
    "language_info": {
      "name": "python"
    }
  },
  "cells": [
    {
      "cell_type": "code",
      "source": [
        "export BUCKET_NAME=qwiklabs-gcp-00-941b48503dd2-redact"
      ],
      "metadata": {
        "id": "EewDawsxsZT3"
      },
      "execution_count": null,
      "outputs": []
    },
    {
      "cell_type": "markdown",
      "source": [
        "##Task 1. Redact sensitive data from text content"
      ],
      "metadata": {
        "id": "l2wTUrxzqsxj"
      }
    },
    {
      "cell_type": "code",
      "execution_count": null,
      "metadata": {
        "id": "HSBdmV8Nqqzx"
      },
      "outputs": [],
      "source": [
        "cat > redact-request.json <<EOF\n",
        "{\n",
        "\t\"item\": {\n",
        "\t\t\"value\": \"Please update my records with the following information:\\n Email address: foo@example.com,\\nNational Provider Identifier: 1245319599\"\n",
        "\t},\n",
        "\t\"deidentifyConfig\": {\n",
        "\t\t\"infoTypeTransformations\": {\n",
        "\t\t\t\"transformations\": [{\n",
        "\t\t\t\t\"primitiveTransformation\": {\n",
        "\t\t\t\t\t\"replaceWithInfoTypeConfig\": {}\n",
        "\t\t\t\t}\n",
        "\t\t\t}]\n",
        "\t\t}\n",
        "\t},\n",
        "\t\"inspectConfig\": {\n",
        "\t\t\"infoTypes\": [{\n",
        "\t\t\t\t\"name\": \"EMAIL_ADDRESS\"\n",
        "\t\t\t},\n",
        "\t\t\t{\n",
        "\t\t\t\t\"name\": \"US_HEALTHCARE_NPI\"\n",
        "\t\t\t}\n",
        "\t\t]\n",
        "\t}\n",
        "}\n",
        "EOF"
      ]
    },
    {
      "cell_type": "code",
      "source": [
        "curl -s \\\n",
        "  -H \"Authorization: Bearer $(gcloud auth print-access-token)\" \\\n",
        "  -H \"Content-Type: application/json\" \\\n",
        "  https://dlp.googleapis.com/v2/projects/$DEVSHELL_PROJECT_ID/content:deidentify \\\n",
        "  -d @redact-request.json -o redact-response.txt"
      ],
      "metadata": {
        "id": "J6nMtu1aqr8Z"
      },
      "execution_count": null,
      "outputs": []
    },
    {
      "cell_type": "code",
      "source": [
        "gsutil cp redact-response.txt gs://$BUCKET_NAME"
      ],
      "metadata": {
        "id": "PXJwZxresrNW"
      },
      "execution_count": null,
      "outputs": []
    },
    {
      "cell_type": "markdown",
      "source": [
        "##Task 2. Create DLP inspection templates"
      ],
      "metadata": {
        "id": "M6lzXmUNqxGt"
      }
    },
    {
      "cell_type": "code",
      "source": [
        "# Security -> DLP/Sensitive Data Protection -> Configuration -> De-Indentify -> + Create Template x2"
      ],
      "metadata": {
        "id": "X2oRxuHiqr5C"
      },
      "execution_count": null,
      "outputs": []
    },
    {
      "cell_type": "markdown",
      "source": [
        "##Task 3. Configure a job trigger to run DLP inspection"
      ],
      "metadata": {
        "id": "c4ih3A6Oq0lp"
      }
    },
    {
      "cell_type": "code",
      "source": [
        "# Security -> DLP/Sensitive Data Protection -> Inspection -> Job Triggers -> + Create Job and Job Triggers"
      ],
      "metadata": {
        "id": "AhGV6uyJqr01"
      },
      "execution_count": null,
      "outputs": []
    },
    {
      "cell_type": "code",
      "source": [
        "# ... -> Run now -> Go to triggered job"
      ],
      "metadata": {
        "id": "L7aH3u4gqryx"
      },
      "execution_count": null,
      "outputs": []
    },
    {
      "cell_type": "code",
      "source": [],
      "metadata": {
        "id": "LuRydwytqrw4"
      },
      "execution_count": null,
      "outputs": []
    },
    {
      "cell_type": "code",
      "source": [],
      "metadata": {
        "id": "nuE8Hj80qruo"
      },
      "execution_count": null,
      "outputs": []
    }
  ]
}