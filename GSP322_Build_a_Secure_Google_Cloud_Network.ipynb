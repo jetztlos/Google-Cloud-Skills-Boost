{
  "nbformat": 4,
  "nbformat_minor": 0,
  "metadata": {
    "colab": {
      "provenance": [],
      "toc_visible": true
    },
    "kernelspec": {
      "name": "python3",
      "display_name": "Python 3"
    },
    "language_info": {
      "name": "python"
    }
  },
  "cells": [
    {
      "cell_type": "code",
      "execution_count": null,
      "metadata": {
        "id": "RZby3yCibkR8"
      },
      "outputs": [],
      "source": [
        "# Cloud Shell\n",
        "gcloud auth list"
      ]
    },
    {
      "cell_type": "code",
      "source": [
        "export IAP_NET_TAG=grant-ssh-iap-ingress-ql-605\n",
        "export INT_NET_TAG=grant-ssh-internal-ingress-ql-605\n",
        "export HTTP_NET_TAG=grant-http-ingress-ql-605\n",
        "export ZONE=us-east4-a"
      ],
      "metadata": {
        "id": "6JSna1gkcFTe"
      },
      "execution_count": null,
      "outputs": []
    },
    {
      "cell_type": "markdown",
      "source": [
        "1. Check the firewall rules. Remove the overly permissive rules."
      ],
      "metadata": {
        "id": "vWKjtgVb_n-I"
      }
    },
    {
      "cell_type": "code",
      "source": [
        "gcloud compute firewall-rules delete open-access --quiet"
      ],
      "metadata": {
        "id": "w_kX9yO_-2Ye"
      },
      "execution_count": null,
      "outputs": []
    },
    {
      "cell_type": "markdown",
      "source": [
        "2. Navigate to Compute Engine in the Cloud console and identify the bastion host. The instance should be stopped. Start the instance."
      ],
      "metadata": {
        "id": "MooBzPMx_tsc"
      }
    },
    {
      "cell_type": "code",
      "source": [
        "gcloud compute instances start bastion \\\n",
        "    --project=$DEVSHELL_PROJECT_ID \\\n",
        "    --zone=$ZONE"
      ],
      "metadata": {
        "id": "ph7aIbhJ-8YW"
      },
      "execution_count": null,
      "outputs": []
    },
    {
      "cell_type": "markdown",
      "source": [
        "3. The bastion host is the one machine authorized to receive external SSH traffic. Create a firewall rule that allows SSH (tcp/22) from the IAP service. The firewall rule must be enabled for the bastion host instance using a network tag of grant-ssh-iap-ingress-ql-605."
      ],
      "metadata": {
        "id": "K42Yi7fW_0_u"
      }
    },
    {
      "cell_type": "code",
      "source": [
        "gcloud compute firewall-rules create ssh-ingress --allow=tcp:22 --source-ranges 35.235.240.0/20 --target-tags $IAP_NET_TAG --network acme-vpc"
      ],
      "metadata": {
        "id": "qCprV8PN-8Uh"
      },
      "execution_count": null,
      "outputs": []
    },
    {
      "cell_type": "code",
      "source": [
        "gcloud compute instances add-tags bastion --tags=$IAP_NET_TAG --zone=$ZONE"
      ],
      "metadata": {
        "id": "ySTWmgTv-8SW"
      },
      "execution_count": null,
      "outputs": []
    },
    {
      "cell_type": "markdown",
      "source": [
        "4. The juice-shop server serves HTTP traffic. Create a firewall rule that allows traffic on HTTP (tcp/80) to any address. The firewall rule must be enabled for the juice-shop instance using a network tag of grant-http-ingress-ql-605."
      ],
      "metadata": {
        "id": "01wWouuu__0o"
      }
    },
    {
      "cell_type": "code",
      "source": [
        "gcloud compute firewall-rules create http-ingress --allow=tcp:80 --source-ranges 0.0.0.0/0 --target-tags $HTTP_NET_TAG --network acme-vpc"
      ],
      "metadata": {
        "id": "-nRlAJtN-8QR"
      },
      "execution_count": null,
      "outputs": []
    },
    {
      "cell_type": "code",
      "source": [
        "gcloud compute instances add-tags juice-shop --tags=$HTTP_NET_TAG --zone=$ZONE"
      ],
      "metadata": {
        "id": "y7KiaLxO-2U7"
      },
      "execution_count": null,
      "outputs": []
    },
    {
      "cell_type": "markdown",
      "source": [
        "5. You need to connect to juice-shop from the bastion using SSH. Create a firewall rule that allows traffic on SSH (tcp/22) from acme-mgmt-subnet network address. The firewall rule must be enabled for the juice-shop instance using a network tag of grant-ssh-internal-ingress-ql-605."
      ],
      "metadata": {
        "id": "uBvyhl0zALLv"
      }
    },
    {
      "cell_type": "code",
      "source": [
        "gcloud compute firewall-rules create internal-ssh-ingress --allow=tcp:22 --source-ranges 192.168.10.0/24 --target-tags $INT_NET_TAG --network acme-vpc"
      ],
      "metadata": {
        "id": "BnzKTr_U-2Sb"
      },
      "execution_count": null,
      "outputs": []
    },
    {
      "cell_type": "code",
      "source": [
        "gcloud compute instances add-tags juice-shop --tags=$INT_NET_TAG --zone=$ZONE"
      ],
      "metadata": {
        "id": "R_tTSYH__NR6"
      },
      "execution_count": null,
      "outputs": []
    },
    {
      "cell_type": "code",
      "source": [
        "cat > prepare_disk.sh <<'EOF_END'\n",
        "\n",
        "export ZONE=$(gcloud compute instances list juice-shop --format 'csv[no-heading](zone)')\n",
        "\n",
        "gcloud compute ssh juice-shop --internal-ip --zone=$ZONE --quiet\n",
        "\n",
        "EOF_END"
      ],
      "metadata": {
        "id": "irGfBwnN_NOg"
      },
      "execution_count": null,
      "outputs": []
    },
    {
      "cell_type": "code",
      "source": [
        "gcloud compute scp prepare_disk.sh bastion:/tmp --project=$DEVSHELL_PROJECT_ID --zone=$ZONE --quiet"
      ],
      "metadata": {
        "id": "2RogKHQw-2Qm"
      },
      "execution_count": null,
      "outputs": []
    },
    {
      "cell_type": "markdown",
      "source": [
        "6. In the Compute Engine instances page, click the SSH button for the bastion host. Once connected, SSH to juice-shop."
      ],
      "metadata": {
        "id": "j-fXSOvxAVSe"
      }
    },
    {
      "cell_type": "code",
      "source": [
        "gcloud compute ssh bastion --project=$DEVSHELL_PROJECT_ID --zone=$ZONE --quiet --command=\"bash /tmp/prepare_disk.sh\""
      ],
      "metadata": {
        "id": "NqlMdFn7-2OR"
      },
      "execution_count": null,
      "outputs": []
    },
    {
      "cell_type": "code",
      "source": [],
      "metadata": {
        "id": "DSm1CzJ0dZn4"
      },
      "execution_count": null,
      "outputs": []
    },
    {
      "cell_type": "code",
      "source": [],
      "metadata": {
        "id": "uC6RuvCDdZmF"
      },
      "execution_count": null,
      "outputs": []
    }
  ]
}