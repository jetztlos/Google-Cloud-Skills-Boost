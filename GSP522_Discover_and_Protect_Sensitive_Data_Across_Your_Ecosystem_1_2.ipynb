{
  "nbformat": 4,
  "nbformat_minor": 0,
  "metadata": {
    "colab": {
      "provenance": [],
      "toc_visible": true
    },
    "kernelspec": {
      "name": "python3",
      "display_name": "Python 3"
    },
    "language_info": {
      "name": "python"
    }
  },
  "cells": [
    {
      "cell_type": "code",
      "execution_count": null,
      "metadata": {
        "id": "taHIMfZ-SyTA"
      },
      "outputs": [],
      "source": [
        "export PROJECT_ID=$(gcloud config get-value project)"
      ]
    },
    {
      "cell_type": "code",
      "source": [
        "export PROJECT_NUMBER=$(gcloud projects describe ${PROJECT_ID} \\\n",
        "    --format=\"value(projectNumber)\")"
      ],
      "metadata": {
        "id": "x0D_-WtNTb9S"
      },
      "execution_count": null,
      "outputs": []
    },
    {
      "cell_type": "markdown",
      "source": [
        "##Task 1. Enable sensitive data protection for Cloud Storage"
      ],
      "metadata": {
        "id": "Rk6AuSReS54U"
      }
    },
    {
      "cell_type": "code",
      "source": [
        "# Security -> Sensitive Data Protection -> Create scan configuration: Cloud Storage ..."
      ],
      "metadata": {
        "id": "tTeLpqsGVI5v"
      },
      "execution_count": null,
      "outputs": []
    },
    {
      "cell_type": "code",
      "source": [
        "cat <<EOF > deidentify-template.json\n",
        "{\n",
        "  \"deidentifyTemplate\": {\n",
        "    \"deidentifyConfig\": {\n",
        "      \"recordTransformations\": {\n",
        "        \"fieldTransformations\": [\n",
        "          {\n",
        "            \"fields\": [\n",
        "              {\n",
        "                \"name\": \"ssn\"\n",
        "              },\n",
        "              {\n",
        "                \"name\": \"email\"\n",
        "              }\n",
        "            ],\n",
        "            \"primitiveTransformation\": {\n",
        "              \"replaceConfig\": {\n",
        "                \"newValue\": {\n",
        "                  \"stringValue\": \"[redacted]\"\n",
        "                }\n",
        "              }\n",
        "            }\n",
        "          },\n",
        "          {\n",
        "            \"fields\": [\n",
        "              {\n",
        "                \"name\": \"message\"\n",
        "              }\n",
        "            ],\n",
        "            \"infoTypeTransformations\": {\n",
        "              \"transformations\": [\n",
        "                {\n",
        "                  \"primitiveTransformation\": {\n",
        "                    \"replaceWithInfoTypeConfig\": {}\n",
        "                  }\n",
        "                }\n",
        "              ]\n",
        "            }\n",
        "          }\n",
        "        ]\n",
        "      }\n",
        "    },\n",
        "    \"displayName\": \"De-identify Credit Card Numbers\"\n",
        "  },\n",
        "  \"locationId\": \"global\",\n",
        "  \"templateId\": \"us_ccn_deidentify\"\n",
        "}\n",
        "EOF"
      ],
      "metadata": {
        "id": "iv8ofrCrS5S1"
      },
      "execution_count": null,
      "outputs": []
    },
    {
      "cell_type": "code",
      "source": [
        "curl -X POST -s \\\n",
        "-H \"Authorization: Bearer $(gcloud auth application-default print-access-token)\" \\\n",
        "-H \"Content-Type: application/json\" \\\n",
        "-d @deidentify-template.json \\\n",
        "\"https://dlp.googleapis.com/v2/projects/$DEVSHELL_PROJECT_ID/locations/global/deidentifyTemplates\""
      ],
      "metadata": {
        "id": "D8JFv5HJS5Pa"
      },
      "execution_count": null,
      "outputs": []
    },
    {
      "cell_type": "code",
      "source": [
        "export TEMPLATE_ID=$(curl -s \\\n",
        "--request GET \\\n",
        "--url \"https://dlp.googleapis.com/v2/projects/$DEVSHELL_PROJECT_ID/locations/global/deidentifyTemplates/us_ccn_deidentify\" \\\n",
        "--header \"Authorization: Bearer $(gcloud auth application-default print-access-token)\" \\\n",
        "--header \"Content-Type: application/json\" \\\n",
        "| jq -r '.name')"
      ],
      "metadata": {
        "id": "Wj8BHCwqTv_H"
      },
      "execution_count": null,
      "outputs": []
    },
    {
      "cell_type": "code",
      "source": [
        "cat > job-configuration.json << EOM\n",
        "{\n",
        "  \"jobId\": \"us_ccn_deidentify\",\n",
        "  \"inspectJob\": {\n",
        "    \"actions\": [\n",
        "      {\n",
        "        \"deidentify\": {\n",
        "          \"fileTypesToTransform\": [\n",
        "            \"TEXT_FILE\",\n",
        "            \"IMAGE\",\n",
        "            \"CSV\",\n",
        "            \"TSV\"\n",
        "          ],\n",
        "          \"transformationDetailsStorageConfig\": {\n",
        "            \"table\": {\n",
        "              \"projectId\": \"$DEVSHELL_PROJECT_ID\",\n",
        "              \"datasetId\": \"cs_transformations\",\n",
        "              \"tableId\": \"deidentify_ccn\"\n",
        "            }\n",
        "          },\n",
        "          \"transformationConfig\": {\n",
        "            \"structuredDeidentifyTemplate\": \"$TEMPLATE_ID\"\n",
        "          },\n",
        "          \"cloudStorageOutput\": \"gs://$DEVSHELL_PROJECT_ID-car-owners-transformed\"\n",
        "        }\n",
        "      }\n",
        "    ],\n",
        "    \"inspectConfig\": {\n",
        "      \"infoTypes\": [\n",
        "        {\n",
        "          \"name\": \"ADVERTISING_ID\"\n",
        "        },\n",
        "        {\n",
        "          \"name\": \"AGE\"\n",
        "        },\n",
        "        {\n",
        "          \"name\": \"ARGENTINA_DNI_NUMBER\"\n",
        "        },\n",
        "        {\n",
        "          \"name\": \"AUSTRALIA_TAX_FILE_NUMBER\"\n",
        "        },\n",
        "        {\n",
        "          \"name\": \"BELGIUM_NATIONAL_ID_CARD_NUMBER\"\n",
        "        },\n",
        "        {\n",
        "          \"name\": \"BRAZIL_CPF_NUMBER\"\n",
        "        },\n",
        "        {\n",
        "          \"name\": \"CANADA_SOCIAL_INSURANCE_NUMBER\"\n",
        "        },\n",
        "        {\n",
        "          \"name\": \"CHILE_CDI_NUMBER\"\n",
        "        },\n",
        "        {\n",
        "          \"name\": \"CHINA_RESIDENT_ID_NUMBER\"\n",
        "        },\n",
        "        {\n",
        "          \"name\": \"COLOMBIA_CDC_NUMBER\"\n",
        "        },\n",
        "        {\n",
        "          \"name\": \"CREDIT_CARD_NUMBER\"\n",
        "        },\n",
        "        {\n",
        "          \"name\": \"CREDIT_CARD_TRACK_NUMBER\"\n",
        "        },\n",
        "        {\n",
        "          \"name\": \"DATE_OF_BIRTH\"\n",
        "        },\n",
        "        {\n",
        "          \"name\": \"DENMARK_CPR_NUMBER\"\n",
        "        },\n",
        "        {\n",
        "          \"name\": \"EMAIL_ADDRESS\"\n",
        "        },\n",
        "        {\n",
        "          \"name\": \"ETHNIC_GROUP\"\n",
        "        },\n",
        "        {\n",
        "          \"name\": \"FDA_CODE\"\n",
        "        },\n",
        "        {\n",
        "          \"name\": \"FINLAND_NATIONAL_ID_NUMBER\"\n",
        "        },\n",
        "        {\n",
        "          \"name\": \"FRANCE_CNI\"\n",
        "        },\n",
        "        {\n",
        "          \"name\": \"FRANCE_NIR\"\n",
        "        },\n",
        "        {\n",
        "          \"name\": \"FRANCE_TAX_IDENTIFICATION_NUMBER\"\n",
        "        },\n",
        "        {\n",
        "          \"name\": \"GENDER\"\n",
        "        },\n",
        "        {\n",
        "          \"name\": \"GERMANY_IDENTITY_CARD_NUMBER\"\n",
        "        },\n",
        "        {\n",
        "          \"name\": \"GERMANY_TAXPAYER_IDENTIFICATION_NUMBER\"\n",
        "        },\n",
        "        {\n",
        "          \"name\": \"HONG_KONG_ID_NUMBER\"\n",
        "        },\n",
        "        {\n",
        "          \"name\": \"IBAN_CODE\"\n",
        "        },\n",
        "        {\n",
        "          \"name\": \"IMEI_HARDWARE_ID\"\n",
        "        },\n",
        "        {\n",
        "          \"name\": \"INDIA_AADHAAR_INDIVIDUAL\"\n",
        "        },\n",
        "        {\n",
        "          \"name\": \"INDIA_GST_INDIVIDUAL\"\n",
        "        },\n",
        "        {\n",
        "          \"name\": \"INDIA_PAN_INDIVIDUAL\"\n",
        "        },\n",
        "        {\n",
        "          \"name\": \"INDONESIA_NIK_NUMBER\"\n",
        "        },\n",
        "        {\n",
        "          \"name\": \"IRELAND_PPSN\"\n",
        "        },\n",
        "        {\n",
        "          \"name\": \"ISRAEL_IDENTITY_CARD_NUMBER\"\n",
        "        },\n",
        "        {\n",
        "          \"name\": \"JAPAN_INDIVIDUAL_NUMBER\"\n",
        "        },\n",
        "        {\n",
        "          \"name\": \"KOREA_RRN\"\n",
        "        },\n",
        "        {\n",
        "          \"name\": \"MAC_ADDRESS\"\n",
        "        },\n",
        "        {\n",
        "          \"name\": \"MEXICO_CURP_NUMBER\"\n",
        "        },\n",
        "        {\n",
        "          \"name\": \"NETHERLANDS_BSN_NUMBER\"\n",
        "        },\n",
        "        {\n",
        "          \"name\": \"NORWAY_NI_NUMBER\"\n",
        "        },\n",
        "        {\n",
        "          \"name\": \"PARAGUAY_CIC_NUMBER\"\n",
        "        },\n",
        "        {\n",
        "          \"name\": \"PASSPORT\"\n",
        "        },\n",
        "        {\n",
        "          \"name\": \"PERSON_NAME\"\n",
        "        },\n",
        "        {\n",
        "          \"name\": \"PERU_DNI_NUMBER\"\n",
        "        },\n",
        "        {\n",
        "          \"name\": \"PHONE_NUMBER\"\n",
        "        },\n",
        "        {\n",
        "          \"name\": \"POLAND_NATIONAL_ID_NUMBER\"\n",
        "        },\n",
        "        {\n",
        "          \"name\": \"PORTUGAL_CDC_NUMBER\"\n",
        "        },\n",
        "        {\n",
        "          \"name\": \"SCOTLAND_COMMUNITY_HEALTH_INDEX_NUMBER\"\n",
        "        },\n",
        "        {\n",
        "          \"name\": \"SINGAPORE_NATIONAL_REGISTRATION_ID_NUMBER\"\n",
        "        },\n",
        "        {\n",
        "          \"name\": \"SPAIN_CIF_NUMBER\"\n",
        "        },\n",
        "        {\n",
        "          \"name\": \"SPAIN_DNI_NUMBER\"\n",
        "        },\n",
        "        {\n",
        "          \"name\": \"SPAIN_NIE_NUMBER\"\n",
        "        },\n",
        "        {\n",
        "          \"name\": \"SPAIN_NIF_NUMBER\"\n",
        "        },\n",
        "        {\n",
        "          \"name\": \"SPAIN_SOCIAL_SECURITY_NUMBER\"\n",
        "        },\n",
        "        {\n",
        "          \"name\": \"STORAGE_SIGNED_URL\"\n",
        "        },\n",
        "        {\n",
        "          \"name\": \"STREET_ADDRESS\"\n",
        "        },\n",
        "        {\n",
        "          \"name\": \"SWEDEN_NATIONAL_ID_NUMBER\"\n",
        "        },\n",
        "        {\n",
        "          \"name\": \"SWIFT_CODE\"\n",
        "        },\n",
        "        {\n",
        "          \"name\": \"THAILAND_NATIONAL_ID_NUMBER\"\n",
        "        },\n",
        "        {\n",
        "          \"name\": \"TURKEY_ID_NUMBER\"\n",
        "        },\n",
        "        {\n",
        "          \"name\": \"UK_NATIONAL_HEALTH_SERVICE_NUMBER\"\n",
        "        },\n",
        "        {\n",
        "          \"name\": \"UK_NATIONAL_INSURANCE_NUMBER\"\n",
        "        },\n",
        "        {\n",
        "          \"name\": \"UK_TAXPAYER_REFERENCE\"\n",
        "        },\n",
        "        {\n",
        "          \"name\": \"URUGUAY_CDI_NUMBER\"\n",
        "        },\n",
        "        {\n",
        "          \"name\": \"US_BANK_ROUTING_MICR\"\n",
        "        },\n",
        "        {\n",
        "          \"name\": \"US_EMPLOYER_IDENTIFICATION_NUMBER\"\n",
        "        },\n",
        "        {\n",
        "          \"name\": \"US_HEALTHCARE_NPI\"\n",
        "        },\n",
        "        {\n",
        "          \"name\": \"US_INDIVIDUAL_TAXPAYER_IDENTIFICATION_NUMBER\"\n",
        "        },\n",
        "        {\n",
        "          \"name\": \"US_SOCIAL_SECURITY_NUMBER\"\n",
        "        },\n",
        "        {\n",
        "          \"name\": \"VEHICLE_IDENTIFICATION_NUMBER\"\n",
        "        },\n",
        "        {\n",
        "          \"name\": \"VENEZUELA_CDI_NUMBER\"\n",
        "        },\n",
        "        {\n",
        "          \"name\": \"WEAK_PASSWORD_HASH\"\n",
        "        },\n",
        "        {\n",
        "          \"name\": \"AUTH_TOKEN\"\n",
        "        },\n",
        "        {\n",
        "          \"name\": \"AWS_CREDENTIALS\"\n",
        "        },\n",
        "        {\n",
        "          \"name\": \"AZURE_AUTH_TOKEN\"\n",
        "        },\n",
        "        {\n",
        "          \"name\": \"BASIC_AUTH_HEADER\"\n",
        "        },\n",
        "        {\n",
        "          \"name\": \"ENCRYPTION_KEY\"\n",
        "        },\n",
        "        {\n",
        "          \"name\": \"GCP_API_KEY\"\n",
        "        },\n",
        "        {\n",
        "          \"name\": \"GCP_CREDENTIALS\"\n",
        "        },\n",
        "        {\n",
        "          \"name\": \"JSON_WEB_TOKEN\"\n",
        "        },\n",
        "        {\n",
        "          \"name\": \"HTTP_COOKIE\"\n",
        "        },\n",
        "        {\n",
        "          \"name\": \"XSRF_TOKEN\"\n",
        "        }\n",
        "      ],\n",
        "      \"minLikelihood\": \"POSSIBLE\"\n",
        "    },\n",
        "    \"storageConfig\": {\n",
        "      \"cloudStorageOptions\": {\n",
        "        \"filesLimitPercent\": 100,\n",
        "        \"fileTypes\": [\n",
        "          \"TEXT_FILE\",\n",
        "          \"IMAGE\",\n",
        "          \"WORD\",\n",
        "          \"PDF\",\n",
        "          \"AVRO\",\n",
        "          \"CSV\",\n",
        "          \"TSV\",\n",
        "          \"EXCEL\",\n",
        "          \"POWERPOINT\"\n",
        "        ],\n",
        "        \"fileSet\": {\n",
        "          \"url\": \"gs://$DEVSHELL_PROJECT_ID-car-owners/**\"\n",
        "        }\n",
        "      }\n",
        "    }\n",
        "  }\n",
        "}\n",
        "EOM"
      ],
      "metadata": {
        "id": "ap0kYZ5yT3JC"
      },
      "execution_count": null,
      "outputs": []
    },
    {
      "cell_type": "code",
      "source": [
        "curl -s \\\n",
        "  -X POST \\\n",
        "  -H \"Authorization: Bearer $(gcloud auth application-default print-access-token)\" \\\n",
        "  -H \"Content-Type: application/json\" \\\n",
        "  \"https://dlp.googleapis.com/v2/projects/$DEVSHELL_PROJECT_ID/dlpJobs\" \\\n",
        "  -d @job-configuration.json"
      ],
      "metadata": {
        "id": "abJUMd2MT7Z8"
      },
      "execution_count": null,
      "outputs": []
    },
    {
      "cell_type": "markdown",
      "source": [
        "##Task 2. Enable sensitive data protection for BigQuery"
      ],
      "metadata": {
        "id": "0DKqg2FjS9dj"
      }
    },
    {
      "cell_type": "code",
      "source": [
        "gcloud resource-manager tags keys create SPII \\\n",
        "    --parent=projects/$PROJECT_NUMBER \\\n",
        "    --description=\"Flag for sensitive personally identifiable information (SPII)\""
      ],
      "metadata": {
        "id": "_GemdGFRT8A7"
      },
      "execution_count": null,
      "outputs": []
    },
    {
      "cell_type": "code",
      "source": [
        "TAG_KEY_ID=$(gcloud resource-manager tags keys list --parent=\"projects/${PROJECT_NUMBER}\" --format=\"value(NAME)\")"
      ],
      "metadata": {
        "id": "mS4F-qoXT_Dn"
      },
      "execution_count": null,
      "outputs": []
    },
    {
      "cell_type": "code",
      "source": [
        "gcloud resource-manager tags values create Yes \\\n",
        "    --parent=$TAG_KEY_ID \\\n",
        "    --description=\"Contains sensitive personally identifiable information (SPII)\""
      ],
      "metadata": {
        "id": "7NYfa0hBUEKe"
      },
      "execution_count": null,
      "outputs": []
    },
    {
      "cell_type": "code",
      "source": [
        "gcloud resource-manager tags values create No \\\n",
        "    --parent=$TAG_KEY_ID \\\n",
        "    --description=\"Does not contain sensitive personally identifiable information (SPII)\""
      ],
      "metadata": {
        "id": "qO29JPLwUILu"
      },
      "execution_count": null,
      "outputs": []
    },
    {
      "cell_type": "code",
      "source": [
        "# IAM & Admin -> IAM -> [Username 2] -> Edit principal ..."
      ],
      "metadata": {
        "id": "7j2kcaERW-oQ"
      },
      "execution_count": null,
      "outputs": []
    },
    {
      "cell_type": "code",
      "source": [
        "# BigQuery -> [Project ID] -> orders -> Edit Details -> Tags ..."
      ],
      "metadata": {
        "id": "vMztZ47fYYkU"
      },
      "execution_count": null,
      "outputs": []
    },
    {
      "cell_type": "markdown",
      "source": [
        "##Task 3. Protect sensitive data in Gen AI model responses"
      ],
      "metadata": {
        "id": "Y3IM-VsxTBUP"
      }
    },
    {
      "cell_type": "code",
      "source": [
        "# Vertex AI -> Workbench -> Open JupyterLab -> GSP522_Discover and Protect Sensitive Data Across Your Ecosystem_3.ipynb"
      ],
      "metadata": {
        "id": "iJcF2sB9ZcZX"
      },
      "execution_count": null,
      "outputs": []
    },
    {
      "cell_type": "code",
      "source": [],
      "metadata": {
        "id": "UYuAc-UOS5LS"
      },
      "execution_count": null,
      "outputs": []
    },
    {
      "cell_type": "code",
      "source": [],
      "metadata": {
        "id": "NaIhkvt4S5C5"
      },
      "execution_count": null,
      "outputs": []
    }
  ]
}