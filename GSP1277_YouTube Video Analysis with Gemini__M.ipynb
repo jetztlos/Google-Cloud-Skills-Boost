{
 "cells": [
  {
   "cell_type": "code",
   "execution_count": null,
   "metadata": {
    "id": "ijGzTHJJUCPY"
   },
   "outputs": [],
   "source": [
    "# Copyright 2024 Google LLC\n",
    "#\n",
    "# Licensed under the Apache License, Version 2.0 (the \"License\");\n",
    "# you may not use this file except in compliance with the License.\n",
    "# You may obtain a copy of the License at\n",
    "#\n",
    "#     https://www.apache.org/licenses/LICENSE-2.0\n",
    "#\n",
    "# Unless required by applicable law or agreed to in writing, software\n",
    "# distributed under the License is distributed on an \"AS IS\" BASIS,\n",
    "# WITHOUT WARRANTIES OR CONDITIONS OF ANY KIND, either express or implied.\n",
    "# See the License for the specific language governing permissions and\n",
    "# limitations under the License."
   ]
  },
  {
   "cell_type": "markdown",
   "metadata": {
    "id": "VEqbX8OhE8y9"
   },
   "source": [
    "# Video Analysis with Gemini\n",
    "\n",
    "<table align=\"left\">\n",
    "  <td style=\"text-align: center\">\n",
    "    <a href=\"https://colab.research.google.com/github/GoogleCloudPlatform/generative-ai/blob/main/gemini/use-cases/video-analysis/video_analysis.ipynb\">\n",
    "      <img src=\"https://cloud.google.com/ml-engine/images/colab-logo-32px.png\" alt=\"Google Colaboratory logo\"><br> Run in Colab\n",
    "    </a>\n",
    "  </td>\n",
    "  <td style=\"text-align: center\">\n",
    "    <a href=\"https://console.cloud.google.com/vertex-ai/colab/import/https:%2F%2Fraw.githubusercontent.com%2FGoogleCloudPlatform%2Fgenerative-ai%2Fmain%2Fgemini%2Fuse-cases%2Fvideo-analysis%2Fvideo_analysis.ipynb\">\n",
    "      <img width=\"32px\" src=\"https://lh3.googleusercontent.com/JmcxdQi-qOpctIvWKgPtrzZdJJK-J3sWE1RsfjZNwshCFgE_9fULcNpuXYTilIR2hjwN\" alt=\"Google Cloud Colab Enterprise logo\"><br> Run in Colab Enterprise\n",
    "    </a>\n",
    "  </td>       \n",
    "  <td style=\"text-align: center\">\n",
    "    <a href=\"https://github.com/GoogleCloudPlatform/generative-ai/blob/main/gemini/use-cases/video-analysis/video_analysis.ipynb\">\n",
    "      <img src=\"https://cloud.google.com/ml-engine/images/github-logo-32px.png\" alt=\"GitHub logo\"><br> View on GitHub\n",
    "    </a>\n",
    "  </td>\n",
    "  <td style=\"text-align: center\">\n",
    "    <a href=\"https://console.cloud.google.com/vertex-ai/workbench/deploy-notebook?download_url=https://raw.githubusercontent.com/GoogleCloudPlatform/generative-ai/main/gemini/use-cases/video-analysis/video_analysis.ipynb\">\n",
    "      <img src=\"https://lh3.googleusercontent.com/UiNooY4LUgW_oTvpsNhPpQzsstV5W8F7rYgxgGBD85cWJoLmrOzhVs_ksK_vgx40SHs7jCqkTkCk=e14-rj-sc0xffffff-h130-w32\" alt=\"Vertex AI logo\"><br> Open in Vertex AI Workbench\n",
    "    </a>\n",
    "  </td>\n",
    "</table>\n"
   ]
  },
  {
   "cell_type": "markdown",
   "metadata": {
    "id": "5ad877ea09dd"
   },
   "source": [
    "| | |\n",
    "|-|-|\n",
    "|Author(s) | [Holt Skinner](https://github.com/holtskinner) |"
   ]
  },
  {
   "cell_type": "markdown",
   "metadata": {
    "id": "r11Gu7qNgx1p"
   },
   "source": [
    "## Getting Started\n"
   ]
  },
  {
   "cell_type": "markdown",
   "metadata": {
    "id": "No17Cw5hgx12"
   },
   "source": [
    "### Install Vertex AI SDK for Python"
   ]
  },
  {
   "cell_type": "code",
   "execution_count": 1,
   "metadata": {
    "id": "tFy3H3aPgx12",
    "tags": []
   },
   "outputs": [
    {
     "name": "stdout",
     "output_type": "stream",
     "text": [
      "\u001b[33m  WARNING: The script tb-gcp-uploader is installed in '/home/jupyter/.local/bin' which is not on PATH.\n",
      "  Consider adding this directory to PATH or, if you prefer to suppress this warning, use --no-warn-script-location.\u001b[0m\u001b[33m\n",
      "\u001b[0m\n",
      "\u001b[1m[\u001b[0m\u001b[34;49mnotice\u001b[0m\u001b[1;39;49m]\u001b[0m\u001b[39;49m A new release of pip is available: \u001b[0m\u001b[31;49m25.0\u001b[0m\u001b[39;49m -> \u001b[0m\u001b[32;49m25.0.1\u001b[0m\n",
      "\u001b[1m[\u001b[0m\u001b[34;49mnotice\u001b[0m\u001b[1;39;49m]\u001b[0m\u001b[39;49m To update, run: \u001b[0m\u001b[32;49mpip install --upgrade pip\u001b[0m\n",
      "Note: you may need to restart the kernel to use updated packages.\n"
     ]
    }
   ],
   "source": [
    "%pip install --upgrade --user -q google-cloud-aiplatform"
   ]
  },
  {
   "cell_type": "markdown",
   "metadata": {
    "id": "R5Xep4W9lq-Z"
   },
   "source": [
    "### Restart current runtime\n",
    "\n",
    "To use the newly installed packages in this Jupyter runtime, you must restart the runtime. You can do this by running the cell below, which will restart the current kernel."
   ]
  },
  {
   "cell_type": "code",
   "execution_count": 2,
   "metadata": {
    "id": "XRvKdaPDTznN",
    "tags": []
   },
   "outputs": [
    {
     "data": {
      "text/plain": [
       "{'status': 'ok', 'restart': True}"
      ]
     },
     "execution_count": 2,
     "metadata": {},
     "output_type": "execute_result"
    }
   ],
   "source": [
    "# Restart kernel after installs so that your environment can access the new packages\n",
    "import IPython\n",
    "\n",
    "app = IPython.Application.instance()\n",
    "app.kernel.do_shutdown(True)"
   ]
  },
  {
   "cell_type": "markdown",
   "metadata": {
    "id": "SbmM4z7FOBpM"
   },
   "source": [
    "<div class=\"alert alert-block alert-warning\">\n",
    "<b>⚠️ The kernel is going to restart. Please wait until it is finished before continuing to the next step. ⚠️</b>\n",
    "</div>\n"
   ]
  },
  {
   "cell_type": "markdown",
   "metadata": {
    "id": "dmWOrTJ3gx13"
   },
   "source": [
    "### Authenticate your notebook environment (Colab only)\n",
    "\n",
    "If you are running this notebook on Google Colab, run the following cell to authenticate your environment. This step is not required if you are using [Vertex AI Workbench](https://cloud.google.com/vertex-ai-workbench).\n"
   ]
  },
  {
   "cell_type": "code",
   "execution_count": 1,
   "metadata": {
    "id": "NyKGtVQjgx13",
    "tags": []
   },
   "outputs": [],
   "source": [
    "import sys\n",
    "\n",
    "# Additional authentication is required for Google Colab\n",
    "if \"google.colab\" in sys.modules:\n",
    "    # Authenticate user to Google Cloud\n",
    "    from google.colab import auth\n",
    "\n",
    "    auth.authenticate_user()"
   ]
  },
  {
   "cell_type": "markdown",
   "metadata": {
    "id": "DF4l8DTdWgPY"
   },
   "source": [
    "### Set Google Cloud project information and initialize Vertex AI SDK\n",
    "\n",
    "To get started using Vertex AI, you must have an existing Google Cloud project and [enable the Vertex AI API](https://console.cloud.google.com/flows/enableapi?apiid=aiplatform.googleapis.com).\n",
    "\n",
    "Learn more about [setting up a project and a development environment](https://cloud.google.com/vertex-ai/docs/start/cloud-environment)."
   ]
  },
  {
   "cell_type": "code",
   "execution_count": 2,
   "metadata": {
    "id": "Nqwi-5ufWp_B",
    "tags": []
   },
   "outputs": [],
   "source": [
    "# Define project information\n",
    "PROJECT_ID = \"qwiklabs-gcp-02-b546d8001349\"  # @param {type:\"string\"}\n",
    "LOCATION = \"us-east4\"  # @param {type:\"string\"}\n",
    "\n",
    "# Initialize Vertex AI\n",
    "import vertexai\n",
    "\n",
    "vertexai.init(project=PROJECT_ID, location=LOCATION)"
   ]
  },
  {
   "cell_type": "markdown",
   "metadata": {
    "id": "jXHfaVS66_01"
   },
   "source": [
    "### Import libraries\n"
   ]
  },
  {
   "cell_type": "code",
   "execution_count": 3,
   "metadata": {
    "id": "lslYAvw37JGQ",
    "tags": []
   },
   "outputs": [],
   "source": [
    "from IPython.display import Markdown, Video, display\n",
    "from vertexai.preview.generative_models import (\n",
    "    GenerationConfig,\n",
    "    GenerativeModel,\n",
    "    HarmBlockThreshold,\n",
    "    HarmCategory,\n",
    "    Part,\n",
    ")"
   ]
  },
  {
   "cell_type": "markdown",
   "metadata": {
    "id": "FTMywdzUORIA"
   },
   "source": [
    "### Load the Gemini 1.5 Pro model\n",
    "\n",
    "Gemini 1.5 Pro (`gemini-1.5-pro`) is a multimodal model that supports multimodal prompts. You can include text, image(s), PDFs, audio, and video in your prompt requests and get text or code responses."
   ]
  },
  {
   "cell_type": "code",
   "execution_count": 4,
   "metadata": {
    "id": "lRyTw2iPhEXG",
    "tags": []
   },
   "outputs": [],
   "source": [
    "model = GenerativeModel(\"gemini-1.5-pro\")\n",
    "\n",
    "generation_config = GenerationConfig(temperature=1, top_p=0.95, max_output_tokens=8192)\n",
    "\n",
    "safety_settings = {\n",
    "    HarmCategory.HARM_CATEGORY_HATE_SPEECH: HarmBlockThreshold.BLOCK_ONLY_HIGH,\n",
    "    HarmCategory.HARM_CATEGORY_DANGEROUS_CONTENT: HarmBlockThreshold.BLOCK_ONLY_HIGH,\n",
    "    HarmCategory.HARM_CATEGORY_SEXUALLY_EXPLICIT: HarmBlockThreshold.BLOCK_ONLY_HIGH,\n",
    "    HarmCategory.HARM_CATEGORY_HARASSMENT: HarmBlockThreshold.BLOCK_ONLY_HIGH,\n",
    "}"
   ]
  },
  {
   "cell_type": "markdown",
   "metadata": {
    "id": "acf455813c5f"
   },
   "source": [
    "### Helper functions"
   ]
  },
  {
   "cell_type": "code",
   "execution_count": 5,
   "metadata": {
    "id": "b82d26e475c7",
    "tags": []
   },
   "outputs": [],
   "source": [
    "def get_url_from_gcs(gcs_uri: str) -> str:\n",
    "    # converts GCS uri to url for display.\n",
    "    return gcs_uri.replace(\"gs://\", \"https://storage.googleapis.com/\").replace(\n",
    "        \" \", \"%20\"\n",
    "    )"
   ]
  },
  {
   "cell_type": "markdown",
   "metadata": {
    "id": "Wy75sLb-yjNn"
   },
   "source": [
    "## Sentiment Analysis from Video and Audio\n",
    "\n",
    "For this example, we will be analyzing a video of the first televised US presidential debate between John F. Kennedy and Richard Nixon. This debate is largely believed to have been critical in securing JFK's victory due to his calm and personable demeanor for the broadcast.\n",
    "\n",
    "The video is an hour long, which is roughly equivalent to 1 Million Tokens for Gemini 1.5 Pro."
   ]
  },
  {
   "cell_type": "code",
   "execution_count": 6,
   "metadata": {
    "id": "75ef371ea16f",
    "tags": []
   },
   "outputs": [],
   "source": [
    "video_analysis_prompt = \"\"\"You are an expert in politics and history. Provide a detailed analysis of the video including each speakers facial expressions and mood at key points.\"\"\""
   ]
  },
  {
   "cell_type": "code",
   "execution_count": 7,
   "metadata": {
    "id": "KzqjpEiryjNo",
    "tags": []
   },
   "outputs": [
    {
     "data": {
      "text/html": [
       "<video src=\"https://storage.googleapis.com/github-repo/video/KennedyNixon1960PresidentialDebate.mp4\" controls  >\n",
       "      Your browser does not support the <code>video</code> element.\n",
       "    </video>"
      ],
      "text/plain": [
       "<IPython.core.display.Video object>"
      ]
     },
     "metadata": {},
     "output_type": "display_data"
    }
   ],
   "source": [
    "# Load file directly from Google Cloud Storage\n",
    "video_uri = \"gs://github-repo/video/KennedyNixon1960PresidentialDebate.mp4\"\n",
    "\n",
    "# Load contents\n",
    "contents = [\n",
    "    Part.from_uri(\n",
    "        uri=video_uri,\n",
    "        mime_type=\"video/mp4\",\n",
    "    ),\n",
    "    video_analysis_prompt,\n",
    "]\n",
    "\n",
    "# Display the Video\n",
    "display(Video(get_url_from_gcs(video_uri)))"
   ]
  },
  {
   "cell_type": "markdown",
   "metadata": {
    "id": "fc7394e34bce"
   },
   "source": [
    "Note: due to the length of the video, this will take a few minutes to complete. If you receive a 500 error, please wait a few moments and run the cell again."
   ]
  },
  {
   "cell_type": "code",
   "execution_count": 8,
   "metadata": {
    "id": "9548449631b4",
    "tags": []
   },
   "outputs": [
    {
     "data": {
      "text/markdown": [
       "The video features a black and white recording of the first-ever televised presidential debate in 1960 between Democratic candidate John F. Kennedy and Republican candidate Richard Nixon. The debate is moderated by Howard K. Smith and the panel of correspondents includes Sander Vanocur (NBC News), Charles Warren (Mutual News), Stuart Novins (CBS News), and Bob Fleming (ABC News).\n",
       "\n",
       "**Kennedy's opening statement:**\n",
       "\n",
       "* **Mood:** Kennedy appears confident, passionate, and determined to convey a sense of urgency to the American people. His tone is assertive, and he frequently makes eye contact with the camera. \n",
       "* **Facial Expressions:** He maintains a composed and serious expression throughout his statement, occasionally blinking slowly for emphasis. His gestures are deliberate and controlled, emphasizing key points in his speech.\n",
       "* **Key points:**\n",
       "    * He draws a parallel between the 1860 election (Lincoln) and the 1960 election, stating that the world's survival is at stake.\n",
       "    * He emphasizes the need for America to do more in terms of economic growth, national strength, and education.\n",
       "    * He criticizes the lack of progress made during the previous administration and calls for effective governmental action to address national challenges.\n",
       "    * He underscores the importance of upholding constitutional rights for all Americans, particularly African Americans.\n",
       "    * He stresses the urgency of the situation, using phrases like \"I'm not satisfied\" and \"I don't think we're doing enough.\"\n",
       "\n",
       "**Nixon's opening statement:**\n",
       "\n",
       "* **Mood:** Nixon also appears determined but projects a more measured and calm demeanor compared to Kennedy's fiery delivery. He seems to focus more on refuting Kennedy's claims rather than presenting a strong, independent vision. \n",
       "* **Facial Expressions:** He maintains a neutral expression for the most part, but a slight frown becomes evident when he directly addresses Kennedy's statements. His eyes occasionally dart between the camera and the panel of correspondents.\n",
       "* **Key points:**\n",
       "    * He acknowledges the importance of the domestic issues highlighted by Kennedy but emphasizes their connection to international affairs and the need to stay ahead in the global competition.\n",
       "    * He challenges Kennedy's claims about America standing still by providing statistics indicating progress in areas like education, hydroelectric power, and hospital construction.\n",
       "    * He argues that his policies are more effective than Kennedy's and stresses the importance of individual initiative.\n",
       "    * He criticizes Kennedy's proposals for increasing federal spending and argues for fiscally responsible solutions.\n",
       "    * He subtly attempts to portray Kennedy as inexperienced and suggests that his own experience in the executive branch makes him a better candidate.\n",
       "\n",
       "**Q&A session:**\n",
       "\n",
       "* **Kennedy:** Kennedy continues to display confidence and composure while answering questions. He provides specific examples to support his arguments and confidently refutes Nixon's claims when necessary. He maintains a consistent tone and a focused expression, showing a grasp of the issues at hand.\n",
       "* **Nixon:** Nixon appears more defensive during the Q&A session, particularly when responding to questions about his record and experience. He seems to be more focused on countering Kennedy's points than articulating his own vision or plans.  He appears somewhat flustered when challenged on specific details about his policies. \n",
       "\n",
       "**Overall Analysis:**\n",
       "\n",
       "The video highlights the stark difference in style and approach between the two candidates. Kennedy's charismatic delivery and direct gaze at the camera likely resonated with television viewers, while Nixon's more restrained and defensive demeanor may have appeared less appealing on screen. This first televised debate is widely believed to have significantly influenced the outcome of the election, with Kennedy's performance contributing to his narrow victory. The debate marked a turning point in American politics, showcasing the power of television and image in shaping public opinion. \n"
      ],
      "text/plain": [
       "<IPython.core.display.Markdown object>"
      ]
     },
     "metadata": {},
     "output_type": "display_data"
    }
   ],
   "source": [
    "# Send to Gemini\n",
    "response = model.generate_content(contents, generation_config=generation_config)\n",
    "\n",
    "# Display results\n",
    "display(Markdown(response.text))"
   ]
  },
  {
   "cell_type": "code",
   "execution_count": null,
   "metadata": {},
   "outputs": [],
   "source": []
  }
 ],
 "metadata": {
  "colab": {
   "name": "video_analysis.ipynb",
   "toc_visible": true
  },
  "environment": {
   "kernel": "conda-base-py",
   "name": "workbench-notebooks.m128",
   "type": "gcloud",
   "uri": "us-docker.pkg.dev/deeplearning-platform-release/gcr.io/workbench-notebooks:m128"
  },
  "kernelspec": {
   "display_name": "Python 3 (ipykernel) (Local) (Local)",
   "language": "python",
   "name": "conda-base-py"
  },
  "language_info": {
   "codemirror_mode": {
    "name": "ipython",
    "version": 3
   },
   "file_extension": ".py",
   "mimetype": "text/x-python",
   "name": "python",
   "nbconvert_exporter": "python",
   "pygments_lexer": "ipython3",
   "version": "3.10.16"
  }
 },
 "nbformat": 4,
 "nbformat_minor": 4
}
