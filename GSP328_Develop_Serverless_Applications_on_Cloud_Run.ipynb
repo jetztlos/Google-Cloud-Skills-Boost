{
  "nbformat": 4,
  "nbformat_minor": 0,
  "metadata": {
    "colab": {
      "provenance": [],
      "toc_visible": true
    },
    "kernelspec": {
      "name": "python3",
      "display_name": "Python 3"
    },
    "language_info": {
      "name": "python"
    }
  },
  "cells": [
    {
      "cell_type": "code",
      "execution_count": null,
      "metadata": {
        "id": "V7PgiPDvRVGp"
      },
      "outputs": [],
      "source": [
        "gcloud config set project \\\n",
        "$(gcloud projects list --format='value(PROJECT_ID)' \\\n",
        "--filter='qwiklabs-gcp')"
      ]
    },
    {
      "cell_type": "code",
      "source": [
        "gcloud config set run/region us-east4"
      ],
      "metadata": {
        "id": "jLGbnIU9R7Rc"
      },
      "execution_count": null,
      "outputs": []
    },
    {
      "cell_type": "code",
      "source": [
        "gcloud config set run/platform managed"
      ],
      "metadata": {
        "id": "RXjdHBFyR7N4"
      },
      "execution_count": null,
      "outputs": []
    },
    {
      "cell_type": "code",
      "source": [
        "git clone https://github.com/rosera/pet-theory.git && cd pet-theory/lab07"
      ],
      "metadata": {
        "id": "mF239ZnmSENc"
      },
      "execution_count": null,
      "outputs": []
    },
    {
      "cell_type": "markdown",
      "source": [
        "##Task 1. Enable a public service"
      ],
      "metadata": {
        "id": "Iz5YUVzXRbMH"
      }
    },
    {
      "cell_type": "code",
      "source": [
        "export PUBLIC_BILLING_SERVICE=public-billing-service-289"
      ],
      "metadata": {
        "id": "tBIlk5-qRezX"
      },
      "execution_count": null,
      "outputs": []
    },
    {
      "cell_type": "code",
      "source": [
        "cd ~/pet-theory/lab07/unit-api-billing"
      ],
      "metadata": {
        "id": "QfGN1AcfRfgP"
      },
      "execution_count": null,
      "outputs": []
    },
    {
      "cell_type": "code",
      "source": [
        "gcloud builds submit --tag gcr.io/$DEVSHELL_PROJECT_ID/billing-staging-api:0.1"
      ],
      "metadata": {
        "id": "pH2IOERJTfEJ"
      },
      "execution_count": null,
      "outputs": []
    },
    {
      "cell_type": "code",
      "source": [
        "gcloud run deploy $PUBLIC_BILLING_SERVICE --image gcr.io/$DEVSHELL_PROJECT_ID/billing-staging-api:0.1 --quiet"
      ],
      "metadata": {
        "id": "8BLyASaCTfAw"
      },
      "execution_count": null,
      "outputs": []
    },
    {
      "cell_type": "markdown",
      "source": [
        "##Task 2. Deploy a frontend service"
      ],
      "metadata": {
        "id": "D1fsR11fRgdo"
      }
    },
    {
      "cell_type": "code",
      "source": [
        "export FRONTEND_STAGING_SERVICE=frontend-staging-service-740"
      ],
      "metadata": {
        "id": "44s26HDdRfcs"
      },
      "execution_count": null,
      "outputs": []
    },
    {
      "cell_type": "code",
      "source": [
        "cd ~/pet-theory/lab07/staging-frontend-billing"
      ],
      "metadata": {
        "id": "Kgrq4l-aUk9b"
      },
      "execution_count": null,
      "outputs": []
    },
    {
      "cell_type": "code",
      "source": [
        "gcloud builds submit --tag gcr.io/$DEVSHELL_PROJECT_ID/frontend-staging:0.1"
      ],
      "metadata": {
        "id": "Y_-Y1fwVUk1K"
      },
      "execution_count": null,
      "outputs": []
    },
    {
      "cell_type": "code",
      "source": [
        "gcloud run deploy $FRONTEND_STAGING_SERVICE --image gcr.io/$DEVSHELL_PROJECT_ID/frontend-staging:0.1 --quiet"
      ],
      "metadata": {
        "id": "XpPYna_hRfa2"
      },
      "execution_count": null,
      "outputs": []
    },
    {
      "cell_type": "markdown",
      "source": [
        "##Task 3. Deploy a private service"
      ],
      "metadata": {
        "id": "XIVKdSvgRjuc"
      }
    },
    {
      "cell_type": "code",
      "source": [
        "export PRIVATE_BILLING_SERVICE=private-billing-service-862"
      ],
      "metadata": {
        "id": "c3DTn-ENRfYw"
      },
      "execution_count": null,
      "outputs": []
    },
    {
      "cell_type": "code",
      "source": [
        "cd ~/pet-theory/lab07/staging-api-billing"
      ],
      "metadata": {
        "id": "Vb82OiGfVRP5"
      },
      "execution_count": null,
      "outputs": []
    },
    {
      "cell_type": "code",
      "source": [
        "gcloud builds submit --tag gcr.io/$DEVSHELL_PROJECT_ID/billing-staging-api:0.2"
      ],
      "metadata": {
        "id": "vKg6Mj8KVRKx"
      },
      "execution_count": null,
      "outputs": []
    },
    {
      "cell_type": "code",
      "source": [
        "gcloud run deploy $PRIVATE_BILLING_SERVICE --image gcr.io/$DEVSHELL_PROJECT_ID/billing-staging-api:0.2 --quiet"
      ],
      "metadata": {
        "id": "9DzMGz_KRfXL"
      },
      "execution_count": null,
      "outputs": []
    },
    {
      "cell_type": "code",
      "source": [
        "BILLING_URL=$(gcloud run services describe private-billing-service-862 \\\n",
        "--platform managed \\\n",
        "--region us-east4 \\\n",
        "--format \"value(status.url)\")"
      ],
      "metadata": {
        "id": "aBexW3JvWbBF"
      },
      "execution_count": null,
      "outputs": []
    },
    {
      "cell_type": "code",
      "source": [
        "curl -X get -H \"Authorization: Bearer $(gcloud auth print-identity-token)\" $BILLING_URL"
      ],
      "metadata": {
        "id": "rTBQCiRwWazO"
      },
      "execution_count": null,
      "outputs": []
    },
    {
      "cell_type": "markdown",
      "source": [
        "##Task 4. Create a billing service account"
      ],
      "metadata": {
        "id": "R-zJBGnjRnMo"
      }
    },
    {
      "cell_type": "code",
      "source": [
        "export BILLING_SERVICE_ACCOUNT=billing-service-sa-924"
      ],
      "metadata": {
        "id": "ZK2SzpAsRfVI"
      },
      "execution_count": null,
      "outputs": []
    },
    {
      "cell_type": "code",
      "source": [
        "gcloud iam service-accounts create $BILLING_SERVICE_ACCOUNT --display-name \"Billing Service Account Cloud Run\""
      ],
      "metadata": {
        "id": "Anv9bMMaRfTS"
      },
      "execution_count": null,
      "outputs": []
    },
    {
      "cell_type": "markdown",
      "source": [
        "##Task 5. Deploy the billing service"
      ],
      "metadata": {
        "id": "EsWkzqP-RqjS"
      }
    },
    {
      "cell_type": "code",
      "source": [
        "export BILLING_PROD_SERVICE=billing-prod-service-252"
      ],
      "metadata": {
        "id": "Ii15qyMmRfQ9"
      },
      "execution_count": null,
      "outputs": []
    },
    {
      "cell_type": "code",
      "source": [
        "cd ~/pet-theory/lab07/prod-api-billing"
      ],
      "metadata": {
        "id": "dpzwLrLNV2xA"
      },
      "execution_count": null,
      "outputs": []
    },
    {
      "cell_type": "code",
      "source": [
        "gcloud builds submit --tag gcr.io/$DEVSHELL_PROJECT_ID/billing-prod-api:0.1"
      ],
      "metadata": {
        "id": "E_nh0RG7V7DS"
      },
      "execution_count": null,
      "outputs": []
    },
    {
      "cell_type": "code",
      "source": [
        "gcloud run deploy $BILLING_PROD_SERVICE --image gcr.io/$DEVSHELL_PROJECT_ID/billing-prod-api:0.1 --quiet"
      ],
      "metadata": {
        "id": "w85OYhizV6_3"
      },
      "execution_count": null,
      "outputs": []
    },
    {
      "cell_type": "code",
      "source": [
        "PROD_BILLING_URL=$(gcloud run services describe private-billing-service-862 \\\n",
        "--platform managed \\\n",
        "--region us-east4 \\\n",
        "--format \"value(status.url)\")"
      ],
      "metadata": {
        "id": "AvPai1szXDsZ"
      },
      "execution_count": null,
      "outputs": []
    },
    {
      "cell_type": "code",
      "source": [
        "curl -X get -H \"Authorization: Bearer \\\n",
        "$(gcloud auth print-identity-token)\" \\\n",
        "$PROD_BILLING_URL"
      ],
      "metadata": {
        "id": "IzPkrByUXDhX"
      },
      "execution_count": null,
      "outputs": []
    },
    {
      "cell_type": "markdown",
      "source": [
        "##Task 6. Frontend service account"
      ],
      "metadata": {
        "id": "y0fvzaaBRuE6"
      }
    },
    {
      "cell_type": "code",
      "source": [
        "export FRONTEND_SERVICE_ACCOUNT=frontend-service-sa-909"
      ],
      "metadata": {
        "id": "A2ax35ZFRfPE"
      },
      "execution_count": null,
      "outputs": []
    },
    {
      "cell_type": "code",
      "source": [
        "gcloud iam service-accounts create $FRONTEND_SERVICE_ACCOUNT --display-name \"Billing Service Account Cloud Run Invoker\""
      ],
      "metadata": {
        "id": "9Fge2k_HV2kV"
      },
      "execution_count": null,
      "outputs": []
    },
    {
      "cell_type": "markdown",
      "source": [
        "##Task 7. Redeploy the frontend service"
      ],
      "metadata": {
        "id": "loB1Kz-ARyWF"
      }
    },
    {
      "cell_type": "code",
      "source": [
        "export FRONTEND_PRODUCTION_SERVICE=frontend-prod-service-637"
      ],
      "metadata": {
        "id": "yrEvnV21SM7j"
      },
      "execution_count": null,
      "outputs": []
    },
    {
      "cell_type": "code",
      "source": [
        "cd ~/pet-theory/lab07/prod-frontend-billing"
      ],
      "metadata": {
        "id": "dauXq4tRRfNB"
      },
      "execution_count": null,
      "outputs": []
    },
    {
      "cell_type": "code",
      "source": [
        "gcloud builds submit --tag gcr.io/$DEVSHELL_PROJECT_ID/frontend-prod:0.1"
      ],
      "metadata": {
        "id": "tuSM2FSDRxXM"
      },
      "execution_count": null,
      "outputs": []
    },
    {
      "cell_type": "code",
      "source": [
        "gcloud run deploy $FRONTEND_PRODUCTION_SERVICE --image gcr.io/$DEVSHELL_PROJECT_ID/frontend-prod:0.1 --quiet"
      ],
      "metadata": {
        "id": "2YzSS1-hRx3U"
      },
      "execution_count": null,
      "outputs": []
    },
    {
      "cell_type": "code",
      "source": [],
      "metadata": {
        "id": "AuCIsHtRRx1P"
      },
      "execution_count": null,
      "outputs": []
    },
    {
      "cell_type": "code",
      "source": [],
      "metadata": {
        "id": "iAMu6V9PRxxb"
      },
      "execution_count": null,
      "outputs": []
    },
    {
      "cell_type": "code",
      "source": [],
      "metadata": {
        "id": "KGcj89aFRxvc"
      },
      "execution_count": null,
      "outputs": []
    }
  ]
}